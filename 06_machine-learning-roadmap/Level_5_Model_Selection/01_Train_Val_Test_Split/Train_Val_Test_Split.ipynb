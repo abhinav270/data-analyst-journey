{
 "cells": [
  {
   "cell_type": "markdown",
   "metadata": {},
   "source": [
    "# Part 5.1: Model Selection - Train/Validation/Test Split"
   ]
  },
  {
   "cell_type": "markdown",
   "metadata": {},
   "source": [
    "To properly evaluate a machine learning model, we need to test it on data it has never seen before. A simple `train_test_split` is good, but if we use the test set to tune our model's hyperparameters, we will 'leak' information from the test set into our model, and our final evaluation will be overly optimistic.\n",
    "\n",
    "The solution is to split the data into three sets:\n",
    "- **Training Set**: Used to train the model's parameters.\n",
    "- **Validation Set**: Used to tune the model's hyperparameters (e.g., the 'k' in k-NN, or 'max_depth' in a Decision Tree).\n",
    "- **Test Set**: Held back until the very end. Used only once to get a final, unbiased measure of the chosen model's performance."
   ]
  },
  {
   "cell_type": "code",
   "execution_count": 1,
   "metadata": {},
   "outputs": [
    {
     "name": "stdout",
     "output_type": "stream",
     "text": [
      "Original data shape: (150, 4)\n",
      "Training set shape: (90, 4)\n",
      "Validation set shape: (30, 4)\n",
      "Test set shape: (30, 4)\n"
     ]
    }
   ],
   "source": [
    "from sklearn.datasets import load_iris\n",
    "from sklearn.model_selection import train_test_split\n",
    "\n",
    "iris = load_iris()\n",
    "X, y = iris.data, iris.target\n",
    "\n",
    "# Step 1: Create a temporary training set and a test set (e.g., 80/20 split)\n",
    "X_train_temp, X_test, y_train_temp, y_test = train_test_split(X, y, test_size=0.2, random_state=42, stratify=y)\n",
    "\n",
    "# Step 2: Split the temporary training set into a final training set and a validation set\n",
    "# (e.g., 75/25 split of the temporary set, which is 60/20 of the original data)\n",
    "X_train, X_val, y_train, y_val = train_test_split(X_train_temp, y_train_temp, test_size=0.25, random_state=42, stratify=y_train_temp)\n",
    "\n",
    "print(f\"Original data shape: {X.shape}\")\n",
    "print(f\"Training set shape: {X_train.shape}\")\n",
    "print(f\"Validation set shape: {X_val.shape}\")\n",
    "print(f\"Test set shape: {X_test.shape}\")"
   ]
  }
 ],
 "metadata": {
  "kernelspec": {
   "display_name": ".venv",
   "language": "python",
   "name": "python3"
  },
  "language_info": {
   "codemirror_mode": {
    "name": "ipython",
    "version": 3
   },
   "file_extension": ".py",
   "mimetype": "text/x-python",
   "name": "python",
   "nbconvert_exporter": "python",
   "pygments_lexer": "ipython3",
   "version": "3.10.11"
  }
 },
 "nbformat": 4,
 "nbformat_minor": 4
}
