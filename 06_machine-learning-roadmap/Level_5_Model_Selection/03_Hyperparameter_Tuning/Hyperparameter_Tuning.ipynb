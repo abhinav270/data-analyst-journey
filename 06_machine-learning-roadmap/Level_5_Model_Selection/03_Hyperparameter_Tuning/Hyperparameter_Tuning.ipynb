{
 "cells": [
  {
   "cell_type": "markdown",
   "metadata": {},
   "source": [
    "# Part 5.3: Model Selection - Hyperparameter Tuning"
   ]
  },
  {
   "cell_type": "markdown",
   "metadata": {},
   "source": [
    "**Hyperparameters** are parameters that are not learned from the data but are set prior to training (e.g., `C` or `gamma` in an SVM). Finding the optimal hyperparameters for a model can significantly improve its performance. This process is called **hyperparameter tuning**."
   ]
  },
  {
   "cell_type": "code",
   "execution_count": 1,
   "metadata": {},
   "outputs": [],
   "source": [
    "from sklearn.model_selection import GridSearchCV, RandomizedSearchCV\n",
    "from sklearn.datasets import load_iris\n",
    "from sklearn.svm import SVC\n",
    "from scipy.stats import expon, reciprocal\n",
    "\n",
    "X, y = load_iris(return_X_y=True)"
   ]
  },
  {
   "cell_type": "markdown",
   "metadata": {},
   "source": [
    "### Grid Search (`GridSearchCV`)\n",
    "Grid Search exhaustively tries every combination of the specified hyperparameter values and evaluates each combination using cross-validation."
   ]
  },
  {
   "cell_type": "code",
   "execution_count": 2,
   "metadata": {},
   "outputs": [
    {
     "name": "stdout",
     "output_type": "stream",
     "text": [
      "Best parameters found by Grid Search: {'C': 1, 'gamma': 0.1, 'kernel': 'rbf'}\n",
      "Best score from Grid Search: 0.9800\n"
     ]
    }
   ],
   "source": [
    "# Define the parameter grid\n",
    "param_grid = {\n",
    "    'C': [0.1, 1, 10, 100],\n",
    "    'gamma': [1, 0.1, 0.01, 0.001],\n",
    "    'kernel': ['rbf']\n",
    "}\n",
    "\n",
    "grid_search = GridSearchCV(SVC(), param_grid, refit=True, verbose=0, cv=5)\n",
    "grid_search.fit(X, y)\n",
    "\n",
    "print(\"Best parameters found by Grid Search:\", grid_search.best_params_)\n",
    "print(f\"Best score from Grid Search: {grid_search.best_score_:.4f}\")"
   ]
  },
  {
   "cell_type": "markdown",
   "metadata": {},
   "source": [
    "### Random Search (`RandomizedSearchCV`)\n",
    "Random Search is often more efficient. Instead of trying all combinations, it samples a fixed number of parameter settings from specified probability distributions."
   ]
  },
  {
   "cell_type": "code",
   "execution_count": 3,
   "metadata": {},
   "outputs": [
    {
     "name": "stdout",
     "output_type": "stream",
     "text": [
      "Best parameters found by Randomized Search: {'C': np.float64(5.9874749104613985), 'gamma': np.float64(0.047563849756408545), 'kernel': 'rbf'}\n",
      "Best score from Randomized Search: 0.9867\n"
     ]
    }
   ],
   "source": [
    "# Define the parameter distributions\n",
    "param_dist = {\n",
    "    'C': reciprocal(0.1, 100),\n",
    "    'gamma': expon(scale=1.0),\n",
    "    'kernel': ['rbf']\n",
    "}\n",
    "\n",
    "# n_iter specifies the number of parameter settings that are sampled\n",
    "random_search = RandomizedSearchCV(SVC(), param_distributions=param_dist, n_iter=100, cv=5, random_state=42)\n",
    "random_search.fit(X, y)\n",
    "\n",
    "print(\"Best parameters found by Randomized Search:\", random_search.best_params_)\n",
    "print(f\"Best score from Randomized Search: {random_search.best_score_:.4f}\")"
   ]
  },
  {
   "cell_type": "markdown",
   "metadata": {},
   "source": [
    "### Advanced Method: Bayesian Optimization\n",
    "This is a more intelligent search strategy. It forms a probabilistic model of the objective function (e.g., cross-validation score as a function of hyperparameters) and uses it to select the most promising hyperparameters to evaluate next. This can be much more efficient than grid or random search.\n",
    "\n",
    "Popular libraries for this include **Optuna** and **Hyperopt**."
   ]
  }
 ],
 "metadata": {
  "kernelspec": {
   "display_name": ".venv",
   "language": "python",
   "name": "python3"
  },
  "language_info": {
   "codemirror_mode": {
    "name": "ipython",
    "version": 3
   },
   "file_extension": ".py",
   "mimetype": "text/x-python",
   "name": "python",
   "nbconvert_exporter": "python",
   "pygments_lexer": "ipython3",
   "version": "3.10.11"
  }
 },
 "nbformat": 4,
 "nbformat_minor": 4
}
