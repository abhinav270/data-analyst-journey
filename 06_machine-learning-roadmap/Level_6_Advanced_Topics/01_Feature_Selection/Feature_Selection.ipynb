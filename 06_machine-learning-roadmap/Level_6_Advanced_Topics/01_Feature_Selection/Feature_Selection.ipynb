{
 "cells": [
  {
   "cell_type": "markdown",
   "metadata": {},
   "source": [
    "# Part 6.1: Advanced Topics - Feature Selection"
   ]
  },
  {
   "cell_type": "markdown",
   "metadata": {},
   "source": [
    "Feature selection is the process of selecting a subset of relevant features for use in model construction. It is done to improve model performance, reduce overfitting, and decrease training time."
   ]
  },
  {
   "cell_type": "code",
   "execution_count": 3,
   "metadata": {},
   "outputs": [],
   "source": [
    "from sklearn.datasets import make_classification\n",
    "from sklearn.feature_selection import RFE\n",
    "from sklearn.linear_model import LogisticRegression\n",
    "from sklearn.ensemble import RandomForestClassifier\n",
    "import pandas as pd\n",
    "\n",
    "# Generate a dataset with some irrelevant features\n",
    "X, y = make_classification(n_samples=100, n_features=20, n_informative=5, n_redundant=5, random_state=42)"
   ]
  },
  {
   "cell_type": "markdown",
   "metadata": {},
   "source": [
    "### Filter Methods\n",
    "These methods select features based on their statistical properties (e.g., correlation with the target variable, variance). They are fast but don't consider the model that will be used."
   ]
  },
  {
   "cell_type": "markdown",
   "metadata": {},
   "source": [
    "### Wrapper Methods\n",
    "These methods use a predictive model to score feature subsets. They are more accurate than filter methods but more computationally expensive. **Recursive Feature Elimination (RFE)** is a popular example."
   ]
  },
  {
   "cell_type": "code",
   "execution_count": 4,
   "metadata": {},
   "outputs": [
    {
     "name": "stdout",
     "output_type": "stream",
     "text": [
      "RFE Selected Features (top 5):\n",
      "[False False False False False False False False False False  True  True\n",
      " False False  True False False False  True  True]\n"
     ]
    }
   ],
   "source": [
    "estimator = LogisticRegression(max_iter=1000)\n",
    "# Select the top 5 features\n",
    "selector = RFE(estimator, n_features_to_select=5, step=1)\n",
    "selector = selector.fit(X, y)\n",
    "\n",
    "print(\"RFE Selected Features (top 5):\")\n",
    "print(selector.support_)"
   ]
  },
  {
   "cell_type": "markdown",
   "metadata": {},
   "source": [
    "### Embedded Methods\n",
    "These methods perform feature selection as part of the model training process. Lasso regression (which can shrink coefficients to zero) and tree-based models are common examples."
   ]
  },
  {
   "cell_type": "code",
   "execution_count": 5,
   "metadata": {},
   "outputs": [
    {
     "name": "stdout",
     "output_type": "stream",
     "text": [
      "Feature Importances from Random Forest:\n",
      "    feature  importance\n",
      "18       18    0.137236\n",
      "11       11    0.128201\n",
      "10       10    0.111889\n",
      "3         3    0.089496\n",
      "19       19    0.064493\n",
      "14       14    0.058723\n",
      "2         2    0.048289\n",
      "7         7    0.045446\n",
      "4         4    0.040668\n",
      "16       16    0.038796\n"
     ]
    }
   ],
   "source": [
    "forest = RandomForestClassifier(n_estimators=100, random_state=42)\n",
    "forest.fit(X, y)\n",
    "importances = forest.feature_importances_\n",
    "\n",
    "feature_importance_df = pd.DataFrame({'feature': range(X.shape[1]), 'importance': importances})\n",
    "print(\"Feature Importances from Random Forest:\")\n",
    "print(feature_importance_df.sort_values('importance', ascending=False).head(10))"
   ]
  },
  {
   "cell_type": "code",
   "execution_count": null,
   "metadata": {},
   "outputs": [],
   "source": []
  }
 ],
 "metadata": {
  "kernelspec": {
   "display_name": ".venv",
   "language": "python",
   "name": "python3"
  },
  "language_info": {
   "codemirror_mode": {
    "name": "ipython",
    "version": 3
   },
   "file_extension": ".py",
   "mimetype": "text/x-python",
   "name": "python",
   "nbconvert_exporter": "python",
   "pygments_lexer": "ipython3",
   "version": "3.10.11"
  }
 },
 "nbformat": 4,
 "nbformat_minor": 4
}
