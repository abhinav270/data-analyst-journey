{
 "cells": [
  {
   "cell_type": "markdown",
   "metadata": {},
   "source": [
    "# Part 6.5: Advanced Topics - Deployment Basics"
   ]
  },
  {
   "cell_type": "markdown",
   "metadata": {},
   "source": [
    "Deployment is the process of taking your trained model and making it available to end-users or other systems. The first step is **serialization**: saving your trained model object to a file."
   ]
  },
  {
   "cell_type": "markdown",
   "metadata": {},
   "source": [
    "### Saving and Loading Models with `joblib`\n",
    "`joblib` is the recommended way to serialize and deserialize scikit-learn objects, as it is more efficient for objects that carry large NumPy arrays."
   ]
  },
  {
   "cell_type": "code",
   "execution_count": 1,
   "metadata": {},
   "outputs": [
    {
     "name": "stdout",
     "output_type": "stream",
     "text": [
      "Model has been trained.\n"
     ]
    }
   ],
   "source": [
    "import joblib\n",
    "from sklearn.ensemble import RandomForestClassifier\n",
    "from sklearn.datasets import make_classification\n",
    "\n",
    "# 1. Train a model as an example\n",
    "X, y = make_classification(n_samples=100, n_features=10, random_state=42)\n",
    "model = RandomForestClassifier(random_state=42)\n",
    "model.fit(X, y)\n",
    "\n",
    "print(\"Model has been trained.\")"
   ]
  },
  {
   "cell_type": "code",
   "execution_count": 2,
   "metadata": {},
   "outputs": [
    {
     "name": "stdout",
     "output_type": "stream",
     "text": [
      "Model saved to 'final_model.joblib'\n"
     ]
    }
   ],
   "source": [
    "# 2. Save the model to a file\n",
    "filename = 'final_model.joblib'\n",
    "joblib.dump(model, filename)\n",
    "\n",
    "print(f\"Model saved to '{filename}'\")"
   ]
  },
  {
   "cell_type": "code",
   "execution_count": 3,
   "metadata": {},
   "outputs": [
    {
     "name": "stdout",
     "output_type": "stream",
     "text": [
      "Model loaded from 'final_model.joblib'\n",
      "\n",
      "Prediction for the first data point: 1\n"
     ]
    }
   ],
   "source": [
    "# 3. Load the model from the file\n",
    "loaded_model = joblib.load(filename)\n",
    "print(f\"Model loaded from '{filename}'\")\n",
    "\n",
    "# 4. Use the loaded model to make predictions\n",
    "new_data = X[0].reshape(1, -1) # A sample data point\n",
    "prediction = loaded_model.predict(new_data)\n",
    "\n",
    "print(f\"\\nPrediction for the first data point: {prediction[0]}\")"
   ]
  },
  {
   "cell_type": "markdown",
   "metadata": {},
   "source": [
    "### Serving the Model\n",
    "Once your model can be loaded from a file, the next step is often to wrap it in a web API (Application Programming Interface). This allows other applications to send data to your model and get predictions back over the internet.\n",
    "\n",
    "Popular Python frameworks for this are:\n",
    "- **Flask**: A simple and flexible micro-framework.\n",
    "- **FastAPI**: A modern, high-performance framework with automatic API documentation."
   ]
  }
 ],
 "metadata": {
  "kernelspec": {
   "display_name": ".venv",
   "language": "python",
   "name": "python3"
  },
  "language_info": {
   "codemirror_mode": {
    "name": "ipython",
    "version": 3
   },
   "file_extension": ".py",
   "mimetype": "text/x-python",
   "name": "python",
   "nbconvert_exporter": "python",
   "pygments_lexer": "ipython3",
   "version": "3.10.11"
  }
 },
 "nbformat": 4,
 "nbformat_minor": 4
}
