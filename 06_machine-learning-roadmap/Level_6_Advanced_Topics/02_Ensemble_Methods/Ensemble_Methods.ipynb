{
 "cells": [
  {
   "cell_type": "markdown",
   "metadata": {},
   "source": [
    "# Part 6.2: Advanced Topics - Advanced Ensemble Methods"
   ]
  },
  {
   "cell_type": "markdown",
   "metadata": {},
   "source": [
    "We have already seen two powerful ensemble techniques: **Bagging** (in Random Forests) and **Boosting** (in Gradient Boosting). This notebook covers two more advanced methods: Voting and Stacking."
   ]
  },
  {
   "cell_type": "code",
   "execution_count": 1,
   "metadata": {},
   "outputs": [],
   "source": [
    "from sklearn.ensemble import VotingClassifier, StackingClassifier\n",
    "from sklearn.linear_model import LogisticRegression\n",
    "from sklearn.svm import SVC\n",
    "from sklearn.tree import DecisionTreeClassifier\n",
    "from sklearn.datasets import make_classification\n",
    "from sklearn.model_selection import train_test_split\n",
    "\n",
    "X, y = make_classification(n_samples=1000, n_features=20, n_informative=10, random_state=42)\n",
    "X_train, X_test, y_train, y_test = train_test_split(X, y, test_size=0.2, random_state=42)"
   ]
  },
  {
   "cell_type": "markdown",
   "metadata": {},
   "source": [
    "### Voting Classifier\n",
    "A Voting Classifier takes predictions from multiple models and outputs a final prediction based on a voting system.\n",
    "- **Hard Voting**: The predicted class is the one that receives the most votes (the mode).\n",
    "- **Soft Voting**: It averages the predicted probabilities for each class and picks the class with the highest average probability. This is often better if your classifiers are well-calibrated."
   ]
  },
  {
   "cell_type": "code",
   "execution_count": 2,
   "metadata": {},
   "outputs": [
    {
     "name": "stdout",
     "output_type": "stream",
     "text": [
      "Voting Classifier Accuracy: 0.9100\n"
     ]
    }
   ],
   "source": [
    "clf1 = LogisticRegression(random_state=42)\n",
    "clf2 = DecisionTreeClassifier(max_depth=4, random_state=42)\n",
    "clf3 = SVC(probability=True, random_state=42) # probability=True is needed for soft voting\n",
    "\n",
    "voting_clf = VotingClassifier(\n",
    "    estimators=[('lr', clf1), ('dt', clf2), ('svc', clf3)],\n",
    "    voting='soft' # Use 'hard' for majority vote\n",
    ")\n",
    "voting_clf.fit(X_train, y_train)\n",
    "\n",
    "print(f\"Voting Classifier Accuracy: {voting_clf.score(X_test, y_test):.4f}\")"
   ]
  },
  {
   "cell_type": "markdown",
   "metadata": {},
   "source": [
    "### Stacking Classifier\n",
    "Stacking is a more sophisticated ensemble method. It uses a final model (a **meta-model** or **final estimator**) to learn how to best combine the predictions of several base models.\n",
    "\n",
    "The process:\n",
    "1.  The base models are trained on the full training set.\n",
    "2.  A new training set is created where the features are the predictions made by the base models.\n",
    "3.  The meta-model is trained on this new dataset."
   ]
  },
  {
   "cell_type": "code",
   "execution_count": 3,
   "metadata": {},
   "outputs": [
    {
     "name": "stdout",
     "output_type": "stream",
     "text": [
      "Stacking Classifier Accuracy: 0.9550\n"
     ]
    }
   ],
   "source": [
    "estimators = [\n",
    "    ('dt', DecisionTreeClassifier(max_depth=4, random_state=42)),\n",
    "    ('svc', SVC(probability=True, random_state=42))\n",
    "]\n",
    "\n",
    "# The final estimator is trained on the predictions of the base models\n",
    "final_estimator = LogisticRegression()\n",
    "\n",
    "stacking_clf = StackingClassifier(\n",
    "    estimators=estimators, \n",
    "    final_estimator=final_estimator, \n",
    "    cv=5 # Use cross-validation to generate the predictions for the meta-model\n",
    ")\n",
    "stacking_clf.fit(X_train, y_train)\n",
    "\n",
    "print(f\"Stacking Classifier Accuracy: {stacking_clf.score(X_test, y_test):.4f}\")"
   ]
  }
 ],
 "metadata": {
  "kernelspec": {
   "display_name": ".venv",
   "language": "python",
   "name": "python3"
  },
  "language_info": {
   "codemirror_mode": {
    "name": "ipython",
    "version": 3
   },
   "file_extension": ".py",
   "mimetype": "text/x-python",
   "name": "python",
   "nbconvert_exporter": "python",
   "pygments_lexer": "ipython3",
   "version": "3.10.11"
  }
 },
 "nbformat": 4,
 "nbformat_minor": 4
}
