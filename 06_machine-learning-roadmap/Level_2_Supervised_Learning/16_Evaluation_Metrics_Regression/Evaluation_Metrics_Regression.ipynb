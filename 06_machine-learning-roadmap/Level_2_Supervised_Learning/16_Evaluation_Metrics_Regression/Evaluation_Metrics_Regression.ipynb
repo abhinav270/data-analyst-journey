{
 "cells": [
  {
   "cell_type": "markdown",
   "metadata": {},
   "source": [
    "# Part 2.16: Supervised Learning - Evaluation Metrics for Regression"
   ]
  },
  {
   "cell_type": "markdown",
   "metadata": {},
   "source": [
    "Choosing the right metric is crucial for evaluating how well your regression model performs. Different metrics tell you different things about your model's prediction errors."
   ]
  },
  {
   "cell_type": "code",
   "execution_count": 1,
   "metadata": {},
   "outputs": [],
   "source": [
    "import numpy as np\n",
    "from sklearn.metrics import mean_absolute_error, mean_squared_error, r2_score\n",
    "\n",
    "# Sample true values and predicted values\n",
    "y_true = np.array([3, -0.5, 2, 7, 4.2])\n",
    "y_pred = np.array([2.5, 0.0, 2, 8, 4.5])"
   ]
  },
  {
   "cell_type": "markdown",
   "metadata": {},
   "source": [
    "### Mean Absolute Error (MAE)\n",
    "The average of the absolute differences between the predicted and actual values. It's easy to understand because it's in the same units as the target variable.\n",
    "\n",
    "`MAE = (1/n) * Σ|y_true - y_pred|`"
   ]
  },
  {
   "cell_type": "code",
   "execution_count": 2,
   "metadata": {},
   "outputs": [
    {
     "name": "stdout",
     "output_type": "stream",
     "text": [
      "Mean Absolute Error (MAE): 0.4600\n"
     ]
    }
   ],
   "source": [
    "mae = mean_absolute_error(y_true, y_pred)\n",
    "print(f\"Mean Absolute Error (MAE): {mae:.4f}\")"
   ]
  },
  {
   "cell_type": "markdown",
   "metadata": {},
   "source": [
    "### Mean Squared Error (MSE)\n",
    "The average of the squared differences between the predicted and actual values. Squaring the errors penalizes larger errors more heavily.\n",
    "\n",
    "`MSE = (1/n) * Σ(y_true - y_pred)²`"
   ]
  },
  {
   "cell_type": "code",
   "execution_count": 3,
   "metadata": {},
   "outputs": [
    {
     "name": "stdout",
     "output_type": "stream",
     "text": [
      "Mean Squared Error (MSE): 0.3180\n"
     ]
    }
   ],
   "source": [
    "mse = mean_squared_error(y_true, y_pred)\n",
    "print(f\"Mean Squared Error (MSE): {mse:.4f}\")"
   ]
  },
  {
   "cell_type": "markdown",
   "metadata": {},
   "source": [
    "### Root Mean Squared Error (RMSE)\n",
    "The square root of the MSE. This is often preferred over MSE because its units are the same as the target variable, making it more interpretable.\n",
    "\n",
    "`RMSE = sqrt(MSE)`"
   ]
  },
  {
   "cell_type": "code",
   "execution_count": 4,
   "metadata": {},
   "outputs": [
    {
     "name": "stdout",
     "output_type": "stream",
     "text": [
      "Root Mean Squared Error (RMSE): 0.5639\n"
     ]
    }
   ],
   "source": [
    "# Scikit-learn doesn't have a dedicated RMSE function, but it's easy to calculate\n",
    "rmse = np.sqrt(mse)\n",
    "print(f\"Root Mean Squared Error (RMSE): {rmse:.4f}\")"
   ]
  },
  {
   "cell_type": "markdown",
   "metadata": {},
   "source": [
    "### R-squared (R²) or Coefficient of Determination\n",
    "Represents the proportion of the variance in the dependent variable that is predictable from the independent variable(s). It ranges from -∞ to 1.\n",
    "\n",
    "- **R² = 1**: The model perfectly predicts the data.\n",
    "- **R² = 0**: The model performs no better than simply predicting the mean of the target variable.\n",
    "- **R² < 0**: The model performs worse than predicting the mean."
   ]
  },
  {
   "cell_type": "code",
   "execution_count": 5,
   "metadata": {},
   "outputs": [
    {
     "name": "stdout",
     "output_type": "stream",
     "text": [
      "R-squared (R²): 0.9480\n"
     ]
    }
   ],
   "source": [
    "r2 = r2_score(y_true, y_pred)\n",
    "print(f\"R-squared (R²): {r2:.4f}\")"
   ]
  }
 ],
 "metadata": {
  "kernelspec": {
   "display_name": ".venv",
   "language": "python",
   "name": "python3"
  },
  "language_info": {
   "codemirror_mode": {
    "name": "ipython",
    "version": 3
   },
   "file_extension": ".py",
   "mimetype": "text/x-python",
   "name": "python",
   "nbconvert_exporter": "python",
   "pygments_lexer": "ipython3",
   "version": "3.10.11"
  }
 },
 "nbformat": 4,
 "nbformat_minor": 4
}
