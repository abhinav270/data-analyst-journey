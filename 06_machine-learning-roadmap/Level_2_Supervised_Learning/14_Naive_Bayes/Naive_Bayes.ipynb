{
 "cells": [
  {
   "cell_type": "markdown",
   "metadata": {},
   "source": [
    "# Part 2.14: Supervised Learning - Naive Bayes Classifier"
   ]
  },
  {
   "cell_type": "markdown",
   "metadata": {},
   "source": [
    "Naive Bayes classifiers are a family of simple probabilistic classifiers based on applying **Bayes' Theorem** with a 'naive' assumption: that the features are conditionally independent of each other, given the class."
   ]
  },
  {
   "cell_type": "markdown",
   "metadata": {},
   "source": [
    "### Bayes' Theorem\n",
    "It states: `P(A|B) = [P(B|A) * P(A)] / P(B)`\n",
    "\n",
    "In our context, this translates to:\n",
    "`P(class|features) = [P(features|class) * P(class)] / P(features)`\n",
    "\n",
    "The 'naive' assumption simplifies `P(features|class)` by assuming all features are independent, allowing us to multiply their individual probabilities."
   ]
  },
  {
   "cell_type": "code",
   "execution_count": 1,
   "metadata": {},
   "outputs": [],
   "source": [
    "from sklearn.naive_bayes import GaussianNB\n",
    "from sklearn.datasets import load_iris\n",
    "from sklearn.model_selection import train_test_split\n",
    "\n",
    "# Load the Iris dataset\n",
    "X, y = load_iris(return_X_y=True)\n",
    "X_train, X_test, y_train, y_test = train_test_split(X, y, test_size=0.3, random_state=42)"
   ]
  },
  {
   "cell_type": "markdown",
   "metadata": {},
   "source": [
    "### Types of Naive Bayes Classifiers\n",
    "- **GaussianNB**: Assumes that features follow a Gaussian (normal) distribution. Used for continuous data.\n",
    "- **MultinomialNB**: Used for discrete counts. Commonly used in text classification (e.g., counting word occurrences).\n",
    "- **BernoulliNB**: Used for binary/boolean features."
   ]
  },
  {
   "cell_type": "markdown",
   "metadata": {},
   "source": [
    "### Training a Gaussian Naive Bayes Model"
   ]
  },
  {
   "cell_type": "code",
   "execution_count": 2,
   "metadata": {},
   "outputs": [
    {
     "name": "stdout",
     "output_type": "stream",
     "text": [
      "Accuracy on test set: 0.9778\n"
     ]
    }
   ],
   "source": [
    "# We use GaussianNB because the Iris dataset features are continuous\n",
    "gnb = GaussianNB()\n",
    "gnb.fit(X_train, y_train)\n",
    "\n",
    "print(f\"Accuracy on test set: {gnb.score(X_test, y_test):.4f}\")"
   ]
  },
  {
   "cell_type": "markdown",
   "metadata": {},
   "source": [
    "### When to Use Naive Bayes\n",
    "Despite its simplicity and the 'naive' assumption (which is often violated in reality), Naive Bayes can perform surprisingly well.\n",
    "\n",
    "- **Pros**: Very fast, requires little training data, works well with high-dimensional data (e.g., text), and provides probabilistic predictions.\n",
    "- **Cons**: The independence assumption is a strong one, so it may not be the best choice for complex problems where feature interactions are important."
   ]
  }
 ],
 "metadata": {
  "kernelspec": {
   "display_name": ".venv",
   "language": "python",
   "name": "python3"
  },
  "language_info": {
   "codemirror_mode": {
    "name": "ipython",
    "version": 3
   },
   "file_extension": ".py",
   "mimetype": "text/x-python",
   "name": "python",
   "nbconvert_exporter": "python",
   "pygments_lexer": "ipython3",
   "version": "3.10.11"
  }
 },
 "nbformat": 4,
 "nbformat_minor": 4
}
