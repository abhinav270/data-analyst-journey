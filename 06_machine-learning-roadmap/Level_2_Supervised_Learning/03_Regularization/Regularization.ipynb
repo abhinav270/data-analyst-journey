{
 "cells": [
  {
   "cell_type": "markdown",
   "metadata": {},
   "source": [
    "# Part 2.3: Supervised Learning - Regularization"
   ]
  },
  {
   "cell_type": "markdown",
   "metadata": {},
   "source": [
    "Regularization is a technique used to combat overfitting in machine learning models. It works by adding a penalty term to the model's cost function, which discourages the model from learning overly complex patterns or having excessively large coefficients."
   ]
  },
  {
   "cell_type": "code",
   "execution_count": 1,
   "metadata": {},
   "outputs": [],
   "source": [
    "import numpy as np\n",
    "import pandas as pd\n",
    "from sklearn.linear_model import Ridge, Lasso, ElasticNet\n",
    "from sklearn.preprocessing import StandardScaler\n",
    "from sklearn.model_selection import train_test_split\n",
    "\n",
    "# Generate some data\n",
    "np.random.seed(42)\n",
    "X = np.random.rand(50, 10) # 50 samples, 10 features\n",
    "y = 2 * X[:, 0] + 3 * X[:, 1] - 1.5 * X[:, 2] + np.random.randn(50)\n",
    "\n",
    "# It's important to scale data before regularization\n",
    "scaler = StandardScaler()\n",
    "X_scaled = scaler.fit_transform(X)\n",
    "\n",
    "X_train, X_test, y_train, y_test = train_test_split(X_scaled, y, test_size=0.2, random_state=42)"
   ]
  },
  {
   "cell_type": "markdown",
   "metadata": {},
   "source": [
    "### Ridge Regression (L2 Regularization)\n",
    "Ridge adds a penalty equal to the **square of the magnitude** of the coefficients. It shrinks large coefficients but does not set them to zero."
   ]
  },
  {
   "cell_type": "code",
   "execution_count": 2,
   "metadata": {},
   "outputs": [
    {
     "name": "stdout",
     "output_type": "stream",
     "text": [
      "Ridge Coefficients:\n",
      "[ 0.86416937  1.10175701 -0.46152523  0.06023023 -0.121519    0.01500535\n",
      "  0.08982306 -0.28407714  0.21526448  0.14893289]\n"
     ]
    }
   ],
   "source": [
    "# The 'alpha' parameter controls the strength of the regularization\n",
    "ridge = Ridge(alpha=1.0)\n",
    "ridge.fit(X_train, y_train)\n",
    "\n",
    "print(\"Ridge Coefficients:\")\n",
    "print(ridge.coef_)"
   ]
  },
  {
   "cell_type": "markdown",
   "metadata": {},
   "source": [
    "### Lasso Regression (L1 Regularization)\n",
    "Lasso (Least Absolute Shrinkage and Selection Operator) adds a penalty equal to the **absolute value of the magnitude** of the coefficients. This can shrink some coefficients to exactly zero, effectively performing feature selection."
   ]
  },
  {
   "cell_type": "code",
   "execution_count": 3,
   "metadata": {},
   "outputs": [
    {
     "name": "stdout",
     "output_type": "stream",
     "text": [
      "Lasso Coefficients:\n",
      "[ 0.80092034  0.95719    -0.32510564  0.         -0.          0.\n",
      "  0.         -0.17188662  0.22815463  0.        ]\n",
      "\n",
      "Notice how some coefficients are exactly zero.\n"
     ]
    }
   ],
   "source": [
    "lasso = Lasso(alpha=0.1)\n",
    "lasso.fit(X_train, y_train)\n",
    "\n",
    "print(\"Lasso Coefficients:\")\n",
    "print(lasso.coef_)\n",
    "print(\"\\nNotice how some coefficients are exactly zero.\")"
   ]
  },
  {
   "cell_type": "markdown",
   "metadata": {},
   "source": [
    "### ElasticNet\n",
    "ElasticNet is a middle ground between Ridge and Lasso. It combines both L1 and L2 penalties. The `l1_ratio` parameter controls the mix (e.g., `l1_ratio=0.5` means 50% L1 and 50% L2)."
   ]
  },
  {
   "cell_type": "code",
   "execution_count": 4,
   "metadata": {},
   "outputs": [
    {
     "name": "stdout",
     "output_type": "stream",
     "text": [
      "ElasticNet Coefficients:\n",
      "[ 0.79506313  0.96903899 -0.37541863  0.         -0.0453539   0.\n",
      "  0.01377875 -0.21202873  0.22770953  0.0721759 ]\n"
     ]
    }
   ],
   "source": [
    "elastic_net = ElasticNet(alpha=0.1, l1_ratio=0.5)\n",
    "elastic_net.fit(X_train, y_train)\n",
    "\n",
    "print(\"ElasticNet Coefficients:\")\n",
    "print(elastic_net.coef_)"
   ]
  }
 ],
 "metadata": {
  "kernelspec": {
   "display_name": ".venv",
   "language": "python",
   "name": "python3"
  },
  "language_info": {
   "codemirror_mode": {
    "name": "ipython",
    "version": 3
   },
   "file_extension": ".py",
   "mimetype": "text/x-python",
   "name": "python",
   "nbconvert_exporter": "python",
   "pygments_lexer": "ipython3",
   "version": "3.10.11"
  }
 },
 "nbformat": 4,
 "nbformat_minor": 4
}
