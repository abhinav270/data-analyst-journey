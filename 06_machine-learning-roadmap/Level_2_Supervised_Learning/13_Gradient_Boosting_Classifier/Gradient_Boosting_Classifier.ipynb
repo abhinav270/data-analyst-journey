{
 "cells": [
  {
   "cell_type": "markdown",
   "metadata": {},
   "source": [
    "# Part 2.13: Supervised Learning - Gradient Boosting Classifier"
   ]
  },
  {
   "cell_type": "markdown",
   "metadata": {},
   "source": [
    "The Gradient Boosting Classifier is another powerful ensemble method that builds models sequentially. Each new model (a weak learner, typically a small decision tree) is trained to correct the errors of the one before it. This sequential, error-correcting process makes it one of the highest-performing out-of-the-box algorithms."
   ]
  },
  {
   "cell_type": "code",
   "execution_count": 1,
   "metadata": {},
   "outputs": [],
   "source": [
    "from sklearn.ensemble import GradientBoostingClassifier\n",
    "from sklearn.datasets import make_classification\n",
    "from sklearn.model_selection import train_test_split\n",
    "\n",
    "# Generate a dataset\n",
    "X, y = make_classification(n_samples=1000, n_features=10, n_informative=5, n_redundant=0, random_state=42)\n",
    "\n",
    "X_train, X_test, y_train, y_test = train_test_split(X, y, test_size=0.2, random_state=42)"
   ]
  },
  {
   "cell_type": "markdown",
   "metadata": {},
   "source": [
    "### Training a Gradient Boosting Classifier"
   ]
  },
  {
   "cell_type": "code",
   "execution_count": 2,
   "metadata": {},
   "outputs": [
    {
     "name": "stdout",
     "output_type": "stream",
     "text": [
      "Accuracy on test set: 0.9000\n"
     ]
    }
   ],
   "source": [
    "# n_estimators: The number of boosting stages (trees) to perform.\n",
    "# learning_rate: Shrinks the contribution of each tree.\n",
    "# max_depth: Limits the number of nodes in the tree.\n",
    "gb_clf = GradientBoostingClassifier(n_estimators=100, learning_rate=0.1, max_depth=3, random_state=42)\n",
    "gb_clf.fit(X_train, y_train)\n",
    "\n",
    "print(f\"Accuracy on test set: {gb_clf.score(X_test, y_test):.4f}\")"
   ]
  },
  {
   "cell_type": "markdown",
   "metadata": {},
   "source": [
    "### Early Stopping\n",
    "A useful technique to prevent overfitting is **early stopping**. We can monitor the model's performance on a validation set and stop training when the performance stops improving. Scikit-learn's implementation uses `n_iter_no_change` to achieve this."
   ]
  },
  {
   "cell_type": "code",
   "execution_count": 3,
   "metadata": {},
   "outputs": [
    {
     "name": "stdout",
     "output_type": "stream",
     "text": [
      "Number of estimators used after early stopping: 89\n",
      "Accuracy with early stopping: 0.9150\n"
     ]
    }
   ],
   "source": [
    "gb_clf_early_stop = GradientBoostingClassifier(\n",
    "    n_estimators=500, # Set a high number of estimators\n",
    "    learning_rate=0.1, \n",
    "    max_depth=3, \n",
    "    random_state=42, \n",
    "    validation_fraction=0.1, # Fraction of training data to set aside as validation\n",
    "    n_iter_no_change=10, # Stop if validation score doesn't improve for 10 iterations\n",
    "    tol=0.01\n",
    ")\n",
    "gb_clf_early_stop.fit(X_train, y_train)\n",
    "\n",
    "print(f\"Number of estimators used after early stopping: {gb_clf_early_stop.n_estimators_}\")\n",
    "print(f\"Accuracy with early stopping: {gb_clf_early_stop.score(X_test, y_test):.4f}\")"
   ]
  },
  {
   "cell_type": "markdown",
   "metadata": {},
   "source": [
    "### Advanced Gradient Boosting Libraries\n",
    "For top performance, consider these specialized libraries:\n",
    "- **XGBoost**: The library that popularized gradient boosting for competitions.\n",
    "- **LightGBM**: A very fast and efficient implementation.\n",
    "- **CatBoost**: Excellent at handling categorical features automatically."
   ]
  }
 ],
 "metadata": {
  "kernelspec": {
   "display_name": ".venv",
   "language": "python",
   "name": "python3"
  },
  "language_info": {
   "codemirror_mode": {
    "name": "ipython",
    "version": 3
   },
   "file_extension": ".py",
   "mimetype": "text/x-python",
   "name": "python",
   "nbconvert_exporter": "python",
   "pygments_lexer": "ipython3",
   "version": "3.10.11"
  }
 },
 "nbformat": 4,
 "nbformat_minor": 4
}
