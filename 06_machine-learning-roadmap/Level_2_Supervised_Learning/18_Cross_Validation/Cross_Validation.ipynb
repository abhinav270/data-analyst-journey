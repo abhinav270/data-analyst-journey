{
 "cells": [
  {
   "cell_type": "markdown",
   "metadata": {},
   "source": [
    "# Part 2.18: Supervised Learning - Cross-Validation"
   ]
  },
  {
   "cell_type": "markdown",
   "metadata": {},
   "source": [
    "A single train/test split is a good start, but the evaluation score you get can be dependent on exactly how the data was split. **Cross-Validation (CV)** is a more robust technique that gives a better estimate of your model's performance on unseen data."
   ]
  },
  {
   "cell_type": "markdown",
   "metadata": {},
   "source": [
    "### The K-Fold Cross-Validation Process\n",
    "1.  **Split**: The training data is split into 'k' smaller sets or 'folds'.\n",
    "2.  **Train & Evaluate**: A model is trained using k-1 of the folds as training data, and the resulting model is validated on the remaining part of the data (the holdout fold).\n",
    "3.  **Repeat**: This process is repeated k times, with each of the k folds used exactly once as the validation data.\n",
    "4.  **Average**: The k results are then averaged to produce a single, more robust performance estimate."
   ]
  },
  {
   "cell_type": "code",
   "execution_count": 1,
   "metadata": {},
   "outputs": [],
   "source": [
    "from sklearn.model_selection import cross_val_score, KFold\n",
    "from sklearn.datasets import load_iris\n",
    "from sklearn.linear_model import LogisticRegression\n",
    "\n",
    "# Load the Iris dataset\n",
    "X, y = load_iris(return_X_y=True)\n",
    "\n",
    "# Create a model\n",
    "model = LogisticRegression(max_iter=200)"
   ]
  },
  {
   "cell_type": "markdown",
   "metadata": {},
   "source": [
    "### Using `cross_val_score`\n",
    "Scikit-learn provides a simple helper function to perform cross-validation."
   ]
  },
  {
   "cell_type": "code",
   "execution_count": 2,
   "metadata": {},
   "outputs": [
    {
     "name": "stdout",
     "output_type": "stream",
     "text": [
      "Scores for each fold: [0.96666667 1.         0.93333333 0.96666667 1.        ]\n",
      "\n",
      "Mean accuracy: 0.9733\n",
      "Standard deviation: 0.0249\n"
     ]
    }
   ],
   "source": [
    "# The 'cv' parameter determines the number of folds (k)\n",
    "scores = cross_val_score(model, X, y, cv=5, scoring='accuracy')\n",
    "\n",
    "print(f\"Scores for each fold: {scores}\")\n",
    "print(f\"\\nMean accuracy: {scores.mean():.4f}\")\n",
    "print(f\"Standard deviation: {scores.std():.4f}\")"
   ]
  },
  {
   "cell_type": "markdown",
   "metadata": {},
   "source": [
    "### Stratified K-Fold\n",
    "When doing cross-validation for a classification problem, it's important to use **stratification**. This means that each fold has approximately the same percentage of samples of each target class as the complete set.\n",
    "\n",
    "`cross_val_score` automatically uses stratified k-fold for classification models, but you can also use the `StratifiedKFold` object explicitly for more control."
   ]
  },
  {
   "cell_type": "code",
   "execution_count": 4,
   "metadata": {},
   "outputs": [
    {
     "name": "stdout",
     "output_type": "stream",
     "text": [
      "Fold 1 - Class Distribution: {np.int64(0): np.int64(17), np.int64(1): np.int64(17), np.int64(2): np.int64(16)}\n",
      "Fold 2 - Class Distribution: {np.int64(0): np.int64(17), np.int64(1): np.int64(16), np.int64(2): np.int64(17)}\n",
      "Fold 3 - Class Distribution: {np.int64(0): np.int64(16), np.int64(1): np.int64(17), np.int64(2): np.int64(17)}\n"
     ]
    }
   ],
   "source": [
    "from sklearn.model_selection import StratifiedKFold\n",
    "import numpy as np\n",
    "skf = StratifiedKFold(n_splits=3)\n",
    "\n",
    "fold_no = 1\n",
    "for train_index, test_index in skf.split(X, y):\n",
    "    # Get the data for this fold\n",
    "    X_train, X_test = X[train_index], X[test_index]\n",
    "    y_train, y_test = y[train_index], y[test_index]\n",
    "    \n",
    "    # Print the distribution of classes in the test set for this fold\n",
    "    unique, counts = np.unique(y_test, return_counts=True)\n",
    "    print(f\"Fold {fold_no} - Class Distribution: {dict(zip(unique, counts))}\")\n",
    "    fold_no += 1"
   ]
  },
  {
   "cell_type": "code",
   "execution_count": null,
   "metadata": {},
   "outputs": [],
   "source": []
  }
 ],
 "metadata": {
  "kernelspec": {
   "display_name": ".venv",
   "language": "python",
   "name": "python3"
  },
  "language_info": {
   "codemirror_mode": {
    "name": "ipython",
    "version": 3
   },
   "file_extension": ".py",
   "mimetype": "text/x-python",
   "name": "python",
   "nbconvert_exporter": "python",
   "pygments_lexer": "ipython3",
   "version": "3.10.11"
  }
 },
 "nbformat": 4,
 "nbformat_minor": 4
}
