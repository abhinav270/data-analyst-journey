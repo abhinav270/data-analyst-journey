{
 "cells": [
  {
   "cell_type": "markdown",
   "metadata": {},
   "source": [
    "# Part 1.4: Outlier Detection & Treatment"
   ]
  },
  {
   "cell_type": "markdown",
   "metadata": {},
   "source": [
    "Outliers are data points that differ significantly from other observations. They can skew statistical measures and degrade the performance of many machine learning models."
   ]
  },
  {
   "cell_type": "code",
   "execution_count": null,
   "metadata": {},
   "outputs": [],
   "source": [
    "import pandas as pd\n",
    "import numpy as np\n",
    "import seaborn as sns\n",
    "import matplotlib.pyplot as plt\n",
    "\n",
    "data = {'values': [10, 12, 12, 13, 12, 11, 14, 13, 15, 10, 100]} # 100 is an outlier\n",
    "df = pd.DataFrame(data)\n",
    "print(\"Original DataFrame:\")\n",
    "df"
   ]
  },
  {
   "cell_type": "markdown",
   "metadata": {},
   "source": [
    "### Detection Method 1: Visualization (Box Plots)\n",
    "Box plots are a great way to visually identify outliers."
   ]
  },
  {
   "cell_type": "code",
   "execution_count": null,
   "metadata": {},
   "outputs": [],
   "source": [
    "sns.boxplot(x=df['values'])\n",
    "plt.title('Box Plot of Values')\n",
    "plt.show()"
   ]
  },
  {
   "cell_type": "markdown",
   "metadata": {},
   "source": [
    "### Detection Method 2: Interquartile Range (IQR)\n",
    "A common statistical method to define outliers. A data point is considered an outlier if it falls outside these boundaries:\n",
    "- `Lower Bound = Q1 - 1.5 * IQR`\n",
    "- `Upper Bound = Q3 + 1.5 * IQR`"
   ]
  },
  {
   "cell_type": "code",
   "execution_count": null,
   "metadata": {},
   "outputs": [],
   "source": [
    "Q1 = df['values'].quantile(0.25)\n",
    "Q3 = df['values'].quantile(0.75)\n",
    "IQR = Q3 - Q1\n",
    "\n",
    "lower_bound = Q1 - 1.5 * IQR\n",
    "upper_bound = Q3 + 1.5 * IQR\n",
    "\n",
    "print(f\"Q1: {Q1}, Q3: {Q3}, IQR: {IQR}\")\n",
    "print(f\"Lower Bound: {lower_bound}\")\n",
    "print(f\"Upper Bound: {upper_bound}\")\n",
    "\n",
    "outliers = df[(df['values'] < lower_bound) | (df['values'] > upper_bound)]\n",
    "print(\"\\nDetected Outliers:\")\n",
    "print(outliers)"
   ]
  },
  {
   "cell_type": "markdown",
   "metadata": {},
   "source": [
    "### Treatment Strategy 1: Removal\n",
    "The simplest way to handle outliers is to remove them. This should be done with caution."
   ]
  },
  {
   "cell_type": "code",
   "execution_count": null,
   "metadata": {},
   "outputs": [],
   "source": [
    "df_no_outliers = df[~((df['values'] < lower_bound) | (df['values'] > upper_bound))]\n",
    "print(\"DataFrame after removing outliers:\")\n",
    "print(df_no_outliers)"
   ]
  },
  {
   "cell_type": "markdown",
   "metadata": {},
   "source": [
    "### Treatment Strategy 2: Capping (Winsorizing)\n",
    "Capping involves replacing the outliers with the nearest value that is not an outlier (i.e., the lower or upper bound)."
   ]
  },
  {
   "cell_type": "code",
   "execution_count": null,
   "metadata": {},
   "outputs": [],
   "source": [
    "df_capped = df.copy()\n",
    "df_capped['values'] = np.where(\n",
    "    df_capped['values'] > upper_bound, \n",
    "    upper_bound, \n",
    "    np.where(\n",
    "        df_capped['values'] < lower_bound, \n",
    "        lower_bound, \n",
    "        df_capped['values']\n",
    "    )\n",
    ")\n",
    "print(\"DataFrame after capping outliers:\")\n",
    "print(df_capped)"
   ]
  },
  {
   "cell_type": "markdown",
   "metadata": {},
   "source": [
    "### Treatment Strategy 3: Transformation\n",
    "Applying a mathematical transformation like a log or square root can also reduce the impact of outliers."
   ]
  },
  {
   "cell_type": "code",
   "execution_count": null,
   "metadata": {},
   "outputs": [],
   "source": [
    "df_transformed = df.copy()\n",
    "df_transformed['values_log'] = np.log(df_transformed['values'])\n",
    "print(\"DataFrame after log transformation:\")\n",
    "print(df_transformed)\n",
    "\n",
    "sns.boxplot(x=df_transformed['values_log'])\n",
    "plt.title('Box Plot of Log-Transformed Values')\n",
    "plt.show()"
   ]
  }
 ],
 "metadata": {
  "kernelspec": {
   "display_name": "Python 3",
   "language": "python",
   "name": "python3"
  },
  "language_info": {
   "name": "python"
  }
 },
 "nbformat": 4,
 "nbformat_minor": 4
}
