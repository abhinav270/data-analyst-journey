{
 "cells": [
  {
   "cell_type": "markdown",
   "metadata": {},
   "source": [
    "# Part 1.1: Handling Missing Data"
   ]
  },
  {
   "cell_type": "markdown",
   "metadata": {},
   "source": [
    "Missing data is a common problem in real-world datasets. This notebook covers the standard techniques for identifying and handling missing values."
   ]
  },
  {
   "cell_type": "code",
   "execution_count": 6,
   "metadata": {},
   "outputs": [
    {
     "name": "stdout",
     "output_type": "stream",
     "text": [
      "Original DataFrame with Missing Values:\n"
     ]
    },
    {
     "data": {
      "text/html": [
       "<div>\n",
       "<style scoped>\n",
       "    .dataframe tbody tr th:only-of-type {\n",
       "        vertical-align: middle;\n",
       "    }\n",
       "\n",
       "    .dataframe tbody tr th {\n",
       "        vertical-align: top;\n",
       "    }\n",
       "\n",
       "    .dataframe thead th {\n",
       "        text-align: right;\n",
       "    }\n",
       "</style>\n",
       "<table border=\"1\" class=\"dataframe\">\n",
       "  <thead>\n",
       "    <tr style=\"text-align: right;\">\n",
       "      <th></th>\n",
       "      <th>age</th>\n",
       "      <th>salary</th>\n",
       "      <th>city</th>\n",
       "    </tr>\n",
       "  </thead>\n",
       "  <tbody>\n",
       "    <tr>\n",
       "      <th>0</th>\n",
       "      <td>25.0</td>\n",
       "      <td>50000.0</td>\n",
       "      <td>New York</td>\n",
       "    </tr>\n",
       "    <tr>\n",
       "      <th>1</th>\n",
       "      <td>30.0</td>\n",
       "      <td>60000.0</td>\n",
       "      <td>Los Angeles</td>\n",
       "    </tr>\n",
       "    <tr>\n",
       "      <th>2</th>\n",
       "      <td>NaN</td>\n",
       "      <td>70000.0</td>\n",
       "      <td>Chicago</td>\n",
       "    </tr>\n",
       "    <tr>\n",
       "      <th>3</th>\n",
       "      <td>40.0</td>\n",
       "      <td>NaN</td>\n",
       "      <td>New York</td>\n",
       "    </tr>\n",
       "    <tr>\n",
       "      <th>4</th>\n",
       "      <td>45.0</td>\n",
       "      <td>90000.0</td>\n",
       "      <td>NaN</td>\n",
       "    </tr>\n",
       "  </tbody>\n",
       "</table>\n",
       "</div>"
      ],
      "text/plain": [
       "    age   salary         city\n",
       "0  25.0  50000.0     New York\n",
       "1  30.0  60000.0  Los Angeles\n",
       "2   NaN  70000.0      Chicago\n",
       "3  40.0      NaN     New York\n",
       "4  45.0  90000.0          NaN"
      ]
     },
     "execution_count": 6,
     "metadata": {},
     "output_type": "execute_result"
    }
   ],
   "source": [
    "import pandas as pd\n",
    "import numpy as np\n",
    "from sklearn.impute import SimpleImputer\n",
    "\n",
    "data = {\n",
    "    'age': [25, 30, np.nan, 40, 45],\n",
    "    'salary': [50000, 60000, 70000, np.nan, 90000],\n",
    "    'city': ['New York', 'Los Angeles', 'Chicago', 'New York', np.nan]\n",
    "}\n",
    "df = pd.DataFrame(data)\n",
    "print(\"Original DataFrame with Missing Values:\")\n",
    "df"
   ]
  },
  {
   "cell_type": "markdown",
   "metadata": {},
   "source": [
    "### Detecting Missing Data\n",
    "The first step is to identify which columns contain missing values and how many."
   ]
  },
  {
   "cell_type": "code",
   "execution_count": 7,
   "metadata": {},
   "outputs": [
    {
     "name": "stdout",
     "output_type": "stream",
     "text": [
      "Missing values per column:\n",
      "age       1\n",
      "salary    1\n",
      "city      1\n",
      "dtype: int64\n"
     ]
    }
   ],
   "source": [
    "print(\"Missing values per column:\")\n",
    "print(df.isna().sum())"
   ]
  },
  {
   "cell_type": "markdown",
   "metadata": {},
   "source": [
    "### Strategy 1: Dropping Missing Data\n",
    "The simplest approach is to remove rows or columns with missing data. This is only recommended if the amount of missing data is small."
   ]
  },
  {
   "cell_type": "code",
   "execution_count": 8,
   "metadata": {},
   "outputs": [
    {
     "name": "stdout",
     "output_type": "stream",
     "text": [
      "DataFrame after dropping rows with any missing values:\n",
      "    age   salary         city\n",
      "0  25.0  50000.0     New York\n",
      "1  30.0  60000.0  Los Angeles\n"
     ]
    }
   ],
   "source": [
    "df_dropped = df.dropna()\n",
    "print(\"DataFrame after dropping rows with any missing values:\")\n",
    "print(df_dropped)"
   ]
  },
  {
   "cell_type": "markdown",
   "metadata": {},
   "source": [
    "### Strategy 2: Imputation\n",
    "Imputation involves filling in the missing values. The method depends on the data type."
   ]
  },
  {
   "cell_type": "markdown",
   "metadata": {},
   "source": [
    "#### Numerical Imputation (Mean/Median)\n",
    "For numerical columns like 'age' and 'salary', we can use the mean or median. The median is generally preferred if there are outliers."
   ]
  },
  {
   "cell_type": "code",
   "execution_count": 9,
   "metadata": {},
   "outputs": [
    {
     "name": "stdout",
     "output_type": "stream",
     "text": [
      "DataFrame after numerical imputation:\n",
      "    age   salary         city\n",
      "0  25.0  50000.0     New York\n",
      "1  30.0  60000.0  Los Angeles\n",
      "2  35.0  70000.0      Chicago\n",
      "3  40.0  65000.0     New York\n",
      "4  45.0  90000.0          NaN\n"
     ]
    }
   ],
   "source": [
    "df_imputed = df.copy()\n",
    "num_imputer = SimpleImputer(strategy='median')\n",
    "df_imputed[['age', 'salary']] = num_imputer.fit_transform(df_imputed[['age', 'salary']])\n",
    "print(\"DataFrame after numerical imputation:\")\n",
    "print(df_imputed)"
   ]
  },
  {
   "cell_type": "markdown",
   "metadata": {},
   "source": [
    "#### Categorical Imputation (Most Frequent)\n",
    "For categorical columns like 'city', we can fill missing values with the most frequent category (the mode)."
   ]
  },
  {
   "cell_type": "code",
   "execution_count": 10,
   "metadata": {},
   "outputs": [
    {
     "name": "stdout",
     "output_type": "stream",
     "text": [
      "DataFrame after all imputation:\n",
      "    age   salary         city\n",
      "0  25.0  50000.0     New York\n",
      "1  30.0  60000.0  Los Angeles\n",
      "2  35.0  70000.0      Chicago\n",
      "3  40.0  65000.0     New York\n",
      "4  45.0  90000.0     New York\n",
      "\n",
      "Final check for missing values:\n",
      "age       0\n",
      "salary    0\n",
      "city      0\n",
      "dtype: int64\n"
     ]
    }
   ],
   "source": [
    "cat_imputer = SimpleImputer(strategy='most_frequent')\n",
    "df_imputed[['city']] = cat_imputer.fit_transform(df_imputed[['city']])\n",
    "print(\"DataFrame after all imputation:\")\n",
    "print(df_imputed)\n",
    "print(\"\\nFinal check for missing values:\")\n",
    "print(df_imputed.isna().sum())"
   ]
  },
  {
   "cell_type": "markdown",
   "metadata": {},
   "source": [
    "More advanced techniques like `KNNImputer` (which uses the values of neighboring points to impute) also exist and can be more accurate."
   ]
  }
 ],
 "metadata": {
  "kernelspec": {
   "display_name": ".venv",
   "language": "python",
   "name": "python3"
  },
  "language_info": {
   "codemirror_mode": {
    "name": "ipython",
    "version": 3
   },
   "file_extension": ".py",
   "mimetype": "text/x-python",
   "name": "python",
   "nbconvert_exporter": "python",
   "pygments_lexer": "ipython3",
   "version": "3.10.11"
  }
 },
 "nbformat": 4,
 "nbformat_minor": 4
}
