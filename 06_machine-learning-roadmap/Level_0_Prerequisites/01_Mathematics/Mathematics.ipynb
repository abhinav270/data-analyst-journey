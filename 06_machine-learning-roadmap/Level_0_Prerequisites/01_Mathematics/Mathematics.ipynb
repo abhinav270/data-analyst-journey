{
 "cells": [
  {
   "cell_type": "markdown",
   "metadata": {},
   "source": [
    "# Part 0.1: Prerequisites - Mathematics"
   ]
  },
  {
   "cell_type": "markdown",
   "metadata": {},
   "source": [
    "A solid foundation in certain mathematical concepts is crucial for understanding the mechanics behind machine learning algorithms."
   ]
  },
  {
   "cell_type": "markdown",
   "metadata": {},
   "source": [
    "### Linear Algebra\n",
    "Linear algebra is the language of data. We use it to represent datasets as vectors and matrices."
   ]
  },
  {
   "cell_type": "code",
   "execution_count": 1,
   "metadata": {},
   "outputs": [
    {
     "name": "stdout",
     "output_type": "stream",
     "text": [
      "Dot Product: 32\n",
      "\n",
      "Matrix Product:\n",
      "[[19 22]\n",
      " [43 50]]\n"
     ]
    }
   ],
   "source": [
    "import numpy as np\n",
    "\n",
    "vector_a = np.array([1, 2, 3])\n",
    "vector_b = np.array([4, 5, 6])\n",
    "dot_product = np.dot(vector_a, vector_b)\n",
    "print(f\"Dot Product: {dot_product}\")\n",
    "\n",
    "matrix_A = np.array([[1, 2], [3, 4]])\n",
    "matrix_B = np.array([[5, 6], [7, 8]])\n",
    "matrix_product = np.matmul(matrix_A, matrix_B)\n",
    "print(f\"\\nMatrix Product:\\n{matrix_product}\")"
   ]
  },
  {
   "cell_type": "markdown",
   "metadata": {},
   "source": [
    "### Calculus\n",
    "Calculus is essential for optimization, which is at the heart of training most machine learning models.\n",
    "- **Derivatives**: Tell us the rate of change of a function. We use them to find how a model's error changes with respect to its parameters.\n",
    "- **Gradient**: A vector of partial derivatives. It points in the direction of the steepest ascent of a function. In **Gradient Descent**, we move in the opposite direction of the gradient to find the minimum of a function (like the model's error)."
   ]
  },
  {
   "cell_type": "markdown",
   "metadata": {},
   "source": [
    "### Probability & Statistics\n",
    "Statistics and probability are fundamental for understanding data distributions, uncertainty, and evaluating models."
   ]
  },
  {
   "cell_type": "code",
   "execution_count": 2,
   "metadata": {},
   "outputs": [
    {
     "name": "stdout",
     "output_type": "stream",
     "text": [
      "Mean: 4.2\n",
      "Median: 3.0\n",
      "Mode: 3\n",
      "Variance: 15.733333333333336\n",
      "Standard Deviation: 3.9665266081716046\n"
     ]
    }
   ],
   "source": [
    "import pandas as pd\n",
    "\n",
    "data = {'values': [1, 2, 2, 3, 3, 3, 4, 4, 5, 15]} # 15 is an outlier\n",
    "df = pd.DataFrame(data)\n",
    "\n",
    "print(f\"Mean: {df['values'].mean()}\")\n",
    "print(f\"Median: {df['values'].median()}\")\n",
    "print(f\"Mode: {df['values'].mode()[0]}\")\n",
    "print(f\"Variance: {df['values'].var()}\")\n",
    "print(f\"Standard Deviation: {df['values'].std()}\")"
   ]
  }
 ],
 "metadata": {
  "kernelspec": {
   "display_name": ".venv",
   "language": "python",
   "name": "python3"
  },
  "language_info": {
   "codemirror_mode": {
    "name": "ipython",
    "version": 3
   },
   "file_extension": ".py",
   "mimetype": "text/x-python",
   "name": "python",
   "nbconvert_exporter": "python",
   "pygments_lexer": "ipython3",
   "version": "3.10.11"
  }
 },
 "nbformat": 4,
 "nbformat_minor": 4
}
