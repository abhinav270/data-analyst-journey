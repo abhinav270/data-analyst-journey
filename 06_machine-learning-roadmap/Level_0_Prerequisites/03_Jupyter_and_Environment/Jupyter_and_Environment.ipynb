{
 "cells": [
  {
   "cell_type": "markdown",
   "metadata": {},
   "source": [
    "# Part 0.3: Prerequisites - Jupyter & Environment Setup"
   ]
  },
  {
   "cell_type": "markdown",
   "metadata": {},
   "source": [
    "### Why Jupyter Notebooks?\n",
    "Jupyter Notebooks are the de facto standard for interactive data science and machine learning experimentation. They allow you to combine live code, equations, visualizations, and narrative text in a single document, making it easy to explore data and share results."
   ]
  },
  {
   "cell_type": "markdown",
   "metadata": {},
   "source": [
    "### Setting Up Your Environment\n",
    "It is a strong best practice to create a dedicated virtual environment for each project to manage dependencies and avoid conflicts.\n",
    "\n",
    "#### Using `venv` (built-in to Python):\n",
    "```bash\n",
    "# 1. Create the environment\n",
    "python -m venv ml_env\n",
    "\n",
    "# 2. Activate it\n",
    "# On Windows:\n",
    "# ml_env\\Scripts\\activate\n",
    "# On macOS/Linux:\n",
    "source ml_env/bin/activate\n",
    "```\n",
    "\n",
    "#### Using `conda` (recommended for data science):\n",
    "If you have Anaconda or Miniconda installed:\n",
    "```bash\n",
    "# 1. Create the environment (specifying a Python version)\n",
    "conda create --name ml_env python=3.9\n",
    "\n",
    "# 2. Activate it\n",
    "conda activate ml_env\n",
    "```"
   ]
  },
  {
   "cell_type": "markdown",
   "metadata": {},
   "source": [
    "### Installing the Required Libraries\n",
    "Once your environment is activated, you can install all the libraries needed for this roadmap with a single command:"
   ]
  },
  {
   "cell_type": "markdown",
   "metadata": {},
   "source": [
    "```bash\n",
    "pip install numpy pandas matplotlib seaborn scikit-learn jupyter\n",
    "```"
   ]
  },
  {
   "cell_type": "markdown",
   "metadata": {},
   "source": [
    "### Launching Jupyter Notebook\n",
    "After installation, you can start Jupyter from your terminal:"
   ]
  },
  {
   "cell_type": "markdown",
   "metadata": {},
   "source": [
    "```bash\n",
    "jupyter notebook\n",
    "```\n",
    "This will open a new tab in your web browser, allowing you to navigate to these notebooks and run them."
   ]
  }
 ],
 "metadata": {
  "kernelspec": {
   "display_name": "Python 3",
   "language": "python",
   "name": "python3"
  },
  "language_info": {
   "name": "python"
  }
 },
 "nbformat": 4,
 "nbformat_minor": 4
}
