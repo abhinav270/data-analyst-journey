{
 "cells": [
  {
   "cell_type": "markdown",
   "metadata": {},
   "source": [
    "# 10. Bayesian Statistics (Advanced)"
   ]
  },
  {
   "cell_type": "markdown",
   "metadata": {},
   "source": [
    "This notebook provides a brief introduction to Bayesian statistics, a different paradigm of statistical inference from the frequentist approach we've mostly seen so far. Bayesian inference is about updating our beliefs in the light of new evidence."
   ]
  },
  {
   "cell_type": "code",
   "execution_count": 3,
   "metadata": {},
   "outputs": [],
   "source": [
    "import numpy as np\n",
    "import matplotlib.pyplot as plt\n",
    "from scipy import stats\n",
    "\n",
    "plt.style.use('seaborn-v0_8-whitegrid')"
   ]
  },
  {
   "cell_type": "markdown",
   "metadata": {},
   "source": [
    "## 10.1 Bayesian vs. Frequentist Inference"
   ]
  },
  {
   "cell_type": "markdown",
   "metadata": {},
   "source": [
    "- **Frequentist View:** Probability is the long-run frequency of an event. Parameters (like a population mean `μ`) are fixed, unknown constants. We use data to create confidence intervals or p-values to make statements about these parameters.\n",
    "\n",
    "- **Bayesian View:** Probability is a 'degree of belief' about a statement. Parameters are random variables about which we can have a belief, and we use data to *update* that belief. The result of a Bayesian analysis is a **posterior distribution** that represents our updated belief."
   ]
  },
  {
   "cell_type": "markdown",
   "metadata": {},
   "source": [
    "## 10.2 The Core Concepts (Bayes' Theorem)"
   ]
  },
  {
   "cell_type": "markdown",
   "metadata": {},
   "source": [
    "The foundation of Bayesian statistics is Bayes' Theorem:\n",
    "$$ P(\\theta | D) = \\frac{P(D | \\theta) \\times P(\\theta)}{P(D)} $$    \n",
    "Where:\n",
    "- **P(θ|D) - Posterior:** Our updated belief about the parameter `θ` after seeing the data `D`.\n",
    "- **P(D|θ) - Likelihood:** The probability of observing the data `D` given a particular value of the parameter `θ`.\n",
    "- **P(θ) - Prior:** Our initial belief about the parameter `θ` *before* seeing any data.\n",
    "- **P(D) - Evidence:** The marginal probability of the data. It acts as a normalization constant."
   ]
  },
  {
   "cell_type": "markdown",
   "metadata": {},
   "source": [
    "In simpler terms: **Posterior ∝ Likelihood × Prior**"
   ]
  },
  {
   "cell_type": "markdown",
   "metadata": {},
   "source": [
    "## 10.3 A Simple Bayesian Update Example"
   ]
  },
  {
   "cell_type": "markdown",
   "metadata": {},
   "source": [
    "**Problem:** We want to estimate the fairness of a coin (the probability of heads, `θ`).\n",
    "\n",
    "1.  **Prior:** We have no idea if the coin is fair. We can assume any value of `θ` from 0 to 1 is equally likely. This is a **uniform distribution**.\n",
    "2.  **Data (Likelihood):** We flip the coin 10 times and get 7 heads (H) and 3 tails (T).\n",
    "3.  **Posterior:** We update our prior belief with the data."
   ]
  },
  {
   "cell_type": "code",
   "execution_count": 4,
   "metadata": {},
   "outputs": [
    {
     "data": {
      "image/png": "[encoded data removed]",
      "text/plain": [
       "<Figure size 1000x600 with 1 Axes>"
      ]
     },
     "metadata": {},
     "output_type": "display_data"
    },
    {
     "name": "stdout",
     "output_type": "stream",
     "text": [
      "Our initial belief (prior) was flat, but after observing 7 heads in 10 flips, our belief has shifted. The most likely value for θ (the peak of the posterior) is now around 0.7.\n"
     ]
    }
   ],
   "source": [
    "# 1. Define the parameter space (possible values for θ)\n",
    "theta_values = np.linspace(0, 1, 101)\n",
    "\n",
    "# 2. Define our prior belief (uniform distribution)\n",
    "prior = stats.uniform.pdf(theta_values)\n",
    "\n",
    "# 3. Define the likelihood (Binomial distribution)\n",
    "n_trials = 10\n",
    "n_heads = 7\n",
    "likelihood = stats.binom.pmf(k=n_heads, n=n_trials, p=theta_values)\n",
    "\n",
    "# 4. Calculate the posterior (unnormalized)\n",
    "posterior_unnormalized = likelihood * prior\n",
    "\n",
    "# 5. Normalize the posterior so it sums to 1\n",
    "posterior = posterior_unnormalized / np.sum(posterior_unnormalized)\n",
    "\n",
    "# Plotting\n",
    "plt.figure(figsize=(10, 6))\n",
    "plt.plot(theta_values, prior, label='Prior', linestyle='--')\n",
    "plt.plot(theta_values, posterior, label='Posterior', color='red')\n",
    "plt.title('Bayesian Update for Coin Fairness')\n",
    "plt.xlabel('θ (Probability of Heads)')\n",
    "plt.ylabel('Probability Density')\n",
    "plt.legend()\n",
    "plt.show()\n",
    "\n",
    "print(\"Our initial belief (prior) was flat, but after observing 7 heads in 10 flips, our belief has shifted. The most likely value for θ (the peak of the posterior) is now around 0.7.\")"
   ]
  },
  {
   "cell_type": "markdown",
   "metadata": {},
   "source": [
    "## 10.4 Markov Chain Monte Carlo (MCMC)"
   ]
  },
  {
   "cell_type": "markdown",
   "metadata": {},
   "source": [
    "In our simple example, we could easily calculate the posterior. For more complex models, this is often mathematically intractable. **MCMC** methods are a class of algorithms for **sampling from a probability distribution**.\n",
    "\n",
    "Instead of trying to calculate the posterior distribution directly, MCMC algorithms (like Metropolis-Hastings or Gibbs sampling) draw thousands of samples from it. The resulting set of samples can then be used to approximate the posterior distribution.\n",
    "\n",
    "**Libraries like `PyMC` and `Stan` are dedicated to performing MCMC for Bayesian modeling.**"
   ]
  },
  {
   "cell_type": "markdown",
   "metadata": {},
   "source": [
    "## 10.5 Bayesian Regression"
   ]
  },
  {
   "cell_type": "markdown",
   "metadata": {},
   "source": [
    "A Bayesian approach can also be applied to regression. Instead of finding a single best-fit line (i.e., single values for the intercept and slope), Bayesian regression produces a **posterior distribution for each of the model's parameters**.\n",
    "\n",
    "**Advantages:**\n",
    "- **Quantifies Uncertainty:** It gives you a full distribution of credible values for your parameters, not just a point estimate and a confidence interval.\n",
    "- **Incorporates Prior Knowledge:** You can formally include prior beliefs about the parameters in your model.\n",
    "- **Flexibility:** It's well-suited for complex hierarchical or mixed-effects models."
   ]
  }
 ],
 "metadata": {
  "kernelspec": {
   "display_name": ".venv",
   "language": "python",
   "name": "python3"
  },
  "language_info": {
   "codemirror_mode": {
    "name": "ipython",
    "version": 3
   },
   "file_extension": ".py",
   "mimetype": "text/x-python",
   "name": "python",
   "nbconvert_exporter": "python",
   "pygments_lexer": "ipython3",
   "version": "3.10.11"
  }
 },
 "nbformat": 4,
 "nbformat_minor": 4
}
