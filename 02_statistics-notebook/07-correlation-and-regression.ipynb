{
 "cells": [
  {
   "cell_type": "markdown",
   "metadata": {},
   "source": [
    "# 7. Correlation and Regression"
   ]
  },
  {
   "cell_type": "markdown",
   "metadata": {},
   "source": [
    "This notebook explores how to measure the relationship between two or more variables. **Correlation** quantifies the strength and direction of a relationship, while **Regression** allows us to model that relationship and make predictions."
   ]
  },
  {
   "cell_type": "code",
   "execution_count": 1,
   "metadata": {},
   "outputs": [
    {
     "name": "stdout",
     "output_type": "stream",
     "text": [
      "Collecting statsmodels\n",
      "  Downloading statsmodels-0.14.5-cp310-cp310-win_amd64.whl (9.6 MB)\n",
      "     ---------------------------------------- 0.0/9.6 MB ? eta -:--:--\n",
      "     ---------------------------------------- 0.1/9.6 MB 2.6 MB/s eta 0:00:04\n",
      "     ----- ---------------------------------- 1.3/9.6 MB 16.0 MB/s eta 0:00:01\n",
      "     --------------- ------------------------ 3.8/9.6 MB 26.8 MB/s eta 0:00:01\n",
      "     --------------------------- ------------ 6.7/9.6 MB 35.9 MB/s eta 0:00:01\n",
      "     ---------------------------------- ----- 8.4/9.6 MB 38.6 MB/s eta 0:00:01\n",
      "     ------------------------------------- -- 9.1/9.6 MB 38.7 MB/s eta 0:00:01\n",
      "     ------------------------------------- -- 9.1/9.6 MB 38.7 MB/s eta 0:00:01\n",
      "     ------------------------------------- -- 9.1/9.6 MB 38.7 MB/s eta 0:00:01\n",
      "     ------------------------------------- -- 9.1/9.6 MB 38.7 MB/s eta 0:00:01\n",
      "     ------------------------------------- -- 9.1/9.6 MB 38.7 MB/s eta 0:00:01\n",
      "     ---------------------------------------  9.6/9.6 MB 20.6 MB/s eta 0:00:01\n",
      "     ---------------------------------------- 9.6/9.6 MB 18.7 MB/s eta 0:00:00\n",
      "Requirement already satisfied: packaging>=21.3 in c:\\users\\tyagi\\documents\\learning\\data-analyst-learning\\.venv\\lib\\site-packages (from statsmodels) (25.0)\n",
      "Requirement already satisfied: scipy!=1.9.2,>=1.8 in c:\\users\\tyagi\\documents\\learning\\data-analyst-learning\\.venv\\lib\\site-packages (from statsmodels) (1.15.3)\n",
      "Collecting patsy>=0.5.6\n",
      "  Downloading patsy-1.0.1-py2.py3-none-any.whl (232 kB)\n",
      "     ---------------------------------------- 0.0/232.9 kB ? eta -:--:--\n",
      "     --------------------------------- ---- 204.8/232.9 kB 6.3 MB/s eta 0:00:01\n",
      "     -------------------------------------- 232.9/232.9 kB 7.2 MB/s eta 0:00:00\n",
      "Requirement already satisfied: numpy<3,>=1.22.3 in c:\\users\\tyagi\\documents\\learning\\data-analyst-learning\\.venv\\lib\\site-packages (from statsmodels) (2.2.6)\n",
      "Requirement already satisfied: pandas!=2.1.0,>=1.4 in c:\\users\\tyagi\\documents\\learning\\data-analyst-learning\\.venv\\lib\\site-packages (from statsmodels) (2.3.1)\n",
      "Requirement already satisfied: tzdata>=2022.7 in c:\\users\\tyagi\\documents\\learning\\data-analyst-learning\\.venv\\lib\\site-packages (from pandas!=2.1.0,>=1.4->statsmodels) (2025.2)\n",
      "Requirement already satisfied: pytz>=2020.1 in c:\\users\\tyagi\\documents\\learning\\data-analyst-learning\\.venv\\lib\\site-packages (from pandas!=2.1.0,>=1.4->statsmodels) (2025.2)\n",
      "Requirement already satisfied: python-dateutil>=2.8.2 in c:\\users\\tyagi\\documents\\learning\\data-analyst-learning\\.venv\\lib\\site-packages (from pandas!=2.1.0,>=1.4->statsmodels) (2.9.0.post0)\n",
      "Requirement already satisfied: six>=1.5 in c:\\users\\tyagi\\documents\\learning\\data-analyst-learning\\.venv\\lib\\site-packages (from python-dateutil>=2.8.2->pandas!=2.1.0,>=1.4->statsmodels) (1.17.0)\n",
      "Installing collected packages: patsy, statsmodels\n",
      "Successfully installed patsy-1.0.1 statsmodels-0.14.5\n"
     ]
    },
    {
     "name": "stderr",
     "output_type": "stream",
     "text": [
      "\n",
      "[notice] A new release of pip is available: 23.0.1 -> 25.2\n",
      "[notice] To update, run: python.exe -m pip install --upgrade pip\n"
     ]
    }
   ],
   "source": [
    "!pip install statsmodels"
   ]
  },
  {
   "cell_type": "code",
   "execution_count": 2,
   "metadata": {},
   "outputs": [],
   "source": [
    "import numpy as np\n",
    "import pandas as pd\n",
    "import seaborn as sns\n",
    "import matplotlib.pyplot as plt\n",
    "from scipy import stats\n",
    "import statsmodels.api as sm\n",
    "\n",
    "sns.set_style('whitegrid')"
   ]
  },
  {
   "cell_type": "markdown",
   "metadata": {},
   "source": [
    "## 7.1 Correlation"
   ]
  },
  {
   "cell_type": "markdown",
   "metadata": {},
   "source": [
    "Correlation measures the statistical relationship between two variables. The correlation coefficient ranges from -1 to 1."
   ]
  },
  {
   "cell_type": "code",
   "execution_count": 3,
   "metadata": {},
   "outputs": [],
   "source": [
    "# Generate some correlated data\n",
    "x = np.linspace(0, 10, 100)\n",
    "y_linear = 2 * x + 1 + np.random.normal(0, 2, 100)\n",
    "y_nonlinear = x**2 + np.random.normal(0, 5, 100)"
   ]
  },
  {
   "cell_type": "markdown",
   "metadata": {},
   "source": [
    "### Pearson Correlation\n",
    "- Measures the **linear** relationship between two continuous variables.\n",
    "- Assumes data is normally distributed."
   ]
  },
  {
   "cell_type": "code",
   "execution_count": 4,
   "metadata": {},
   "outputs": [
    {
     "name": "stdout",
     "output_type": "stream",
     "text": [
      "Pearson correlation (linear data): 0.961\n"
     ]
    }
   ],
   "source": [
    "corr_pearson, _ = stats.pearsonr(x, y_linear)\n",
    "print(f\"Pearson correlation (linear data): {corr_pearson:.3f}\")"
   ]
  },
  {
   "cell_type": "markdown",
   "metadata": {},
   "source": [
    "### Spearman Correlation\n",
    "- Measures the **monotonic** relationship between two variables (i.e., as one increases, the other consistently increases or decreases, but not necessarily linearly).\n",
    "- Works on ranked data, so it's not sensitive to outliers and doesn't assume normality."
   ]
  },
  {
   "cell_type": "code",
   "execution_count": 5,
   "metadata": {},
   "outputs": [
    {
     "name": "stdout",
     "output_type": "stream",
     "text": [
      "Spearman correlation (nonlinear data): 0.977\n"
     ]
    }
   ],
   "source": [
    "corr_spearman, _ = stats.spearmanr(x, y_nonlinear)\n",
    "print(f\"Spearman correlation (nonlinear data): {corr_spearman:.3f}\")"
   ]
  },
  {
   "cell_type": "markdown",
   "metadata": {},
   "source": [
    "### Important: Correlation ≠ Causation\n",
    "A high correlation between two variables does not mean that one causes the other. There could be a third, confounding variable influencing both. For example, ice cream sales and shark attacks are correlated, but both are caused by warmer weather."
   ]
  },
  {
   "cell_type": "markdown",
   "metadata": {},
   "source": [
    "## 7.2 Regression"
   ]
  },
  {
   "cell_type": "markdown",
   "metadata": {},
   "source": [
    "Regression analysis is a set of statistical processes for estimating the relationships between a dependent variable (often denoted 'y') and one or more independent variables (often denoted 'X')."
   ]
  },
  {
   "cell_type": "markdown",
   "metadata": {},
   "source": [
    "### Simple Linear Regression\n",
    "Models the relationship between two variables by fitting a linear equation to the observed data.\n",
    "$$ y = \\beta_0 + \\beta_1 x + \\epsilon $$"
   ]
  },
  {
   "cell_type": "code",
   "execution_count": 6,
   "metadata": {},
   "outputs": [
    {
     "name": "stdout",
     "output_type": "stream",
     "text": [
      "                            OLS Regression Results                            \n",
      "==============================================================================\n",
      "Dep. Variable:                      y   R-squared:                       0.923\n",
      "Model:                            OLS   Adj. R-squared:                  0.922\n",
      "Method:                 Least Squares   F-statistic:                     1174.\n",
      "Date:                Fri, 15 Aug 2025   Prob (F-statistic):           2.37e-56\n",
      "Time:                        23:27:11   Log-Likelihood:                -196.50\n",
      "No. Observations:                 100   AIC:                             397.0\n",
      "Df Residuals:                      98   BIC:                             402.2\n",
      "Df Model:                           1                                         \n",
      "Covariance Type:            nonrobust                                         \n",
      "==============================================================================\n",
      "                 coef    std err          t      P>|t|      [0.025      0.975]\n",
      "------------------------------------------------------------------------------\n",
      "const          0.6649      0.346      1.921      0.058      -0.022       1.352\n",
      "x1             2.0493      0.060     34.261      0.000       1.931       2.168\n",
      "==============================================================================\n",
      "Omnibus:                        0.817   Durbin-Watson:                   2.167\n",
      "Prob(Omnibus):                  0.665   Jarque-Bera (JB):                0.880\n",
      "Skew:                           0.206   Prob(JB):                        0.644\n",
      "Kurtosis:                       2.796   Cond. No.                         11.7\n",
      "==============================================================================\n",
      "\n",
      "Notes:\n",
      "[1] Standard Errors assume that the covariance matrix of the errors is correctly specified.\n"
     ]
    }
   ],
   "source": [
    "# Using the statsmodels library for more detailed output\n",
    "X = sm.add_constant(x) # Add a constant (for the intercept β₀)\n",
    "model = sm.OLS(y_linear, X) # OLS = Ordinary Least Squares\n",
    "results = model.fit()\n",
    "\n",
    "# Print the regression results summary\n",
    "print(results.summary())"
   ]
  },
  {
   "cell_type": "markdown",
   "metadata": {},
   "source": [
    "**Interpreting the Output:**\n",
    "- **R-squared:** The proportion of the variance in the dependent variable that is predictable from the independent variable(s). (e.g., 94.2% of the variance in y is explained by x).\n",
    "- **coef (Coefficients):** The estimated values for β₀ (const) and β₁ (x1). The model estimates `y = 1.25 + 1.96x`.\n",
    "- **P>|t| (p-value):** The p-value for the hypothesis test that the coefficient is zero. A small p-value (< 0.05) indicates the coefficient is statistically significant."
   ]
  },
  {
   "cell_type": "markdown",
   "metadata": {},
   "source": [
    "### Residual Analysis\n",
    "**Residuals** are the differences between the observed values and the values predicted by the model. Analyzing them is crucial for checking the model's assumptions."
   ]
  },
  {
   "cell_type": "code",
   "execution_count": 7,
   "metadata": {},
   "outputs": [
    {
     "data": {
      "image/png": "[encoded data removed]",
      "text/plain": [
       "<Figure size 800x500 with 1 Axes>"
      ]
     },
     "metadata": {},
     "output_type": "display_data"
    }
   ],
   "source": [
    "predictions = results.predict(X)\n",
    "residuals = y_linear - predictions\n",
    "\n",
    "plt.figure(figsize=(8, 5))\n",
    "sns.scatterplot(x=predictions, y=residuals)\n",
    "plt.axhline(0, color='red', linestyle='--')\n",
    "plt.title('Residual Plot')\n",
    "plt.xlabel('Predicted Values')\n",
    "plt.ylabel('Residuals')\n",
    "plt.show()\n",
    "\n",
    "# A good residual plot shows no clear pattern, with points randomly scattered around y=0."
   ]
  },
  {
   "cell_type": "markdown",
   "metadata": {},
   "source": [
    "### Assumptions of Linear Regression\n",
    "1.  **Linearity:** The relationship between X and y is linear.\n",
    "2.  **Independence:** Observations are independent of each other.\n",
    "3.  **Homoscedasticity:** The variance of the residuals is constant for all values of X.\n",
    "4.  **Normality:** The residuals are normally distributed."
   ]
  }
 ],
 "metadata": {
  "kernelspec": {
   "display_name": ".venv",
   "language": "python",
   "name": "python3"
  },
  "language_info": {
   "codemirror_mode": {
    "name": "ipython",
    "version": 3
   },
   "file_extension": ".py",
   "mimetype": "text/x-python",
   "name": "python",
   "nbconvert_exporter": "python",
   "pygments_lexer": "ipython3",
   "version": "3.10.11"
  }
 },
 "nbformat": 4,
 "nbformat_minor": 4
}
