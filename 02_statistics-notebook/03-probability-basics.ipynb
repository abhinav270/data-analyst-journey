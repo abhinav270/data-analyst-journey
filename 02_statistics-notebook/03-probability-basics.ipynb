{
 "cells": [
  {
   "cell_type": "markdown",
   "metadata": {},
   "source": [
    "# 3. Probability Basics"
   ]
  },
  {
   "cell_type": "markdown",
   "metadata": {},
   "source": [
    "**Probability** is the branch of mathematics concerning numerical descriptions of how likely an event is to occur. It is the foundation of inferential statistics. This notebook covers the fundamental concepts of probability theory and the counting principles used to calculate outcomes."
   ]
  },
  {
   "cell_type": "code",
   "execution_count": 1,
   "metadata": {},
   "outputs": [],
   "source": [
    "import numpy as np\n",
    "import math"
   ]
  },
  {
   "cell_type": "markdown",
   "metadata": {},
   "source": [
    "## 3.1 Fundamentals"
   ]
  },
  {
   "cell_type": "markdown",
   "metadata": {},
   "source": [
    "### Probability Concepts\n",
    "- **Experiment:** A procedure that can be infinitely repeated and has a well-defined set of possible outcomes.\n",
    "- **Sample Space (S):** The set of all possible outcomes of an experiment.\n",
    "- **Event (E):** A specific subset of the sample space.\n",
    "\n",
    "The probability of an event E, denoted P(E), is a number between 0 and 1.\n",
    "$$ P(E) = \\frac{\\text{Number of favorable outcomes}}{\\text{Total number of outcomes}} $$"
   ]
  },
  {
   "cell_type": "markdown",
   "metadata": {},
   "source": [
    "### Complementary, Independent, and Mutually Exclusive Events\n",
    "- **Complementary Event (E'):** The event that E does not occur. `P(E') = 1 - P(E)`.\n",
    "- **Independent Events:** Two events are independent if the occurrence of one does not affect the probability of the other. `P(A and B) = P(A) * P(B)`.\n",
    "- **Mutually Exclusive Events:** Two events are mutually exclusive if they cannot occur at the same time. `P(A and B) = 0`."
   ]
  },
  {
   "cell_type": "markdown",
   "metadata": {},
   "source": [
    "### Conditional Probability\n",
    "The probability of an event A occurring, given that event B has already occurred. It is written as `P(A|B)`.\n",
    "$$ P(A|B) = \\frac{P(A \\cap B)}{P(B)} $$"
   ]
  },
  {
   "cell_type": "markdown",
   "metadata": {},
   "source": [
    "**Example:** A standard deck of 52 cards. What is the probability of drawing a King, given that the card is a Face card (King, Queen, Jack)?\n",
    "- P(King and Face) = 4/52 (there are 4 Kings, all are Face cards)\n",
    "- P(Face) = 12/52 (there are 12 Face cards)\n",
    "- P(King | Face) = (4/52) / (12/52) = 4/12 = 1/3"
   ]
  },
  {
   "cell_type": "markdown",
   "metadata": {},
   "source": [
    "### Bayes' Theorem\n",
    "Bayes' Theorem describes the probability of an event based on prior knowledge of conditions that might be related to the event. It is a cornerstone of Bayesian statistics.\n",
    "$$ P(A|B) = \\frac{P(B|A) \\times P(A)}{P(B)} $$"
   ]
  },
  {
   "cell_type": "markdown",
   "metadata": {},
   "source": [
    "**Example:** A medical test is 99% accurate for a disease (P(Test+|Disease+) = 0.99). The disease occurs in 1% of the population (P(Disease+) = 0.01). The test has a 5% false positive rate (P(Test+|Disease-) = 0.05). If a person tests positive, what is the probability they actually have the disease?\n",
    "\n",
    "We want to find `P(Disease+|Test+)`.\n",
    "- P(Test+|Disease+) = 0.99\n",
    "- P(Disease+) = 0.01\n",
    "- P(Test+) = P(Test+|Disease+) * P(Disease+) + P(Test+|Disease-) * P(Disease-) = (0.99 * 0.01) + (0.05 * 0.99) = 0.0594\n",
    "\n",
    "$$ P(Disease+|Test+) = \\frac{0.99 \\times 0.01}{0.0594} \\approx 0.166 $$\n",
    "Even with a positive test, there's only a 16.6% chance they have the disease!"
   ]
  },
  {
   "cell_type": "code",
   "execution_count": 2,
   "metadata": {},
   "outputs": [
    {
     "name": "stdout",
     "output_type": "stream",
     "text": [
      "Probability of having the disease given a positive test: 0.167\n"
     ]
    }
   ],
   "source": [
    "p_test_pos_given_disease_pos = 0.99\n",
    "p_disease_pos = 0.01\n",
    "p_test_pos_given_disease_neg = 0.05\n",
    "p_disease_neg = 1 - p_disease_pos\n",
    "\n",
    "# Calculate P(Test+)\n",
    "p_test_pos = (p_test_pos_given_disease_pos * p_disease_pos) + (p_test_pos_given_disease_neg * p_disease_neg)\n",
    "\n",
    "# Apply Bayes' Theorem\n",
    "p_disease_pos_given_test_pos = (p_test_pos_given_disease_pos * p_disease_pos) / p_test_pos\n",
    "\n",
    "print(f\"Probability of having the disease given a positive test: {p_disease_pos_given_test_pos:.3f}\")"
   ]
  },
  {
   "cell_type": "markdown",
   "metadata": {},
   "source": [
    "## 3.2 Counting Principles"
   ]
  },
  {
   "cell_type": "markdown",
   "metadata": {},
   "source": [
    "### Permutations\n",
    "The number of ways to arrange `k` items from a set of `n` items, where **order matters**."
   ]
  },
  {
   "cell_type": "code",
   "execution_count": 3,
   "metadata": {},
   "outputs": [
    {
     "name": "stdout",
     "output_type": "stream",
     "text": [
      "Number of permutations: 720\n"
     ]
    }
   ],
   "source": [
    "# How many ways can you arrange 3 horses in the top 3 spots in a 10-horse race?\n",
    "n = 10\n",
    "k = 3\n",
    "permutations = math.perm(n, k)\n",
    "print(f\"Number of permutations: {permutations}\")"
   ]
  },
  {
   "cell_type": "markdown",
   "metadata": {},
   "source": [
    "### Combinations\n",
    "The number of ways to choose `k` items from a set of `n` items, where **order does not matter**."
   ]
  },
  {
   "cell_type": "code",
   "execution_count": 4,
   "metadata": {},
   "outputs": [
    {
     "name": "stdout",
     "output_type": "stream",
     "text": [
      "Number of combinations: 120\n"
     ]
    }
   ],
   "source": [
    "# How many ways can you choose a committee of 3 people from a group of 10?\n",
    "n = 10\n",
    "k = 3\n",
    "combinations = math.comb(n, k)\n",
    "print(f\"Number of combinations: {combinations}\")"
   ]
  },
  {
   "cell_type": "markdown",
   "metadata": {},
   "source": [
    "### Application in Probability\n",
    "What is the probability of winning the lottery (choosing 6 numbers correctly from 49)?"
   ]
  },
  {
   "cell_type": "code",
   "execution_count": 5,
   "metadata": {},
   "outputs": [
    {
     "name": "stdout",
     "output_type": "stream",
     "text": [
      "Total combinations: 13,983,816\n",
      "Probability of winning: 0.0000000715\n"
     ]
    }
   ],
   "source": [
    "# Total number of possible combinations\n",
    "total_combinations = math.comb(49, 6)\n",
    "\n",
    "# There is only 1 winning combination\n",
    "probability = 1 / total_combinations\n",
    "\n",
    "print(f\"Total combinations: {total_combinations:,}\")\n",
    "print(f\"Probability of winning: {probability:.10f}\")"
   ]
  }
 ],
 "metadata": {
  "kernelspec": {
   "display_name": ".venv",
   "language": "python",
   "name": "python3"
  },
  "language_info": {
   "codemirror_mode": {
    "name": "ipython",
    "version": 3
   },
   "file_extension": ".py",
   "mimetype": "text/x-python",
   "name": "python",
   "nbconvert_exporter": "python",
   "pygments_lexer": "ipython3",
   "version": "3.10.11"
  }
 },
 "nbformat": 4,
 "nbformat_minor": 4
}
