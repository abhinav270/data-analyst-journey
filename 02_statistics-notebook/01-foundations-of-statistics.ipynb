{
 "cells": [
  {
   "cell_type": "markdown",
   "metadata": {},
   "source": [
    "# 1. Foundations of Statistics"
   ]
  },
  {
   "cell_type": "markdown",
   "metadata": {},
   "source": [
    "Welcome to the statistics series! This first notebook lays the groundwork, defining what statistics is, the different types of data we work with, and a quick refresher on some basic mathematical concepts that will be used throughout the series."
   ]
  },
  {
   "cell_type": "markdown",
   "metadata": {},
   "source": [
    "## 1.1 Introduction"
   ]
  },
  {
   "cell_type": "markdown",
   "metadata": {},
   "source": [
    "### What is statistics?\n",
    "**Statistics** is the science of collecting, organizing, analyzing, interpreting, and presenting data."
   ]
  },
  {
   "cell_type": "markdown",
   "metadata": {},
   "source": [
    "#### Descriptive vs. Inferential Statistics\n",
    "- **Descriptive Statistics:** This involves summarizing and organizing data so it can be easily understood. We use measures like mean, median, and standard deviation, and visualizations like histograms and bar charts. (e.g., \"The average height of students in this class is 175cm.\")\n",
    "- **Inferential Statistics:** This involves using data from a sample to make inferences or predictions about a larger population. It's about drawing conclusions beyond the immediate data. (e.g., \"Based on our sample, we estimate that the average height of all students in the university is between 172cm and 178cm.\")"
   ]
  },
  {
   "cell_type": "markdown",
   "metadata": {},
   "source": [
    "#### Populations and Samples\n",
    "- **Population:** The entire group that you want to draw conclusions about. (e.g., All students at a university).\n",
    "- **Sample:** A specific, smaller group that you will collect data from. The sample should be representative of the population.\n",
    "\n",
    "#### Parameters vs. Statistics\n",
    "- **Parameter:** A measure that describes the whole population (e.g., the true average height of *all* students).\n",
    "- **Statistic:** A measure that describes the sample (e.g., the average height of the students you *measured*)."
   ]
  },
  {
   "cell_type": "markdown",
   "metadata": {},
   "source": [
    "### Types of Data"
   ]
  },
  {
   "cell_type": "markdown",
   "metadata": {},
   "source": [
    "#### Qualitative vs. Quantitative\n",
    "- **Qualitative (Categorical):** Describes qualities or characteristics. It can't be measured with numbers. (e.g., Eye color, country of birth, yes/no answers).\n",
    "- **Quantitative (Numerical):** Represents quantities. It can be measured. (e.g., Height, temperature, number of items)."
   ]
  },
  {
   "cell_type": "markdown",
   "metadata": {},
   "source": [
    "#### Discrete vs. Continuous (for Quantitative Data)\n",
    "- **Discrete:** Data that can only take on certain, specific values (often integers). You can count it. (e.g., The number of students in a class, the result of a dice roll).\n",
    "- **Continuous:** Data that can take any value within a given range. You measure it. (e.g., A person's height, the temperature of a room)."
   ]
  },
  {
   "cell_type": "markdown",
   "metadata": {},
   "source": [
    "#### Scales of Measurement\n",
    "1.  **Nominal:** Categorical data that cannot be ordered. (e.g., `['Red', 'Blue', 'Green']`).\n",
    "2.  **Ordinal:** Categorical data that can be logically ordered or ranked, but the distance between values is not meaningful. (e.g., `['Small', 'Medium', 'Large']`, `['Disagree', 'Neutral', 'Agree']`).\n",
    "3.  **Interval:** Numerical data where the order and the exact differences between values are known. There is no true zero. (e.g., Temperature in Celsius or Fahrenheit. 0°C doesn't mean 'no temperature').\n",
    "4.  **Ratio:** Numerical data that has all the properties of interval data, but with a true, meaningful zero. (e.g., Height, weight, age. 0kg means 'no weight')."
   ]
  },
  {
   "cell_type": "markdown",
   "metadata": {},
   "source": [
    "## 1.2 Basic Math Refresher"
   ]
  },
  {
   "cell_type": "markdown",
   "metadata": {},
   "source": [
    "### Summation (Σ notation)\n",
    "The symbol Σ (sigma) means 'sum up'. For a set of values `x = {x₁, x₂, ..., xₙ}`:\n",
    "$$ \\sum_{i=1}^{n} x_i = x_1 + x_2 + ... + x_n $$"
   ]
  },
  {
   "cell_type": "code",
   "execution_count": 1,
   "metadata": {},
   "outputs": [
    {
     "name": "stdout",
     "output_type": "stream",
     "text": [
      "The sum of [ 2  4  6  8 10] is 30\n"
     ]
    }
   ],
   "source": [
    "import numpy as np\n",
    "\n",
    "data = np.array([2, 4, 6, 8, 10])\n",
    "\n",
    "# Using Python's built-in sum()\n",
    "sum_py = sum(data)\n",
    "\n",
    "# Using NumPy's np.sum()\n",
    "sum_np = np.sum(data)\n",
    "\n",
    "print(f\"The sum of {data} is {sum_np}\")"
   ]
  },
  {
   "cell_type": "markdown",
   "metadata": {},
   "source": [
    "### Factorials\n",
    "The factorial of a non-negative integer `n`, denoted by `n!`, is the product of all positive integers up to `n`. `0! = 1`.\n",
    "$$ n! = n \\times (n-1) \\times (n-2) \\times ... \\times 1 $$"
   ]
  },
  {
   "cell_type": "code",
   "execution_count": 2,
   "metadata": {},
   "outputs": [
    {
     "name": "stdout",
     "output_type": "stream",
     "text": [
      "5! = 120\n"
     ]
    }
   ],
   "source": [
    "import math\n",
    "\n",
    "n = 5\n",
    "print(f\"{n}! = {math.factorial(n)}\")"
   ]
  },
  {
   "cell_type": "markdown",
   "metadata": {},
   "source": [
    "### Combinations and Permutations\n",
    "- **Permutation:** The number of ways to arrange `k` items from a set of `n` items, where **order matters**. Formula: `n! / (n-k)!`\n",
    "- **Combination:** The number of ways to choose `k` items from a set of `n` items, where **order does not matter**. Formula: `n! / (k! * (n-k)!)`"
   ]
  },
  {
   "cell_type": "code",
   "execution_count": 3,
   "metadata": {},
   "outputs": [
    {
     "name": "stdout",
     "output_type": "stream",
     "text": [
      "Permutations of choosing 2 from 3: 6\n",
      "Combinations of choosing 2 from 3: 3\n"
     ]
    }
   ],
   "source": [
    "# Example: How many ways can you choose 2 letters from {A, B, C}?\n",
    "n = 3\n",
    "k = 2\n",
    "\n",
    "# Permutations (AB, BA, AC, CA, BC, CB)\n",
    "perms = math.perm(n, k)\n",
    "print(f\"Permutations of choosing {k} from {n}: {perms}\")\n",
    "\n",
    "# Combinations (AB, AC, BC)\n",
    "combs = math.comb(n, k)\n",
    "print(f\"Combinations of choosing {k} from {n}: {combs}\")"
   ]
  }
 ],
 "metadata": {
  "kernelspec": {
   "display_name": ".venv",
   "language": "python",
   "name": "python3"
  },
  "language_info": {
   "codemirror_mode": {
    "name": "ipython",
    "version": 3
   },
   "file_extension": ".py",
   "mimetype": "text/x-python",
   "name": "python",
   "nbconvert_exporter": "python",
   "pygments_lexer": "ipython3",
   "version": "3.10.11"
  }
 },
 "nbformat": 4,
 "nbformat_minor": 4
}
