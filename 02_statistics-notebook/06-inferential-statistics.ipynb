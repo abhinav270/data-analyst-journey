{
 "cells": [
  {
   "cell_type": "markdown",
   "metadata": {},
   "source": [
    "# 6. Inferential Statistics"
   ]
  },
  {
   "cell_type": "markdown",
   "metadata": {},
   "source": [
    "**Inferential statistics** allows us to use sample data to make generalizations (inferences) about a larger population. This notebook covers the two main branches of inference: **estimation** (estimating a population parameter) and **hypothesis testing** (testing a claim about a population)."
   ]
  },
  {
   "cell_type": "code",
   "execution_count": 1,
   "metadata": {},
   "outputs": [],
   "source": [
    "import numpy as np\n",
    "from scipy import stats"
   ]
  },
  {
   "cell_type": "markdown",
   "metadata": {},
   "source": [
    "## 6.1 Estimation"
   ]
  },
  {
   "cell_type": "markdown",
   "metadata": {},
   "source": [
    "### Point Estimates\n",
    "A **point estimate** is a single value used to estimate a population parameter. For example, the sample mean (`x̄`) is a point estimate of the population mean (`μ`)."
   ]
  },
  {
   "cell_type": "code",
   "execution_count": 2,
   "metadata": {},
   "outputs": [
    {
     "name": "stdout",
     "output_type": "stream",
     "text": [
      "Point estimate of the population mean: 31.40\n"
     ]
    }
   ],
   "source": [
    "# Imagine this is our sample data\n",
    "sample_data = np.array([22, 25, 28, 30, 31, 32, 33, 35, 38, 40])\n",
    "\n",
    "# The sample mean is our point estimate for the population mean\n",
    "point_estimate_mean = np.mean(sample_data)\n",
    "print(f\"Point estimate of the population mean: {point_estimate_mean:.2f}\")"
   ]
  },
  {
   "cell_type": "markdown",
   "metadata": {},
   "source": [
    "### Confidence Intervals\n",
    "A point estimate is unlikely to be exactly correct. A **confidence interval (CI)** provides a range of values within which we believe the true population parameter lies, with a certain level of confidence.\n",
    "\n",
    "A 95% confidence interval means that if we were to take many samples and construct a CI for each, 95% of those intervals would contain the true population parameter."
   ]
  },
  {
   "cell_type": "code",
   "execution_count": 3,
   "metadata": {},
   "outputs": [
    {
     "name": "stdout",
     "output_type": "stream",
     "text": [
      "95% Confidence Interval for the mean: (27.44, 35.36)\n"
     ]
    }
   ],
   "source": [
    "confidence_level = 0.95\n",
    "degrees_freedom = len(sample_data) - 1\n",
    "sample_mean = np.mean(sample_data)\n",
    "sample_sem = stats.sem(sample_data) # Standard Error of the Mean\n",
    "\n",
    "# Calculate the confidence interval\n",
    "confidence_interval = stats.t.interval(confidence_level, degrees_freedom, loc=sample_mean, scale=sample_sem)\n",
    "\n",
    "print(f\"95% Confidence Interval for the mean: ({confidence_interval[0]:.2f}, {confidence_interval[1]:.2f})\")"
   ]
  },
  {
   "cell_type": "markdown",
   "metadata": {},
   "source": [
    "## 6.2 Hypothesis Testing"
   ]
  },
  {
   "cell_type": "markdown",
   "metadata": {},
   "source": [
    "Hypothesis testing is a formal procedure for investigating our ideas about the world using statistics. It's a way to test a claim or hypothesis about a population parameter.\n",
    "\n",
    "### Null vs. Alternative Hypothesis\n",
    "- **Null Hypothesis (H₀):** The hypothesis that there is no significant effect or relationship. It's the default assumption (e.g., the mean of group A is equal to the mean of group B).\n",
    "- **Alternative Hypothesis (H₁ or Hₐ):** The hypothesis that you want to prove (e.g., the mean of group A is *not* equal to the mean of group B).\n",
    "\n",
    "The goal of a hypothesis test is to determine if there is enough evidence in a sample of data to reject the null hypothesis in favor of the alternative hypothesis."
   ]
  },
  {
   "cell_type": "markdown",
   "metadata": {},
   "source": [
    "### Type I and Type II Errors\n",
    "- **Type I Error (False Positive):** Rejecting the null hypothesis when it is actually true.\n",
    "- **Type II Error (False Negative):** Failing to reject the null hypothesis when it is actually false."
   ]
  },
  {
   "cell_type": "markdown",
   "metadata": {},
   "source": [
    "### p-values and Significance Levels\n",
    "- **Significance Level (α):** The probability of making a Type I error. It's a threshold we set before the test (commonly α = 0.05).\n",
    "- **p-value:** The probability of observing data as extreme as, or more extreme than, what was actually observed, assuming the null hypothesis is true.\n",
    "\n",
    "**Decision Rule:** If `p-value <= α`, we **reject the null hypothesis**. This means our result is statistically significant."
   ]
  },
  {
   "cell_type": "markdown",
   "metadata": {},
   "source": [
    "## 6.3 Common Statistical Tests"
   ]
  },
  {
   "cell_type": "markdown",
   "metadata": {},
   "source": [
    "### t-test\n",
    "Used to compare the means of one or two groups."
   ]
  },
  {
   "cell_type": "markdown",
   "metadata": {},
   "source": [
    "#### One-Sample t-test\n",
    "Tests if the mean of a single group is equal to a known value."
   ]
  },
  {
   "cell_type": "code",
   "execution_count": 4,
   "metadata": {},
   "outputs": [
    {
     "name": "stdout",
     "output_type": "stream",
     "text": [
      "One-Sample t-test: t-statistic=0.80, p-value=0.445\n",
      "Fail to reject H₀.\n"
     ]
    }
   ],
   "source": [
    "# H₀: The mean of our sample data is 30.\n",
    "# H₁: The mean of our sample data is not 30.\n",
    "known_mean = 30\n",
    "\n",
    "t_statistic, p_value = stats.ttest_1samp(sample_data, known_mean)\n",
    "print(f\"One-Sample t-test: t-statistic={t_statistic:.2f}, p-value={p_value:.3f}\")\n",
    "\n",
    "if p_value <= 0.05:\n",
    "    print(\"Reject H₀: The sample mean is significantly different from 30.\")\n",
    "else:\n",
    "    print(\"Fail to reject H₀.\")"
   ]
  },
  {
   "cell_type": "markdown",
   "metadata": {},
   "source": [
    "#### Two-Sample (Independent) t-test\n",
    "Tests if the means of two independent groups are equal."
   ]
  },
  {
   "cell_type": "code",
   "execution_count": 5,
   "metadata": {},
   "outputs": [
    {
     "name": "stdout",
     "output_type": "stream",
     "text": [
      "Two-Sample t-test: t-statistic=-1.69, p-value=0.096\n"
     ]
    }
   ],
   "source": [
    "group_a = np.random.normal(loc=10, scale=2, size=30)\n",
    "group_b = np.random.normal(loc=11, scale=2, size=30)\n",
    "\n",
    "t_statistic, p_value = stats.ttest_ind(group_a, group_b)\n",
    "print(f\"Two-Sample t-test: t-statistic={t_statistic:.2f}, p-value={p_value:.3f}\")"
   ]
  },
  {
   "cell_type": "markdown",
   "metadata": {},
   "source": [
    "### ANOVA (Analysis of Variance)\n",
    "Used to compare the means of **three or more** groups."
   ]
  },
  {
   "cell_type": "code",
   "execution_count": 6,
   "metadata": {},
   "outputs": [
    {
     "name": "stdout",
     "output_type": "stream",
     "text": [
      "ANOVA: F-statistic=2.10, p-value=0.129\n"
     ]
    }
   ],
   "source": [
    "# H₀: The means of all groups are equal.\n",
    "group_c = np.random.normal(loc=10.5, scale=2, size=30)\n",
    "\n",
    "f_statistic, p_value = stats.f_oneway(group_a, group_b, group_c)\n",
    "print(f\"ANOVA: F-statistic={f_statistic:.2f}, p-value={p_value:.3f}\")"
   ]
  },
  {
   "cell_type": "markdown",
   "metadata": {},
   "source": [
    "### Chi-Square Test\n",
    "Used to test for a relationship between two **categorical** variables. It compares the observed frequencies in a contingency table to the expected frequencies if there were no relationship."
   ]
  },
  {
   "cell_type": "code",
   "execution_count": 7,
   "metadata": {},
   "outputs": [
    {
     "name": "stdout",
     "output_type": "stream",
     "text": [
      "Chi-Square Test: chi2-statistic=4.73, p-value=0.030\n"
     ]
    }
   ],
   "source": [
    "# H₀: There is no association between 'Category' and 'Group'.\n",
    "# Contingency table: [ [Group A, Cat 1], [Group A, Cat 2] ]\n",
    "#                  [ [Group B, Cat 1], [Group B, Cat 2] ]\n",
    "observed_table = np.array([[20, 10], [15, 25]])\n",
    "\n",
    "chi2, p_value, _, _ = stats.chi2_contingency(observed_table)\n",
    "print(f\"Chi-Square Test: chi2-statistic={chi2:.2f}, p-value={p_value:.3f}\")"
   ]
  }
 ],
 "metadata": {
  "kernelspec": {
   "display_name": ".venv",
   "language": "python",
   "name": "python3"
  },
  "language_info": {
   "codemirror_mode": {
    "name": "ipython",
    "version": 3
   },
   "file_extension": ".py",
   "mimetype": "text/x-python",
   "name": "python",
   "nbconvert_exporter": "python",
   "pygments_lexer": "ipython3",
   "version": "3.10.11"
  }
 },
 "nbformat": 4,
 "nbformat_minor": 4
}
