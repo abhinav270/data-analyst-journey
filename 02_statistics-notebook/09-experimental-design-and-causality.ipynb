{
 "cells": [
  {
   "cell_type": "markdown",
   "metadata": {},
   "source": [
    "# 9. Experimental Design & Causality"
   ]
  },
  {
   "cell_type": "markdown",
   "metadata": {},
   "source": [
    "While the previous notebooks focused on analyzing existing data, this one covers the principles of **designing experiments** to collect new data. Good experimental design is the foundation for making strong causal claims, moving beyond 'correlation does not imply causation' to understanding what *causes* an effect."
   ]
  },
  {
   "cell_type": "markdown",
   "metadata": {},
   "source": [
    "## 9.1 Randomized Controlled Trials (RCTs)"
   ]
  },
  {
   "cell_type": "markdown",
   "metadata": {},
   "source": [
    "The **Randomized Controlled Trial (RCT)** is the gold standard for establishing causality.\n",
    "\n",
    "**Key Components:**\n",
    "- **Control Group:** A group that does not receive the treatment or intervention. They provide a baseline to compare against.\n",
    "- **Treatment Group:** The group that receives the treatment.\n",
    "- **Random Assignment:** Subjects are randomly assigned to either the control or treatment group. This is the most critical step. Randomization helps ensure that, on average, the two groups are identical in every way *except* for the treatment. This minimizes the effect of confounding variables.\n",
    "\n",
    "**Example:** To test a new drug, you would randomly assign participants to receive either the new drug (treatment) or a placebo (control). By comparing the outcomes, you can isolate the effect of the drug itself."
   ]
  },
  {
   "cell_type": "markdown",
   "metadata": {},
   "source": [
    "## 9.2 Blocking and Stratification"
   ]
  },
  {
   "cell_type": "markdown",
   "metadata": {},
   "source": [
    "Sometimes, you know that a certain characteristic will have a large effect on the outcome. To control for this, you can use blocking or stratification.\n",
    "\n",
    "- **Blocking:** Group subjects into blocks based on a known confounding variable (e.g., age, gender). Then, randomize the treatment *within each block*. This ensures that the treatment and control groups are balanced with respect to that variable.\n",
    "\n",
    "- **Stratification:** Similar to blocking, but used in the sampling phase. You divide the population into strata and sample from each to ensure representation."
   ]
  },
  {
   "cell_type": "markdown",
   "metadata": {},
   "source": [
    "## 9.3 Factorial Designs"
   ]
  },
  {
   "cell_type": "markdown",
   "metadata": {},
   "source": [
    "A factorial design allows you to test the effect of **two or more** independent variables (factors) at the same time. It also allows you to test for **interaction effects**—where the effect of one factor depends on the level of another factor.\n",
    "\n",
    "**Example:** To test a new fertilizer (`Factor A`: new vs. old) and a new watering schedule (`Factor B`: daily vs. weekly), you would have four groups:\n",
    "1. Old Fertilizer, Daily Water\n",
    "2. New Fertilizer, Daily Water\n",
    "3. Old Fertilizer, Weekly Water\n",
    "4. New Fertilizer, Weekly Water\n",
    "\n",
    "This design lets you see the main effect of the fertilizer, the main effect of the watering schedule, and whether they have a combined, interactive effect."
   ]
  },
  {
   "cell_type": "markdown",
   "metadata": {},
   "source": [
    "## 9.4 Quasi-Experimental Design"
   ]
  },
  {
   "cell_type": "markdown",
   "metadata": {},
   "source": [
    "In many real-world situations, a true RCT is not possible due to ethical or practical constraints (e.g., you can't randomly assign people to smoke). A **quasi-experiment** is similar to an RCT but lacks random assignment.\n",
    "\n",
    "**Common Methods:**\n",
    "- **Difference-in-Differences:** Compares the change in outcomes over time between a treatment group and a control group.\n",
    "- **Regression Discontinuity:** Studies the effect of an intervention by looking at subjects just above and below a cutoff point.\n",
    "\n",
    "These methods are more complex and require careful consideration of potential biases, but they are powerful tools when RCTs are not feasible."
   ]
  },
  {
   "cell_type": "markdown",
   "metadata": {},
   "source": [
    "## 9.5 Confounding and Bias"
   ]
  },
  {
   "cell_type": "markdown",
   "metadata": {},
   "source": [
    "A **confounding variable** is a third variable that is related to both the treatment and the outcome, leading to a spurious association. Randomization is the best tool to combat confounding.\n",
    "\n",
    "**Bias** is a systematic error that can creep into a study:\n",
    "- **Selection Bias:** When the groups being compared are not similar (e.g., the treatment group is younger than the control group).\n",
    "- **Observer Bias (or Experimenter Bias):** When the researcher's expectations influence the results (e.g., they treat one group differently). This can be mitigated by **blinding**, where the researcher doesn't know who is in which group.\n",
    "- **Placebo Effect:** When subjects in the control group show improvement simply because they believe they are receiving a treatment. This is mitigated by using a **placebo** and **double-blinding**, where neither the subjects nor the researchers know who is receiving the real treatment."
   ]
  },
  {
   "cell_type": "markdown",
   "metadata": {},
   "source": [
    "## 9.6 Causal Inference Basics"
   ]
  },
  {
   "cell_type": "markdown",
   "metadata": {},
   "source": [
    "**Causal inference** is the process of drawing a conclusion about a causal connection based on the conditions of the occurrence of an effect. The goal is to answer \"what if\" questions.\n",
    "\n",
    "The key idea is to estimate the **counterfactual**: what would have happened to the treatment group if they had *not* received the treatment?\n",
    "\n",
    "Since we can never observe the counterfactual directly, the goal of good experimental design (like RCTs) is to create a control group that is as close to a perfect counterfactual as possible."
   ]
  }
 ],
 "metadata": {
  "kernelspec": {
   "display_name": "Python 3",
   "language": "python",
   "name": "python3"
  },
  "language_info": {
   "codemirror_mode": {
    "name": "ipython",
    "version": 3
   },
   "file_extension": ".py",
   "mimetype": "text/x-python",
   "name": "python",
   "nbconvert_exporter": "python",
   "pygments_lexer": "ipython3",
   "version": "3.10.0"
  }
 },
 "nbformat": 4,
 "nbformat_minor": 4
}
