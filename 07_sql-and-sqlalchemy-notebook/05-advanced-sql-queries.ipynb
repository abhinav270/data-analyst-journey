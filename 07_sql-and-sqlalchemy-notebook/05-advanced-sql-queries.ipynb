{
 "cells": [
  {
   "cell_type": "markdown",
   "metadata": {},
   "source": [
    "# Level 5: Advanced SQL Queries"
   ]
  },
  {
   "cell_type": "markdown",
   "metadata": {},
   "source": [
    "This notebook moves beyond simple data retrieval to cover more advanced querying techniques. We'll explore how to aggregate data, group it, combine data from multiple tables using joins, and use subqueries and views to structure complex logic."
   ]
  },
  {
   "cell_type": "markdown",
   "metadata": {},
   "source": [
    "### Setup\n",
    "For this notebook, we need a more complex schema with multiple related tables. We'll create an `authors` table and a `books` table with a foreign key relationship."
   ]
  },
  {
   "cell_type": "code",
   "execution_count": 1,
   "metadata": {},
   "outputs": [],
   "source": [
    "import sqlite3\n",
    "import os\n",
    "\n",
    "db_file = 'advanced_queries.db'\n",
    "if os.path.exists(db_file):\n",
    "    os.remove(db_file)\n",
    "\n",
    "conn = sqlite3.connect(db_file)\n",
    "cursor = conn.cursor()\n",
    "\n",
    "# Create authors table\n",
    "cursor.execute(\"\"\"\n",
    "CREATE TABLE authors (\n",
    "    author_id INTEGER PRIMARY KEY,\n",
    "    author_name TEXT NOT NULL\n",
    ");\n",
    "\"\"\")\n",
    "\n",
    "# Create books table with a foreign key to authors\n",
    "cursor.execute(\"\"\"\n",
    "CREATE TABLE books (\n",
    "    book_id INTEGER PRIMARY KEY,\n",
    "    title TEXT NOT NULL,\n",
    "    publish_year INTEGER,\n",
    "    author_id INTEGER,\n",
    "    FOREIGN KEY (author_id) REFERENCES authors (author_id)\n",
    ");\n",
    "\"\"\")\n",
    "\n",
    "# Populate tables\n",
    "authors_data = [(1, 'J.R.R. Tolkien'), (2, 'Frank Herbert'), (3, 'George Orwell')]\n",
    "books_data = [\n",
    "    ('The Hobbit', 1937, 1),\n",
    "    ('The Lord of the Rings', 1954, 1),\n",
    "    ('Dune', 1965, 2),\n",
    "    ('1984', 1949, 3),\n",
    "    ('Animal Farm', 1945, 3)\n",
    "]\n",
    "\n",
    "cursor.executemany(\"INSERT INTO authors VALUES (?, ?)\", authors_data)\n",
    "cursor.executemany(\"INSERT INTO books (title, publish_year, author_id) VALUES (?, ?, ?)\", books_data)\n",
    "conn.commit()"
   ]
  },
  {
   "cell_type": "markdown",
   "metadata": {},
   "source": [
    "## 5.1 Aggregation Functions"
   ]
  },
  {
   "cell_type": "markdown",
   "metadata": {},
   "source": [
    "Aggregation functions perform a calculation on a set of values and return a single value."
   ]
  },
  {
   "cell_type": "code",
   "execution_count": 2,
   "metadata": {},
   "outputs": [
    {
     "name": "stdout",
     "output_type": "stream",
     "text": [
      "Total number of books: 5\n",
      "Average publish year: 1950\n",
      "Earliest publish year: 1937\n"
     ]
    }
   ],
   "source": [
    "cursor.execute(\"SELECT COUNT(*) FROM books;\")\n",
    "print(f\"Total number of books: {cursor.fetchone()[0]}\")\n",
    "\n",
    "cursor.execute(\"SELECT AVG(publish_year) FROM books;\")\n",
    "print(f\"Average publish year: {cursor.fetchone()[0]:.0f}\")\n",
    "\n",
    "cursor.execute(\"SELECT MIN(publish_year) FROM books;\")\n",
    "print(f\"Earliest publish year: {cursor.fetchone()[0]}\")"
   ]
  },
  {
   "cell_type": "markdown",
   "metadata": {},
   "source": [
    "## 5.2 Grouping Data (`GROUP BY` and `HAVING`)"
   ]
  },
  {
   "cell_type": "markdown",
   "metadata": {},
   "source": [
    "The `GROUP BY` statement groups rows that have the same values in specified columns into summary rows. It's often used with aggregate functions.\n",
    "\n",
    "The `HAVING` clause is used to filter these groups, whereas `WHERE` filters individual rows *before* grouping."
   ]
  },
  {
   "cell_type": "code",
   "execution_count": 3,
   "metadata": {},
   "outputs": [
    {
     "name": "stdout",
     "output_type": "stream",
     "text": [
      "Number of books per author: [(1, 2), (2, 1), (3, 2)]\n"
     ]
    }
   ],
   "source": [
    "# Count the number of books per author\n",
    "query = \"\"\"\n",
    "SELECT author_id, COUNT(book_id) as num_books\n",
    "FROM books\n",
    "GROUP BY author_id;\n",
    "\"\"\"\n",
    "cursor.execute(query)\n",
    "print(\"Number of books per author:\", cursor.fetchall())"
   ]
  },
  {
   "cell_type": "code",
   "execution_count": 4,
   "metadata": {},
   "outputs": [
    {
     "name": "stdout",
     "output_type": "stream",
     "text": [
      "\n",
      "Authors with more than one book: [(1, 2), (3, 2)]\n"
     ]
    }
   ],
   "source": [
    "# Find authors who have written more than one book\n",
    "query = \"\"\"\n",
    "SELECT author_id, COUNT(book_id) as num_books\n",
    "FROM books\n",
    "GROUP BY author_id\n",
    "HAVING COUNT(book_id) > 1;\n",
    "\"\"\"\n",
    "cursor.execute(query)\n",
    "print(\"\\nAuthors with more than one book:\", cursor.fetchall())"
   ]
  },
  {
   "cell_type": "markdown",
   "metadata": {},
   "source": [
    "## 5.3 Joins"
   ]
  },
  {
   "cell_type": "markdown",
   "metadata": {},
   "source": [
    "`JOIN` clauses are used to combine rows from two or more tables based on a related column between them."
   ]
  },
  {
   "cell_type": "markdown",
   "metadata": {},
   "source": [
    "### `INNER JOIN`\n",
    "Returns records that have matching values in both tables."
   ]
  },
  {
   "cell_type": "code",
   "execution_count": 5,
   "metadata": {},
   "outputs": [
    {
     "name": "stdout",
     "output_type": "stream",
     "text": [
      "Books with their authors: [('The Hobbit', 'J.R.R. Tolkien'), ('The Lord of the Rings', 'J.R.R. Tolkien'), ('Dune', 'Frank Herbert'), ('1984', 'George Orwell'), ('Animal Farm', 'George Orwell')]\n"
     ]
    }
   ],
   "source": [
    "query = \"\"\"\n",
    "SELECT books.title, authors.author_name\n",
    "FROM books\n",
    "INNER JOIN authors ON books.author_id = authors.author_id;\n",
    "\"\"\"\n",
    "cursor.execute(query)\n",
    "print(\"Books with their authors:\", cursor.fetchall())"
   ]
  },
  {
   "cell_type": "markdown",
   "metadata": {},
   "source": [
    "### `LEFT JOIN`\n",
    "Returns all records from the left table, and the matched records from the right table. The result is `NULL` from the right side if there is no match."
   ]
  },
  {
   "cell_type": "code",
   "execution_count": 6,
   "metadata": {},
   "outputs": [
    {
     "name": "stdout",
     "output_type": "stream",
     "text": [
      "All authors and their books (if any): [('J.R.R. Tolkien', 'The Hobbit'), ('J.R.R. Tolkien', 'The Lord of the Rings'), ('Frank Herbert', 'Dune'), ('George Orwell', '1984'), ('George Orwell', 'Animal Farm'), ('Jane Austen', None)]\n"
     ]
    }
   ],
   "source": [
    "# Let's add an author who has no books yet\n",
    "cursor.execute(\"INSERT INTO authors VALUES (?, ?)\", (4, 'Jane Austen'))\n",
    "conn.commit()\n",
    "\n",
    "query = \"\"\"\n",
    "SELECT authors.author_name, books.title\n",
    "FROM authors\n",
    "LEFT JOIN books ON authors.author_id = books.author_id;\n",
    "\"\"\"\n",
    "cursor.execute(query)\n",
    "print(\"All authors and their books (if any):\", cursor.fetchall())"
   ]
  },
  {
   "cell_type": "markdown",
   "metadata": {},
   "source": [
    "## 5.4 Subqueries"
   ]
  },
  {
   "cell_type": "markdown",
   "metadata": {},
   "source": [
    "A subquery is a query nested inside another query. It can be used in `WHERE`, `FROM`, or `SELECT` clauses."
   ]
  },
  {
   "cell_type": "code",
   "execution_count": 7,
   "metadata": {},
   "outputs": [
    {
     "name": "stdout",
     "output_type": "stream",
     "text": [
      "Books by George Orwell: [('1984',), ('Animal Farm',)]\n"
     ]
    }
   ],
   "source": [
    "# Find all books written by 'George Orwell'\n",
    "query = \"\"\"\n",
    "SELECT title FROM books\n",
    "WHERE author_id = (SELECT author_id FROM authors WHERE author_name = 'George Orwell');\n",
    "\"\"\"\n",
    "cursor.execute(query)\n",
    "print(\"Books by George Orwell:\", cursor.fetchall())"
   ]
  },
  {
   "cell_type": "markdown",
   "metadata": {},
   "source": [
    "## 5.5 Views"
   ]
  },
  {
   "cell_type": "markdown",
   "metadata": {},
   "source": [
    "A view is a virtual table based on the result-set of an SQL statement. It's a stored query that you can interact with as if it were a table. This is useful for simplifying complex queries."
   ]
  },
  {
   "cell_type": "code",
   "execution_count": 8,
   "metadata": {},
   "outputs": [
    {
     "name": "stdout",
     "output_type": "stream",
     "text": [
      "View 'book_details' created.\n"
     ]
    }
   ],
   "source": [
    "# Create a view that combines book and author information\n",
    "cursor.execute(\"\"\"\n",
    "CREATE VIEW book_details AS\n",
    "SELECT b.title, b.publish_year, a.author_name\n",
    "FROM books b\n",
    "JOIN authors a ON b.author_id = a.author_id;\n",
    "\"\"\")\n",
    "print(\"View 'book_details' created.\")"
   ]
  },
  {
   "cell_type": "code",
   "execution_count": 9,
   "metadata": {},
   "outputs": [
    {
     "name": "stdout",
     "output_type": "stream",
     "text": [
      "\n",
      "Querying the view: [('The Hobbit', 1937, 'J.R.R. Tolkien'), ('1984', 1949, 'George Orwell'), ('Animal Farm', 1945, 'George Orwell')]\n"
     ]
    }
   ],
   "source": [
    "# Now we can query the view like a regular table\n",
    "cursor.execute(\"SELECT * FROM book_details WHERE publish_year < 1950;\")\n",
    "print(\"\\nQuerying the view:\", cursor.fetchall())"
   ]
  },
  {
   "cell_type": "code",
   "execution_count": 10,
   "metadata": {},
   "outputs": [],
   "source": [
    "conn.close()"
   ]
  }
 ],
 "metadata": {
  "kernelspec": {
   "display_name": ".venv",
   "language": "python",
   "name": "python3"
  },
  "language_info": {
   "codemirror_mode": {
    "name": "ipython",
    "version": 3
   },
   "file_extension": ".py",
   "mimetype": "text/x-python",
   "name": "python",
   "nbconvert_exporter": "python",
   "pygments_lexer": "ipython3",
   "version": "3.10.11"
  }
 },
 "nbformat": 4,
 "nbformat_minor": 4
}
