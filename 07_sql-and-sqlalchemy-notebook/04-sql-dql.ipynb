{
 "cells": [
  {
   "cell_type": "markdown",
   "metadata": {},
   "source": [
    "# Level 4: SQL Basics – Data Query Language (DQL)"
   ]
  },
  {
   "cell_type": "markdown",
   "metadata": {},
   "source": [
    "**Data Query Language (DQL)** is arguably the most important part of SQL for data analysis. It consists of the commands used to retrieve data from the database. The cornerstone of DQL is the `SELECT` statement.\n",
    "\n",
    "In this notebook, we will cover:\n",
    "- `SELECT`: To choose the data you want to see.\n",
    "- `WHERE`: To filter the data based on conditions.\n",
    "- `ORDER BY`: To sort the results.\n",
    "- `LIMIT` / `OFFSET`: To control the number of results returned.\n",
    "- `DISTINCT`: To remove duplicate results."
   ]
  },
  {
   "cell_type": "markdown",
   "metadata": {},
   "source": [
    "### Setup\n",
    "Let's create a database with some sample data about books."
   ]
  },
  {
   "cell_type": "code",
   "execution_count": 1,
   "metadata": {},
   "outputs": [],
   "source": [
    "import sqlite3\n",
    "import os\n",
    "\n",
    "db_file = 'dql_example.db'\n",
    "if os.path.exists(db_file):\n",
    "    os.remove(db_file)\n",
    "\n",
    "conn = sqlite3.connect(db_file)\n",
    "cursor = conn.cursor()\n",
    "\n",
    "cursor.execute(\"\"\"\n",
    "CREATE TABLE books (\n",
    "    id INTEGER PRIMARY KEY,\n",
    "    title TEXT NOT NULL,\n",
    "    author TEXT NOT NULL,\n",
    "    genre TEXT,\n",
    "    publish_year INTEGER,\n",
    "    rating REAL\n",
    ");\n",
    "\"\"\")\n",
    "\n",
    "books_data = [\n",
    "    ('The Hobbit', 'J.R.R. Tolkien', 'Fantasy', 1937, 4.8),\n",
    "    ('Dune', 'Frank Herbert', 'Sci-Fi', 1965, 4.9),\n",
    "    ('1984', 'George Orwell', 'Dystopian', 1949, 4.7),\n",
    "    ('A Brief History of Time', 'Stephen Hawking', 'Science', 1988, 4.6),\n",
    "    ('Pride and Prejudice', 'Jane Austen', 'Romance', 1813, 4.5),\n",
    "    ('The Hitchhiker''s Guide to the Galaxy', 'Douglas Adams', 'Sci-Fi', 1979, 4.9)\n",
    "]\n",
    "\n",
    "cursor.executemany(\"INSERT INTO books (title, author, genre, publish_year, rating) VALUES (?, ?, ?, ?, ?)\", books_data)\n",
    "conn.commit()"
   ]
  },
  {
   "cell_type": "markdown",
   "metadata": {},
   "source": [
    "## 4.1 `SELECT` Statements"
   ]
  },
  {
   "cell_type": "markdown",
   "metadata": {},
   "source": [
    "Select all columns from the table:"
   ]
  },
  {
   "cell_type": "code",
   "execution_count": 2,
   "metadata": {},
   "outputs": [
    {
     "name": "stdout",
     "output_type": "stream",
     "text": [
      "[(1, 'The Hobbit', 'J.R.R. Tolkien', 'Fantasy', 1937, 4.8), (2, 'Dune', 'Frank Herbert', 'Sci-Fi', 1965, 4.9), (3, '1984', 'George Orwell', 'Dystopian', 1949, 4.7), (4, 'A Brief History of Time', 'Stephen Hawking', 'Science', 1988, 4.6), (5, 'Pride and Prejudice', 'Jane Austen', 'Romance', 1813, 4.5), (6, 'The Hitchhikers Guide to the Galaxy', 'Douglas Adams', 'Sci-Fi', 1979, 4.9)]\n"
     ]
    }
   ],
   "source": [
    "cursor.execute(\"SELECT * FROM books;\")\n",
    "print(cursor.fetchall())"
   ]
  },
  {
   "cell_type": "markdown",
   "metadata": {},
   "source": [
    "Select specific columns:"
   ]
  },
  {
   "cell_type": "code",
   "execution_count": 3,
   "metadata": {},
   "outputs": [
    {
     "name": "stdout",
     "output_type": "stream",
     "text": [
      "[('The Hobbit', 'J.R.R. Tolkien'), ('Dune', 'Frank Herbert'), ('1984', 'George Orwell'), ('A Brief History of Time', 'Stephen Hawking'), ('Pride and Prejudice', 'Jane Austen'), ('The Hitchhikers Guide to the Galaxy', 'Douglas Adams')]\n"
     ]
    }
   ],
   "source": [
    "cursor.execute(\"SELECT title, author FROM books;\")\n",
    "print(cursor.fetchall())"
   ]
  },
  {
   "cell_type": "markdown",
   "metadata": {},
   "source": [
    "## 4.2 Filtering with `WHERE`"
   ]
  },
  {
   "cell_type": "markdown",
   "metadata": {},
   "source": [
    "The `WHERE` clause is used to extract only those records that fulfill a specified condition."
   ]
  },
  {
   "cell_type": "code",
   "execution_count": 4,
   "metadata": {},
   "outputs": [
    {
     "name": "stdout",
     "output_type": "stream",
     "text": [
      "Sci-Fi Books: [('Dune', 'Frank Herbert'), ('The Hitchhikers Guide to the Galaxy', 'Douglas Adams')]\n"
     ]
    }
   ],
   "source": [
    "# Find all Sci-Fi books\n",
    "cursor.execute(\"SELECT title, author FROM books WHERE genre = ?;\", ('Sci-Fi',))\n",
    "print(\"Sci-Fi Books:\", cursor.fetchall())"
   ]
  },
  {
   "cell_type": "code",
   "execution_count": 5,
   "metadata": {},
   "outputs": [
    {
     "name": "stdout",
     "output_type": "stream",
     "text": [
      "\n",
      "Published after 1950 with high rating: [('Dune',), ('The Hitchhikers Guide to the Galaxy',)]\n"
     ]
    }
   ],
   "source": [
    "# Find books published after 1950 with a rating > 4.7\n",
    "cursor.execute(\"SELECT title FROM books WHERE publish_year > ? AND rating > ?;\", (1950, 4.7))\n",
    "print(\"\\nPublished after 1950 with high rating:\", cursor.fetchall())"
   ]
  },
  {
   "cell_type": "markdown",
   "metadata": {},
   "source": [
    "### Other `WHERE` Operators\n",
    "- `IN`: Check if a value is within a set of values. `WHERE genre IN ('Fantasy', 'Romance')`\n",
    "- `BETWEEN`: Check if a value is within a range. `WHERE publish_year BETWEEN 1900 AND 2000`\n",
    "- `LIKE`: Search for a pattern in a string. `WHERE author LIKE 'J%'` (finds authors starting with J)\n",
    "- `IS NULL`: Check for null values."
   ]
  },
  {
   "cell_type": "markdown",
   "metadata": {},
   "source": [
    "## 4.3 Sorting Results (`ORDER BY`)"
   ]
  },
  {
   "cell_type": "code",
   "execution_count": 6,
   "metadata": {},
   "outputs": [
    {
     "name": "stdout",
     "output_type": "stream",
     "text": [
      "Ordered by year (ASC): [('Pride and Prejudice', 1813), ('The Hobbit', 1937), ('1984', 1949), ('Dune', 1965), ('The Hitchhikers Guide to the Galaxy', 1979), ('A Brief History of Time', 1988)]\n"
     ]
    }
   ],
   "source": [
    "# Order books by publication year, oldest first (ASC is default)\n",
    "cursor.execute(\"SELECT title, publish_year FROM books ORDER BY publish_year;\")\n",
    "print(\"Ordered by year (ASC):\", cursor.fetchall())"
   ]
  },
  {
   "cell_type": "code",
   "execution_count": 7,
   "metadata": {},
   "outputs": [
    {
     "name": "stdout",
     "output_type": "stream",
     "text": [
      "\n",
      "Ordered by rating (DESC): [('Dune', 4.9), ('The Hitchhikers Guide to the Galaxy', 4.9), ('The Hobbit', 4.8), ('1984', 4.7), ('A Brief History of Time', 4.6), ('Pride and Prejudice', 4.5)]\n"
     ]
    }
   ],
   "source": [
    "# Order books by rating, highest first\n",
    "cursor.execute(\"SELECT title, rating FROM books ORDER BY rating DESC;\")\n",
    "print(\"\\nOrdered by rating (DESC):\", cursor.fetchall())"
   ]
  },
  {
   "cell_type": "markdown",
   "metadata": {},
   "source": [
    "## 4.4 Limiting Results (`LIMIT` and `OFFSET`)"
   ]
  },
  {
   "cell_type": "markdown",
   "metadata": {},
   "source": [
    "`LIMIT` constrains the number of rows returned. `OFFSET` skips a certain number of rows before starting to return them. This is often used for pagination."
   ]
  },
  {
   "cell_type": "code",
   "execution_count": 8,
   "metadata": {},
   "outputs": [
    {
     "name": "stdout",
     "output_type": "stream",
     "text": [
      "Top 3 books: [('Dune', 4.9), ('The Hitchhikers Guide to the Galaxy', 4.9), ('The Hobbit', 4.8)]\n"
     ]
    }
   ],
   "source": [
    "# Get the top 3 highest-rated books\n",
    "cursor.execute(\"SELECT title, rating FROM books ORDER BY rating DESC LIMIT 3;\")\n",
    "print(\"Top 3 books:\", cursor.fetchall())"
   ]
  },
  {
   "cell_type": "code",
   "execution_count": 9,
   "metadata": {},
   "outputs": [
    {
     "name": "stdout",
     "output_type": "stream",
     "text": [
      "\n",
      "4th and 5th books: [('1984', 4.7), ('A Brief History of Time', 4.6)]\n"
     ]
    }
   ],
   "source": [
    "# Get the 4th and 5th highest-rated books (skip the top 3)\n",
    "cursor.execute(\"SELECT title, rating FROM books ORDER BY rating DESC LIMIT 2 OFFSET 3;\")\n",
    "print(\"\\n4th and 5th books:\", cursor.fetchall())"
   ]
  },
  {
   "cell_type": "markdown",
   "metadata": {},
   "source": [
    "## 4.5 Removing Duplicates (`DISTINCT`)"
   ]
  },
  {
   "cell_type": "markdown",
   "metadata": {},
   "source": [
    "The `DISTINCT` keyword is used to return only unique values."
   ]
  },
  {
   "cell_type": "code",
   "execution_count": 10,
   "metadata": {},
   "outputs": [
    {
     "name": "stdout",
     "output_type": "stream",
     "text": [
      "Unique genres: [('Fantasy',), ('Sci-Fi',), ('Dystopian',), ('Science',), ('Romance',)]\n"
     ]
    }
   ],
   "source": [
    "# Get the list of unique genres\n",
    "cursor.execute(\"SELECT DISTINCT genre FROM books;\")\n",
    "print(\"Unique genres:\", cursor.fetchall())"
   ]
  },
  {
   "cell_type": "code",
   "execution_count": 11,
   "metadata": {},
   "outputs": [],
   "source": [
    "# Close the connection\n",
    "conn.close()"
   ]
  }
 ],
 "metadata": {
  "kernelspec": {
   "display_name": ".venv",
   "language": "python",
   "name": "python3"
  },
  "language_info": {
   "codemirror_mode": {
    "name": "ipython",
    "version": 3
   },
   "file_extension": ".py",
   "mimetype": "text/x-python",
   "name": "python",
   "nbconvert_exporter": "python",
   "pygments_lexer": "ipython3",
   "version": "3.10.11"
  }
 },
 "nbformat": 4,
 "nbformat_minor": 4
}
