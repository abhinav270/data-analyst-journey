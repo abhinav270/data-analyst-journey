{
 "cells": [
  {
   "cell_type": "markdown",
   "metadata": {},
   "source": [
    "# Level 11: Advanced ORM Features"
   ]
  },
  {
   "cell_type": "markdown",
   "metadata": {},
   "source": [
    "This notebook explores some of the most powerful features of the SQLAlchemy ORM, including defining relationships between models, controlling how related data is loaded, and performing more complex queries."
   ]
  },
  {
   "cell_type": "markdown",
   "metadata": {},
   "source": [
    "### Setup\n",
    "To demonstrate relationships, we need a more complex schema. We'll create a `User` model and a `Post` model, where a user can have many posts (a one-to-many relationship)."
   ]
  },
  {
   "cell_type": "code",
   "execution_count": 1,
   "metadata": {},
   "outputs": [],
   "source": [
    "from sqlalchemy import create_engine, Column, Integer, String, ForeignKey\n",
    "from sqlalchemy.orm import declarative_base, sessionmaker, relationship\n",
    "import os\n",
    "\n",
    "db_file = 'sqlalchemy_advanced.db'\n",
    "if os.path.exists(db_file):\n",
    "    os.remove(db_file)\n",
    "\n",
    "engine = create_engine(f'sqlite:///{db_file}')\n",
    "Base = declarative_base()\n",
    "\n",
    "# Define User model\n",
    "class User(Base):\n",
    "    __tablename__ = 'users'\n",
    "    id = Column(Integer, primary_key=True)\n",
    "    name = Column(String)\n",
    "    posts = relationship(\"Post\", back_populates=\"author\")\n",
    "\n",
    "    def __repr__(self):\n",
    "        return f\"<User(name='{self.name}')>\"\n",
    "\n",
    "# Define Post model\n",
    "class Post(Base):\n",
    "    __tablename__ = 'posts'\n",
    "    id = Column(Integer, primary_key=True)\n",
    "    title = Column(String)\n",
    "    user_id = Column(Integer, ForeignKey('users.id'))\n",
    "    author = relationship(\"User\", back_populates=\"posts\")\n",
    "\n",
    "    def __repr__(self):\n",
    "        return f\"<Post(title='{self.title}')>\"\n",
    "\n",
    "Base.metadata.create_all(engine)\n",
    "Session = sessionmaker(bind=engine)\n",
    "session = Session()"
   ]
  },
  {
   "cell_type": "markdown",
   "metadata": {},
   "source": [
    "## 11.1 Relationships"
   ]
  },
  {
   "cell_type": "markdown",
   "metadata": {},
   "source": [
    "The `relationship()` function defines the link between our models. `back_populates` tells each model how to access the other side of the relationship, keeping them in sync."
   ]
  },
  {
   "cell_type": "code",
   "execution_count": 2,
   "metadata": {},
   "outputs": [],
   "source": [
    "# Create a user and some posts\n",
    "user1 = User(name='Alice')\n",
    "post1 = Post(title='My First Post', author=user1)\n",
    "post2 = Post(title='Another Day', author=user1)\n",
    "\n",
    "session.add(user1)\n",
    "session.add_all([post1, post2])\n",
    "session.commit()"
   ]
  },
  {
   "cell_type": "code",
   "execution_count": 3,
   "metadata": {},
   "outputs": [
    {
     "name": "stdout",
     "output_type": "stream",
     "text": [
      "Alice's posts: [<Post(title='My First Post')>, <Post(title='Another Day')>]\n"
     ]
    }
   ],
   "source": [
    "# Accessing the relationship from the 'one' side (User -> Posts)\n",
    "alice = session.query(User).filter_by(name='Alice').one()\n",
    "print(f\"{alice.name}'s posts: {alice.posts}\")"
   ]
  },
  {
   "cell_type": "code",
   "execution_count": 4,
   "metadata": {},
   "outputs": [
    {
     "name": "stdout",
     "output_type": "stream",
     "text": [
      "The author of 'My First Post' is <User(name='Alice')>\n"
     ]
    }
   ],
   "source": [
    "# Accessing the relationship from the 'many' side (Post -> User)\n",
    "first_post = session.query(Post).first()\n",
    "print(f\"The author of '{first_post.title}' is {first_post.author}\")"
   ]
  },
  {
   "cell_type": "markdown",
   "metadata": {},
   "source": [
    "## 11.2 Eager vs. Lazy Loading"
   ]
  },
  {
   "cell_type": "markdown",
   "metadata": {},
   "source": [
    "By default, SQLAlchemy uses **lazy loading**. This means that when you query for a `User`, the user's posts are *not* fetched from the database until you explicitly access the `.posts` attribute. This can lead to the **N+1 query problem**.\n",
    "\n",
    "**Eager loading** fetches the related objects at the same time as the parent object, usually with a `JOIN`."
   ]
  },
  {
   "cell_type": "code",
   "execution_count": 5,
   "metadata": {},
   "outputs": [
    {
     "name": "stdout",
     "output_type": "stream",
     "text": [
      "[<Post(title='My First Post')>, <Post(title='Another Day')>]\n"
     ]
    }
   ],
   "source": [
    "from sqlalchemy.orm import joinedload\n",
    "\n",
    "# Use joinedload to perform an eager load\n",
    "# This will issue a single SQL query with a JOIN\n",
    "user_with_posts = session.query(User).options(joinedload(User.posts)).filter_by(name='Alice').one()\n",
    "\n",
    "# Accessing .posts now does not trigger a new query\n",
    "print(user_with_posts.posts)"
   ]
  },
  {
   "cell_type": "markdown",
   "metadata": {},
   "source": [
    "## 11.3 Query Filtering & Chaining"
   ]
  },
  {
   "cell_type": "markdown",
   "metadata": {},
   "source": [
    "The `Query` object allows for chaining multiple methods to build complex queries."
   ]
  },
  {
   "cell_type": "code",
   "execution_count": 6,
   "metadata": {},
   "outputs": [],
   "source": [
    "# Add more data for filtering\n",
    "session.add_all([\n",
    "    User(name='Bob', posts=[Post(title='Hello World')]),\n",
    "    User(name='Charlie', posts=[Post(title='Data Science'), Post(title='SQLAlchemy')])\n",
    "])\n",
    "session.commit()"
   ]
  },
  {
   "cell_type": "code",
   "execution_count": 7,
   "metadata": {},
   "outputs": [
    {
     "name": "stdout",
     "output_type": "stream",
     "text": [
      "[<User(name='Charlie')>, <User(name='Alice')>]\n"
     ]
    }
   ],
   "source": [
    "# Example of a chained query\n",
    "query = (\n",
    "    session.query(User)\n",
    "    .filter(User.name.like('%a%')) # Names containing 'a'\n",
    "    .order_by(User.name.desc()) # Order by name descending\n",
    "    .limit(2) # Limit to 2 results\n",
    ")\n",
    "\n",
    "print(query.all())"
   ]
  },
  {
   "cell_type": "markdown",
   "metadata": {},
   "source": [
    "## 11.4 Aggregations in ORM"
   ]
  },
  {
   "cell_type": "markdown",
   "metadata": {},
   "source": [
    "You can use functions from `sqlalchemy.sql.func` to perform aggregations."
   ]
  },
  {
   "cell_type": "code",
   "execution_count": 8,
   "metadata": {},
   "outputs": [
    {
     "name": "stdout",
     "output_type": "stream",
     "text": [
      "Total users: 3\n"
     ]
    }
   ],
   "source": [
    "from sqlalchemy import func\n",
    "\n",
    "# Count the number of users\n",
    "user_count = session.query(func.count(User.id)).scalar()\n",
    "print(f\"Total users: {user_count}\")"
   ]
  },
  {
   "cell_type": "code",
   "execution_count": 9,
   "metadata": {},
   "outputs": [
    {
     "name": "stdout",
     "output_type": "stream",
     "text": [
      "\n",
      "Posts per user: [('Alice', 2), ('Bob', 1), ('Charlie', 2)]\n"
     ]
    }
   ],
   "source": [
    "# Get the number of posts per user\n",
    "posts_per_user = (\n",
    "    session.query(User.name, func.count(Post.id).label('post_count'))\n",
    "    .join(Post)\n",
    "    .group_by(User.name)\n",
    "    .all()\n",
    ")\n",
    "\n",
    "print(\"\\nPosts per user:\", posts_per_user)"
   ]
  },
  {
   "cell_type": "markdown",
   "metadata": {},
   "source": [
    "## 11.5 Raw SQL in ORM"
   ]
  },
  {
   "cell_type": "markdown",
   "metadata": {},
   "source": [
    "Sometimes, you need to execute a raw SQL query that is too complex for the ORM. You can do this with `session.execute()`."
   ]
  },
  {
   "cell_type": "code",
   "execution_count": 10,
   "metadata": {},
   "outputs": [
    {
     "name": "stdout",
     "output_type": "stream",
     "text": [
      "Users starting with 'A': [('Alice',)]\n"
     ]
    }
   ],
   "source": [
    "from sqlalchemy import text\n",
    "\n",
    "query = text(\"SELECT name FROM users WHERE name LIKE :search_term\")\n",
    "result = session.execute(query, {\"search_term\": \"A%\"})\n",
    "\n",
    "print(\"Users starting with 'A':\", result.fetchall())"
   ]
  },
  {
   "cell_type": "code",
   "execution_count": 11,
   "metadata": {},
   "outputs": [],
   "source": [
    "session.close()"
   ]
  }
 ],
 "metadata": {
  "kernelspec": {
   "display_name": ".venv",
   "language": "python",
   "name": "python3"
  },
  "language_info": {
   "codemirror_mode": {
    "name": "ipython",
    "version": 3
   },
   "file_extension": ".py",
   "mimetype": "text/x-python",
   "name": "python",
   "nbconvert_exporter": "python",
   "pygments_lexer": "ipython3",
   "version": "3.10.11"
  }
 },
 "nbformat": 4,
 "nbformat_minor": 4
}
