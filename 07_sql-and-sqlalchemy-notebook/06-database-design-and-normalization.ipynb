{
 "cells": [
  {
   "cell_type": "markdown",
   "metadata": {},
   "source": [
    "# Level 6: Database Design & Normalization"
   ]
  },
  {
   "cell_type": "markdown",
   "metadata": {},
   "source": [
    "Good database design is crucial for data integrity, performance, and maintainability. This notebook covers the foundational principles of designing a relational database, including Entity-Relationship (ER) modeling and the process of **normalization**, which helps to reduce data redundancy and improve data integrity."
   ]
  },
  {
   "cell_type": "markdown",
   "metadata": {},
   "source": [
    "## 6.1 Entity-Relationship (ER) Modeling"
   ]
  },
  {
   "cell_type": "markdown",
   "metadata": {},
   "source": [
    "ER modeling is a conceptual way of designing a database. We think about the main **entities** (things we want to store data about) and the **relationships** between them.\n",
    "\n",
    "- **Entities** usually become **tables** (e.g., `Students`, `Courses`, `Instructors`).\n",
    "- **Attributes** of entities become **columns** in those tables (e.g., a `Student` has a `name` and `email`).\n",
    "- **Relationships** define how tables are linked together:\n",
    "    - **One-to-One (1:1):** Each record in Table A relates to exactly one record in Table B. (e.g., `User` and `UserProfile`).\n",
    "    - **One-to-Many (1:M):** One record in Table A can relate to many records in Table B. (e.g., one `Author` can have many `Books`). This is the most common relationship.\n",
    "    - **Many-to-Many (M:M):** Many records in Table A can relate to many records in Table B. (e.g., `Students` and `Courses`). This requires a third table, called an **association** or **junction table**, to implement."
   ]
  },
  {
   "cell_type": "markdown",
   "metadata": {},
   "source": [
    "## 6.2 Normalization"
   ]
  },
  {
   "cell_type": "markdown",
   "metadata": {},
   "source": [
    "Normalization is the process of organizing the columns and tables of a relational database to minimize data redundancy. We'll walk through an example, taking a single, unnormalized table to the Third Normal Form (3NF)."
   ]
  },
  {
   "cell_type": "markdown",
   "metadata": {},
   "source": [
    "### Unnormalized Form (UNF)\n",
    "Let's imagine a flat file or spreadsheet for tracking project assignments. It might look like this:"
   ]
  },
  {
   "cell_type": "markdown",
   "metadata": {},
   "source": [
    "| project_id | project_name | employees (id, name, email) |\n",
    "|---|---|---|\n",
    "| 101 | Project Alpha | (1, 'Alice', 'a@a.com'), (2, 'Bob', 'b@b.com') |\n",
    "| 102 | Project Beta | (1, 'Alice', 'a@a.com'), (3, 'Charlie', 'c@c.com') |"
   ]
  },
  {
   "cell_type": "markdown",
   "metadata": {},
   "source": [
    "**Problems:**\n",
    "- The `employees` column contains multiple values (it's not atomic).\n",
    "- Employee information (like Alice's email) is repeated.\n",
    "- If we delete Project Beta, we lose the information that Charlie exists."
   ]
  },
  {
   "cell_type": "markdown",
   "metadata": {},
   "source": [
    "### First Normal Form (1NF)\n",
    "**Rule:** Ensure all values in a column are atomic (indivisible) and each row is unique. We can achieve this by removing the repeating group of employees."
   ]
  },
  {
   "cell_type": "markdown",
   "metadata": {},
   "source": [
    "| project_id | project_name | employee_id | employee_name | employee_email |\n",
    "|---|---|---|---|---|\n",
    "| 101 | Project Alpha | 1 | Alice | a@a.com |\n",
    "| 101 | Project Alpha | 2 | Bob | b@b.com |\n",
    "| 102 | Project Beta | 1 | Alice | a@a.com |\n",
    "| 102 | Project Beta | 3 | Charlie | c@c.com |"
   ]
  },
  {
   "cell_type": "markdown",
   "metadata": {},
   "source": [
    "**Problems Solved:** Values are now atomic.\n",
    "**New Problems:** Massive redundancy. `project_name` and employee details are repeated. This can lead to **update anomalies** (e.g., if Alice changes her email, we have to update it in multiple places)."
   ]
  },
  {
   "cell_type": "markdown",
   "metadata": {},
   "source": [
    "### Second Normal Form (2NF)\n",
    "**Rules:**\n",
    "1. Be in 1NF.\n",
    "2. Remove partial dependencies. This means that every non-key attribute must depend on the *whole* primary key, not just part of it.\n",
    "\n",
    "Our primary key here is a composite key: `(project_id, employee_id)`.\n",
    "- `project_name` depends only on `project_id` (partial dependency).\n",
    "- `employee_name` and `employee_email` depend only on `employee_id` (partial dependency).\n",
    "\n",
    "We need to split the table into three:"
   ]
  },
  {
   "cell_type": "markdown",
   "metadata": {},
   "source": [
    "**`projects` table:**\n",
    "```sql\n",
    "CREATE TABLE projects (\n",
    "    project_id INTEGER PRIMARY KEY,\n",
    "    project_name TEXT NOT NULL\n",
    ");\n",
    "```\n",
    "\n",
    "**`employees` table:**\n",
    "```sql\n",
    "CREATE TABLE employees (\n",
    "    employee_id INTEGER PRIMARY KEY,\n",
    "    employee_name TEXT NOT NULL,\n",
    "    employee_email TEXT NOT NULL UNIQUE\n",
    ");\n",
    "```\n",
    "\n",
    "**`project_assignments` table (Junction Table):**\n",
    "```sql\n",
    "CREATE TABLE project_assignments (\n",
    "    project_id INTEGER,\n",
    "    employee_id INTEGER,\n",
    "    PRIMARY KEY (project_id, employee_id),\n",
    "    FOREIGN KEY (project_id) REFERENCES projects(project_id),\n",
    "    FOREIGN KEY (employee_id) REFERENCES employees(employee_id)\n",
    ");\n",
    "```"
   ]
  },
  {
   "cell_type": "markdown",
   "metadata": {},
   "source": [
    "**Problems Solved:** Data redundancy is greatly reduced. Employee and project information is stored only once.\n",
    "**New Problems:** What if we add an employee's department? Let's say `employee_name` determines `department` (`Alice` -> `Engineering`). This is a **transitive dependency**."
   ]
  },
  {
   "cell_type": "markdown",
   "metadata": {},
   "source": [
    "### Third Normal Form (3NF)\n",
    "**Rules:**\n",
    "1. Be in 2NF.\n",
    "2. Remove transitive dependencies. This means no non-key attribute should depend on another non-key attribute.\n",
    "\n",
    "In our `employees` table, if we added `department_name` and `department_head`, these would depend on the `department_id`, not directly on the `employee_id`. To fix this, we create a `departments` table."
   ]
  },
  {
   "cell_type": "markdown",
   "metadata": {},
   "source": [
    "**Final Schema (3NF):**\n",
    "```sql\n",
    "CREATE TABLE departments (\n",
    "    department_id INTEGER PRIMARY KEY,\n",
    "    department_name TEXT NOT NULL\n",
    ");\n",
    "\n",
    "CREATE TABLE employees (\n",
    "    employee_id INTEGER PRIMARY KEY,\n",
    "    employee_name TEXT NOT NULL,\n",
    "    department_id INTEGER,\n",
    "    FOREIGN KEY (department_id) REFERENCES departments(department_id)\n",
    ");\n",
    "\n",
    "-- projects and project_assignments tables remain the same\n",
    "```"
   ]
  },
  {
   "cell_type": "markdown",
   "metadata": {},
   "source": [
    "## 6.3 Indexes"
   ]
  },
  {
   "cell_type": "markdown",
   "metadata": {},
   "source": [
    "An **index** is a special lookup table that the database search engine can use to speed up data retrieval. Simply put, an index is a pointer to data in a table.\n",
    "\n",
    "**How it works:** When you create an index on a column, the database stores a sorted copy of that column's data with pointers back to the original table rows. When you query with a `WHERE` clause on that column, the database can do a fast binary search on the index instead of a slow full-table scan.\n",
    "\n",
    "**Trade-off:** Indexes speed up `SELECT` queries and `WHERE` clauses, but they **slow down data modification** (`INSERT`, `UPDATE`, `DELETE`) because the index also needs to be updated.\n",
    "\n",
    "Primary keys are automatically indexed."
   ]
  },
  {
   "cell_type": "code",
   "execution_count": 2,
   "metadata": {},
   "outputs": [
    {
     "name": "stdout",
     "output_type": "stream",
     "text": [
      "Index 'idx_employee_name' created successfully.\n"
     ]
    }
   ],
   "source": [
    "# Let's create an index on the employees' name column\n",
    "import sqlite3\n",
    "conn = sqlite3.connect(':memory:') # Use an in-memory database\n",
    "cursor = conn.cursor()\n",
    "\n",
    "cursor.execute(\"CREATE TABLE employees (id INTEGER, name TEXT);\")\n",
    "\n",
    "# Create the index\n",
    "cursor.execute(\"CREATE INDEX idx_employee_name ON employees(name);\")\n",
    "\n",
    "print(\"Index 'idx_employee_name' created successfully.\")\n",
    "\n",
    "conn.close()"
   ]
  },
  {
   "cell_type": "code",
   "execution_count": null,
   "metadata": {},
   "outputs": [],
   "source": []
  }
 ],
 "metadata": {
  "kernelspec": {
   "display_name": ".venv",
   "language": "python",
   "name": "python3"
  },
  "language_info": {
   "codemirror_mode": {
    "name": "ipython",
    "version": 3
   },
   "file_extension": ".py",
   "mimetype": "text/x-python",
   "name": "python",
   "nbconvert_exporter": "python",
   "pygments_lexer": "ipython3",
   "version": "3.10.11"
  }
 },
 "nbformat": 4,
 "nbformat_minor": 4
}
