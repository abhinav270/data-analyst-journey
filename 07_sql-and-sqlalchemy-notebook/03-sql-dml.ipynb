{
 "cells": [
  {
   "cell_type": "markdown",
   "metadata": {},
   "source": [
    "# Level 3: SQL Basics – Data Manipulation Language (DML)"
   ]
  },
  {
   "cell_type": "markdown",
   "metadata": {},
   "source": [
    "**Data Manipulation Language (DML)** commands are used to manage data within tables. Once you have your table structure defined with DDL, you'll use DML to add, modify, and remove the actual data records.\n",
    "\n",
    "In this notebook, we will cover:\n",
    "- `INSERT`: To add new rows of data.\n",
    "- `UPDATE`: To modify existing rows.\n",
    "- `DELETE`: To remove rows."
   ]
  },
  {
   "cell_type": "markdown",
   "metadata": {},
   "source": [
    "### Setup\n",
    "First, let's set up a clean database and create a `employees` table to work with."
   ]
  },
  {
   "cell_type": "code",
   "execution_count": 3,
   "metadata": {},
   "outputs": [
    {
     "ename": "PermissionError",
     "evalue": "[WinError 32] The process cannot access the file because it is being used by another process: 'dml_example.db'",
     "output_type": "error",
     "traceback": [
      "\u001b[1;31m---------------------------------------------------------------------------\u001b[0m",
      "\u001b[1;31mPermissionError\u001b[0m                           Traceback (most recent call last)",
      "Cell \u001b[1;32mIn[3], line 6\u001b[0m\n\u001b[0;32m      4\u001b[0m db_file \u001b[38;5;241m=\u001b[39m \u001b[38;5;124m'\u001b[39m\u001b[38;5;124mdml_example.db\u001b[39m\u001b[38;5;124m'\u001b[39m\n\u001b[0;32m      5\u001b[0m \u001b[38;5;28;01mif\u001b[39;00m os\u001b[38;5;241m.\u001b[39mpath\u001b[38;5;241m.\u001b[39mexists(db_file):\n\u001b[1;32m----> 6\u001b[0m     \u001b[43mos\u001b[49m\u001b[38;5;241;43m.\u001b[39;49m\u001b[43mremove\u001b[49m\u001b[43m(\u001b[49m\u001b[43mdb_file\u001b[49m\u001b[43m)\u001b[49m\n\u001b[0;32m      8\u001b[0m conn \u001b[38;5;241m=\u001b[39m sqlite3\u001b[38;5;241m.\u001b[39mconnect(db_file)\n\u001b[0;32m      9\u001b[0m cursor \u001b[38;5;241m=\u001b[39m conn\u001b[38;5;241m.\u001b[39mcursor()\n",
      "\u001b[1;31mPermissionError\u001b[0m: [WinError 32] The process cannot access the file because it is being used by another process: 'dml_example.db'"
     ]
    }
   ],
   "source": [
    "import sqlite3\n",
    "import os\n",
    "\n",
    "db_file = 'dml_example.db'\n",
    "if os.path.exists(db_file):\n",
    "    os.remove(db_file)\n",
    "\n",
    "conn = sqlite3.connect(db_file)\n",
    "cursor = conn.cursor()\n",
    "\n",
    "# Create an employees table\n",
    "cursor.execute(\"\"\"\n",
    "CREATE TABLE employees (\n",
    "    id INTEGER PRIMARY KEY, \n",
    "    name TEXT NOT NULL, \n",
    "    department TEXT, \n",
    "    salary REAL\n",
    ");\n",
    "\"\"\")\n",
    "print(\"'employees' table created.\")"
   ]
  },
  {
   "cell_type": "markdown",
   "metadata": {},
   "source": [
    "## 3.1 Inserting Data (`INSERT INTO`)"
   ]
  },
  {
   "cell_type": "markdown",
   "metadata": {},
   "source": [
    "The `INSERT INTO` statement is used to add new records to a table."
   ]
  },
  {
   "cell_type": "code",
   "execution_count": null,
   "metadata": {},
   "outputs": [
    {
     "ename": "NameError",
     "evalue": "name 'NULL' is not defined",
     "output_type": "error",
     "traceback": [
      "\u001b[1;31m---------------------------------------------------------------------------\u001b[0m",
      "\u001b[1;31mNameError\u001b[0m                                 Traceback (most recent call last)",
      "Cell \u001b[1;32mIn[2], line 8\u001b[0m\n\u001b[0;32m      2\u001b[0m cursor\u001b[38;5;241m.\u001b[39mexecute(\u001b[38;5;124m\"\u001b[39m\u001b[38;5;124mINSERT INTO employees (name, department, salary) VALUES (?, ?, ?);\u001b[39m\u001b[38;5;124m\"\u001b[39m, \n\u001b[0;32m      3\u001b[0m                (\u001b[38;5;124m'\u001b[39m\u001b[38;5;124mAlice\u001b[39m\u001b[38;5;124m'\u001b[39m, \u001b[38;5;124m'\u001b[39m\u001b[38;5;124mEngineering\u001b[39m\u001b[38;5;124m'\u001b[39m, \u001b[38;5;241m80000\u001b[39m))\n\u001b[0;32m      5\u001b[0m \u001b[38;5;66;03m# Syntax 2: If providing all values in order, you can omit column names\u001b[39;00m\n\u001b[0;32m      6\u001b[0m \u001b[38;5;66;03m# Note: We provide NULL for the primary key to let it auto-increment\u001b[39;00m\n\u001b[0;32m      7\u001b[0m cursor\u001b[38;5;241m.\u001b[39mexecute(\u001b[38;5;124m\"\u001b[39m\u001b[38;5;124mINSERT INTO employees VALUES (?, ?, ?, ?);\u001b[39m\u001b[38;5;124m\"\u001b[39m, \n\u001b[1;32m----> 8\u001b[0m                (\u001b[43mNULL\u001b[49m, \u001b[38;5;124m'\u001b[39m\u001b[38;5;124mBob\u001b[39m\u001b[38;5;124m'\u001b[39m, \u001b[38;5;124m'\u001b[39m\u001b[38;5;124mHR\u001b[39m\u001b[38;5;124m'\u001b[39m, \u001b[38;5;241m65000\u001b[39m))\n\u001b[0;32m     10\u001b[0m \u001b[38;5;28mprint\u001b[39m(\u001b[38;5;124m\"\u001b[39m\u001b[38;5;124mInserted two employees.\u001b[39m\u001b[38;5;124m\"\u001b[39m)\n",
      "\u001b[1;31mNameError\u001b[0m: name 'NULL' is not defined"
     ]
    }
   ],
   "source": [
    "# Syntax 1: Specify columns\n",
    "cursor.execute(\"INSERT INTO employees (name, department, salary) VALUES (?, ?, ?);\", \n",
    "               ('Alice', 'Engineering', 80000))\n",
    "\n",
    "# Syntax 2: If providing all values in order, you can omit column names\n",
    "# Note: We provide NULL for the primary key to let it auto-increment\n",
    "cursor.execute(\"INSERT INTO employees VALUES (?, ?, ?, ?);\", \n",
    "               (NULL, 'Bob', 'HR', 65000))\n",
    "\n",
    "print(\"Inserted two employees.\")"
   ]
  },
  {
   "cell_type": "markdown",
   "metadata": {},
   "source": [
    "### Bulk Inserts with `executemany`\n",
    "To insert multiple rows efficiently, use `executemany`."
   ]
  },
  {
   "cell_type": "code",
   "execution_count": 4,
   "metadata": {},
   "outputs": [
    {
     "name": "stdout",
     "output_type": "stream",
     "text": [
      "Inserted 3 more employees.\n"
     ]
    }
   ],
   "source": [
    "new_employees = [\n",
    "    ('Charlie', 'Sales', 75000),\n",
    "    ('David', 'Engineering', 95000),\n",
    "    ('Eva', 'Sales', 78000)\n",
    "]\n",
    "\n",
    "cursor.executemany(\"INSERT INTO employees (name, department, salary) VALUES (?, ?, ?);\", new_employees)\n",
    "print(f\"Inserted {len(new_employees)} more employees.\")"
   ]
  },
  {
   "cell_type": "markdown",
   "metadata": {},
   "source": [
    "## 3.2 Updating Data (`UPDATE`)"
   ]
  },
  {
   "cell_type": "markdown",
   "metadata": {},
   "source": [
    "The `UPDATE` statement is used to modify existing records in a table. **Always use a `WHERE` clause** with `UPDATE`, otherwise you will update all rows in the table!"
   ]
  },
  {
   "cell_type": "code",
   "execution_count": 5,
   "metadata": {},
   "outputs": [
    {
     "name": "stdout",
     "output_type": "stream",
     "text": [
      "Updated Alice's salary.\n"
     ]
    }
   ],
   "source": [
    "# Give Alice a raise\n",
    "cursor.execute(\"UPDATE employees SET salary = ? WHERE name = ?;\", (85000, 'Alice'))\n",
    "print(\"Updated Alice's salary.\")"
   ]
  },
  {
   "cell_type": "code",
   "execution_count": 6,
   "metadata": {},
   "outputs": [
    {
     "name": "stdout",
     "output_type": "stream",
     "text": [
      "Updated salaries for the Sales department.\n"
     ]
    }
   ],
   "source": [
    "# Give everyone in the Sales department a 5% raise\n",
    "cursor.execute(\"UPDATE employees SET salary = salary * 1.05 WHERE department = ?;\", ('Sales',))\n",
    "print(\"Updated salaries for the Sales department.\")"
   ]
  },
  {
   "cell_type": "markdown",
   "metadata": {},
   "source": [
    "## 3.3 Deleting Data (`DELETE FROM`)"
   ]
  },
  {
   "cell_type": "markdown",
   "metadata": {},
   "source": [
    "The `DELETE FROM` statement is used to remove existing records from a table. **Always use a `WHERE` clause** with `DELETE`, otherwise you will delete all records!\n",
    "\n",
    "This is different from `DROP TABLE`, which removes the entire table structure. `DELETE` just removes the rows."
   ]
  },
  {
   "cell_type": "code",
   "execution_count": 7,
   "metadata": {},
   "outputs": [
    {
     "name": "stdout",
     "output_type": "stream",
     "text": [
      "Deleted Bob from the table.\n"
     ]
    }
   ],
   "source": [
    "# Let's delete Bob from the table\n",
    "cursor.execute(\"DELETE FROM employees WHERE name = ?;\", ('Bob',))\n",
    "print(\"Deleted Bob from the table.\")"
   ]
  },
  {
   "cell_type": "markdown",
   "metadata": {},
   "source": [
    "### Verifying our changes\n",
    "Let's use a `SELECT` statement (which we'll learn more about in the next notebook) to see the final state of our table."
   ]
  },
  {
   "cell_type": "code",
   "execution_count": 8,
   "metadata": {},
   "outputs": [
    {
     "name": "stdout",
     "output_type": "stream",
     "text": [
      "Final state of the 'employees' table:\n",
      "(1, 'Alice', 'Engineering', 85000.0)\n",
      "(2, 'Charlie', 'Sales', 78750.0)\n",
      "(3, 'David', 'Engineering', 95000.0)\n",
      "(4, 'Eva', 'Sales', 81900.0)\n"
     ]
    }
   ],
   "source": [
    "cursor.execute(\"SELECT * FROM employees ORDER BY id;\")\n",
    "rows = cursor.fetchall()\n",
    "\n",
    "print(\"Final state of the 'employees' table:\")\n",
    "for row in rows:\n",
    "    print(row)"
   ]
  },
  {
   "cell_type": "code",
   "execution_count": 9,
   "metadata": {},
   "outputs": [],
   "source": [
    "# Commit all changes and close the connection\n",
    "conn.commit()\n",
    "conn.close()"
   ]
  },
  {
   "cell_type": "code",
   "execution_count": null,
   "metadata": {},
   "outputs": [],
   "source": []
  }
 ],
 "metadata": {
  "kernelspec": {
   "display_name": ".venv",
   "language": "python",
   "name": "python3"
  },
  "language_info": {
   "codemirror_mode": {
    "name": "ipython",
    "version": 3
   },
   "file_extension": ".py",
   "mimetype": "text/x-python",
   "name": "python",
   "nbconvert_exporter": "python",
   "pygments_lexer": "ipython3",
   "version": "3.10.11"
  }
 },
 "nbformat": 4,
 "nbformat_minor": 4
}
