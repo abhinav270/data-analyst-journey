{
 "cells": [
  {
   "cell_type": "markdown",
   "metadata": {},
   "source": [
    "# Level 10: CRUD Operations with SQLAlchemy ORM"
   ]
  },
  {
   "cell_type": "markdown",
   "metadata": {},
   "source": [
    "This notebook covers the four fundamental database operations—Create, Read, Update, and Delete (CRUD)—using the SQLAlchemy ORM. All interactions with the database in the ORM are handled through a **Session** object."
   ]
  },
  {
   "cell_type": "markdown",
   "metadata": {},
   "source": [
    "### Setup\n",
    "First, let's redefine our `User` model and set up the database engine, just as we did in the previous notebook. Each notebook should be runnable on its own."
   ]
  },
  {
   "cell_type": "code",
   "execution_count": 1,
   "metadata": {},
   "outputs": [],
   "source": [
    "from sqlalchemy import create_engine, Column, Integer, String\n",
    "from sqlalchemy.orm import declarative_base, sessionmaker\n",
    "import os\n",
    "\n",
    "db_file = 'sqlalchemy_crud.db'\n",
    "if os.path.exists(db_file):\n",
    "    os.remove(db_file)\n",
    "\n",
    "engine = create_engine(f'sqlite:///{db_file}')\n",
    "Base = declarative_base()\n",
    "\n",
    "class User(Base):\n",
    "    __tablename__ = 'users'\n",
    "    id = Column(Integer, primary_key=True)\n",
    "    name = Column(String)\n",
    "    age = Column(Integer)\n",
    "\n",
    "    def __repr__(self):\n",
    "        return f\"<User(id={self.id}, name='{self.name}', age={self.age})>\"\n",
    "\n",
    "# Create the table\n",
    "Base.metadata.create_all(engine)"
   ]
  },
  {
   "cell_type": "markdown",
   "metadata": {},
   "source": [
    "## 10.1 Creating a Session"
   ]
  },
  {
   "cell_type": "markdown",
   "metadata": {},
   "source": [
    "The **Session** is your primary interface for talking to the database. It's like a more powerful version of the `connection` and `cursor` objects from `sqlite3`.\n",
    "\n",
    "You create a `Session` class using a `sessionmaker`, which is a factory for creating new Session objects."
   ]
  },
  {
   "cell_type": "code",
   "execution_count": 2,
   "metadata": {},
   "outputs": [
    {
     "name": "stdout",
     "output_type": "stream",
     "text": [
      "Session created.\n"
     ]
    }
   ],
   "source": [
    "# Create a Session factory and bind it to our engine\n",
    "Session = sessionmaker(bind=engine)\n",
    "\n",
    "# Create an instance of the Session\n",
    "session = Session()\n",
    "print(\"Session created.\")"
   ]
  },
  {
   "cell_type": "markdown",
   "metadata": {},
   "source": [
    "## 10.2 Create (Insert)"
   ]
  },
  {
   "cell_type": "markdown",
   "metadata": {},
   "source": [
    "To insert a new record, you create an instance of your model class and add it to the session."
   ]
  },
  {
   "cell_type": "code",
   "execution_count": 3,
   "metadata": {},
   "outputs": [
    {
     "name": "stdout",
     "output_type": "stream",
     "text": [
      "Created new user: <User(id=1, name='Alice', age=30)>\n"
     ]
    }
   ],
   "source": [
    "# 1. Create a Python object\n",
    "new_user = User(name='Alice', age=30)\n",
    "\n",
    "# 2. Add it to the session (this stages the object for insertion)\n",
    "session.add(new_user)\n",
    "\n",
    "# 3. Commit the transaction to save it to the database\n",
    "session.commit()\n",
    "\n",
    "print(f\"Created new user: {new_user}\")"
   ]
  },
  {
   "cell_type": "markdown",
   "metadata": {},
   "source": [
    "## 10.3 Read (Query)"
   ]
  },
  {
   "cell_type": "markdown",
   "metadata": {},
   "source": [
    "You use the `session.query()` method to retrieve objects from the database."
   ]
  },
  {
   "cell_type": "code",
   "execution_count": 4,
   "metadata": {},
   "outputs": [],
   "source": [
    "# Add a few more users for our queries\n",
    "session.add_all([\n",
    "    User(name='Bob', age=35),\n",
    "    User(name='Charlie', age=25)\n",
    "])\n",
    "session.commit()"
   ]
  },
  {
   "cell_type": "code",
   "execution_count": 5,
   "metadata": {},
   "outputs": [
    {
     "name": "stdout",
     "output_type": "stream",
     "text": [
      "All users: [<User(id=1, name='Alice', age=30)>, <User(id=2, name='Bob', age=35)>, <User(id=3, name='Charlie', age=25)>]\n"
     ]
    }
   ],
   "source": [
    "# Get all users\n",
    "all_users = session.query(User).all()\n",
    "print(\"All users:\", all_users)"
   ]
  },
  {
   "cell_type": "code",
   "execution_count": 6,
   "metadata": {},
   "outputs": [
    {
     "name": "stdout",
     "output_type": "stream",
     "text": [
      "\n",
      "Found Alice: <User(id=1, name='Alice', age=30)>\n"
     ]
    }
   ],
   "source": [
    "# Get the first user that matches a filter\n",
    "alice = session.query(User).filter(User.name == 'Alice').first()\n",
    "print(\"\\nFound Alice:\", alice)"
   ]
  },
  {
   "cell_type": "code",
   "execution_count": 7,
   "metadata": {},
   "outputs": [
    {
     "name": "stdout",
     "output_type": "stream",
     "text": [
      "\n",
      "Users older than 28: [<User(id=1, name='Alice', age=30)>, <User(id=2, name='Bob', age=35)>]\n"
     ]
    }
   ],
   "source": [
    "# Get users older than 28\n",
    "older_users = session.query(User).filter(User.age > 28).all()\n",
    "print(\"\\nUsers older than 28:\", older_users)"
   ]
  },
  {
   "cell_type": "markdown",
   "metadata": {},
   "source": [
    "## 10.4 Update"
   ]
  },
  {
   "cell_type": "markdown",
   "metadata": {},
   "source": [
    "To update a record, you first query for it, then modify the attributes of the Python object, and finally commit the session."
   ]
  },
  {
   "cell_type": "code",
   "execution_count": 8,
   "metadata": {},
   "outputs": [
    {
     "name": "stdout",
     "output_type": "stream",
     "text": [
      "User before update: <User(id=1, name='Alice', age=30)>\n",
      "User after update: <User(id=1, name='Alice', age=31)>\n"
     ]
    }
   ],
   "source": [
    "# 1. Find the user to update\n",
    "user_to_update = session.query(User).filter(User.name == 'Alice').first()\n",
    "print(f\"User before update: {user_to_update}\")\n",
    "\n",
    "# 2. Modify the object's attribute\n",
    "user_to_update.age = 31\n",
    "\n",
    "# 3. Commit the session. SQLAlchemy detects the change and issues an UPDATE statement.\n",
    "session.commit()\n",
    "\n",
    "print(f\"User after update: {user_to_update}\")"
   ]
  },
  {
   "cell_type": "markdown",
   "metadata": {},
   "source": [
    "## 10.5 Delete"
   ]
  },
  {
   "cell_type": "markdown",
   "metadata": {},
   "source": [
    "To delete a record, you query for it and then pass the object to `session.delete()`."
   ]
  },
  {
   "cell_type": "code",
   "execution_count": 9,
   "metadata": {},
   "outputs": [
    {
     "name": "stdout",
     "output_type": "stream",
     "text": [
      "User to delete: <User(id=3, name='Charlie', age=25)>\n",
      "Is Charlie still in the database? None\n"
     ]
    }
   ],
   "source": [
    "# 1. Find the user to delete\n",
    "user_to_delete = session.query(User).filter(User.name == 'Charlie').first()\n",
    "print(f\"User to delete: {user_to_delete}\")\n",
    "\n",
    "# 2. Delete the object from the session\n",
    "session.delete(user_to_delete)\n",
    "\n",
    "# 3. Commit the change\n",
    "session.commit()\n",
    "\n",
    "# Verify deletion\n",
    "charlie_exists = session.query(User).filter(User.name == 'Charlie').first()\n",
    "print(f\"Is Charlie still in the database? {charlie_exists}\")"
   ]
  },
  {
   "cell_type": "code",
   "execution_count": 10,
   "metadata": {},
   "outputs": [],
   "source": [
    "# Close the session when you're done\n",
    "session.close()"
   ]
  }
 ],
 "metadata": {
  "kernelspec": {
   "display_name": ".venv",
   "language": "python",
   "name": "python3"
  },
  "language_info": {
   "codemirror_mode": {
    "name": "ipython",
    "version": 3
   },
   "file_extension": ".py",
   "mimetype": "text/x-python",
   "name": "python",
   "nbconvert_exporter": "python",
   "pygments_lexer": "ipython3",
   "version": "3.10.11"
  }
 },
 "nbformat": 4,
 "nbformat_minor": 4
}
