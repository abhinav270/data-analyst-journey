{
 "cells": [
  {
   "cell_type": "markdown",
   "metadata": {},
   "source": [
    "# Level 12: Best Practices & Real-World Usage"
   ]
  },
  {
   "cell_type": "markdown",
   "metadata": {},
   "source": [
    "Moving from learning examples to building real applications requires adopting best practices that ensure your code is robust, maintainable, and efficient. This notebook covers essential patterns and tools for using SQLAlchemy in production environments."
   ]
  },
  {
   "cell_type": "markdown",
   "metadata": {},
   "source": [
    "### Setup\n",
    "We'll use a simple User model for the examples."
   ]
  },
  {
   "cell_type": "code",
   "execution_count": 1,
   "metadata": {},
   "outputs": [],
   "source": [
    "from sqlalchemy import create_engine, Column, Integer, String\n",
    "from sqlalchemy.orm import declarative_base, sessionmaker\n",
    "import os\n",
    "\n",
    "db_file = 'sqlalchemy_best_practices.db'\n",
    "if os.path.exists(db_file):\n",
    "    os.remove(db_file)\n",
    "\n",
    "engine = create_engine(f'sqlite:///{db_file}')\n",
    "Base = declarative_base()\n",
    "\n",
    "class User(Base):\n",
    "    __tablename__ = 'users'\n",
    "    id = Column(Integer, primary_key=True)\n",
    "    name = Column(String)\n",
    "\n",
    "Base.metadata.create_all(engine)\n",
    "Session = sessionmaker(bind=engine)"
   ]
  },
  {
   "cell_type": "markdown",
   "metadata": {},
   "source": [
    "## 12.1 Use Context Managers for Sessions"
   ]
  },
  {
   "cell_type": "markdown",
   "metadata": {},
   "source": [
    "Manually calling `session.commit()`, `session.rollback()`, and `session.close()` can be error-prone. A much safer and cleaner pattern is to manage the session's lifecycle with a context manager. This ensures that the session is always closed and transactions are handled correctly, even if errors occur."
   ]
  },
  {
   "cell_type": "code",
   "execution_count": 2,
   "metadata": {},
   "outputs": [
    {
     "name": "stdout",
     "output_type": "stream",
     "text": [
      "--- Session opened ---\n",
      "--- Session committed ---\n",
      "--- Session closed ---\n",
      "--- Session opened ---\n",
      "--- Session rolled back ---\n",
      "--- Session closed ---\n",
      "Caught expected error: Something went wrong!\n"
     ]
    }
   ],
   "source": [
    "from contextlib import contextmanager\n",
    "\n",
    "@contextmanager\n",
    "def get_session():\n",
    "    \"\"\"Provide a transactional scope around a series of operations.\"\"\"\n",
    "    session = Session()\n",
    "    print(\"--- Session opened ---\")\n",
    "    try:\n",
    "        yield session\n",
    "        session.commit()\n",
    "        print(\"--- Session committed ---\")\n",
    "    except Exception:\n",
    "        session.rollback()\n",
    "        print(\"--- Session rolled back ---\")\n",
    "        raise\n",
    "    finally:\n",
    "        session.close()\n",
    "        print(\"--- Session closed ---\")\n",
    "\n",
    "# Usage Example 1: Success\n",
    "with get_session() as session:\n",
    "    session.add(User(name='Alice'))\n",
    "\n",
    "# Usage Example 2: Failure\n",
    "try:\n",
    "    with get_session() as session:\n",
    "        session.add(User(name='Bob'))\n",
    "        raise ValueError(\"Something went wrong!\")\n",
    "except ValueError as e:\n",
    "    print(f\"Caught expected error: {e}\")"
   ]
  },
  {
   "cell_type": "markdown",
   "metadata": {},
   "source": [
    "## 12.2 Connection Pooling"
   ]
  },
  {
   "cell_type": "markdown",
   "metadata": {},
   "source": [
    "Establishing a new connection to a database for every request is very expensive and slow. **Connection Pooling** is a technique used to maintain a 'pool' of open database connections that can be reused.\n",
    "\n",
    "**The good news:** SQLAlchemy's `Engine` manages a connection pool for you by default! When you call `engine.connect()` or use a `Session`, you are checking out a connection from this pool. When the connection is closed, it's returned to the pool, not actually terminated.\n",
    "\n",
    "For most applications, the default settings are fine. For high-traffic applications, you might need to configure parameters like `pool_size` and `max_overflow` in `create_engine`."
   ]
  },
  {
   "cell_type": "markdown",
   "metadata": {},
   "source": [
    "## 12.3 Migrations with Alembic"
   ]
  },
  {
   "cell_type": "markdown",
   "metadata": {},
   "source": [
    "What happens when you need to change your database schema after your application is already running with data? For example, you need to add a new `email` column to your `User` model.\n",
    "\n",
    "Simply changing the model and running `Base.metadata.create_all(engine)` won't work, as it doesn't modify existing tables. This is where a **database migration tool** like **Alembic** comes in.\n",
    "\n",
    "**Alembic** is the official migration tool for SQLAlchemy. It allows you to:\n",
    "1.  **Track Schema Changes:** It compares your SQLAlchemy models to the current state of the database.\n",
    "2.  **Generate Migration Scripts:** It automatically generates Python scripts that contain the `ALTER TABLE` commands needed to update the database.\n",
    "3.  **Version Control Your Database:** You can upgrade your database to a newer version or downgrade it to an older one by applying these scripts.\n",
    "\n",
    "Alembic is a command-line tool and its usage is beyond the scope of this notebook, but it is an essential part of any production SQLAlchemy application.\n",
    "\n",
    "**Learn more:** [Alembic Official Website](https://alembic.sqlalchemy.org/)"
   ]
  },
  {
   "cell_type": "markdown",
   "metadata": {},
   "source": [
    "## 12.4 Logging & Debugging"
   ]
  },
  {
   "cell_type": "markdown",
   "metadata": {},
   "source": [
    "Sometimes, you need to see the exact SQL that SQLAlchemy is generating. You can enable this by setting `echo=True` on the engine."
   ]
  },
  {
   "cell_type": "code",
   "execution_count": 3,
   "metadata": {},
   "outputs": [
    {
     "name": "stdout",
     "output_type": "stream",
     "text": [
      "2025-08-15 23:20:54,435 INFO sqlalchemy.engine.Engine BEGIN (implicit)\n",
      "2025-08-15 23:20:54,440 INFO sqlalchemy.engine.Engine SELECT users.id AS users_id, users.name AS users_name \n",
      "FROM users\n",
      " LIMIT ? OFFSET ?\n",
      "2025-08-15 23:20:54,441 INFO sqlalchemy.engine.Engine [generated in 0.00160s] (1, 0)\n",
      "2025-08-15 23:20:54,445 INFO sqlalchemy.engine.Engine ROLLBACK\n"
     ]
    }
   ],
   "source": [
    "# Create an engine with SQL echoing turned on\n",
    "echo_engine = create_engine(f'sqlite:///{db_file}', echo=True)\n",
    "\n",
    "EchoSession = sessionmaker(bind=echo_engine)\n",
    "echo_session = EchoSession()\n",
    "\n",
    "# Now, when we perform a query, the generated SQL will be printed to the console\n",
    "user = echo_session.query(User).first()\n",
    "\n",
    "echo_session.close()"
   ]
  },
  {
   "cell_type": "markdown",
   "metadata": {},
   "source": [
    "### Viewing a Query's SQL\n",
    "You can also see the SQL for a specific query object by converting it to a string."
   ]
  },
  {
   "cell_type": "code",
   "execution_count": 4,
   "metadata": {},
   "outputs": [
    {
     "name": "stdout",
     "output_type": "stream",
     "text": [
      "SELECT users.id AS users_id, users.name AS users_name \n",
      "FROM users \n",
      "WHERE users.name LIKE ?\n"
     ]
    }
   ],
   "source": [
    "query = session.query(User).filter(User.name.like('A%'))\n",
    "print(str(query))"
   ]
  }
 ],
 "metadata": {
  "kernelspec": {
   "display_name": ".venv",
   "language": "python",
   "name": "python3"
  },
  "language_info": {
   "codemirror_mode": {
    "name": "ipython",
    "version": 3
   },
   "file_extension": ".py",
   "mimetype": "text/x-python",
   "name": "python",
   "nbconvert_exporter": "python",
   "pygments_lexer": "ipython3",
   "version": "3.10.11"
  }
 },
 "nbformat": 4,
 "nbformat_minor": 4
}
