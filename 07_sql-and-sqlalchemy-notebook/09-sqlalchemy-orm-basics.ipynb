{
 "cells": [
  {
   "cell_type": "markdown",
   "metadata": {},
   "source": [
    "# Level 9: SQLAlchemy ORM – Object Relational Mapping"
   ]
  },
  {
   "cell_type": "markdown",
   "metadata": {},
   "source": [
    "This notebook introduces the **Object Relational Mapper (ORM)**, the second, higher-level part of SQLAlchemy. The ORM allows you to map your own Python classes to database tables, enabling you to interact with your database using familiar object-oriented paradigms instead of writing SQL."
   ]
  },
  {
   "cell_type": "markdown",
   "metadata": {},
   "source": [
    "## 9.1 What is ORM?"
   ]
  },
  {
   "cell_type": "markdown",
   "metadata": {},
   "source": [
    "An **Object Relational Mapper** is a technique that lets you query and manipulate data from a database using an object-oriented paradigm. When you use an ORM, you don't write SQL statements. Instead, you interact with objects and their attributes, and the ORM translates these actions into SQL commands for you.\n",
    "\n",
    "**Benefits:**\n",
    "- **Abstraction:** You can think in terms of Python objects, not database tables.\n",
    "- **Productivity:** It can be faster to write and easier to maintain Python code than complex SQL.\n",
    "- **Database Agnostic:** It's easier to switch between different database backends (e.g., from SQLite to PostgreSQL) because the ORM handles the SQL dialect differences."
   ]
  },
  {
   "cell_type": "markdown",
   "metadata": {},
   "source": [
    "### Setup\n",
    "Let's set up our engine, which is the same as with the Core."
   ]
  },
  {
   "cell_type": "code",
   "execution_count": 1,
   "metadata": {},
   "outputs": [],
   "source": [
    "from sqlalchemy import create_engine, Column, Integer, String\n",
    "import os\n",
    "\n",
    "db_file = 'sqlalchemy_orm.db'\n",
    "if os.path.exists(db_file):\n",
    "    os.remove(db_file)\n",
    "\n",
    "engine = create_engine(f'sqlite:///{db_file}')"
   ]
  },
  {
   "cell_type": "markdown",
   "metadata": {},
   "source": [
    "## 9.2 Defining Models"
   ]
  },
  {
   "cell_type": "markdown",
   "metadata": {},
   "source": [
    "In the ORM, we define our tables as Python classes. These classes are often called **models**. We use a `declarative_base` which our model classes will inherit from."
   ]
  },
  {
   "cell_type": "code",
   "execution_count": 2,
   "metadata": {},
   "outputs": [
    {
     "name": "stdout",
     "output_type": "stream",
     "text": [
      "Declarative base created.\n"
     ]
    }
   ],
   "source": [
    "from sqlalchemy.orm import declarative_base\n",
    "\n",
    "# Create a base class that our models will inherit from\n",
    "Base = declarative_base()\n",
    "\n",
    "print(\"Declarative base created.\")"
   ]
  },
  {
   "cell_type": "markdown",
   "metadata": {},
   "source": [
    "Now, we can define a `User` class that maps to a `users` table."
   ]
  },
  {
   "cell_type": "code",
   "execution_count": 3,
   "metadata": {},
   "outputs": [
    {
     "name": "stdout",
     "output_type": "stream",
     "text": [
      "User model class defined for table 'users'.\n"
     ]
    }
   ],
   "source": [
    "class User(Base):\n",
    "    # __tablename__ tells SQLAlchemy the name of the table in the database\n",
    "    __tablename__ = 'users'\n",
    "\n",
    "    # Define columns as class attributes using the Column object\n",
    "    id = Column(Integer, primary_key=True)\n",
    "    name = Column(String)\n",
    "    age = Column(Integer)\n",
    "\n",
    "    # __repr__ is a helpful method for printing a readable representation of the object\n",
    "    def __repr__(self):\n",
    "        return f\"<User(id={self.id}, name='{self.name}', age={self.age})>\"\n",
    "\n",
    "print(f\"User model class defined for table '{User.__tablename__}'.\")"
   ]
  },
  {
   "cell_type": "markdown",
   "metadata": {},
   "source": [
    "Notice how this is different from the Core. Instead of a `Table` object, we have a `User` class. The `Base` class keeps a catalog of all classes that inherit from it, similar to the `MetaData` object in the Core."
   ]
  },
  {
   "cell_type": "markdown",
   "metadata": {},
   "source": [
    "## 9.3 Creating Tables"
   ]
  },
  {
   "cell_type": "markdown",
   "metadata": {},
   "source": [
    "To create all the tables defined by our models, we use the metadata associated with our `Base` class."
   ]
  },
  {
   "cell_type": "code",
   "execution_count": 4,
   "metadata": {},
   "outputs": [
    {
     "name": "stdout",
     "output_type": "stream",
     "text": [
      "Tables defined in metadata: dict_keys(['users'])\n",
      "\n",
      "Tables created in the database.\n"
     ]
    }
   ],
   "source": [
    "# The metadata is stored on the Base class\n",
    "print(\"Tables defined in metadata:\", Base.metadata.tables.keys())\n",
    "\n",
    "# Create all tables in the database that are defined in the metadata\n",
    "Base.metadata.create_all(engine)\n",
    "\n",
    "print(\"\\nTables created in the database.\")"
   ]
  },
  {
   "cell_type": "markdown",
   "metadata": {},
   "source": [
    "Now we have a `users` table in our `sqlalchemy_orm.db` file, ready to be used. In the next notebook, we'll learn how to create, read, update, and delete data using our `User` model."
   ]
  }
 ],
 "metadata": {
  "kernelspec": {
   "display_name": ".venv",
   "language": "python",
   "name": "python3"
  },
  "language_info": {
   "codemirror_mode": {
    "name": "ipython",
    "version": 3
   },
   "file_extension": ".py",
   "mimetype": "text/x-python",
   "name": "python",
   "nbconvert_exporter": "python",
   "pygments_lexer": "ipython3",
   "version": "3.10.11"
  }
 },
 "nbformat": 4,
 "nbformat_minor": 4
}
