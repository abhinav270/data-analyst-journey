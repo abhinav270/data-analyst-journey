{
 "cells": [
  {
   "cell_type": "markdown",
   "metadata": {},
   "source": [
    "# Level 8: Introduction to SQLAlchemy (Core)"
   ]
  },
  {
   "cell_type": "markdown",
   "metadata": {},
   "source": [
    "Welcome to SQLAlchemy! While writing raw SQL is powerful, it can become cumbersome and error-prone. SQLAlchemy is a popular Python library that provides a more 'Pythonic' way to interact with databases. It acts as an abstraction layer on top of raw SQL."
   ]
  },
  {
   "cell_type": "markdown",
   "metadata": {},
   "source": [
    "## 8.1 What is SQLAlchemy?"
   ]
  },
  {
   "cell_type": "markdown",
   "metadata": {},
   "source": [
    "SQLAlchemy is composed of two distinct components:\n",
    "\n",
    "1.  **SQLAlchemy Core (SQL Expression Language):** This is a toolkit that allows you to build SQL queries using Python objects and expressions. It provides a schema-centric view, where you think about tables, columns, and queries. It's a powerful way to write database-agnostic SQL in Python.\n",
    "\n",
    "2.  **SQLAlchemy ORM (Object Relational Mapper):** This is built on top of the Core. It allows you to map your own Python classes to database tables and then interact with the database entirely through your objects, without writing any SQL. This is a more application-centric view.\n",
    "\n",
    "**In this notebook, we focus on the Core.**"
   ]
  },
  {
   "cell_type": "markdown",
   "metadata": {},
   "source": [
    "## 8.2 Installing SQLAlchemy"
   ]
  },
  {
   "cell_type": "code",
   "execution_count": 1,
   "metadata": {},
   "outputs": [
    {
     "name": "stdout",
     "output_type": "stream",
     "text": [
      "Requirement already satisfied: sqlalchemy in c:\\users\\tyagi\\documents\\learning\\data-analyst-learning\\.venv\\lib\\site-packages (2.0.43)\n",
      "Requirement already satisfied: greenlet>=1 in c:\\users\\tyagi\\documents\\learning\\data-analyst-learning\\.venv\\lib\\site-packages (from sqlalchemy) (3.2.4)\n",
      "Requirement already satisfied: typing-extensions>=4.6.0 in c:\\users\\tyagi\\documents\\learning\\data-analyst-learning\\.venv\\lib\\site-packages (from sqlalchemy) (4.14.1)\n"
     ]
    },
    {
     "name": "stderr",
     "output_type": "stream",
     "text": [
      "\n",
      "[notice] A new release of pip is available: 23.0.1 -> 25.2\n",
      "[notice] To update, run: python.exe -m pip install --upgrade pip\n"
     ]
    }
   ],
   "source": [
    "!pip install sqlalchemy"
   ]
  },
  {
   "cell_type": "markdown",
   "metadata": {},
   "source": [
    "## 8.3 Connecting to SQLite"
   ]
  },
  {
   "cell_type": "markdown",
   "metadata": {},
   "source": [
    "In SQLAlchemy, the central point of contact with the database is the **Engine**. You create it once per application."
   ]
  },
  {
   "cell_type": "code",
   "execution_count": 2,
   "metadata": {},
   "outputs": [
    {
     "name": "stdout",
     "output_type": "stream",
     "text": [
      "SQLAlchemy engine created.\n"
     ]
    }
   ],
   "source": [
    "from sqlalchemy import create_engine\n",
    "import os\n",
    "\n",
    "db_file = 'sqlalchemy_core.db'\n",
    "if os.path.exists(db_file):\n",
    "    os.remove(db_file)\n",
    "\n",
    "# The connection string for SQLite is 'sqlite:///filename.db'\n",
    "engine = create_engine(f'sqlite:///{db_file}')\n",
    "\n",
    "print(\"SQLAlchemy engine created.\")"
   ]
  },
  {
   "cell_type": "markdown",
   "metadata": {},
   "source": [
    "## 8.4 Metadata & Table Definition"
   ]
  },
  {
   "cell_type": "markdown",
   "metadata": {},
   "source": [
    "In SQLAlchemy Core, you define your database schema using `MetaData` and `Table` objects."
   ]
  },
  {
   "cell_type": "code",
   "execution_count": 3,
   "metadata": {},
   "outputs": [
    {
     "name": "stdout",
     "output_type": "stream",
     "text": [
      "Table object created: users\n"
     ]
    }
   ],
   "source": [
    "from sqlalchemy import MetaData, Table, Column, Integer, String\n",
    "\n",
    "# The MetaData object is a catalog of all our table definitions\n",
    "metadata = MetaData()\n",
    "\n",
    "# Define a 'users' table\n",
    "users_table = Table('users',\n",
    "    metadata,\n",
    "    Column('id', Integer, primary_key=True),\n",
    "    Column('name', String(50)), # String with a length\n",
    "    Column('email', String)\n",
    ")\n",
    "\n",
    "print(\"Table object created:\", users_table.name)"
   ]
  },
  {
   "cell_type": "markdown",
   "metadata": {},
   "source": [
    "### Creating the Table in the Database\n",
    "The `Table` object is just a Python definition. To actually create it in the database, we use `metadata.create_all()`."
   ]
  },
  {
   "cell_type": "code",
   "execution_count": 4,
   "metadata": {},
   "outputs": [
    {
     "name": "stdout",
     "output_type": "stream",
     "text": [
      "Table created in the database.\n"
     ]
    }
   ],
   "source": [
    "metadata.create_all(engine)\n",
    "print(\"Table created in the database.\")"
   ]
  },
  {
   "cell_type": "markdown",
   "metadata": {},
   "source": [
    "## 8.5 Executing SQL Expressions"
   ]
  },
  {
   "cell_type": "markdown",
   "metadata": {},
   "source": [
    "Now we can use our `Table` object to build queries."
   ]
  },
  {
   "cell_type": "code",
   "execution_count": 5,
   "metadata": {},
   "outputs": [
    {
     "name": "stdout",
     "output_type": "stream",
     "text": [
      "Generated SQL: INSERT INTO users (name, email) VALUES (:name, :email)\n"
     ]
    }
   ],
   "source": [
    "from sqlalchemy import insert, select\n",
    "\n",
    "# Create an insert statement\n",
    "stmt = insert(users_table).values(name='Alice', email='alice@example.com')\n",
    "print(\"Generated SQL:\", stmt)"
   ]
  },
  {
   "cell_type": "code",
   "execution_count": 6,
   "metadata": {},
   "outputs": [
    {
     "name": "stdout",
     "output_type": "stream",
     "text": [
      "Insert successful. Primary key of new row: (1,)\n"
     ]
    }
   ],
   "source": [
    "# To execute, we need a connection from the engine\n",
    "with engine.connect() as conn:\n",
    "    result = conn.execute(stmt)\n",
    "    conn.commit() # Commit the transaction\n",
    "    print(f\"Insert successful. Primary key of new row: {result.inserted_primary_key}\")"
   ]
  },
  {
   "cell_type": "markdown",
   "metadata": {},
   "source": [
    "### Building a SELECT statement"
   ]
  },
  {
   "cell_type": "code",
   "execution_count": 7,
   "metadata": {},
   "outputs": [
    {
     "name": "stdout",
     "output_type": "stream",
     "text": [
      "Generated SQL: SELECT users.id, users.name, users.email \n",
      "FROM users\n"
     ]
    }
   ],
   "source": [
    "# Build a select statement to get all users\n",
    "select_stmt = select(users_table)\n",
    "print(\"Generated SQL:\", select_stmt)"
   ]
  },
  {
   "cell_type": "code",
   "execution_count": 8,
   "metadata": {},
   "outputs": [
    {
     "name": "stdout",
     "output_type": "stream",
     "text": [
      "(1, 'Alice', 'alice@example.com')\n"
     ]
    }
   ],
   "source": [
    "with engine.connect() as conn:\n",
    "    result = conn.execute(select_stmt)\n",
    "    for row in result:\n",
    "        print(row)"
   ]
  },
  {
   "cell_type": "markdown",
   "metadata": {},
   "source": [
    "### Filtering\n",
    "You can add a `where` clause to your select statement."
   ]
  },
  {
   "cell_type": "code",
   "execution_count": 9,
   "metadata": {},
   "outputs": [
    {
     "name": "stdout",
     "output_type": "stream",
     "text": [
      "Generated SQL: SELECT users.id, users.name, users.email \n",
      "FROM users \n",
      "WHERE users.name = :name_1\n",
      "\n",
      "Result: (1, 'Alice', 'alice@example.com')\n"
     ]
    }
   ],
   "source": [
    "select_where_stmt = select(users_table).where(users_table.c.name == 'Alice')\n",
    "print(\"Generated SQL:\", select_where_stmt)\n",
    "\n",
    "with engine.connect() as conn:\n",
    "    result = conn.execute(select_where_stmt)\n",
    "    print(\"\\nResult:\", result.fetchone())"
   ]
  }
 ],
 "metadata": {
  "kernelspec": {
   "display_name": ".venv",
   "language": "python",
   "name": "python3"
  },
  "language_info": {
   "codemirror_mode": {
    "name": "ipython",
    "version": 3
   },
   "file_extension": ".py",
   "mimetype": "text/x-python",
   "name": "python",
   "nbconvert_exporter": "python",
   "pygments_lexer": "ipython3",
   "version": "3.10.11"
  }
 },
 "nbformat": 4,
 "nbformat_minor": 4
}
