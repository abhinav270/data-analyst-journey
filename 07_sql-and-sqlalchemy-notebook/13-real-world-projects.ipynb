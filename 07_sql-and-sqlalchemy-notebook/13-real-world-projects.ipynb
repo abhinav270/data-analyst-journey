{
 "cells": [
  {
   "cell_type": "markdown",
   "metadata": {},
   "source": [
    "# Level 13: Real-World Projects (Practice)"
   ]
  },
  {
   "cell_type": "markdown",
   "metadata": {},
   "source": [
    "Congratulations! You've covered the entire roadmap from basic SQL to advanced SQLAlchemy ORM usage. The best way to solidify this knowledge is to build something. This notebook outlines several project ideas that will challenge you to apply everything you've learned."
   ]
  },
  {
   "cell_type": "markdown",
   "metadata": {},
   "source": [
    "## Project Ideas"
   ]
  },
  {
   "cell_type": "markdown",
   "metadata": {},
   "source": [
    "For each project, try to follow these steps:\n",
    "1.  **Design the Schema:** Plan your tables, columns, and relationships.\n",
    "2.  **Define the Models:** Create the SQLAlchemy ORM classes.\n",
    "3.  **Build Core Logic:** Write the functions to perform CRUD operations.\n",
    "4.  **(Optional) Add a Frontend:** Create a simple Command-Line Interface (CLI) or a web interface with Flask/FastAPI to interact with your database."
   ]
  },
  {
   "cell_type": "markdown",
   "metadata": {},
   "source": [
    "### 1. To-Do App\n",
    "- **Concept:** A simple application to manage a list of tasks.\n",
    "- **Schema:**\n",
    "  - `tasks` table: `id` (PK), `title` (TEXT), `description` (TEXT), `due_date` (DATE), `status` (TEXT, e.g., 'pending', 'complete').\n",
    "- **Skills Practiced:** Basic CRUD, filtering by status, ordering by due date."
   ]
  },
  {
   "cell_type": "markdown",
   "metadata": {},
   "source": [
    "### 2. Blog System\n",
    "- **Concept:** A multi-user blog with posts and comments.\n",
    "- **Schema:**\n",
    "  - `users` table: `id` (PK), `username`, `email`.\n",
    "  - `posts` table: `id` (PK), `title`, `content`, `user_id` (FK to users).\n",
    "  - `comments` table: `id` (PK), `comment_text`, `post_id` (FK to posts), `user_id` (FK to users).\n",
    "  - `tags` table: `id` (PK), `tag_name`.\n",
    "  - `post_tags` (association table): `post_id`, `tag_id`.\n",
    "- **Skills Practiced:** One-to-many relationships (User-Posts), Many-to-many (Post-Tags), joins, complex queries."
   ]
  },
  {
   "cell_type": "markdown",
   "metadata": {},
   "source": [
    "### 3. Student Grade Manager\n",
    "- **Concept:** An application for teachers to manage student grades for different courses.\n",
    "- **Schema:**\n",
    "  - `students` table: `id` (PK), `first_name`, `last_name`.\n",
    "  - `courses` table: `id` (PK), `course_name`.\n",
    "  - `enrollments` (association table): `student_id`, `course_id`, `grade` (REAL).\n",
    "- **Skills Practiced:** Many-to-many relationships, aggregations (`AVG` for GPA), `GROUP BY` (to see average grade per course)."
   ]
  },
  {
   "cell_type": "markdown",
   "metadata": {},
   "source": [
    "### 4. Personal Finance Tracker\n",
    "- **Concept:** A tool to log and categorize income and expenses.\n",
    "- **Schema:**\n",
    "  - `categories` table: `id` (PK), `name` (e.g., 'Groceries', 'Salary'), `type` ('income' or 'expense').\n",
    "  - `transactions` table: `id` (PK), `description`, `amount` (REAL), `date`, `category_id` (FK to categories).\n",
    "- **Skills Practiced:** One-to-many, date filtering, `SUM` and `GROUP BY` for monthly reports."
   ]
  },
  {
   "cell_type": "markdown",
   "metadata": {},
   "source": [
    "## ✅ Learning Path Summary"
   ]
  },
  {
   "cell_type": "markdown",
   "metadata": {},
   "source": [
    "You have completed the journey from a SQL novice to a proficient SQLAlchemy user. You can now:\n",
    "\n",
    "✅ **Learn SQL:** Write `CREATE`, `INSERT`, `SELECT`, `UPDATE`, `DELETE`, and `JOIN` statements.\n",
    "✅ **Practice with SQLite in Python:** Use the `sqlite3` module to interact with a database.\n",
    "✅ **Design normalized database schema:** Understand and apply normalization principles (1NF, 2NF, 3NF).\n",
    "✅ **Install and connect SQLAlchemy:** Use the `Engine` to connect to databases.\n",
    "✅ **Define models using ORM:** Map Python classes to database tables.\n",
    "✅ **Perform CRUD operations:** Use the ORM Session to manage data.\n",
    "✅ **Add relationships:** Model one-to-many and many-to-many relationships.\n",
    "✅ **Use sessions and transactions safely:** Use context managers to ensure data integrity.\n",
    "✅ **Handle real-world constraints and queries:** Use advanced features like eager loading and aggregations.\n",
    "✅ **Use Alembic for schema versioning:** Understand the need for a migration tool.\n",
    "\n",
    "The next step is to integrate this knowledge into a larger application, perhaps with a web framework like Flask or FastAPI. Good luck!"
   ]
  }
 ],
 "metadata": {
  "kernelspec": {
   "display_name": "Python 3",
   "language": "python",
   "name": "python3"
  },
  "language_info": {
   "codemirror_mode": {
    "name": "ipython",
    "version": 3
   },
   "file_extension": ".py",
   "mimetype": "text/x-python",
   "name": "python",
   "nbconvert_exporter": "python",
   "pygments_lexer": "ipython3",
   "version": "3.10.0"
  }
 },
 "nbformat": 4,
 "nbformat_minor": 4
}
