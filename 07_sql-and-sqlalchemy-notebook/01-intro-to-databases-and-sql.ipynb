{
 "cells": [
  {
   "cell_type": "markdown",
   "metadata": {},
   "source": [
    "# Level 1: Introduction to Databases & SQL"
   ]
  },
  {
   "cell_type": "markdown",
   "metadata": {},
   "source": [
    "Welcome to the SQL and SQLAlchemy series! This first notebook introduces the fundamental concepts of databases and SQL, the language used to interact with them. We'll also get set up with SQLite, a lightweight and easy-to-use database engine that's built right into Python."
   ]
  },
  {
   "cell_type": "markdown",
   "metadata": {},
   "source": [
    "## 1.1 What is a Database?"
   ]
  },
  {
   "cell_type": "markdown",
   "metadata": {},
   "source": [
    "A **database** is an organized collection of structured information, or data, typically stored electronically in a computer system. At its core, a database is designed for efficient storage, retrieval, and management of data.\n",
    "\n",
    "### Relational vs. NoSQL\n",
    "- **Relational Databases (like SQLite, PostgreSQL, MySQL):** Organize data into one or more **tables**. Each table consists of **rows** and **columns**. The relationships between tables are defined, which is why they are called 'relational'. They use SQL (Structured Query Language).\n",
    "- **NoSQL Databases (like MongoDB, Redis):** Use a variety of other models, such as key-value, document, or graph formats. They are more flexible but can be less structured. We will be focusing on relational databases.\n",
    "\n",
    "### Key Terminology\n",
    "- **Table:** A collection of related data held in a table format within a database. (e.g., a `users` table).\n",
    "- **Column (or Field):** A vertical entity in a table that contains all information of one specific type. (e.g., an `age` column).\n",
    "- **Row (or Record):** A horizontal entity in a table, representing a single data item. (e.g., a single user's information).\n",
    "- **Primary Key:** A column (or set of columns) that uniquely identifies each row in a table. It must contain UNIQUE values and cannot contain NULL values.\n",
    "- **Foreign Key:** A key used to link two tables together. It's a field in one table that refers to the PRIMARY KEY in another table."
   ]
  },
  {
   "cell_type": "markdown",
   "metadata": {},
   "source": [
    "## 1.2 What is SQL?"
   ]
  },
  {
   "cell_type": "markdown",
   "metadata": {},
   "source": [
    "**SQL (Structured Query Language)** is the standard language for dealing with Relational Databases. It's used to perform tasks such as query data, update data, and manage the database schema.\n",
    "\n",
    "SQL commands are typically divided into categories:\n",
    "- **DQL (Data Query Language):** Used to query the database. The main command is `SELECT`.\n",
    "- **DDL (Data Definition Language):** Used to define the database schema. Commands include `CREATE TABLE`, `ALTER TABLE`, `DROP TABLE`.\n",
    "- **DML (Data Manipulation Language):** Used for adding, deleting, and modifying data. Commands include `INSERT`, `UPDATE`, `DELETE`.\n",
    "- **DCL (Data Control Language):** Used for managing database security. Commands include `GRANT`, `REVOKE`.\n",
    "- **TCL (Transaction Control Language):** Used to manage transactions. Commands include `COMMIT`, `ROLLBACK`."
   ]
  },
  {
   "cell_type": "markdown",
   "metadata": {},
   "source": [
    "## 1.3 Setting Up SQLite"
   ]
  },
  {
   "cell_type": "markdown",
   "metadata": {},
   "source": [
    "**Why SQLite?**\n",
    "- **Lightweight & Serverless:** The entire database is stored in a single file (`.db` or `.sqlite`). There's no need to install or run a separate server process.\n",
    "- **Built into Python:** The `sqlite3` module is part of Python's standard library, so there's nothing extra to install.\n",
    "- **Perfect for Learning:** Its simplicity makes it ideal for learning SQL and for small to medium-sized applications.\n",
    "\n",
    "**Tools:**\n",
    "- **DB Browser for SQLite:** A free, open-source visual tool to create, design, and edit database files compatible with SQLite. (https://sqlitebrowser.org/)\n",
    "- **VS Code Extensions:** Extensions like \"SQLite\" by alexcvzz allow you to explore `.db` files directly within VS Code."
   ]
  },
  {
   "cell_type": "markdown",
   "metadata": {},
   "source": [
    "## 1.4 First Steps with SQLite in Python"
   ]
  },
  {
   "cell_type": "markdown",
   "metadata": {},
   "source": [
    "The basic workflow for interacting with an SQLite database in Python is:\n",
    "1.  **Connect** to the database file.\n",
    "2.  Create a **cursor** object.\n",
    "3.  **Execute** an SQL query using the cursor.\n",
    "4.  **Commit** the transaction to save changes.\n",
    "5.  **Close** the connection."
   ]
  },
  {
   "cell_type": "code",
   "execution_count": 1,
   "metadata": {},
   "outputs": [
    {
     "name": "stdout",
     "output_type": "stream",
     "text": [
      "Successfully connected to example.db\n",
      "Cursor created.\n",
      "'users' table created.\n",
      "Changes committed.\n",
      "Connection closed.\n"
     ]
    }
   ],
   "source": [
    "import sqlite3\n",
    "import os\n",
    "\n",
    "# Define the database file name\n",
    "db_file = 'example.db'\n",
    "\n",
    "# Clean up previous database file if it exists\n",
    "if os.path.exists(db_file):\n",
    "    os.remove(db_file)\n",
    "\n",
    "# 1. Connect to the database. This will create the file if it doesn't exist.\n",
    "conn = sqlite3.connect(db_file)\n",
    "print(f\"Successfully connected to {db_file}\")\n",
    "\n",
    "# 2. Create a cursor object. The cursor is used to execute SQL statements.\n",
    "cursor = conn.cursor()\n",
    "print(\"Cursor created.\")\n",
    "\n",
    "# 3. Execute a query (we'll learn CREATE TABLE in the next notebook)\n",
    "cursor.execute(\"\"\"\n",
    "CREATE TABLE users (\n",
    "    id INTEGER PRIMARY KEY, \n",
    "    name TEXT NOT NULL\n",
    ")\n",
    "\"\"\")\n",
    "print(\"'users' table created.\")\n",
    "\n",
    "# 4. Commit the changes. This saves the transaction.\n",
    "conn.commit()\n",
    "print(\"Changes committed.\")\n",
    "\n",
    "# 5. Close the connection.\n",
    "conn.close()\n",
    "print(\"Connection closed.\")"
   ]
  },
  {
   "cell_type": "markdown",
   "metadata": {},
   "source": [
    "Now you have a file named `example.db` in your directory. You can inspect it with a tool like DB Browser for SQLite to see the `users` table you created."
   ]
  }
 ],
 "metadata": {
  "kernelspec": {
   "display_name": ".venv",
   "language": "python",
   "name": "python3"
  },
  "language_info": {
   "codemirror_mode": {
    "name": "ipython",
    "version": 3
   },
   "file_extension": ".py",
   "mimetype": "text/x-python",
   "name": "python",
   "nbconvert_exporter": "python",
   "pygments_lexer": "ipython3",
   "version": "3.10.11"
  }
 },
 "nbformat": 4,
 "nbformat_minor": 4
}
