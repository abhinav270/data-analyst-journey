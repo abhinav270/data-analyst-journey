{
 "cells": [
  {
   "cell_type": "markdown",
   "metadata": {},
   "source": [
    "# Level 7: Working with SQLite in Python (Raw SQL)"
   ]
  },
  {
   "cell_type": "markdown",
   "metadata": {},
   "source": [
    "This notebook takes a deeper dive into using Python's built-in `sqlite3` module. We will focus on best practices for executing queries safely and efficiently, handling transactions, and preventing common security vulnerabilities like SQL injection."
   ]
  },
  {
   "cell_type": "markdown",
   "metadata": {},
   "source": [
    "### Setup\n",
    "Let's create a fresh database for our examples."
   ]
  },
  {
   "cell_type": "code",
   "execution_count": 1,
   "metadata": {},
   "outputs": [],
   "source": [
    "import sqlite3\n",
    "import os\n",
    "\n",
    "db_file = 'python_sqlite.db'\n",
    "if os.path.exists(db_file):\n",
    "    os.remove(db_file)\n",
    "\n",
    "conn = sqlite3.connect(db_file)\n",
    "cursor = conn.cursor()\n",
    "\n",
    "cursor.execute(\"\"\"\n",
    "CREATE TABLE users (\n",
    "    id INTEGER PRIMARY KEY,\n",
    "    name TEXT NOT NULL,\n",
    "    email TEXT UNIQUE\n",
    ");\n",
    "\"\"\")\n",
    "conn.commit()"
   ]
  },
  {
   "cell_type": "markdown",
   "metadata": {},
   "source": [
    "## 7.1 Using the `sqlite3` Module"
   ]
  },
  {
   "cell_type": "markdown",
   "metadata": {},
   "source": [
    "The basic flow is `connect -> cursor -> execute -> fetch/commit -> close`."
   ]
  },
  {
   "cell_type": "markdown",
   "metadata": {},
   "source": [
    "### Fetching Results\n",
    "After a `SELECT` query, you can retrieve the results in several ways:"
   ]
  },
  {
   "cell_type": "code",
   "execution_count": 2,
   "metadata": {},
   "outputs": [
    {
     "name": "stdout",
     "output_type": "stream",
     "text": [
      "Fetch one: (1, 'Alice', 'alice@example.com')\n",
      "Fetch all: [(1, 'Alice', 'alice@example.com'), (2, 'Bob', 'bob@example.com')]\n"
     ]
    }
   ],
   "source": [
    "cursor.execute(\"INSERT INTO users (name, email) VALUES (?, ?)\", ('Alice', 'alice@example.com'))\n",
    "cursor.execute(\"INSERT INTO users (name, email) VALUES (?, ?)\", ('Bob', 'bob@example.com'))\n",
    "conn.commit()\n",
    "\n",
    "cursor.execute(\"SELECT * FROM users;\")\n",
    "\n",
    "# .fetchone(): Fetches the next row in the result set.\n",
    "print(\"Fetch one:\", cursor.fetchone())\n",
    "\n",
    "# .fetchall(): Fetches all remaining rows.\n",
    "cursor.execute(\"SELECT * FROM users;\") # Re-execute query\n",
    "print(\"Fetch all:\", cursor.fetchall())"
   ]
  },
  {
   "cell_type": "markdown",
   "metadata": {},
   "source": [
    "## 7.2 Parameterized Queries (Prevent SQL Injection)"
   ]
  },
  {
   "cell_type": "markdown",
   "metadata": {},
   "source": [
    "**SQL Injection** is a common attack where malicious SQL code is inserted into input fields. **Never** use Python's f-strings or string formatting (`%`) to build queries with user input."
   ]
  },
  {
   "cell_type": "code",
   "execution_count": 3,
   "metadata": {},
   "outputs": [],
   "source": [
    "# DANGEROUS: DO NOT DO THIS!\n",
    "user_input = \"'Alice'; DROP TABLE users; --\"\n",
    "# query = f\"SELECT * FROM users WHERE name = '{user_input}'\"\n",
    "# print(query) # This would execute a malicious command"
   ]
  },
  {
   "cell_type": "markdown",
   "metadata": {},
   "source": [
    "### The Correct Way: Use Placeholders\n",
    "The `sqlite3` module will safely handle the parameters for you."
   ]
  },
  {
   "cell_type": "code",
   "execution_count": 4,
   "metadata": {},
   "outputs": [
    {
     "name": "stdout",
     "output_type": "stream",
     "text": [
      "Safely fetched user: (1, 'Alice', 'alice@example.com')\n"
     ]
    }
   ],
   "source": [
    "user_name = 'Alice'\n",
    "\n",
    "# Use a '?' as a placeholder for each parameter\n",
    "cursor.execute(\"SELECT * FROM users WHERE name = ?\", (user_name,))\n",
    "print(\"Safely fetched user:\", cursor.fetchone())"
   ]
  },
  {
   "cell_type": "markdown",
   "metadata": {},
   "source": [
    "## 7.3 Transactions"
   ]
  },
  {
   "cell_type": "markdown",
   "metadata": {},
   "source": [
    "A **transaction** is a sequence of operations performed as a single logical unit of work. All operations in a transaction must succeed; if any one of them fails, the entire transaction is rolled back.\n",
    "\n",
    "- `conn.commit()`: Saves the changes made in the current transaction.\n",
    "- `conn.rollback()`: Reverts any changes made since the last commit."
   ]
  },
  {
   "cell_type": "code",
   "execution_count": 5,
   "metadata": {},
   "outputs": [
    {
     "name": "stdout",
     "output_type": "stream",
     "text": [
      "Error: UNIQUE constraint failed: users.email\n",
      "Rolling back transaction...\n"
     ]
    }
   ],
   "source": [
    "try:\n",
    "    # Try to insert a user with an email that already exists (violates UNIQUE constraint)\n",
    "    cursor.execute(\"INSERT INTO users (name, email) VALUES (?, ?)\", ('Another Alice', 'alice@example.com'))\n",
    "    conn.commit() # This line won't be reached\n",
    "except sqlite3.IntegrityError as e:\n",
    "    print(f\"Error: {e}\")\n",
    "    print(\"Rolling back transaction...\")\n",
    "    conn.rollback()"
   ]
  },
  {
   "cell_type": "markdown",
   "metadata": {},
   "source": [
    "### Using a Context Manager\n",
    "The connection object can be used as a context manager, which automatically handles committing on success or rolling back on an exception."
   ]
  },
  {
   "cell_type": "code",
   "execution_count": 6,
   "metadata": {},
   "outputs": [
    {
     "name": "stdout",
     "output_type": "stream",
     "text": [
      "\n",
      "Error in context manager: UNIQUE constraint failed: users.email\n",
      "Was Charlie added? None\n"
     ]
    }
   ],
   "source": [
    "try:\n",
    "    with conn:\n",
    "        # This will automatically be rolled back if an error occurs inside the 'with' block\n",
    "        conn.execute(\"INSERT INTO users (name, email) VALUES (?, ?)\", ('Charlie', 'charlie@example.com'))\n",
    "        conn.execute(\"INSERT INTO users (name, email) VALUES (?, ?)\", ('Another Bob', 'bob@example.com')) # This will fail\n",
    "except sqlite3.IntegrityError as e:\n",
    "    print(f\"\\nError in context manager: {e}\")\n",
    "\n",
    "# Check if Charlie was added (he shouldn't have been, due to the rollback)\n",
    "cursor.execute(\"SELECT * FROM users WHERE name = 'Charlie'\")\n",
    "print(\"Was Charlie added?\", cursor.fetchone())"
   ]
  },
  {
   "cell_type": "markdown",
   "metadata": {},
   "source": [
    "## 7.4 Reading & Writing Data Efficiently"
   ]
  },
  {
   "cell_type": "markdown",
   "metadata": {},
   "source": [
    "### `executemany()` for Bulk Inserts\n",
    "As seen in a previous notebook, `executemany` is much faster for inserting multiple rows than looping with `execute`."
   ]
  },
  {
   "cell_type": "code",
   "execution_count": 7,
   "metadata": {},
   "outputs": [
    {
     "name": "stdout",
     "output_type": "stream",
     "text": [
      "Total users in table now: 4\n"
     ]
    }
   ],
   "source": [
    "new_users = [\n",
    "    ('David', 'david@example.com'),\n",
    "    ('Eva', 'eva@example.com')\n",
    "]\n",
    "\n",
    "with conn:\n",
    "    conn.executemany(\"INSERT INTO users (name, email) VALUES (?, ?)\", new_users)\n",
    "\n",
    "cursor.execute(\"SELECT COUNT(*) FROM users\")\n",
    "print(f\"Total users in table now: {cursor.fetchone()[0]}\")"
   ]
  },
  {
   "cell_type": "code",
   "execution_count": 8,
   "metadata": {},
   "outputs": [],
   "source": [
    "conn.close()"
   ]
  }
 ],
 "metadata": {
  "kernelspec": {
   "display_name": ".venv",
   "language": "python",
   "name": "python3"
  },
  "language_info": {
   "codemirror_mode": {
    "name": "ipython",
    "version": 3
   },
   "file_extension": ".py",
   "mimetype": "text/x-python",
   "name": "python",
   "nbconvert_exporter": "python",
   "pygments_lexer": "ipython3",
   "version": "3.10.11"
  }
 },
 "nbformat": 4,
 "nbformat_minor": 4
}
