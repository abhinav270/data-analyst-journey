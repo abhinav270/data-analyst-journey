{
 "cells": [
  {
   "cell_type": "markdown",
   "metadata": {},
   "source": [
    "# Level 2: SQL Basics – Data Definition Language (DDL)"
   ]
  },
  {
   "cell_type": "markdown",
   "metadata": {},
   "source": [
    "**Data Definition Language (DDL)** is the subset of SQL commands used to define and manage the structure of your database and its objects, like tables.\n",
    "\n",
    "In this notebook, we will cover:\n",
    "- `CREATE TABLE`: To create new tables.\n",
    "- `ALTER TABLE`: To modify existing tables.\n",
    "- `DROP TABLE`: To delete tables."
   ]
  },
  {
   "cell_type": "code",
   "execution_count": 1,
   "metadata": {},
   "outputs": [],
   "source": [
    "import sqlite3\n",
    "import os\n",
    "\n",
    "db_file = 'ddl_example.db'\n",
    "if os.path.exists(db_file):\n",
    "    os.remove(db_file)\n",
    "\n",
    "conn = sqlite3.connect(db_file)\n",
    "cursor = conn.cursor()"
   ]
  },
  {
   "cell_type": "markdown",
   "metadata": {},
   "source": [
    "## 2.1 Creating Tables (`CREATE TABLE`)"
   ]
  },
  {
   "cell_type": "markdown",
   "metadata": {},
   "source": [
    "The `CREATE TABLE` statement is used to create a new table. You must specify the table name and define its columns and each column's data type."
   ]
  },
  {
   "cell_type": "code",
   "execution_count": 2,
   "metadata": {},
   "outputs": [
    {
     "name": "stdout",
     "output_type": "stream",
     "text": [
      "'students' table created.\n"
     ]
    }
   ],
   "source": [
    "cursor.execute(\"\"\"\n",
    "CREATE TABLE students (\n",
    "    student_id INTEGER, \n",
    "    first_name TEXT, \n",
    "    last_name TEXT, \n",
    "    birth_date REAL\n",
    ");\n",
    "\"\"\")\n",
    "print(\"'students' table created.\")"
   ]
  },
  {
   "cell_type": "markdown",
   "metadata": {},
   "source": [
    "### Common SQLite Data Types\n",
    "- `INTEGER`: A whole number.\n",
    "- `TEXT`: A string of text.\n",
    "- `REAL`: A floating-point (decimal) number.\n",
    "- `BLOB`: Binary Large Object, for storing raw binary data (e.g., images).\n",
    "- `NUMERIC`: Can store values of any type."
   ]
  },
  {
   "cell_type": "markdown",
   "metadata": {},
   "source": [
    "## 2.2 Constraints"
   ]
  },
  {
   "cell_type": "markdown",
   "metadata": {},
   "source": [
    "Constraints are rules enforced on the data columns of a table. They ensure the accuracy and reliability of the data."
   ]
  },
  {
   "cell_type": "code",
   "execution_count": 3,
   "metadata": {},
   "outputs": [
    {
     "name": "stdout",
     "output_type": "stream",
     "text": [
      "'courses' table with constraints created.\n"
     ]
    }
   ],
   "source": [
    "cursor.execute(\"\"\"\n",
    "CREATE TABLE courses (\n",
    "    course_id INTEGER PRIMARY KEY, -- Uniquely identifies each course\n",
    "    course_name TEXT NOT NULL UNIQUE, -- Must have a value, and it must be unique\n",
    "    credits INTEGER NOT NULL CHECK(credits > 0), -- Must be a positive number\n",
    "    department TEXT DEFAULT 'General' -- Provides a default value if none is specified\n",
    ");\n",
    "\"\"\")\n",
    "print(\"'courses' table with constraints created.\")"
   ]
  },
  {
   "cell_type": "markdown",
   "metadata": {},
   "source": [
    "## 2.3 Modifying Tables (`ALTER TABLE`)"
   ]
  },
  {
   "cell_type": "markdown",
   "metadata": {},
   "source": [
    "The `ALTER TABLE` statement is used to add, delete, or modify columns in an existing table. **Note:** SQLite has limited support for `ALTER TABLE`. For example, you cannot `DROP` a column.\n",
    "\n",
    "Let's add an `email` column to our `students` table."
   ]
  },
  {
   "cell_type": "code",
   "execution_count": 4,
   "metadata": {},
   "outputs": [
    {
     "name": "stdout",
     "output_type": "stream",
     "text": [
      "Added 'email' column to 'students' table.\n"
     ]
    }
   ],
   "source": [
    "cursor.execute(\"ALTER TABLE students ADD COLUMN email TEXT;\")\n",
    "print(\"Added 'email' column to 'students' table.\")"
   ]
  },
  {
   "cell_type": "markdown",
   "metadata": {},
   "source": [
    "#### Workaround for Dropping a Column\n",
    "To drop a column in SQLite, the standard workaround is:\n",
    "1. Create a new table with the desired schema.\n",
    "2. Copy the data from the old table to the new table.\n",
    "3. Drop the old table.\n",
    "4. Rename the new table to the original name."
   ]
  },
  {
   "cell_type": "markdown",
   "metadata": {},
   "source": [
    "## 2.4 Deleting Tables (`DROP TABLE`)"
   ]
  },
  {
   "cell_type": "markdown",
   "metadata": {},
   "source": [
    "The `DROP TABLE` statement is used to permanently delete a table and all of its data."
   ]
  },
  {
   "cell_type": "code",
   "execution_count": 5,
   "metadata": {},
   "outputs": [
    {
     "name": "stdout",
     "output_type": "stream",
     "text": [
      "'students' table dropped.\n"
     ]
    }
   ],
   "source": [
    "cursor.execute(\"DROP TABLE students;\")\n",
    "print(\"'students' table dropped.\")"
   ]
  },
  {
   "cell_type": "markdown",
   "metadata": {},
   "source": [
    "To avoid an error if the table doesn't exist, you can use `IF EXISTS`."
   ]
  },
  {
   "cell_type": "code",
   "execution_count": 6,
   "metadata": {},
   "outputs": [
    {
     "name": "stdout",
     "output_type": "stream",
     "text": [
      "DROP TABLE IF EXISTS executed successfully (no error).\n"
     ]
    }
   ],
   "source": [
    "cursor.execute(\"DROP TABLE IF EXISTS students;\")\n",
    "print(\"DROP TABLE IF EXISTS executed successfully (no error).\")"
   ]
  },
  {
   "cell_type": "code",
   "execution_count": 7,
   "metadata": {},
   "outputs": [],
   "source": [
    "# Commit all the changes we've made in this session\n",
    "conn.commit()\n",
    "\n",
    "# Close the connection\n",
    "conn.close()"
   ]
  }
 ],
 "metadata": {
  "kernelspec": {
   "display_name": ".venv",
   "language": "python",
   "name": "python3"
  },
  "language_info": {
   "codemirror_mode": {
    "name": "ipython",
    "version": 3
   },
   "file_extension": ".py",
   "mimetype": "text/x-python",
   "name": "python",
   "nbconvert_exporter": "python",
   "pygments_lexer": "ipython3",
   "version": "3.10.11"
  }
 },
 "nbformat": 4,
 "nbformat_minor": 4
}
