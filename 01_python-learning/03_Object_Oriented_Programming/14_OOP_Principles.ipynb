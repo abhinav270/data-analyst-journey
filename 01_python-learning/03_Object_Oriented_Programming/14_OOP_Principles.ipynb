{
 "cells": [
  {
   "cell_type": "markdown",
   "metadata": {},
   "source": [
    "# 🟠 14. OOP Principles\n",
    "\n",
    "**Goal:** Understand the core concepts that make Object-Oriented Programming a powerful paradigm for building complex, maintainable software.\n",
    "\n",
    "There are four main principles at the heart of OOP. This notebook will introduce each one with examples.\n",
    "\n",
    "| Concept | Explanation |\n",
    "|---|---|\n",
    "| **Encapsulation** | Bundling data (attributes) and methods that work on the data into a single unit (a class), and restricting direct access to some of the object's components. |\n",
    "| **Inheritance** | A mechanism for creating a new class (child) from an existing class (parent), inheriting its attributes and methods. |\n",
    "| **Polymorphism** | The ability of different objects to respond to the same method call in their own unique ways. |\n",
    "| **Abstraction** | Hiding complex implementation details and showing only the necessary features of an object. |"
   ]
  },
  {
   "cell_type": "markdown",
   "metadata": {},
   "source": [
    "### 1. Encapsulation\n",
    "\n",
    "Encapsulation is about protecting the data within an object from outside interference. In Python, we don't have true `private` variables like in Java or C++, but we use a convention:\n",
    "- **`_single_underscore`**: A hint to other programmers that this attribute is intended for internal use (it's \"protected\").\n",
    "- **`__double_underscore`**: Triggers \"name mangling\", making it harder to access from outside the class (it's \"private\")."
   ]
  },
  {
   "cell_type": "code",
   "execution_count": 1,
   "metadata": {},
   "outputs": [
    {
     "name": "stdout",
     "output_type": "stream",
     "text": [
      "Employee Name: Alice\n",
      "Salary: $90000\n",
      "Error: 'Employee' object has no attribute '__salary'\n"
     ]
    }
   ],
   "source": [
    "class Employee:\n",
    "    def __init__(self, name, salary):\n",
    "        self.name = name # Public attribute\n",
    "        self.__salary = salary # Private attribute\n",
    "\n",
    "    def get_salary(self):\n",
    "        \"\"\"A public method to access the private salary.\"\"\"\n",
    "        return self.__salary\n",
    "\n",
    "emp = Employee(\"Alice\", 90000)\n",
    "print(f\"Employee Name: {emp.name}\")\n",
    "\n",
    "# Accessing salary via the public method is the correct way\n",
    "print(f\"Salary: ${emp.get_salary()}\")\n",
    "\n",
    "# Trying to access the private attribute directly will cause an AttributeError\n",
    "try:\n",
    "    print(emp.__salary)\n",
    "except AttributeError as e:\n",
    "    print(f\"Error: {e}\")"
   ]
  },
  {
   "cell_type": "markdown",
   "metadata": {},
   "source": [
    "---"
   ]
  },
  {
   "cell_type": "markdown",
   "metadata": {},
   "source": [
    "### 2. Inheritance\n",
    "\n",
    "Inheritance allows us to define a class that inherits all the methods and properties from another class. The new class is the **child class**, and the one it inherits from is the **parent class** (or base class)."
   ]
  },
  {
   "cell_type": "code",
   "execution_count": 2,
   "metadata": {},
   "outputs": [
    {
     "name": "stdout",
     "output_type": "stream",
     "text": [
      "Fido says Woof!\n",
      "Whiskers says Meow!\n"
     ]
    }
   ],
   "source": [
    "# Parent Class\n",
    "class Animal:\n",
    "    def __init__(self, name):\n",
    "        self.name = name\n",
    "    \n",
    "    def speak(self):\n",
    "        raise NotImplementedError(\"Subclass must implement abstract method\")\n",
    "\n",
    "# Child Class\n",
    "class Dog(Animal): # Dog inherits from Animal\n",
    "    def speak(self):\n",
    "        return f\"{self.name} says Woof!\"\n",
    "\n",
    "# Another Child Class\n",
    "class Cat(Animal):\n",
    "    def speak(self):\n",
    "        return f\"{self.name} says Meow!\"\n",
    "\n",
    "my_dog = Dog(\"Fido\")\n",
    "my_cat = Cat(\"Whiskers\")\n",
    "\n",
    "print(my_dog.speak())\n",
    "print(my_cat.speak())"
   ]
  },
  {
   "cell_type": "markdown",
   "metadata": {},
   "source": [
    "---"
   ]
  },
  {
   "cell_type": "markdown",
   "metadata": {},
   "source": [
    "### 3. Polymorphism\n",
    "\n",
    "Polymorphism means \"many forms\". In OOP, it refers to the ability to use a common interface for multiple forms (data types).\n",
    "\n",
    "Notice in the example above, both `Dog` and `Cat` objects have a `speak()` method. We can call `animal.speak()` without caring whether the `animal` is a `Dog` or a `Cat`. The object itself knows how to perform the right action."
   ]
  },
  {
   "cell_type": "code",
   "execution_count": 3,
   "metadata": {},
   "outputs": [
    {
     "name": "stdout",
     "output_type": "stream",
     "text": [
      "Fido says Woof!\n",
      "Whiskers says Meow!\n"
     ]
    }
   ],
   "source": [
    "def animal_sound(animal):\n",
    "    # We can call .speak() on any object that has this method\n",
    "    print(animal.speak())\n",
    "\n",
    "# Create instances from the previous cell\n",
    "fido = Dog(\"Fido\")\n",
    "whiskers = Cat(\"Whiskers\")\n",
    "\n",
    "# Pass different objects to the same function\n",
    "animal_sound(fido)\n",
    "animal_sound(whiskers)"
   ]
  },
  {
   "cell_type": "markdown",
   "metadata": {},
   "source": [
    "---"
   ]
  },
  {
   "cell_type": "markdown",
   "metadata": {},
   "source": [
    "### 4. Abstraction\n",
    "\n",
    "Abstraction means hiding the complex reality while exposing only the essential parts. In Python, abstraction is often achieved by creating a base class that defines the methods that subclasses should implement.\n",
    "\n",
    "In our `Animal` example, the `Animal` class is abstract. We don't care *how* an animal speaks, we just know that it *can* speak. The child classes (`Dog`, `Cat`) provide the concrete implementation of the `speak` method."
   ]
  },
  {
   "cell_type": "code",
   "execution_count": 4,
   "metadata": {},
   "outputs": [
    {
     "name": "stdout",
     "output_type": "stream",
     "text": [
      "Area of square: 25\n",
      "Area of circle: 28.27\n"
     ]
    }
   ],
   "source": [
    "from abc import ABC, abstractmethod\n",
    "\n",
    "# Abstract Base Class\n",
    "class Shape(ABC):\n",
    "    @abstractmethod\n",
    "    def area(self):\n",
    "        pass\n",
    "\n",
    "# Concrete Class\n",
    "class Square(Shape):\n",
    "    def __init__(self, side):\n",
    "        self.side = side\n",
    "    \n",
    "    def area(self):\n",
    "        return self.side * self.side\n",
    "\n",
    "# Concrete Class\n",
    "class Circle(Shape):\n",
    "    def __init__(self, radius):\n",
    "        self.radius = radius\n",
    "        \n",
    "    def area(self):\n",
    "        import math\n",
    "        return math.pi * (self.radius ** 2)\n",
    "\n",
    "my_square = Square(5)\n",
    "my_circle = Circle(3)\n",
    "\n",
    "print(f\"Area of square: {my_square.area()}\")\n",
    "print(f\"Area of circle: {my_circle.area():.2f}\")"
   ]
  },
  {
   "cell_type": "markdown",
   "metadata": {},
   "source": [
    "---"
   ]
  },
  {
   "cell_type": "markdown",
   "metadata": {},
   "source": [
    "### ✍️ Exercises"
   ]
  },
  {
   "cell_type": "markdown",
   "metadata": {},
   "source": [
    "**Exercise 1 (Inheritance):** Create a `Person` parent class with `name` and `age` attributes and an `introduce()` method. Then, create a `Student` child class that inherits from `Person`. The `Student` class should have an additional attribute, `major`. Override the `introduce()` method in the `Student` class to also print the major."
   ]
  },
  {
   "cell_type": "code",
   "execution_count": 5,
   "metadata": {},
   "outputs": [],
   "source": [
    "# Your code here"
   ]
  },
  {
   "cell_type": "markdown",
   "metadata": {},
   "source": [
    "**Exercise 2 (Polymorphism):** Create two classes, `Email` and `SMS`, both with a `send()` method that prints a different message (e.g., \"Sending email...\" and \"Sending SMS...\"). Write a function `send_notification(notification_object)` that takes either an `Email` or `SMS` object and calls its `send()` method."
   ]
  },
  {
   "cell_type": "code",
   "execution_count": 6,
   "metadata": {},
   "outputs": [],
   "source": [
    "# Your code here"
   ]
  },
  {
   "cell_type": "markdown",
   "metadata": {},
   "source": [
    "---"
   ]
  },
  {
   "cell_type": "markdown",
   "metadata": {},
   "source": [
    "OOP principles help you write code that is reusable, flexible, and easy to maintain.\n",
    "\n",
    "**Next up: Special (Dunder) Methods.**"
   ]
  }
 ],
 "metadata": {
  "kernelspec": {
   "display_name": ".venv",
   "language": "python",
   "name": "python3"
  },
  "language_info": {
   "codemirror_mode": {
    "name": "ipython",
    "version": 3
   },
   "file_extension": ".py",
   "mimetype": "text/x-python",
   "name": "python",
   "nbconvert_exporter": "python",
   "pygments_lexer": "ipython3",
   "version": "3.10.11"
  }
 },
 "nbformat": 4,
 "nbformat_minor": 2
}
