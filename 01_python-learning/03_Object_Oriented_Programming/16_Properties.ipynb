{
 "cells": [
  {
   "cell_type": "markdown",
   "metadata": {},
   "source": [
    "# 🟠 16. Properties & Getters/Setters\n",
    "\n",
    "**Goal:** Learn to control access to an object's attributes, allowing for validation and computed values.\n",
    "\n",
    "Sometimes, you don't want to give direct, unrestricted access to an object's attributes. You might want to run some code whenever an attribute is read or changed. This is where properties come in.\n",
    "\n",
    "This notebook covers:\n",
    "1.  **The Problem:** Why direct attribute access can be risky.\n",
    "2.  **The `@property` Decorator:** A \"Pythonic\" way to create managed attributes (getters).\n",
    "3.  **Setters and Deleters:** How to control attribute modification and deletion."
   ]
  },
  {
   "cell_type": "markdown",
   "metadata": {},
   "source": [
    "### 1. The Problem: Direct Attribute Access\n",
    "\n",
    "Let's imagine we have a `Product` class. We want to ensure that its `price` can never be set to a negative number."
   ]
  },
  {
   "cell_type": "code",
   "execution_count": 1,
   "metadata": {},
   "outputs": [
    {
     "name": "stdout",
     "output_type": "stream",
     "text": [
      "Price: $1200\n",
      "New Price: $-50\n"
     ]
    }
   ],
   "source": [
    "class Product:\n",
    "    def __init__(self, name, price):\n",
    "        self.name = name\n",
    "        self.price = price # Direct access\n",
    "\n",
    "my_product = Product(\"Laptop\", 1200)\n",
    "print(f\"Price: ${my_product.price}\")\n",
    "\n",
    "# The problem: Nothing stops us from doing this!\n",
    "my_product.price = -50\n",
    "print(f\"New Price: ${my_product.price}\") # This shouldn't be allowed!"
   ]
  },
  {
   "cell_type": "markdown",
   "metadata": {},
   "source": [
    "---"
   ]
  },
  {
   "cell_type": "markdown",
   "metadata": {},
   "source": [
    "### 2. The `@property` Decorator (The Getter)\n",
    "\n",
    "The `@property` decorator lets you define a method that can be accessed *like an attribute* (without parentheses). This is known as a **getter**.\n",
    "\n",
    "The convention is to use a private attribute (e.g., `_price`) to store the actual data, and a public property (`price`) to control access to it."
   ]
  },
  {
   "cell_type": "code",
   "execution_count": 2,
   "metadata": {},
   "outputs": [
    {
     "name": "stdout",
     "output_type": "stream",
     "text": [
      "Getting temperature in Celsius...\n",
      "Celsius: 25\n",
      "Calculating Fahrenheit...\n",
      "Fahrenheit: 77.0\n"
     ]
    }
   ],
   "source": [
    "class Temperature:\n",
    "    def __init__(self, celsius):\n",
    "        self._celsius = celsius # Private attribute\n",
    "        \n",
    "    @property\n",
    "    def celsius(self):\n",
    "        print(\"Getting temperature in Celsius...\")\n",
    "        return self._celsius\n",
    "    \n",
    "    @property\n",
    "    def fahrenheit(self):\n",
    "        print(\"Calculating Fahrenheit...\")\n",
    "        return (self._celsius * 9/5) + 32\n",
    "\n",
    "t = Temperature(25)\n",
    "\n",
    "# Accessing the methods like attributes\n",
    "print(f\"Celsius: {t.celsius}\")\n",
    "print(f\"Fahrenheit: {t.fahrenheit}\")"
   ]
  },
  {
   "cell_type": "markdown",
   "metadata": {},
   "source": [
    "---"
   ]
  },
  {
   "cell_type": "markdown",
   "metadata": {},
   "source": [
    "### 3. Setters and Deleters\n",
    "\n",
    "What if we want to control how an attribute is *changed*? We can create a **setter** method for our property.\n",
    "\n",
    "- **`@property_name.setter`**: Defines the method that will be called when you try to assign a value to the property (`obj.prop = value`).\n",
    "- **`@property_name.deleter`**: Defines the method called when you use `del obj.prop`."
   ]
  },
  {
   "cell_type": "code",
   "execution_count": 3,
   "metadata": {},
   "outputs": [
    {
     "name": "stdout",
     "output_type": "stream",
     "text": [
      "Setting price to 25...\n",
      "The price is $25\n",
      "Error: Price cannot be negative.\n",
      "Setting price to 30...\n",
      "The new price is $30\n",
      "Deleting price...\n"
     ]
    }
   ],
   "source": [
    "class ProductWithProperties:\n",
    "    def __init__(self, name, price):\n",
    "        self.name = name\n",
    "        # Call the setter during initialization to run the validation logic\n",
    "        self.price = price \n",
    "\n",
    "    @property\n",
    "    def price(self):\n",
    "        \"\"\"This is the 'getter' method.\"\"\"\n",
    "        return self._price\n",
    "\n",
    "    @price.setter\n",
    "    def price(self, value):\n",
    "        \"\"\"This is the 'setter' method.\"\"\"\n",
    "        if value < 0:\n",
    "            raise ValueError(\"Price cannot be negative.\")\n",
    "        print(f\"Setting price to {value}...\")\n",
    "        self._price = value # The actual data is stored here\n",
    "\n",
    "    @price.deleter\n",
    "    def price(self):\n",
    "        \"\"\"This is the 'deleter' method.\"\"\"\n",
    "        print(\"Deleting price...\")\n",
    "        del self._price\n",
    "\n",
    "# Let's test it\n",
    "p = ProductWithProperties(\"Book\", 25)\n",
    "print(f\"The price is ${p.price}\")\n",
    "\n",
    "# Now try to set an invalid price\n",
    "try:\n",
    "    p.price = -10\n",
    "except ValueError as e:\n",
    "    print(f\"Error: {e}\")\n",
    "    \n",
    "# Set a valid price\n",
    "p.price = 30\n",
    "print(f\"The new price is ${p.price}\")\n",
    "\n",
    "# Delete the price\n",
    "del p.price"
   ]
  },
  {
   "cell_type": "markdown",
   "metadata": {},
   "source": [
    "---"
   ]
  },
  {
   "cell_type": "markdown",
   "metadata": {},
   "source": [
    "### ✍️ Exercises"
   ]
  },
  {
   "cell_type": "markdown",
   "metadata": {},
   "source": [
    "**Exercise 1:** Create a `Person` class with a `_name` attribute. Create a `name` property that, when set, ensures the new name is not an empty string."
   ]
  },
  {
   "cell_type": "code",
   "execution_count": 4,
   "metadata": {},
   "outputs": [],
   "source": [
    "# Your code here"
   ]
  },
  {
   "cell_type": "markdown",
   "metadata": {},
   "source": [
    "**Exercise 2:** Add a `fullname` property to a `User` class that has `first_name` and `last_name` attributes. The `fullname` property should be read-only (i.e., have no setter) and should return the first and last names combined."
   ]
  },
  {
   "cell_type": "code",
   "execution_count": 5,
   "metadata": {},
   "outputs": [],
   "source": [
    "# Your code here"
   ]
  },
  {
   "cell_type": "markdown",
   "metadata": {},
   "source": [
    "---"
   ]
  },
  {
   "cell_type": "markdown",
   "metadata": {},
   "source": [
    "Congratulations on completing Level 3! You are now well-versed in the principles of Object-Oriented Programming.\n",
    "\n",
    "**Next up: Level 4 - Advanced Python.**"
   ]
  }
 ],
 "metadata": {
  "kernelspec": {
   "display_name": ".venv",
   "language": "python",
   "name": "python3"
  },
  "language_info": {
   "codemirror_mode": {
    "name": "ipython",
    "version": 3
   },
   "file_extension": ".py",
   "mimetype": "text/x-python",
   "name": "python",
   "nbconvert_exporter": "python",
   "pygments_lexer": "ipython3",
   "version": "3.10.11"
  }
 },
 "nbformat": 4,
 "nbformat_minor": 2
}
