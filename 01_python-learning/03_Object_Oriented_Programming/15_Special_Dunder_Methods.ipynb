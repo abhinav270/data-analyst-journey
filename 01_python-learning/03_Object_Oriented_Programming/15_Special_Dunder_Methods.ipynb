{
 "cells": [
  {
   "cell_type": "markdown",
   "metadata": {},
   "source": [
    "# 🟠 15. Special (Dunder) Methods\n",
    "\n",
    "**Goal:** Make your custom objects behave like Python's built-in types by implementing special methods.\n",
    "\n",
    "Special methods, also known as \"dunder\" (double underscore) or \"magic\" methods, are named with two leading and two trailing underscores (e.g., `__init__`). They allow you to integrate your objects with Python's core syntax and features.\n",
    "\n",
    "This notebook covers some of the most common dunder methods:\n",
    "1.  **`__str__` and `__repr__`:** For string representations of your object.\n",
    "2.  **`__len__`:** To make your object work with the `len()` function.\n",
    "3.  **`__add__`:** To define the behavior of the `+` operator for your object."
   ]
  },
  {
   "cell_type": "markdown",
   "metadata": {},
   "source": [
    "### 1. `__str__` and `__repr__`\n",
    "\n",
    "- **`__str__(self)`**: Called by `str(obj)` and `print(obj)`. Should return a user-friendly, readable string representation of the object.\n",
    "- **`__repr__(self)`**: Called by `repr(obj)` and in the interactive console when an expression evaluates to an object. Should return an *unambiguous* string representation of the object, which, ideally, could be used to recreate the object (`eval(repr(obj)) == obj`).\n",
    "\n",
    "**A good rule of thumb:** If you only implement one, make it `__repr__`, as `__str__` will fall back to it."
   ]
  },
  {
   "cell_type": "code",
   "execution_count": 1,
   "metadata": {},
   "outputs": [
    {
     "name": "stdout",
     "output_type": "stream",
     "text": [
      "'The Hobbit' by J.R.R. Tolkien\n"
     ]
    },
    {
     "data": {
      "text/plain": [
       "Book(title='The Hobbit', author='J.R.R. Tolkien')"
      ]
     },
     "execution_count": 1,
     "metadata": {},
     "output_type": "execute_result"
    }
   ],
   "source": [
    "class Book:\n",
    "    def __init__(self, title, author):\n",
    "        self.title = title\n",
    "        self.author = author\n",
    "        \n",
    "    def __str__(self):\n",
    "        # User-friendly output\n",
    "        return f\"'{self.title}' by {self.author}\"\n",
    "    \n",
    "    def __repr__(self):\n",
    "        # Unambiguous, developer-friendly output\n",
    "        return f\"Book(title='{self.title}', author='{self.author}')\"\n",
    "\n",
    "my_book = Book(\"The Hobbit\", \"J.R.R. Tolkien\")\n",
    "\n",
    "# When you print the object, __str__ is called\n",
    "print(my_book)\n",
    "\n",
    "# When you inspect the object in a console (or call repr()), __repr__ is called\n",
    "my_book"
   ]
  },
  {
   "cell_type": "markdown",
   "metadata": {},
   "source": [
    "---"
   ]
  },
  {
   "cell_type": "markdown",
   "metadata": {},
   "source": [
    "### 2. `__len__`\n",
    "\n",
    "By implementing the `__len__` method, you can make your object compatible with Python's built-in `len()` function. It should return a non-negative integer."
   ]
  },
  {
   "cell_type": "code",
   "execution_count": 2,
   "metadata": {},
   "outputs": [
    {
     "name": "stdout",
     "output_type": "stream",
     "text": [
      "There are 2 books on the shelf.\n"
     ]
    }
   ],
   "source": [
    "class Bookshelf:\n",
    "    def __init__(self):\n",
    "        self.books = []\n",
    "        \n",
    "    def add_book(self, book):\n",
    "        self.books.append(book)\n",
    "        \n",
    "    def __len__(self):\n",
    "        # The length of the bookshelf is the number of books it contains\n",
    "        return len(self.books)\n",
    "\n",
    "my_shelf = Bookshelf()\n",
    "my_shelf.add_book(Book(\"Dune\", \"Frank Herbert\"))\n",
    "my_shelf.add_book(Book(\"1984\", \"George Orwell\"))\n",
    "\n",
    "print(f\"There are {len(my_shelf)} books on the shelf.\")"
   ]
  },
  {
   "cell_type": "markdown",
   "metadata": {},
   "source": [
    "---"
   ]
  },
  {
   "cell_type": "markdown",
   "metadata": {},
   "source": [
    "### 3. `__add__` (and other numeric operators)\n",
    "\n",
    "You can define how arithmetic operators like `+`, `-`, `*`, etc., work with your objects. `__add__` defines the behavior of the `+` operator."
   ]
  },
  {
   "cell_type": "code",
   "execution_count": 3,
   "metadata": {},
   "outputs": [
    {
     "name": "stdout",
     "output_type": "stream",
     "text": [
      "Vector(2, 3) + Vector(5, 1) = Vector(7, 4)\n"
     ]
    }
   ],
   "source": [
    "class Vector:\n",
    "    def __init__(self, x, y):\n",
    "        self.x = x\n",
    "        self.y = y\n",
    "        \n",
    "    def __repr__(self):\n",
    "        return f\"Vector({self.x}, {self.y})\"\n",
    "    \n",
    "    def __add__(self, other):\n",
    "        # Define what happens when you do vector1 + vector2\n",
    "        if isinstance(other, Vector):\n",
    "            new_x = self.x + other.x\n",
    "            new_y = self.y + other.y\n",
    "            return Vector(new_x, new_y) # Return a new Vector instance\n",
    "        else:\n",
    "            # It's good practice to handle unsupported types\n",
    "            return NotImplemented\n",
    "    \n",
    "v1 = Vector(2, 3)\n",
    "v2 = Vector(5, 1)\n",
    "\n",
    "v3 = v1 + v2\n",
    "print(f\"{v1} + {v2} = {v3}\")"
   ]
  },
  {
   "cell_type": "markdown",
   "metadata": {},
   "source": [
    "---"
   ]
  },
  {
   "cell_type": "markdown",
   "metadata": {},
   "source": [
    "### ✍️ Exercises"
   ]
  },
  {
   "cell_type": "markdown",
   "metadata": {},
   "source": [
    "**Exercise 1:** Create a `Playlist` class that holds a list of `songs`. Implement `__len__` so that `len(my_playlist)` returns the number of songs."
   ]
  },
  {
   "cell_type": "code",
   "execution_count": 4,
   "metadata": {},
   "outputs": [],
   "source": [
    "# Your code here"
   ]
  },
  {
   "cell_type": "markdown",
   "metadata": {},
   "source": [
    "**Exercise 2:** Add a `__str__` method to your `Playlist` class that returns a string like \"Playlist with [X] songs.\""
   ]
  },
  {
   "cell_type": "code",
   "execution_count": 5,
   "metadata": {},
   "outputs": [],
   "source": [
    "# Your code here"
   ]
  },
  {
   "cell_type": "markdown",
   "metadata": {},
   "source": [
    "**Exercise 3:** Add a `__add__` method to your `Playlist` class. Adding two playlists together should create a *new* playlist containing all the songs from both."
   ]
  },
  {
   "cell_type": "code",
   "execution_count": 6,
   "metadata": {},
   "outputs": [],
   "source": [
    "# Your code here"
   ]
  },
  {
   "cell_type": "markdown",
   "metadata": {},
   "source": [
    "---"
   ]
  },
  {
   "cell_type": "markdown",
   "metadata": {},
   "source": [
    "By mastering dunder methods, you can create classes that are intuitive and integrate seamlessly with the rest of the Python language.\n",
    "\n",
    "**Next up: Properties & Getters/Setters.**"
   ]
  }
 ],
 "metadata": {
  "kernelspec": {
   "display_name": ".venv",
   "language": "python",
   "name": "python3"
  },
  "language_info": {
   "codemirror_mode": {
    "name": "ipython",
    "version": 3
   },
   "file_extension": ".py",
   "mimetype": "text/x-python",
   "name": "python",
   "nbconvert_exporter": "python",
   "pygments_lexer": "ipython3",
   "version": "3.10.11"
  }
 },
 "nbformat": 4,
 "nbformat_minor": 2
}
