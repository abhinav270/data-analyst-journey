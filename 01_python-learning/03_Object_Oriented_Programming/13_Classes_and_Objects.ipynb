{
 "cells": [
  {
   "cell_type": "markdown",
   "metadata": {},
   "source": [
    "# 🟠 13. Classes & Objects (Detailed)\n",
    "\n",
    "**Goal:** Learn to model real-world entities using classes and objects, the foundation of Object-Oriented Programming (OOP).\n",
    "\n",
    "OOP is a programming paradigm based on the concept of \"objects\", which can contain data (attributes) and code (methods). A **class** is a blueprint for creating objects.\n",
    "\n",
    "This notebook covers:\n",
    "1.  **Creating a Class:** The `class` keyword.\n",
    "2.  **The `__init__()` Constructor:** How objects are initialized.\n",
    "3.  **Instance Attributes vs. Class Attributes:** The difference between data unique to an object and data shared by all objects of a class.\n",
    "4.  **Instance Methods:** Functions that belong to an object.\n",
    "5.  **The `self` Parameter:** Understanding how an object refers to itself."
   ]
  },
  {
   "cell_type": "markdown",
   "metadata": {},
   "source": [
    "### 1. Creating a Class\n",
    "\n",
    "A class is defined using the `class` keyword. By convention, class names are in `PascalCase` (or `CapWords`)."
   ]
  },
  {
   "cell_type": "code",
   "execution_count": 1,
   "metadata": {},
   "outputs": [
    {
     "name": "stdout",
     "output_type": "stream",
     "text": [
      "<class '__main__.Dog'>\n"
     ]
    }
   ],
   "source": [
    "class Dog:\n",
    "    pass\n",
    "\n",
    "my_dog = Dog()\n",
    "print(type(my_dog))"
   ]
  },
  {
   "cell_type": "markdown",
   "metadata": {},
   "source": [
    "---"
   ]
  },
  {
   "cell_type": "markdown",
   "metadata": {},
   "source": [
    "### 2. The `__init__()` Constructor\n",
    "\n",
    "The `__init__()` method is a special method that is called automatically when you create a new instance of a class. It's used to initialize the object's attributes. The `self` parameter refers to the instance of the class being created."
   ]
  },
  {
   "cell_type": "code",
   "execution_count": 2,
   "metadata": {},
   "outputs": [
    {
     "name": "stdout",
     "output_type": "stream",
     "text": [
      "My car's make: Toyota\n"
     ]
    }
   ],
   "source": [
    "class Car:\n",
    "    def __init__(self, make, model, year):\n",
    "        # These are INSTANCE attributes, unique to each Car object\n",
    "        self.make = make\n",
    "        self.model = model\n",
    "        self.year = year\n",
    "        self.odometer_reading = 0\n",
    "        \n",
    "my_car = Car(\"Toyota\", \"Corolla\", 2021)\n",
    "print(f\"My car's make: {my_car.make}\")"
   ]
  },
  {
   "cell_type": "markdown",
   "metadata": {},
   "source": [
    "---"
   ]
  },
  {
   "cell_type": "markdown",
   "metadata": {},
   "source": [
    "### 3. Instance Attributes vs. Class Attributes\n",
    "\n",
    "This is a key concept in OOP.\n",
    "- **Instance Attributes:** Belong to a specific instance of a class. They are defined inside the `__init__` method using `self.attribute_name = value`. Each object gets its own copy.\n",
    "- **Class Attributes:** Are shared by *all* instances of a class. They are defined directly inside the class, but outside of any method."
   ]
  },
  {
   "cell_type": "code",
   "execution_count": 3,
   "metadata": {},
   "outputs": [
    {
     "name": "stdout",
     "output_type": "stream",
     "text": [
      "Fido is 4 years old.\n",
      "Lucy is 2 years old.\n",
      "\n",
      "Fido's species: Canis lupus familiaris\n",
      "Lucy's species: Canis lupus familiaris\n",
      "Species (from class): Canis lupus familiaris\n",
      "\n",
      "Total number of dogs created: 2\n"
     ]
    }
   ],
   "source": [
    "class Dog:\n",
    "    # This is a CLASS attribute. It's shared by all dogs.\n",
    "    species = \"Canis lupus familiaris\"\n",
    "    num_dogs = 0\n",
    "\n",
    "    def __init__(self, name, age):\n",
    "        # These are INSTANCE attributes. They are unique to each dog.\n",
    "        self.name = name\n",
    "        self.age = age\n",
    "        # Increment the class attribute every time a new dog is created\n",
    "        Dog.num_dogs += 1\n",
    "\n",
    "# Create two instances\n",
    "dog1 = Dog(\"Fido\", 4)\n",
    "dog2 = Dog(\"Lucy\", 2)\n",
    "\n",
    "# Accessing instance attributes\n",
    "print(f\"{dog1.name} is {dog1.age} years old.\")\n",
    "print(f\"{dog2.name} is {dog2.age} years old.\")\n",
    "\n",
    "# Accessing class attributes\n",
    "# You can access them via the class itself or an instance\n",
    "print(f\"\\n{dog1.name}'s species: {dog1.species}\")\n",
    "print(f\"Lucy's species: {dog2.species}\")\n",
    "print(f\"Species (from class): {Dog.species}\")\n",
    "\n",
    "# The class attribute is shared\n",
    "print(f\"\\nTotal number of dogs created: {Dog.num_dogs}\")"
   ]
  },
  {
   "cell_type": "markdown",
   "metadata": {},
   "source": [
    "---"
   ]
  },
  {
   "cell_type": "markdown",
   "metadata": {},
   "source": [
    "### 4. Instance Methods\n",
    "\n",
    "Instance methods are functions defined inside a class that operate on an instance's data. The first parameter is always `self`, which gives the method access to all the instance's attributes."
   ]
  },
  {
   "cell_type": "code",
   "execution_count": 4,
   "metadata": {},
   "outputs": [
    {
     "name": "stdout",
     "output_type": "stream",
     "text": [
      "2023 Tesla Model 3\n",
      "Drove 100 miles.\n",
      "This car has 100 miles on it.\n"
     ]
    }
   ],
   "source": [
    "class Car:\n",
    "    def __init__(self, make, model, year):\n",
    "        self.make = make\n",
    "        self.model = model\n",
    "        self.year = year\n",
    "        self.odometer_reading = 0\n",
    "        \n",
    "    def get_descriptive_name(self):\n",
    "        return f\"{self.year} {self.make} {self.model}\"\n",
    "    \n",
    "    def drive(self, miles):\n",
    "        if miles > 0:\n",
    "            self.odometer_reading += miles\n",
    "            print(f\"Drove {miles} miles.\")\n",
    "        else:\n",
    "            print(\"You can't drive negative miles!\")\n",
    "            \n",
    "    def check_mileage(self):\n",
    "        print(f\"This car has {self.odometer_reading} miles on it.\")\n",
    "\n",
    "my_new_car = Car(\"Tesla\", \"Model 3\", 2023)\n",
    "print(my_new_car.get_descriptive_name())\n",
    "\n",
    "my_new_car.drive(100)\n",
    "my_new_car.check_mileage()\n"
   ]
  },
  {
   "cell_type": "markdown",
   "metadata": {},
   "source": [
    "---"
   ]
  },
  {
   "cell_type": "markdown",
   "metadata": {},
   "source": [
    "### ✍️ Exercises"
   ]
  },
  {
   "cell_type": "markdown",
   "metadata": {},
   "source": [
    "**Exercise 1:** Create a `Student` class. \n",
    "- Add a class attribute `school_name` and set it to \"University of Python\".\n",
    "- The constructor should take `name` and `student_id` as instance attributes.\n",
    "- Create two student instances and print their details, including the school name."
   ]
  },
  {
   "cell_type": "code",
   "execution_count": 5,
   "metadata": {},
   "outputs": [],
   "source": [
    "# Your code here"
   ]
  },
  {
   "cell_type": "markdown",
   "metadata": {},
   "source": [
    "**Exercise 2:** Add a method to your `Student` class called `get_info()` that returns a string like \"[Name] (ID: [student_id]) attends [school_name].\""
   ]
  },
  {
   "cell_type": "code",
   "execution_count": 6,
   "metadata": {},
   "outputs": [],
   "source": [
    "# Your code here"
   ]
  },
  {
   "cell_type": "markdown",
   "metadata": {},
   "source": [
    "---"
   ]
  },
  {
   "cell_type": "markdown",
   "metadata": {},
   "source": [
    "You've taken your first step into a larger world of programming with classes and objects!\n",
    "\n",
    "**Next up: OOP Principles.**"
   ]
  }
 ],
 "metadata": {
  "kernelspec": {
   "display_name": ".venv",
   "language": "python",
   "name": "python3"
  },
  "language_info": {
   "codemirror_mode": {
    "name": "ipython",
    "version": 3
   },
   "file_extension": ".py",
   "mimetype": "text/x-python",
   "name": "python",
   "nbconvert_exporter": "python",
   "pygments_lexer": "ipython3",
   "version": "3.10.11"
  }
 },
 "nbformat": 4,
 "nbformat_minor": 2
}
