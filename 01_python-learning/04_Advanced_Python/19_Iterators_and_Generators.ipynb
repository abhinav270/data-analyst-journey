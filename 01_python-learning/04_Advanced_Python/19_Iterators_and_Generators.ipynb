{
 "cells": [
  {
   "cell_type": "markdown",
   "metadata": {},
   "source": [
    "# 🔴 19. Iterators & Generators\n",
    "\n",
    "**Goal:** Learn how to work with sequences of data in a memory-efficient way.\n",
    "\n",
    "Iterators and generators are fundamental to how Python handles data streams. They allow you to process one item at a time instead of loading the entire sequence into memory. This is crucial for working with large datasets.\n",
    "\n",
    "This notebook covers:\n",
    "1.  **The Iterator Protocol:** `iter()` and `next()`.\n",
    "2.  **Generators:** A simpler way to create iterators using functions and the `yield` keyword.\n",
    "3.  **Generator Expressions:** A high-performance, memory-efficient generalization of list comprehensions."
   ]
  },
  {
   "cell_type": "markdown",
   "metadata": {},
   "source": [
    "### 1. The Iterator Protocol\n",
    "\n",
    "An **iterable** is any object you can loop over (like a list, string, or tuple). An **iterator** is an object that represents a stream of data. It knows how to get the *next* item in the stream.\n",
    "\n",
    "The protocol consists of two functions:\n",
    "- `iter(iterable)`: Returns an iterator object from an iterable.\n",
    "- `next(iterator)`: Retrieves the next item from the iterator. If there are no more items, it raises a `StopIteration` exception."
   ]
  },
  {
   "cell_type": "code",
   "execution_count": 5,
   "metadata": {},
   "outputs": [
    {
     "name": "stdout",
     "output_type": "stream",
     "text": [
      "<class 'list'>\n",
      "<class 'list_iterator'>\n",
      "1\n",
      "2\n",
      "3\n",
      "No more items in the iterator.\n",
      "1\n",
      "2\n",
      "3\n"
     ]
    }
   ],
   "source": [
    "my_list = [1, 2, 3]\n",
    "\n",
    "# Get an iterator from the list\n",
    "my_iterator = iter(my_list)\n",
    "\n",
    "print(type(my_list))\n",
    "print(type(my_iterator))\n",
    "\n",
    "# Use next() to get items one by one\n",
    "print(next(my_iterator)) # 1\n",
    "print(next(my_iterator)) # 2\n",
    "print(next(my_iterator)) # 3\n",
    "\n",
    "# If we call next() again, it will raise an error\n",
    "try:\n",
    "    next(my_iterator)\n",
    "except StopIteration:\n",
    "    print(\"No more items in the iterator.\")\n",
    "\n",
    "# A for loop handles this automatically!\n",
    "# It calls iter() on the list and then next() until a StopIteration occurs.\n",
    "for item in my_list:\n",
    "    print(item)"
   ]
  },
  {
   "cell_type": "markdown",
   "metadata": {},
   "source": [
    "---"
   ]
  },
  {
   "cell_type": "markdown",
   "metadata": {},
   "source": [
    "### 2. Generators (using `yield`)\n",
    "\n",
    "A **generator** is a special kind of iterator. It's a function that, instead of using `return` to send back a value once, uses `yield` to produce a series of values, one at a time. It pauses its state between calls.\n",
    "\n",
    "This is incredibly powerful and memory-efficient for creating sequences, especially infinite ones or very large ones."
   ]
  },
  {
   "cell_type": "code",
   "execution_count": 6,
   "metadata": {},
   "outputs": [
    {
     "name": "stdout",
     "output_type": "stream",
     "text": [
      "--- Using the list version ---\n",
      "[0, 1, 4, 9, 16]\n",
      "\n",
      "--- Using the generator version ---\n",
      "<generator object get_squares_generator at 0x0000028ED008D770>\n",
      "0\n",
      "1\n",
      "4\n",
      "9\n",
      "16\n"
     ]
    }
   ],
   "source": [
    "# A normal function to get the first N squares (builds a full list in memory)\n",
    "def get_squares_list(n):\n",
    "    squares = []\n",
    "    for i in range(n):\n",
    "        squares.append(i**2)\n",
    "    return squares\n",
    "\n",
    "# A generator function to get the first N squares (yields one value at a time)\n",
    "def get_squares_generator(n):\n",
    "    for i in range(n):\n",
    "        yield i**2\n",
    "\n",
    "print(\"--- Using the list version ---\")\n",
    "my_squares_list = get_squares_list(5)\n",
    "print(my_squares_list)\n",
    "\n",
    "print(\"\\n--- Using the generator version ---\")\n",
    "my_squares_gen = get_squares_generator(5)\n",
    "print(my_squares_gen) # It's a generator object!\n",
    "\n",
    "# You can loop over it like any other iterator\n",
    "for sq in my_squares_gen:\n",
    "    print(sq)"
   ]
  },
  {
   "cell_type": "markdown",
   "metadata": {},
   "source": [
    "Imagine `n` was 1 billion. The list version would crash your computer, but the generator version would work just fine!"
   ]
  },
  {
   "cell_type": "markdown",
   "metadata": {},
   "source": [
    "---"
   ]
  },
  {
   "cell_type": "markdown",
   "metadata": {},
   "source": [
    "### 3. Generator Expressions\n",
    "\n",
    "A generator expression is a compact, high-performance way to create a generator. It looks just like a list comprehension, but with parentheses `()` instead of square brackets `[]`."
   ]
  },
  {
   "cell_type": "code",
   "execution_count": null,
   "metadata": {},
   "outputs": [],
   "source": [
    "# List comprehension (builds the full list in memory)\n",
    "list_comp = [x*2 for x in range(10)]\n",
    "\n",
    "# Generator expression (creates a generator object, values are produced on demand)\n",
    "gen_expr = (x*2 for x in range(10))\n",
    "\n",
    "print(f\"List comprehension: {list_comp}\")\n",
    "print(f\"Generator expression: {gen_expr}\")\n",
    "\n",
    "# You can sum a generator expression without ever creating the full list\n",
    "# This is very memory efficient!\n",
    "total = sum(x*x for x in range(1000000)) # Calculates the sum of squares up to 1 million\n",
    "print(f\"\\nThe sum is large, but the memory usage was small: {total}\")"
   ]
  },
  {
   "cell_type": "markdown",
   "metadata": {},
   "source": [
    "---"
   ]
  },
  {
   "cell_type": "markdown",
   "metadata": {},
   "source": [
    "### ✍️ Exercises"
   ]
  },
  {
   "cell_type": "markdown",
   "metadata": {},
   "source": [
    "**Exercise 1:** Write a generator function `countdown(n)` that yields numbers from `n` down to 1."
   ]
  },
  {
   "cell_type": "code",
   "execution_count": null,
   "metadata": {},
   "outputs": [],
   "source": [
    "# Your code here\n",
    "\n",
    "# Test it\n",
    "for num in countdown(5):\n",
    "    print(num)"
   ]
  },
  {
   "cell_type": "markdown",
   "metadata": {},
   "source": [
    "**Exercise 2:** Create a generator expression to produce the first 10 multiples of 5 (5, 10, 15, ...). Convert it to a list to print the results."
   ]
  },
  {
   "cell_type": "code",
   "execution_count": null,
   "metadata": {},
   "outputs": [],
   "source": [
    "# Your code here"
   ]
  },
  {
   "cell_type": "markdown",
   "metadata": {},
   "source": [
    "**Exercise 3:** Write a generator function `fibonacci()` that yields the Fibonacci sequence indefinitely. Use a `for` loop to print the first 10 numbers from it (you'll need to use `break` or `enumerate` to stop the loop)."
   ]
  },
  {
   "cell_type": "code",
   "execution_count": null,
   "metadata": {},
   "outputs": [],
   "source": [
    "# Your code here"
   ]
  },
  {
   "cell_type": "markdown",
   "metadata": {},
   "source": [
    "---"
   ]
  },
  {
   "cell_type": "markdown",
   "metadata": {},
   "source": [
    "Generators are a cornerstone of efficient data processing in Python.\n",
    "\n",
    "**Next up: Decorators.**"
   ]
  }
 ],
 "metadata": {
  "kernelspec": {
   "display_name": ".venv",
   "language": "python",
   "name": "python3"
  },
  "language_info": {
   "codemirror_mode": {
    "name": "ipython",
    "version": 3
   },
   "file_extension": ".py",
   "mimetype": "text/x-python",
   "name": "python",
   "nbconvert_exporter": "python",
   "pygments_lexer": "ipython3",
   "version": "3.10.11"
  }
 },
 "nbformat": 4,
 "nbformat_minor": 2
}
