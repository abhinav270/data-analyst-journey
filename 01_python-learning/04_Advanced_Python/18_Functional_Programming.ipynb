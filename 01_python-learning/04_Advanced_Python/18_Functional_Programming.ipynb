{
 "cells": [
  {
   "cell_type": "markdown",
   "metadata": {},
   "source": [
    "# 🔴 18. Functional Programming\n",
    "\n",
    "**Goal:** Learn the principles of the functional programming paradigm to write more declarative and predictable code.\n",
    "\n",
    "Functional Programming (FP) is a style of programming that treats computation as the evaluation of mathematical functions and avoids changing-state and mutable data. Python is not a purely functional language, but it incorporates many features from functional languages.\n",
    "\n",
    "This notebook covers:\n",
    "1.  **First-Class Functions:** Treating functions like any other object.\n",
    "2.  **Lambda Functions:** Small, anonymous functions.\n",
    "3.  **`map()`, `filter()`, and `reduce()`:** Classic functional tools for working with sequences.\n",
    "4.  **List Comprehensions (Revisited):** The often more \"Pythonic\" alternative to `map` and `filter`."
   ]
  },
  {
   "cell_type": "markdown",
   "metadata": {},
   "source": [
    "### 1. First-Class Functions\n",
    "\n",
    "In Python, functions are \"first-class citizens\". This means they can be:\n",
    "- Assigned to a variable.\n",
    "- Passed as an argument to another function.\n",
    "- Returned from a function."
   ]
  },
  {
   "cell_type": "code",
   "execution_count": 1,
   "metadata": {},
   "outputs": [
    {
     "name": "stdout",
     "output_type": "stream",
     "text": [
      "Hello, Alice\n",
      "HELLO, BOB\n"
     ]
    }
   ],
   "source": [
    "def say_hello(name):\n",
    "    return f\"Hello, {name}\"\n",
    "\n",
    "# 1. Assign a function to a variable\n",
    "greet = say_hello\n",
    "print(greet(\"Alice\"))\n",
    "\n",
    "# 2. Pass a function as an argument\n",
    "def process_greeting(greeter_func, name):\n",
    "    # Calls the function that was passed in\n",
    "    return greeter_func(name).upper()\n",
    "\n",
    "print(process_greeting(say_hello, \"Bob\"))"
   ]
  },
  {
   "cell_type": "markdown",
   "metadata": {},
   "source": [
    "---"
   ]
  },
  {
   "cell_type": "markdown",
   "metadata": {},
   "source": [
    "### 2. Lambda Functions\n",
    "\n",
    "A lambda function is a small, anonymous function defined with the `lambda` keyword. It can take any number of arguments, but can only have one expression.\n",
    "\n",
    "**Syntax:** `lambda arguments: expression`"
   ]
  },
  {
   "cell_type": "code",
   "execution_count": 2,
   "metadata": {},
   "outputs": [
    {
     "name": "stdout",
     "output_type": "stream",
     "text": [
      "Regular function: 25\n",
      "Lambda function: 25\n",
      "Squared numbers using lambda with map: [1, 4, 9, 16]\n"
     ]
    }
   ],
   "source": [
    "# A regular function\n",
    "def square(x):\n",
    "    return x * x\n",
    "\n",
    "# The equivalent lambda function\n",
    "square_lambda = lambda x: x * x\n",
    "\n",
    "print(f\"Regular function: {square(5)}\")\n",
    "print(f\"Lambda function: {square_lambda(5)}\")\n",
    "\n",
    "# Lambdas are often used for short, throwaway functions (e.g., as arguments)\n",
    "numbers = [1, 2, 3, 4]\n",
    "# We'll see map() next, but notice how the lambda is used here\n",
    "squared_numbers = list(map(lambda x: x * x, numbers))\n",
    "print(f\"Squared numbers using lambda with map: {squared_numbers}\")"
   ]
  },
  {
   "cell_type": "markdown",
   "metadata": {},
   "source": [
    "---"
   ]
  },
  {
   "cell_type": "markdown",
   "metadata": {},
   "source": [
    "### 3. `map()`, `filter()`, and `reduce()`"
   ]
  },
  {
   "cell_type": "markdown",
   "metadata": {},
   "source": [
    "#### `map(function, iterable)`\n",
    "\n",
    "`map()` applies a given function to every item of an iterable (like a list) and returns a map object (which can be converted to a list)."
   ]
  },
  {
   "cell_type": "code",
   "execution_count": 3,
   "metadata": {},
   "outputs": [
    {
     "name": "stdout",
     "output_type": "stream",
     "text": [
      "<map object at 0x000002221C3E9660>\n",
      "[2, 4, 6, 8, 10]\n"
     ]
    }
   ],
   "source": [
    "nums = [1, 2, 3, 4, 5]\n",
    "\n",
    "doubled_nums = map(lambda x: x * 2, nums)\n",
    "\n",
    "print(doubled_nums) # It's a map object, not a list yet\n",
    "print(list(doubled_nums)) # Convert to a list to see the results"
   ]
  },
  {
   "cell_type": "markdown",
   "metadata": {},
   "source": [
    "#### `filter(function, iterable)`\n",
    "\n",
    "`filter()` constructs an iterator from elements of an iterable for which a function returns `True`."
   ]
  },
  {
   "cell_type": "code",
   "execution_count": 4,
   "metadata": {},
   "outputs": [
    {
     "name": "stdout",
     "output_type": "stream",
     "text": [
      "[2, 4, 6, 8]\n"
     ]
    }
   ],
   "source": [
    "nums = [1, 2, 3, 4, 5, 6, 7, 8]\n",
    "\n",
    "# Filter for only even numbers\n",
    "even_nums = filter(lambda x: x % 2 == 0, nums)\n",
    "\n",
    "print(list(even_nums))"
   ]
  },
  {
   "cell_type": "markdown",
   "metadata": {},
   "source": [
    "#### `reduce(function, iterable)`\n",
    "\n",
    "`reduce()` applies a rolling computation to sequential pairs of values in a list. It's part of the `functools` module, so it needs to be imported."
   ]
  },
  {
   "cell_type": "code",
   "execution_count": 5,
   "metadata": {},
   "outputs": [
    {
     "name": "stdout",
     "output_type": "stream",
     "text": [
      "The sum is: 10\n"
     ]
    }
   ],
   "source": [
    "from functools import reduce\n",
    "\n",
    "nums = [1, 2, 3, 4]\n",
    "\n",
    "# Calculate the sum of the list using reduce\n",
    "# (1+2=3) -> (3+3=6) -> (6+4=10)\n",
    "total = reduce(lambda x, y: x + y, nums)\n",
    "\n",
    "print(f\"The sum is: {total}\")"
   ]
  },
  {
   "cell_type": "markdown",
   "metadata": {},
   "source": [
    "---"
   ]
  },
  {
   "cell_type": "markdown",
   "metadata": {},
   "source": [
    "### 4. List Comprehensions: The Pythonic Way\n",
    "\n",
    "While `map` and `filter` are classic functional tools, in many cases, a **list comprehension** is considered more readable and \"Pythonic\"."
   ]
  },
  {
   "cell_type": "code",
   "execution_count": 6,
   "metadata": {},
   "outputs": [
    {
     "name": "stdout",
     "output_type": "stream",
     "text": [
      "Map/Filter result: [4, 8, 12]\n",
      "List Comp result:  [4, 8, 12]\n"
     ]
    }
   ],
   "source": [
    "nums = [1, 2, 3, 4, 5, 6]\n",
    "\n",
    "# Using map/filter\n",
    "doubled_evens_map = list(map(lambda x: x*2, filter(lambda x: x%2==0, nums)))\n",
    "print(f\"Map/Filter result: {doubled_evens_map}\")\n",
    "\n",
    "# Using a list comprehension\n",
    "doubled_evens_comp = [x*2 for x in nums if x%2==0]\n",
    "print(f\"List Comp result:  {doubled_evens_comp}\")"
   ]
  },
  {
   "cell_type": "markdown",
   "metadata": {},
   "source": [
    "---"
   ]
  },
  {
   "cell_type": "markdown",
   "metadata": {},
   "source": [
    "### ✍️ Exercises"
   ]
  },
  {
   "cell_type": "markdown",
   "metadata": {},
   "source": [
    "**Exercise 1:** You have a list of names `names = [\" alice \", \" bob \", \" CHARLIE \"]`. Use `map` and a `lambda` function to create a new list where each name is cleaned up (whitespace stripped and properly capitalized)."
   ]
  },
  {
   "cell_type": "code",
   "execution_count": 7,
   "metadata": {},
   "outputs": [],
   "source": [
    "names = [\" alice \", \" bob \", \" CHARLIE \"]\n",
    "# Your code here"
   ]
  },
  {
   "cell_type": "markdown",
   "metadata": {},
   "source": [
    "**Exercise 2:** You have a list of numbers. Use `filter` and a `lambda` to create a new list containing only the numbers greater than 10."
   ]
  },
  {
   "cell_type": "code",
   "execution_count": 8,
   "metadata": {},
   "outputs": [],
   "source": [
    "numbers = [5, 12, 3, 18, 9, 22]\n",
    "# Your code here"
   ]
  },
  {
   "cell_type": "markdown",
   "metadata": {},
   "source": [
    "**Exercise 3:** Rewrite Exercise 2 using a list comprehension instead of `filter`."
   ]
  },
  {
   "cell_type": "code",
   "execution_count": 9,
   "metadata": {},
   "outputs": [],
   "source": [
    "numbers = [5, 12, 3, 18, 9, 22]\n",
    "# Your code here"
   ]
  },
  {
   "cell_type": "markdown",
   "metadata": {},
   "source": [
    "---"
   ]
  },
  {
   "cell_type": "markdown",
   "metadata": {},
   "source": [
    "Functional programming techniques can lead to cleaner and more concise code, especially for data transformation tasks.\n",
    "\n",
    "**Next up: Iterators & Generators.**"
   ]
  }
 ],
 "metadata": {
  "kernelspec": {
   "display_name": ".venv",
   "language": "python",
   "name": "python3"
  },
  "language_info": {
   "codemirror_mode": {
    "name": "ipython",
    "version": 3
   },
   "file_extension": ".py",
   "mimetype": "text/x-python",
   "name": "python",
   "nbconvert_exporter": "python",
   "pygments_lexer": "ipython3",
   "version": "3.10.11"
  }
 },
 "nbformat": 4,
 "nbformat_minor": 2
}
