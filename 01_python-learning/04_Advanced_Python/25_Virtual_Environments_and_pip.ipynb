{
 "cells": [
  {
   "cell_type": "markdown",
   "metadata": {},
   "source": [
    "# 🔴 25. Virtual Environments & pip\n",
    "\n",
    "**Goal:** Learn the best practices for managing project dependencies to ensure your projects are isolated and reproducible.\n",
    "\n",
    "This is one of the most important practical skills for any Python developer. A **virtual environment** is an isolated Python environment that allows you to manage dependencies for a specific project separately from other projects and the global Python installation.\n",
    "\n",
    "This notebook covers:\n",
    "1.  **Why Use Virtual Environments?**\n",
    "2.  **Creating a Virtual Environment (`venv`).**\n",
    "3.  **Activating and Deactivating.**\n",
    "4.  **Managing Dependencies with `pip` and `requirements.txt`.**"
   ]
  },
  {
   "cell_type": "markdown",
   "metadata": {},
   "source": [
    "### 1. Why Use Virtual Environments?\n",
    "\n",
    "Imagine you have two projects:\n",
    "- **Project A** requires version 1.0 of a library (e.g., `requests==1.0`).\n",
    "- **Project B** requires version 2.0 of the same library (`requests==2.0`).\n",
    "\n",
    "If you install these libraries globally, you can't have both versions at the same time. One project will inevitably break. Virtual environments solve this by creating a self-contained directory for each project that includes a copy of the Python interpreter and its own set of installed packages."
   ]
  },
  {
   "cell_type": "markdown",
   "metadata": {},
   "source": [
    "---"
   ]
  },
  {
   "cell_type": "markdown",
   "metadata": {},
   "source": [
    "### 2. Creating a Virtual Environment (`venv`)\n",
    "\n",
    "Python 3 comes with the `venv` module built-in. To create a new virtual environment, you run a command in your terminal.\n",
    "\n",
    "**These commands are for your terminal, not this notebook!**\n",
    "\n",
    "```bash\n",
    "# Navigate to your project folder in the terminal\n",
    "# cd /path/to/your/project\n",
    "\n",
    "# Create a virtual environment named 'venv'\n",
    "# This creates a 'venv' directory in your project folder\n",
    "python3 -m venv venv\n",
    "```\n",
    "It's a strong convention to name your virtual environment directory `venv` and to add it to your project's `.gitignore` file so you don't commit it to version control."
   ]
  },
  {
   "cell_type": "markdown",
   "metadata": {},
   "source": [
    "---"
   ]
  },
  {
   "cell_type": "markdown",
   "metadata": {},
   "source": [
    "### 3. Activating and Deactivating\n",
    "\n",
    "Once created, you need to **activate** the environment to start using it. The command differs by operating system.\n",
    "\n",
    "**On macOS and Linux:**\n",
    "```bash\n",
    "source venv/bin/activate\n",
    "```\n",
    "\n",
    "**On Windows (Command Prompt):**\n",
    "```bash\n",
    "venv\\Scripts\\activate.bat\n",
    "```\n",
    "\n",
    "**On Windows (PowerShell):**\n",
    "```bash\n",
    "venv\\Scripts\\Activate.ps1\n",
    "```\n",
    "\n",
    "When the environment is active, your terminal prompt will usually change to show the environment's name, like `(venv) $`. Any `pip` commands you run will now install packages into this local environment, not the global one.\n",
    "\n",
    "To exit the environment, simply type:\n",
    "```bash\n",
    "deactivate\n",
    "```"
   ]
  },
  {
   "cell_type": "markdown",
   "metadata": {},
   "source": [
    "---"
   ]
  },
  {
   "cell_type": "markdown",
   "metadata": {},
   "source": [
    "### 4. Managing Dependencies with `pip` and `requirements.txt`\n",
    "\n",
    "This is the standard workflow for managing a project's dependencies."
   ]
  },
  {
   "cell_type": "markdown",
   "metadata": {},
   "source": [
    "#### Step 1: Activate your virtual environment.\n",
    "```bash\n",
    "source venv/bin/activate\n",
    "```"
   ]
  },
  {
   "cell_type": "markdown",
   "metadata": {},
   "source": [
    "#### Step 2: Install the packages you need.\n",
    "```bash\n",
    "(venv) $ pip install requests\n",
    "(venv) $ pip install pandas\n",
    "```"
   ]
  },
  {
   "cell_type": "markdown",
   "metadata": {},
   "source": [
    "#### Step 3: Freeze your dependencies into a `requirements.txt` file.\n",
    "The `pip freeze` command outputs a list of all packages installed in the current environment and their exact versions. We redirect this output to a file.\n",
    "```bash\n",
    "(venv) $ pip freeze > requirements.txt\n",
    "```"
   ]
  },
  {
   "cell_type": "markdown",
   "metadata": {},
   "source": [
    "Your `requirements.txt` file will look something like this:\n",
    "```\n",
    "certifi==2022.12.7\n",
    "charset-normalizer==3.0.1\n",
    "idna==3.4\n",
    "numpy==1.24.2\n",
    "pandas==1.5.3\n",
    "python-dateutil==2.8.2\n",
    "pytz==2022.7.1\n",
    "requests==2.28.2\n",
    "six==1.16.0\n",
    "urllib3==1.26.14\n",
    "```\n",
    "(Note: `requests` and `pandas` have their own dependencies, which are also included)."
   ]
  },
  {
   "cell_type": "markdown",
   "metadata": {},
   "source": [
    "#### Step 4: Share your project.\n",
    "Now, when another developer gets your code, they don't need to guess what to install. They can recreate the exact environment.\n",
    "```bash\n",
    "# 1. Create their own virtual environment\n",
    "python3 -m venv venv\n",
    "\n",
    "# 2. Activate it\n",
    "source venv/bin/activate\n",
    "\n",
    "# 3. Install all dependencies from the file\n",
    "(venv) $ pip install -r requirements.txt\n",
    "```"
   ]
  },
  {
   "cell_type": "markdown",
   "metadata": {},
   "source": [
    "---"
   ]
  },
  {
   "cell_type": "markdown",
   "metadata": {},
   "source": [
    "Congratulations! You have completed the entire Python learning roadmap, from the absolute basics to advanced, practical skills for real-world development. You are now equipped with a very strong foundation.\n",
    "\n",
    "**What's next? Practice! Go back to the project ideas in the `README.md` and start building!**"
   ]
  }
 ],
 "metadata": {
  "kernelspec": {
   "display_name": "Python 3",
   "language": "python",
   "name": "python3"
  },
  "language_info": {
   "codemirror_mode": {
    "name": "ipython",
    "version": 3
   },
   "file_extension": ".py",
   "mimetype": "text/x-python",
   "name": "python",
   "nbconvert_exporter": "python",
   "pygments_lexer": "ipython3",
   "version": "3.9.7"
  }
 },
 "nbformat": 4,
 "nbformat_minor": 2
}
