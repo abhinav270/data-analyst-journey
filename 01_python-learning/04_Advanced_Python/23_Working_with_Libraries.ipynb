{
 "cells": [
  {
   "cell_type": "markdown",
   "metadata": {},
   "source": [
    "# 🔴 23. Working with Libraries\n",
    "\n",
    "**Goal:** Get a brief tour of some of the most essential libraries in the Python ecosystem.\n",
    "\n",
    "While the standard library is powerful, the third-party libraries available on PyPI are what make Python a dominant language in fields like web development, data science, and automation. We've already installed some of these in the `requirements.txt` file.\n",
    "\n",
    "This notebook provides a quick, practical look at:\n",
    "1.  **`requests`**: For making HTTP requests to web servers.\n",
    "2.  **`os` and `shutil`**: For interacting with the file system.\n",
    "3.  **`datetime`**: For working with dates and times.\n",
    "4.  **`collections`**: For specialized, high-performance data structures."
   ]
  },
  {
   "cell_type": "markdown",
   "metadata": {},
   "source": [
    "### 1. `requests` - The Web at Your Fingertips\n",
    "\n",
    "The `requests` library is the de facto standard for making HTTP requests in Python. It simplifies the process of talking to web servers, fetching data from APIs, and more."
   ]
  },
  {
   "cell_type": "code",
   "execution_count": 1,
   "metadata": {},
   "outputs": [
    {
     "name": "stdout",
     "output_type": "stream",
     "text": [
      "Request successful!\n",
      "{'userId': 1, 'id': 1, 'title': 'delectus aut autem', 'completed': False}\n",
      "\n",
      "The title of the to-do item is: 'delectus aut autem'\n"
     ]
    }
   ],
   "source": [
    "import requests\n",
    "\n",
    "try:\n",
    "    # Make a GET request to the public JSONPlaceholder API\n",
    "    response = requests.get('https://jsonplaceholder.typicode.com/todos/1')\n",
    "    \n",
    "    # Check if the request was successful (status code 200)\n",
    "    response.raise_for_status()\n",
    "    \n",
    "    # The response body can be decoded as JSON directly into a Python dict\n",
    "    data = response.json()\n",
    "    \n",
    "    print(\"Request successful!\")\n",
    "    print(data)\n",
    "    print(f\"\\nThe title of the to-do item is: '{data['title']}'\")\n",
    "    \n",
    "except requests.exceptions.RequestException as e:\n",
    "    print(f\"An error occurred: {e}\")"
   ]
  },
  {
   "cell_type": "markdown",
   "metadata": {},
   "source": [
    "---"
   ]
  },
  {
   "cell_type": "markdown",
   "metadata": {},
   "source": [
    "### 2. `os` and `shutil` - File System Mastery\n",
    "\n",
    "- **`os`**: Provides a way of using operating system-dependent functionality like reading the environment, working with paths, and creating directories.\n",
    "- **`shutil`**: Offers high-level file operations like copying and removing files and directories."
   ]
  },
  {
   "cell_type": "code",
   "execution_count": 2,
   "metadata": {},
   "outputs": [
    {
     "name": "stdout",
     "output_type": "stream",
     "text": [
      "Current Directory: c:\\Users\\tyagi\\Documents\\Learning\\Data-Analyst-learning\\01_python-learning\\04_Advanced_Python\n",
      "Path to new directory: c:\\Users\\tyagi\\Documents\\Learning\\Data-Analyst-learning\\01_python-learning\\04_Advanced_Python\\temp_demo_dir\n",
      "Directory created (or already exists).\n",
      "File copied.\n",
      "Cleaned up the demo directory.\n"
     ]
    }
   ],
   "source": [
    "import os\n",
    "import shutil\n",
    "\n",
    "# --- os module examples ---\n",
    "current_dir = os.getcwd()\n",
    "print(f\"Current Directory: {current_dir}\")\n",
    "\n",
    "# Create a robust file path that works on any OS\n",
    "new_dir_path = os.path.join(current_dir, \"temp_demo_dir\")\n",
    "print(f\"Path to new directory: {new_dir_path}\")\n",
    "\n",
    "# Create the directory\n",
    "os.makedirs(new_dir_path, exist_ok=True)\n",
    "print(\"Directory created (or already exists).\")\n",
    "\n",
    "# --- shutil module examples ---\n",
    "# Create a dummy file to copy\n",
    "with open(os.path.join(new_dir_path, \"original.txt\"), \"w\") as f:\n",
    "    f.write(\"This is the original file.\")\n",
    "    \n",
    "# Copy the file\n",
    "shutil.copy(\n",
    "    os.path.join(new_dir_path, \"original.txt\"),\n",
    "    os.path.join(new_dir_path, \"copy.txt\")\n",
    ")\n",
    "print(\"File copied.\")\n",
    "\n",
    "# Clean up by deleting the entire directory and its contents\n",
    "shutil.rmtree(new_dir_path)\n",
    "print(\"Cleaned up the demo directory.\")"
   ]
  },
  {
   "cell_type": "markdown",
   "metadata": {},
   "source": [
    "---"
   ]
  },
  {
   "cell_type": "markdown",
   "metadata": {},
   "source": [
    "### 3. `datetime` - Handling Dates and Times\n",
    "\n",
    "The `datetime` module supplies classes for manipulating dates and times."
   ]
  },
  {
   "cell_type": "code",
   "execution_count": 3,
   "metadata": {},
   "outputs": [
    {
     "name": "stdout",
     "output_type": "stream",
     "text": [
      "Now: 2025-08-15 23:08:10.229344\n",
      "Formatted: Friday, August 15, 2025 at 11:08 PM\n",
      "Parsed: 2023-01-01 00:00:00\n",
      "Ten days from now: 2025-08-25\n"
     ]
    }
   ],
   "source": [
    "from datetime import datetime, timedelta\n",
    "\n",
    "# Get the current moment\n",
    "now = datetime.now()\n",
    "print(f\"Now: {now}\")\n",
    "\n",
    "# Formatting a datetime object into a string\n",
    "formatted_string = now.strftime(\"%A, %B %d, %Y at %I:%M %p\")\n",
    "print(f\"Formatted: {formatted_string}\")\n",
    "\n",
    "# Parsing a string into a datetime object\n",
    "date_string = \"2023-01-01\"\n",
    "parsed_date = datetime.strptime(date_string, \"%Y-%m-%d\")\n",
    "print(f\"Parsed: {parsed_date}\")\n",
    "\n",
    "# Date arithmetic\n",
    "ten_days_from_now = now + timedelta(days=10)\n",
    "print(f\"Ten days from now: {ten_days_from_now.date()}\")"
   ]
  },
  {
   "cell_type": "markdown",
   "metadata": {},
   "source": [
    "---"
   ]
  },
  {
   "cell_type": "markdown",
   "metadata": {},
   "source": [
    "### 4. `collections` - High-Performance Containers\n",
    "\n",
    "The `collections` module provides alternatives to Python's general purpose built-in containers like `dict`, `list`, `set`, and `tuple`."
   ]
  },
  {
   "cell_type": "code",
   "execution_count": 4,
   "metadata": {},
   "outputs": [
    {
     "name": "stdout",
     "output_type": "stream",
     "text": [
      "Counts: Counter({'apple': 3, 'banana': 2, 'orange': 1})\n",
      "Most common: [('apple', 3)]\n",
      "\n",
      "defaultdict: defaultdict(<class 'int'>, {'a': 1, 'b': 5})\n",
      "Value for 'c' (which doesn't exist): 0\n",
      "\n",
      "namedtuple Point: Point(x=10, y=20)\n",
      "Access by name: p.x = 10\n",
      "Access by index: p[1] = 20\n"
     ]
    }
   ],
   "source": [
    "from collections import Counter, defaultdict, namedtuple\n",
    "\n",
    "# --- Counter ---\n",
    "# Counts hashable objects. Super useful for tallying.\n",
    "my_list = [\"apple\", \"banana\", \"apple\", \"orange\", \"banana\", \"apple\"]\n",
    "counts = Counter(my_list)\n",
    "print(f\"Counts: {counts}\")\n",
    "print(f\"Most common: {counts.most_common(1)}\")\n",
    "\n",
    "# --- defaultdict ---\n",
    "# A dictionary that provides a default value for a nonexistent key.\n",
    "dd = defaultdict(int) # Default value for a new key will be int() which is 0\n",
    "dd['a'] += 1\n",
    "dd['b'] += 5\n",
    "print(f\"\\ndefaultdict: {dd}\")\n",
    "print(f\"Value for 'c' (which doesn't exist): {dd['c']}\")\n",
    "\n",
    "# --- namedtuple ---\n",
    "# A factory function for creating tuple subclasses with named fields.\n",
    "Point = namedtuple('Point', ['x', 'y'])\n",
    "p = Point(10, 20)\n",
    "print(f\"\\nnamedtuple Point: {p}\")\n",
    "print(f\"Access by name: p.x = {p.x}\")\n",
    "print(f\"Access by index: p[1] = {p[1]}\")"
   ]
  },
  {
   "cell_type": "markdown",
   "metadata": {},
   "source": [
    "---"
   ]
  },
  {
   "cell_type": "markdown",
   "metadata": {},
   "source": [
    "This is just a tiny sample of the incredible libraries available. Exploring them is part of the fun of Python!\n",
    "\n",
    "**Next up: Virtual Environments & pip.**"
   ]
  }
 ],
 "metadata": {
  "kernelspec": {
   "display_name": ".venv",
   "language": "python",
   "name": "python3"
  },
  "language_info": {
   "codemirror_mode": {
    "name": "ipython",
    "version": 3
   },
   "file_extension": ".py",
   "mimetype": "text/x-python",
   "name": "python",
   "nbconvert_exporter": "python",
   "pygments_lexer": "ipython3",
   "version": "3.10.11"
  }
 },
 "nbformat": 4,
 "nbformat_minor": 2
}
