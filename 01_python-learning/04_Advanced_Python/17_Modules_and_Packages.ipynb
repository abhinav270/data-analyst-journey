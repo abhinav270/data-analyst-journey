{
 "cells": [
  {
   "cell_type": "markdown",
   "metadata": {},
   "source": [
    "# 🔴 17. Modules & Packages\n",
    "\n",
    "**Goal:** Learn how to organize a large Python project into a logical structure using modules and packages.\n",
    "\n",
    "As your projects grow, putting all your code in one file becomes unmanageable. Modules and packages are Python's way of letting you split your code across multiple files and directories.\n",
    "\n",
    "This notebook covers:\n",
    "1.  **Modules:** What a Python module is and how to create one.\n",
    "2.  **Packages:** How to group related modules into a directory structure.\n",
    "3.  **`__init__.py`:** The special file that makes a directory a package.\n",
    "4.  **Installing External Packages:** Using `pip` to install packages from the Python Package Index (PyPI)."
   ]
  },
  {
   "cell_type": "markdown",
   "metadata": {},
   "source": [
    "### 1. What is a Module?\n",
    "\n",
    "A module is simply a file containing Python definitions and statements. The file name is the module name with the suffix `.py` appended. You can use the `import` statement to use the code from one module in another.\n",
    "\n",
    "Let's create a simple module to demonstrate."
   ]
  },
  {
   "cell_type": "code",
   "execution_count": 1,
   "metadata": {},
   "outputs": [
    {
     "name": "stdout",
     "output_type": "stream",
     "text": [
      "Created my_math_module.py\n"
     ]
    }
   ],
   "source": [
    "# We will create a file named 'my_math_module.py'\n",
    "module_content = \"\"\"\n",
    "PI = 3.14159\n",
    "\n",
    "def add(a, b):\n",
    "    return a + b\n",
    "\n",
    "def subtract(a, b):\n",
    "    return a - b\n",
    "\"\"\"\n",
    "\n",
    "with open(\"my_math_module.py\", \"w\") as f:\n",
    "    f.write(module_content)\n",
    "\n",
    "print(\"Created my_math_module.py\")"
   ]
  },
  {
   "cell_type": "code",
   "execution_count": 2,
   "metadata": {},
   "outputs": [
    {
     "name": "stdout",
     "output_type": "stream",
     "text": [
      "Value of PI from our module: 3.14159\n",
      "5 + 3 = 8\n"
     ]
    }
   ],
   "source": [
    "# Now, we can import and use our module\n",
    "import my_math_module\n",
    "\n",
    "print(f\"Value of PI from our module: {my_math_module.PI}\")\n",
    "print(f\"5 + 3 = {my_math_module.add(5, 3)}\")"
   ]
  },
  {
   "cell_type": "markdown",
   "metadata": {},
   "source": [
    "---"
   ]
  },
  {
   "cell_type": "markdown",
   "metadata": {},
   "source": [
    "### 2. What is a Package?\n",
    "\n",
    "A package is a way of structuring Python’s module namespace by using \"dotted module names\". For example, the module name `A.B` designates a submodule named `B` in a package named `A`.\n",
    "\n",
    "In simple terms, a package is a directory of Python modules. For a directory to be considered a package, it must contain a special file called `__init__.py`."
   ]
  },
  {
   "cell_type": "markdown",
   "metadata": {},
   "source": [
    "#### Example Package Structure:\n",
    "```\n",
    "my_project/\n",
    "├── main.py\n",
    "└── my_package/\n",
    "    ├── __init__.py\n",
    "    ├── module1.py\n",
    "    └── module2.py\n",
    "```\n",
    "In this structure, from `main.py`, you could import `module1` by writing `from my_package import module1`."
   ]
  },
  {
   "cell_type": "markdown",
   "metadata": {},
   "source": [
    "### 3. The `__init__.py` File\n",
    "\n",
    "The `__init__.py` file serves two main purposes:\n",
    "\n",
    "1.  **It tells Python that the directory should be treated as a package.** Without this file, you cannot import modules from that directory.\n",
    "2.  **It can contain initialization code for the package.** This code is executed when the package is imported. It can be used to set up package-level variables or to import specific submodules automatically.\n",
    "\n",
    "Often, `__init__.py` can just be an empty file."
   ]
  },
  {
   "cell_type": "code",
   "execution_count": 3,
   "metadata": {},
   "outputs": [
    {
     "name": "stdout",
     "output_type": "stream",
     "text": [
      "Created package structure.\n"
     ]
    }
   ],
   "source": [
    "import os\n",
    "\n",
    "# Create the directory structure\n",
    "os.makedirs(\"my_app/utils\", exist_ok=True)\n",
    "\n",
    "# Create the __init__.py files to make them packages\n",
    "with open(\"my_app/__init__.py\", \"w\") as f:\n",
    "    pass\n",
    "with open(\"my_app/utils/__init__.py\", \"w\") as f:\n",
    "    f.write(\"print('Utils package is being initialized.')\\n\")\n",
    "\n",
    "# Create a module inside the package\n",
    "with open(\"my_app/utils/formatters.py\", \"w\") as f:\n",
    "    f.write(\"def to_uppercase(text): return text.upper()\\n\")\n",
    "\n",
    "print(\"Created package structure.\")"
   ]
  },
  {
   "cell_type": "code",
   "execution_count": 4,
   "metadata": {},
   "outputs": [
    {
     "name": "stdout",
     "output_type": "stream",
     "text": [
      "Utils package is being initialized.\n",
      "HELLO WORLD\n"
     ]
    }
   ],
   "source": [
    "# Now we can import from our new package\n",
    "from my_app.utils import formatters\n",
    "\n",
    "print(formatters.to_uppercase(\"hello world\"))"
   ]
  },
  {
   "cell_type": "markdown",
   "metadata": {},
   "source": [
    "---"
   ]
  },
  {
   "cell_type": "markdown",
   "metadata": {},
   "source": [
    "### 4. Installing External Packages with `pip`\n",
    "\n",
    "The Python Standard Library is great, but the real power of Python comes from the vast ecosystem of third-party packages available on the Python Package Index (PyPI).\n",
    "\n",
    "You use a command-line tool called `pip` to install these packages.\n",
    "\n",
    "**Common `pip` commands:**\n",
    "- `pip install <package_name>`: Installs a package.\n",
    "- `pip install --upgrade <package_name>`: Upgrades a package to the latest version.\n",
    "- `pip uninstall <package_name>`: Removes a package.\n",
    "- `pip list`: Shows all installed packages.\n",
    "- `pip freeze > requirements.txt`: Saves all packages in the current environment to a file, which is great for sharing projects."
   ]
  },
  {
   "cell_type": "markdown",
   "metadata": {},
   "source": [
    "To run `pip` commands from a Jupyter notebook, you can prefix them with a `!`."
   ]
  },
  {
   "cell_type": "code",
   "execution_count": 5,
   "metadata": {},
   "outputs": [
    {
     "name": "stdout",
     "output_type": "stream",
     "text": [
      "Collecting requests\n",
      "  Using cached requests-2.32.4-py3-none-any.whl (64 kB)\n",
      "Collecting urllib3<3,>=1.21.1\n",
      "  Using cached urllib3-2.5.0-py3-none-any.whl (129 kB)\n",
      "Collecting charset_normalizer<4,>=2\n",
      "  Downloading charset_normalizer-3.4.3-cp310-cp310-win_amd64.whl (107 kB)\n",
      "     ---------------------------------------- 0.0/107.5 kB ? eta -:--:--\n",
      "     -------------------------------------- 107.5/107.5 kB 3.1 MB/s eta 0:00:00\n",
      "Collecting idna<4,>=2.5\n",
      "  Using cached idna-3.10-py3-none-any.whl (70 kB)\n",
      "Collecting certifi>=2017.4.17\n",
      "  Downloading certifi-2025.8.3-py3-none-any.whl (161 kB)\n",
      "     ---------------------------------------- 0.0/161.2 kB ? eta -:--:--\n",
      "     ------------------------------------- 161.2/161.2 kB 10.1 MB/s eta 0:00:00\n",
      "Installing collected packages: urllib3, idna, charset_normalizer, certifi, requests\n",
      "Successfully installed certifi-2025.8.3 charset_normalizer-3.4.3 idna-3.10 requests-2.32.4 urllib3-2.5.0\n"
     ]
    },
    {
     "name": "stderr",
     "output_type": "stream",
     "text": [
      "\n",
      "[notice] A new release of pip is available: 23.0.1 -> 25.2\n",
      "[notice] To update, run: python.exe -m pip install --upgrade pip\n"
     ]
    }
   ],
   "source": [
    "# Let's install a popular package called 'requests' for making HTTP requests\n",
    "!pip install requests"
   ]
  },
  {
   "cell_type": "code",
   "execution_count": 6,
   "metadata": {},
   "outputs": [
    {
     "name": "stdout",
     "output_type": "stream",
     "text": [
      "Successfully connected to GitHub API. Status code: 200\n"
     ]
    }
   ],
   "source": [
    "# Now that it's installed, we can import and use it\n",
    "import requests\n",
    "\n",
    "try:\n",
    "    response = requests.get(\"https://api.github.com\")\n",
    "    print(f\"Successfully connected to GitHub API. Status code: {response.status_code}\")\n",
    "except Exception as e:\n",
    "    print(f\"Could not connect. Error: {e}\")"
   ]
  },
  {
   "cell_type": "markdown",
   "metadata": {},
   "source": [
    "---"
   ]
  },
  {
   "cell_type": "markdown",
   "metadata": {},
   "source": [
    "Organizing your code into modules and packages is a key skill for writing professional Python applications.\n",
    "\n",
    "**Next up: Functional Programming.**"
   ]
  }
 ],
 "metadata": {
  "kernelspec": {
   "display_name": ".venv",
   "language": "python",
   "name": "python3"
  },
  "language_info": {
   "codemirror_mode": {
    "name": "ipython",
    "version": 3
   },
   "file_extension": ".py",
   "mimetype": "text/x-python",
   "name": "python",
   "nbconvert_exporter": "python",
   "pygments_lexer": "ipython3",
   "version": "3.10.11"
  }
 },
 "nbformat": 4,
 "nbformat_minor": 2
}
