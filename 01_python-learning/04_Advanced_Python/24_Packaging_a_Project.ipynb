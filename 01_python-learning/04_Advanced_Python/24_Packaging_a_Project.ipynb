{
 "cells": [
  {
   "cell_type": "markdown",
   "metadata": {},
   "source": [
    "# 🔴 24. Packaging a Python Project\n",
    "\n",
    "**Goal:** Learn how to package your Python project so it can be installed by others using `pip`.\n",
    "\n",
    "Once you've created a useful module or library, the next step is to make it distributable. This process is called **packaging**. The modern, standard way to do this uses a `pyproject.toml` file and tools like `build` and `twine`.\n",
    "\n",
    "This notebook covers the standard workflow:\n",
    "1.  **The Project Structure.**\n",
    "2.  **Creating `pyproject.toml`.**\n",
    "3.  **Building the Package.**\n",
    "4.  **Uploading the Package.**"
   ]
  },
  {
   "cell_type": "markdown",
   "metadata": {},
   "source": [
    "### 1. The Modern Project Structure\n",
    "\n",
    "A modern, distributable Python project typically has a structure like this. The `src` layout is preferred because it prevents common import errors.\n",
    "\n",
    "```\n",
    "my_awesome_library/\n",
    "├── src/\n",
    "│   └── my_awesome_library/\n",
    "│       ├── __init__.py\n",
    "│       └── core.py\n",
    "├── tests/\n",
    "│   └── test_core.py\n",
    "├── pyproject.toml\n",
    "├── README.md\n",
    "└── LICENSE\n",
    "```"
   ]
  },
  {
   "cell_type": "markdown",
   "metadata": {},
   "source": [
    "---"
   ]
  },
  {
   "cell_type": "markdown",
   "metadata": {},
   "source": [
    "### 2. Creating `pyproject.toml`\n",
    "\n",
    "The `pyproject.toml` file is the heart of modern Python packaging. It's a [TOML](https://toml.io) file that contains all the metadata and build instructions for your project. This single file replaces older files like `setup.py` and `setup.cfg`.\n",
    "\n",
    "Here is a minimal example of what it looks like:"
   ]
  },
  {
   "cell_type": "markdown",
   "metadata": {},
   "source": [
    "```toml\n",
    "# pyproject.toml\n",
    "\n",
    "[build-system]\n",
    "requires = [\"setuptools>=61.0\"]\n",
    "build-backend = \"setuptools.build_meta\"\n",
    "\n",
    "[project]\n",
    "name = \"my_awesome_library\"\n",
    "version = \"0.0.1\"\n",
    "authors = [\n",
    "  { name=\"Your Name\", email=\"you@example.com\" },\n",
    "]\n",
    "description = \"A small example package\"\n",
    "readme = \"README.md\"\n",
    "requires-python = \">=3.8\"\n",
    "classifiers = [\n",
    "    \"Programming Language :: Python :: 3\",\n",
    "    \"License :: OSI Approved :: MIT License\",\n",
    "    \"Operating System :: OS Independent\",\n",
    "]\n",
    "\n",
    "[project.urls]\n",
    "\"Homepage\" = \"https://github.com/you/my_awesome_library\"\n",
    "\"Bug Tracker\" = \"https://github.com/you/my_awesome_library/issues\"\n",
    "```"
   ]
  },
  {
   "cell_type": "markdown",
   "metadata": {},
   "source": [
    "**Key Sections:**\n",
    "- `[build-system]`: Tells `pip` which tools are needed to build your package (usually `setuptools`).\n",
    "- `[project]`: Contains all the metadata about your package, like its name, version, author, and dependencies (`requires-python`).\n",
    "- `[project.urls]`: Provides helpful links that will be displayed on the PyPI project page."
   ]
  },
  {
   "cell_type": "markdown",
   "metadata": {},
   "source": [
    "---"
   ]
  },
  {
   "cell_type": "markdown",
   "metadata": {},
   "source": [
    "### 3. Building the Package\n",
    "\n",
    "To build your package, you first need to install the `build` package.\n",
    "\n",
    "**These commands are for your terminal.**\n",
    "\n",
    "```bash\n",
    "# Install the build tool\n",
    "pip install build\n",
    "\n",
    "# Run the build tool in your project's root directory (where pyproject.toml is)\n",
    "python3 -m build\n",
    "```\n",
    "This command will create a `dist/` directory containing two files:\n",
    "- **A `.tar.gz` file:** This is a **source distribution** (sdist). It contains your source code and the instructions to build it.\n",
    "- **A `.whl` file:** This is a **built distribution** (wheel). It's a pre-built version of your package that can be installed quickly by `pip` without needing to be compiled on the user's machine."
   ]
  },
  {
   "cell_type": "markdown",
   "metadata": {},
   "source": [
    "---"
   ]
  },
  {
   "cell_type": "markdown",
   "metadata": {},
   "source": [
    "### 4. Uploading the Package\n",
    "\n",
    "To upload your package to the Python Package Index (PyPI) so others can install it, you use a tool called `twine`.\n",
    "\n",
    "**First, you need to register for an account** on [PyPI](https://pypi.org/) and [TestPyPI](https://test.pypi.org/). TestPyPI is a separate instance of the index where you can test your package before uploading it to the real index.\n",
    "\n",
    "**Commands for your terminal:**\n",
    "\n",
    "```bash\n",
    "# Install twine\n",
    "pip install twine\n",
    "\n",
    "# First, upload to TestPyPI to make sure everything works\n",
    "# You will be prompted for your TestPyPI username and password\n",
    "twine upload --repository testpypi dist/*\n",
    "\n",
    "# If that works, you can install it yourself to test\n",
    "pip install --index-url https://test.pypi.org/simple/ my_awesome_library\n",
    "\n",
    "# Once you are confident, upload to the real PyPI!\n",
    "# You will be prompted for your main PyPI username and password\n",
    "twine upload dist/*\n",
    "```\n",
    "After the final step, anyone in the world can now install your library by simply running `pip install my_awesome_library`!"
   ]
  },
  {
   "cell_type": "markdown",
   "metadata": {},
   "source": [
    "---"
   ]
  },
  {
   "cell_type": "markdown",
   "metadata": {},
   "source": [
    "This completes the journey from a simple script to a distributable Python package. Congratulations!"
   ]
  }
 ],
 "metadata": {
  "kernelspec": {
   "display_name": "Python 3",
   "language": "python",
   "name": "python3"
  },
  "language_info": {
   "codemirror_mode": {
    "name": "ipython",
    "version": 3
   },
   "file_extension": ".py",
   "mimetype": "text/x-python",
   "name": "python",
   "nbconvert_exporter": "python",
   "pygments_lexer": "ipython3",
   "version": "3.9.7"
  }
 },
 "nbformat": 4,
 "nbformat_minor": 2
}
