{
 "cells": [
  {
   "cell_type": "markdown",
   "metadata": {},
   "source": [
    "# 🔴 20. Decorators\n",
    "\n",
    "**Goal:** Learn how to modify or enhance functions without changing their source code.\n",
    "\n",
    "A decorator is a function that takes another function as an argument, adds some kind of functionality, and then returns another function. This is all done without altering the source code of the original function you're decorating.\n",
    "\n",
    "This notebook covers:\n",
    "1.  **Functions as First-Class Objects (A Quick Recap).**\n",
    "2.  **Building a Simple Decorator.**\n",
    "3.  **The `@` Syntactic Sugar.**\n",
    "4.  **Decorating Functions with Arguments.**\n",
    "5.  **A Practical Example: A Timing Decorator.**"
   ]
  },
  {
   "cell_type": "markdown",
   "metadata": {},
   "source": [
    "### 1. Functions as First-Class Objects (Recap)\n",
    "\n",
    "To understand decorators, it's essential to remember that functions in Python are objects. You can assign them to variables and pass them as arguments, just like any other object."
   ]
  },
  {
   "cell_type": "code",
   "execution_count": 1,
   "metadata": {},
   "outputs": [
    {
     "name": "stdout",
     "output_type": "stream",
     "text": [
      "Hello!\n"
     ]
    }
   ],
   "source": [
    "def say_hello():\n",
    "    return \"Hello!\"\n",
    "\n",
    "shout = say_hello\n",
    "print(shout())"
   ]
  },
  {
   "cell_type": "markdown",
   "metadata": {},
   "source": [
    "---"
   ]
  },
  {
   "cell_type": "markdown",
   "metadata": {},
   "source": [
    "### 2. Building a Simple Decorator\n",
    "\n",
    "A decorator is a function that returns another function. The inner function, often called a `wrapper`, is where the extra functionality is added."
   ]
  },
  {
   "cell_type": "code",
   "execution_count": 2,
   "metadata": {},
   "outputs": [
    {
     "name": "stdout",
     "output_type": "stream",
     "text": [
      "Something is happening before the function is called.\n",
      "Whee!\n",
      "Something is happening after the function is called.\n"
     ]
    }
   ],
   "source": [
    "# This is our decorator\n",
    "def my_decorator(func):\n",
    "    # The wrapper function adds behavior before and after the original function call\n",
    "    def wrapper():\n",
    "        print(\"Something is happening before the function is called.\")\n",
    "        func() # Call the original function\n",
    "        print(\"Something is happening after the function is called.\")\n",
    "    return wrapper\n",
    "\n",
    "def say_whee():\n",
    "    print(\"Whee!\")\n",
    "\n",
    "# Now, let's decorate our function manually\n",
    "say_whee_decorated = my_decorator(say_whee)\n",
    "\n",
    "# Call the new, decorated function\n",
    "say_whee_decorated()"
   ]
  },
  {
   "cell_type": "markdown",
   "metadata": {},
   "source": [
    "---"
   ]
  },
  {
   "cell_type": "markdown",
   "metadata": {},
   "source": [
    "### 3. The `@` Syntactic Sugar\n",
    "\n",
    "The manual decoration process (`say_whee_decorated = my_decorator(say_whee)`) is a bit clunky. Python provides a much nicer way to do this with the `@` symbol."
   ]
  },
  {
   "cell_type": "code",
   "execution_count": 3,
   "metadata": {},
   "outputs": [
    {
     "name": "stdout",
     "output_type": "stream",
     "text": [
      "Something is happening before the function is called.\n",
      "Hooray!\n",
      "Something is happening after the function is called.\n"
     ]
    }
   ],
   "source": [
    "@my_decorator\n",
    "def say_hooray():\n",
    "    print(\"Hooray!\")\n",
    "\n",
    "# Now, when we call say_hooray, we are actually calling the wrapper function\n",
    "say_hooray()"
   ]
  },
  {
   "cell_type": "markdown",
   "metadata": {},
   "source": [
    "The line `@my_decorator` is exactly equivalent to `say_hooray = my_decorator(say_hooray)`."
   ]
  },
  {
   "cell_type": "markdown",
   "metadata": {},
   "source": [
    "---"
   ]
  },
  {
   "cell_type": "markdown",
   "metadata": {},
   "source": [
    "### 4. Decorating Functions with Arguments\n",
    "\n",
    "What if our original function takes arguments? We need to make sure our wrapper function can accept them. We use `*args` (for positional arguments) and `**kwargs` (for keyword arguments) to handle this flexibly."
   ]
  },
  {
   "cell_type": "code",
   "execution_count": 4,
   "metadata": {},
   "outputs": [
    {
     "name": "stdout",
     "output_type": "stream",
     "text": [
      "Calling greet with arguments: ('Alice',), {}\n",
      "greet returned: Hello, Dr. Alice\n",
      "---\n",
      "Calling greet with arguments: ('Bob',), {'title': 'Mr.'}\n",
      "greet returned: Hello, Mr. Bob\n"
     ]
    },
    {
     "data": {
      "text/plain": [
       "'Hello, Mr. Bob'"
      ]
     },
     "execution_count": 4,
     "metadata": {},
     "output_type": "execute_result"
    }
   ],
   "source": [
    "import functools\n",
    "\n",
    "def decorator_for_args(func):\n",
    "    @functools.wraps(func) # This is a good practice to preserve the original function's metadata\n",
    "    def wrapper(*args, **kwargs):\n",
    "        print(f\"Calling {func.__name__} with arguments: {args}, {kwargs}\")\n",
    "        result = func(*args, **kwargs) # Pass the arguments to the original function\n",
    "        print(f\"{func.__name__} returned: {result}\")\n",
    "        return result\n",
    "    return wrapper\n",
    "\n",
    "@decorator_for_args\n",
    "def greet(name, title=\"Dr.\"):\n",
    "    return f\"Hello, {title} {name}\"\n",
    "\n",
    "greet(\"Alice\")\n",
    "print(\"---\")\n",
    "greet(\"Bob\", title=\"Mr.\")"
   ]
  },
  {
   "cell_type": "markdown",
   "metadata": {},
   "source": [
    "---"
   ]
  },
  {
   "cell_type": "markdown",
   "metadata": {},
   "source": [
    "### 5. A Practical Example: Timing Decorator\n",
    "\n",
    "Decorators are perfect for cross-cutting concerns like logging, timing, or authentication."
   ]
  },
  {
   "cell_type": "code",
   "execution_count": 5,
   "metadata": {},
   "outputs": [
    {
     "name": "stdout",
     "output_type": "stream",
     "text": [
      "Finished 'long_running_function' in 0.0796 secs\n"
     ]
    },
    {
     "data": {
      "text/plain": [
       "499999500000"
      ]
     },
     "execution_count": 5,
     "metadata": {},
     "output_type": "execute_result"
    }
   ],
   "source": [
    "import time\n",
    "import functools\n",
    "\n",
    "def timer(func):\n",
    "    \"\"\"A decorator that prints the execution time of a function.\"\"\"\n",
    "    @functools.wraps(func)\n",
    "    def wrapper(*args, **kwargs):\n",
    "        start_time = time.perf_counter()\n",
    "        value = func(*args, **kwargs)\n",
    "        end_time = time.perf_counter()\n",
    "        run_time = end_time - start_time\n",
    "        print(f\"Finished {func.__name__!r} in {run_time:.4f} secs\")\n",
    "        return value\n",
    "    return wrapper\n",
    "\n",
    "@timer\n",
    "def long_running_function(n):\n",
    "    \"\"\"A function that takes some time to run.\"\"\"\n",
    "    sum = 0\n",
    "    for i in range(n):\n",
    "        sum += i\n",
    "    return sum\n",
    "\n",
    "long_running_function(1000000)"
   ]
  },
  {
   "cell_type": "markdown",
   "metadata": {},
   "source": [
    "---"
   ]
  },
  {
   "cell_type": "markdown",
   "metadata": {},
   "source": [
    "### ✍️ Exercises"
   ]
  },
  {
   "cell_type": "markdown",
   "metadata": {},
   "source": [
    "**Exercise 1:** Create a decorator `debug` that prints the arguments and the return value of any function it decorates, similar to the `decorator_for_args` example."
   ]
  },
  {
   "cell_type": "code",
   "execution_count": 6,
   "metadata": {},
   "outputs": [
    {
     "ename": "NameError",
     "evalue": "name 'debug' is not defined",
     "output_type": "error",
     "traceback": [
      "\u001b[1;31m---------------------------------------------------------------------------\u001b[0m",
      "\u001b[1;31mNameError\u001b[0m                                 Traceback (most recent call last)",
      "Cell \u001b[1;32mIn[6], line 3\u001b[0m\n\u001b[0;32m      1\u001b[0m \u001b[38;5;66;03m# Your decorator here\u001b[39;00m\n\u001b[1;32m----> 3\u001b[0m \u001b[38;5;129m@debug\u001b[39m\n\u001b[0;32m      4\u001b[0m \u001b[38;5;28;01mdef\u001b[39;00m\u001b[38;5;250m \u001b[39m\u001b[38;5;21madd\u001b[39m(a, b):\n\u001b[0;32m      5\u001b[0m     \u001b[38;5;28;01mreturn\u001b[39;00m a \u001b[38;5;241m+\u001b[39m b\n\u001b[0;32m      7\u001b[0m add(\u001b[38;5;241m5\u001b[39m, \u001b[38;5;241m10\u001b[39m)\n",
      "\u001b[1;31mNameError\u001b[0m: name 'debug' is not defined"
     ]
    }
   ],
   "source": [
    "# Your decorator here\n",
    "\n",
    "@debug\n",
    "def add(a, b):\n",
    "    return a + b\n",
    "\n",
    "add(5, 10)"
   ]
  },
  {
   "cell_type": "markdown",
   "metadata": {},
   "source": [
    "**Exercise 2:** Create a decorator `slow_down` that waits for 1 second (`time.sleep(1)`) before calling the decorated function."
   ]
  },
  {
   "cell_type": "code",
   "execution_count": null,
   "metadata": {},
   "outputs": [],
   "source": [
    "# Your decorator here\n",
    "\n",
    "@slow_down\n",
    "def countdown():\n",
    "    print(\"3... 2... 1... Go!\")\n",
    "\n",
    "countdown()"
   ]
  },
  {
   "cell_type": "markdown",
   "metadata": {},
   "source": [
    "---"
   ]
  },
  {
   "cell_type": "markdown",
   "metadata": {},
   "source": [
    "Decorators are a powerful tool for adding functionality to existing code in a clean and reusable way.\n",
    "\n",
    "**Next up: Context Managers.**"
   ]
  }
 ],
 "metadata": {
  "kernelspec": {
   "display_name": ".venv",
   "language": "python",
   "name": "python3"
  },
  "language_info": {
   "codemirror_mode": {
    "name": "ipython",
    "version": 3
   },
   "file_extension": ".py",
   "mimetype": "text/x-python",
   "name": "python",
   "nbconvert_exporter": "python",
   "pygments_lexer": "ipython3",
   "version": "3.10.11"
  }
 },
 "nbformat": 4,
 "nbformat_minor": 2
}
