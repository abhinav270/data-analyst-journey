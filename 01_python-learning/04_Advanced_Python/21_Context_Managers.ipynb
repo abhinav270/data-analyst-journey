{
 "cells": [
  {
   "cell_type": "markdown",
   "metadata": {},
   "source": [
    "# 🔴 21. Context Managers\n",
    "\n",
    "**Goal:** Learn to manage resources like files or database connections safely and efficiently.\n",
    "\n",
    "A context manager is an object that defines a temporary context for a block of code. The most common example is the `with` statement, which you've already seen with file handling. It ensures that resources are properly set up before the block is entered and cleaned up after it is exited, even if errors occur.\n",
    "\n",
    "This notebook covers:\n",
    "1.  **The `with` Statement (Recap).**\n",
    "2.  **Creating a Context Manager with a Class:** Implementing `__enter__` and `__exit__`.\n",
    "3.  **Creating a Context Manager with a Generator:** Using the `@contextmanager` decorator."
   ]
  },
  {
   "cell_type": "markdown",
   "metadata": {},
   "source": [
    "### 1. The `with` Statement (Recap)\n",
    "\n",
    "You've already been using a context manager every time you write `with open(...)`. This syntax is a clean and safe way to handle resources."
   ]
  },
  {
   "cell_type": "code",
   "execution_count": 1,
   "metadata": {},
   "outputs": [
    {
     "name": "stdout",
     "output_type": "stream",
     "text": [
      "Block is finished, and the file is closed.\n"
     ]
    }
   ],
   "source": [
    "# The 'with' statement creates a context.\n",
    "# open() returns a context manager object.\n",
    "# The file is automatically closed when the block is exited.\n",
    "with open(\"some_file.txt\", \"w\") as f:\n",
    "    f.write(\"This is managed by a context manager!\")\n",
    "    # No need to call f.close()\n",
    "\n",
    "print(\"Block is finished, and the file is closed.\")"
   ]
  },
  {
   "cell_type": "markdown",
   "metadata": {},
   "source": [
    "---"
   ]
  },
  {
   "cell_type": "markdown",
   "metadata": {},
   "source": [
    "### 2. Creating a Context Manager with a Class\n",
    "\n",
    "To create your own context manager using a class, you need to implement two special dunder methods:\n",
    "\n",
    "- **`__enter__(self)`**: This method is run when the `with` block is entered. The value it returns is assigned to the variable after `as` (if there is one).\n",
    "- **`__exit__(self, exc_type, exc_value, traceback)`**: This method is run when the `with` block is exited. It's responsible for cleanup. If an exception occurs inside the `with` block, the details are passed to `__exit__`."
   ]
  },
  {
   "cell_type": "code",
   "execution_count": 2,
   "metadata": {},
   "outputs": [
    {
     "name": "stdout",
     "output_type": "stream",
     "text": [
      "Timer started...\n",
      "Block finished in 0.5017 seconds.\n",
      "\n",
      "--- With an error ---\n",
      "Timer started...\n",
      "Block finished in 0.0000 seconds.\n",
      "An error of type ZeroDivisionError occurred.\n"
     ]
    },
    {
     "ename": "ZeroDivisionError",
     "evalue": "division by zero",
     "output_type": "error",
     "traceback": [
      "\u001b[1;31m---------------------------------------------------------------------------\u001b[0m",
      "\u001b[1;31mZeroDivisionError\u001b[0m                         Traceback (most recent call last)",
      "Cell \u001b[1;32mIn[2], line 24\u001b[0m\n\u001b[0;32m     22\u001b[0m \u001b[38;5;28mprint\u001b[39m(\u001b[38;5;124m\"\u001b[39m\u001b[38;5;130;01m\\n\u001b[39;00m\u001b[38;5;124m--- With an error ---\u001b[39m\u001b[38;5;124m\"\u001b[39m)\n\u001b[0;32m     23\u001b[0m \u001b[38;5;28;01mwith\u001b[39;00m Timer():\n\u001b[1;32m---> 24\u001b[0m     result \u001b[38;5;241m=\u001b[39m \u001b[38;5;241;43m1\u001b[39;49m\u001b[43m \u001b[49m\u001b[38;5;241;43m/\u001b[39;49m\u001b[43m \u001b[49m\u001b[38;5;241;43m0\u001b[39;49m \u001b[38;5;66;03m# This will cause an error\u001b[39;00m\n",
      "\u001b[1;31mZeroDivisionError\u001b[0m: division by zero"
     ]
    }
   ],
   "source": [
    "import time\n",
    "\n",
    "# Let's create a context manager to time a block of code\n",
    "class Timer:\n",
    "    def __enter__(self):\n",
    "        print(\"Timer started...\")\n",
    "        self.start_time = time.perf_counter()\n",
    "        return self # We can return self if we want to interact with the object\n",
    "    \n",
    "    def __exit__(self, exc_type, exc_value, traceback):\n",
    "        self.end_time = time.perf_counter()\n",
    "        run_time = self.end_time - self.start_time\n",
    "        print(f\"Block finished in {run_time:.4f} seconds.\")\n",
    "        # If an exception occurred, exc_type will not be None\n",
    "        if exc_type:\n",
    "            print(f\"An error of type {exc_type.__name__} occurred.\")\n",
    "\n",
    "with Timer():\n",
    "    # Some code that takes time\n",
    "    time.sleep(0.5)\n",
    "\n",
    "print(\"\\n--- With an error ---\")\n",
    "with Timer():\n",
    "    result = 1 / 0 # This will cause an error"
   ]
  },
  {
   "cell_type": "markdown",
   "metadata": {},
   "source": [
    "---"
   ]
  },
  {
   "cell_type": "markdown",
   "metadata": {},
   "source": [
    "### 3. Creating a Context Manager with `@contextmanager`\n",
    "\n",
    "Writing a full class can be verbose. The `contextlib` module provides a decorator, `@contextmanager`, that lets you create a context manager from a simple generator function.\n",
    "\n",
    "- Everything *before* the `yield` statement is treated as the `__enter__` part.\n",
    "- The `yield` statement passes control back to the `with` block.\n",
    "- Everything *after* the `yield` is treated as the `__exit__` part."
   ]
  },
  {
   "cell_type": "code",
   "execution_count": null,
   "metadata": {},
   "outputs": [],
   "source": [
    "from contextlib import contextmanager\n",
    "\n",
    "@contextmanager\n",
    "def simple_timer():\n",
    "    # --- __enter__ part ---\n",
    "    print(\"Timer started (generator version)...\")\n",
    "    start = time.perf_counter()\n",
    "    \n",
    "    try:\n",
    "        yield # The code inside the 'with' block runs here\n",
    "    finally:\n",
    "        # --- __exit__ part ---\n",
    "        end = time.perf_counter()\n",
    "        print(f\"Block finished in {end - start:.4f} seconds (generator version).\")\n",
    "\n",
    "with simple_timer():\n",
    "    time.sleep(0.7)"
   ]
  },
  {
   "cell_type": "markdown",
   "metadata": {},
   "source": [
    "---"
   ]
  },
  {
   "cell_type": "markdown",
   "metadata": {},
   "source": [
    "### ✍️ Exercises"
   ]
  },
  {
   "cell_type": "markdown",
   "metadata": {},
   "source": [
    "**Exercise 1:** Create a context manager class called `DatabaseConnection`.\n",
    "- The `__enter__` method should print \"Connecting to database...\" and return a dummy connection object (it can just be a string like \"Connection Active\").\n",
    "- The `__exit__` method should print \"Disconnecting from database...\""
   ]
  },
  {
   "cell_type": "code",
   "execution_count": null,
   "metadata": {},
   "outputs": [],
   "source": [
    "# Your code here\n",
    "\n",
    "with DatabaseConnection() as conn:\n",
    "    print(f\"Connection status: {conn}\")\n",
    "    print(\"Running queries...\")"
   ]
  },
  {
   "cell_type": "markdown",
   "metadata": {},
   "source": [
    "**Exercise 2:** Rewrite the `DatabaseConnection` context manager using the `@contextmanager` decorator."
   ]
  },
  {
   "cell_type": "code",
   "execution_count": null,
   "metadata": {},
   "outputs": [],
   "source": [
    "# Your code here"
   ]
  },
  {
   "cell_type": "markdown",
   "metadata": {},
   "source": [
    "---"
   ]
  },
  {
   "cell_type": "markdown",
   "metadata": {},
   "source": [
    "Context managers provide an elegant way to handle resources, ensuring that setup and teardown operations are always executed.\n",
    "\n",
    "**Next up: Exception Customization.**"
   ]
  }
 ],
 "metadata": {
  "kernelspec": {
   "display_name": ".venv",
   "language": "python",
   "name": "python3"
  },
  "language_info": {
   "codemirror_mode": {
    "name": "ipython",
    "version": 3
   },
   "file_extension": ".py",
   "mimetype": "text/x-python",
   "name": "python",
   "nbconvert_exporter": "python",
   "pygments_lexer": "ipython3",
   "version": "3.10.11"
  }
 },
 "nbformat": 4,
 "nbformat_minor": 2
}
