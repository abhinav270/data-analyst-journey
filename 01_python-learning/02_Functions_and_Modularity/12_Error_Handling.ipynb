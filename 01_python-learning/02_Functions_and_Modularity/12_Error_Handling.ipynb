{
 "cells": [
  {
   "cell_type": "markdown",
   "metadata": {},
   "source": [
    "# 🟡 12. Error Handling\n",
    "\n",
    "**Goal:** Learn how to anticipate and manage errors gracefully, making your programs more robust.\n",
    "\n",
    "Errors, or **exceptions**, are a fact of life in programming. Instead of letting them crash your program, you can catch them and handle them in a controlled way.\n",
    "\n",
    "This notebook covers:\n",
    "1.  **The `try...except` block:** The fundamental way to handle exceptions.\n",
    "2.  **Handling Specific Exceptions:** Catching different types of errors like `ValueError` or `FileNotFoundError`.\n",
    "3.  **The `else` and `finally` clauses:** Code that runs when no error occurs, or code that runs no matter what.\n",
    "4.  **Raising Exceptions:** How to trigger your own errors."
   ]
  },
  {
   "cell_type": "markdown",
   "metadata": {},
   "source": [
    "### 1. The `try...except` Block\n",
    "\n",
    "The basic structure for handling errors is the `try...except` block:\n",
    "- The code that might cause an error is placed in the `try` block.\n",
    "- The code to execute if an error occurs is placed in the `except` block."
   ]
  },
  {
   "cell_type": "code",
   "execution_count": 1,
   "metadata": {},
   "outputs": [
    {
     "name": "stdout",
     "output_type": "stream",
     "text": [
      "An error occurred! You can't divide by zero.\n",
      "Program continues after the error.\n"
     ]
    }
   ],
   "source": [
    "# This code will cause a ZeroDivisionError if we don't handle it\n",
    "try:\n",
    "    numerator = 10\n",
    "    denominator = 0\n",
    "    result = numerator / denominator\n",
    "    print(result)\n",
    "except:\n",
    "    print(\"An error occurred! You can't divide by zero.\")\n",
    "\n",
    "print(\"Program continues after the error.\")"
   ]
  },
  {
   "cell_type": "markdown",
   "metadata": {},
   "source": [
    "---"
   ]
  },
  {
   "cell_type": "markdown",
   "metadata": {},
   "source": [
    "### 2. Handling Specific Exceptions\n",
    "\n",
    "It's good practice to catch specific types of exceptions. This allows you to react differently to different errors. A general `except` clause can hide bugs."
   ]
  },
  {
   "cell_type": "code",
   "execution_count": 2,
   "metadata": {},
   "outputs": [
    {
     "name": "stdout",
     "output_type": "stream",
     "text": [
      "The result is 1.6666666666666667\n"
     ]
    }
   ],
   "source": [
    "try:\n",
    "    number = int(input(\"Enter a number: \"))\n",
    "    result = 20 / number\n",
    "    print(f\"The result is {result}\")\n",
    "except ValueError:\n",
    "    print(\"That wasn't a valid number! Please enter an integer.\")\n",
    "except ZeroDivisionError:\n",
    "    print(\"You can't divide by zero!\")\n",
    "except Exception as e: # A general catch-all for any other errors\n",
    "    print(f\"An unexpected error occurred: {e}\")"
   ]
  },
  {
   "cell_type": "markdown",
   "metadata": {},
   "source": [
    "> **Tip:** Run the cell above multiple times. Try entering `10`, then `0`, then `hello` to see the different `except` blocks in action."
   ]
  },
  {
   "cell_type": "markdown",
   "metadata": {},
   "source": [
    "---"
   ]
  },
  {
   "cell_type": "markdown",
   "metadata": {},
   "source": [
    "### 3. The `else` and `finally` Clauses\n",
    "\n",
    "- **`else`:** This block runs only if the `try` block completes **without** raising any exceptions.\n",
    "- **`finally`:** This block runs **no matter what**, whether an exception occurred or not. It's often used for cleanup operations, like closing a file or a network connection."
   ]
  },
  {
   "cell_type": "code",
   "execution_count": 3,
   "metadata": {},
   "outputs": [
    {
     "name": "stdout",
     "output_type": "stream",
     "text": [
      "File written successfully, no errors occurred.\n",
      "File closed. The 'finally' block always runs.\n"
     ]
    }
   ],
   "source": [
    "try:\n",
    "    f = open(\"my_test_file.txt\", \"w\")\n",
    "    f.write(\"Hello, world!\")\n",
    "    # To see the except block run, uncomment the next line:\n",
    "    # f.write(123) # This will cause a TypeError\n",
    "except TypeError:\n",
    "    print(\"Error: You can only write strings to a text file.\")\n",
    "else:\n",
    "    print(\"File written successfully, no errors occurred.\")\n",
    "finally:\n",
    "    f.close()\n",
    "    print(\"File closed. The 'finally' block always runs.\")"
   ]
  },
  {
   "cell_type": "markdown",
   "metadata": {},
   "source": [
    "---"
   ]
  },
  {
   "cell_type": "markdown",
   "metadata": {},
   "source": [
    "### 4. Raising Exceptions\n",
    "\n",
    "You can also raise your own exceptions using the `raise` keyword. This is useful when a condition in your code makes it impossible to continue, or if a user provides invalid input."
   ]
  },
  {
   "cell_type": "code",
   "execution_count": 4,
   "metadata": {},
   "outputs": [
    {
     "name": "stdout",
     "output_type": "stream",
     "text": [
      "The age is 25\n",
      "Caught an error: Age cannot be negative.\n"
     ]
    }
   ],
   "source": [
    "def get_age(age):\n",
    "    if age < 0:\n",
    "        raise ValueError(\"Age cannot be negative.\")\n",
    "    print(f\"The age is {age}\")\n",
    "\n",
    "try:\n",
    "    get_age(25)\n",
    "    get_age(-5)\n",
    "except ValueError as e:\n",
    "    print(f\"Caught an error: {e}\")"
   ]
  },
  {
   "cell_type": "markdown",
   "metadata": {},
   "source": [
    "---"
   ]
  },
  {
   "cell_type": "markdown",
   "metadata": {},
   "source": [
    "### ✍️ Exercises"
   ]
  },
  {
   "cell_type": "markdown",
   "metadata": {},
   "source": [
    "**Exercise 1:** Write a program that asks the user for two numbers and divides them. Use a `try...except` block to handle the `ZeroDivisionError` and print a friendly message if the user tries to divide by zero."
   ]
  },
  {
   "cell_type": "code",
   "execution_count": 5,
   "metadata": {},
   "outputs": [],
   "source": [
    "# Your code here"
   ]
  },
  {
   "cell_type": "markdown",
   "metadata": {},
   "source": [
    "**Exercise 2:** The list `my_list = [\"a\", \"b\", \"c\"]` is provided. Write a script that asks the user for an index and prints the element at that index. Handle the `IndexError` that occurs if the user enters an index that is out of bounds."
   ]
  },
  {
   "cell_type": "code",
   "execution_count": 6,
   "metadata": {},
   "outputs": [],
   "source": [
    "my_list = [\"a\", \"b\", \"c\"]\n",
    "# Your code here"
   ]
  },
  {
   "cell_type": "markdown",
   "metadata": {},
   "source": [
    "**Exercise 3:** Create a function `set_password(password)`. The function should `raise` a `ValueError` if the password is less than 8 characters long. Otherwise, it should print \"Password set successfully.\" Wrap the function call in a `try...except` block."
   ]
  },
  {
   "cell_type": "code",
   "execution_count": 7,
   "metadata": {},
   "outputs": [],
   "source": [
    "# Your code here"
   ]
  },
  {
   "cell_type": "markdown",
   "metadata": {},
   "source": [
    "---"
   ]
  },
  {
   "cell_type": "markdown",
   "metadata": {},
   "source": [
    "Congratulations on completing Level 2! You now have the tools to write well-structured, modular, and robust Python programs.\n",
    "\n",
    "**Next up: Level 3 - Object-Oriented Programming (OOP).**"
   ]
  }
 ],
 "metadata": {
  "kernelspec": {
   "display_name": ".venv",
   "language": "python",
   "name": "python3"
  },
  "language_info": {
   "codemirror_mode": {
    "name": "ipython",
    "version": 3
   },
   "file_extension": ".py",
   "mimetype": "text/x-python",
   "name": "python",
   "nbconvert_exporter": "python",
   "pygments_lexer": "ipython3",
   "version": "3.10.11"
  }
 },
 "nbformat": 4,
 "nbformat_minor": 2
}
