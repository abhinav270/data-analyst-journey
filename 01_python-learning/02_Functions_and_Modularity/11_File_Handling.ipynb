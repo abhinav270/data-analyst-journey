{
 "cells": [
  {
   "cell_type": "markdown",
   "metadata": {},
   "source": [
    "# 🟡 11. File Handling\n",
    "\n",
    "**Goal:** Learn how to read from and write to files, allowing your programs to persist data.\n",
    "\n",
    "File handling is essential for any application that needs to save or load information, such as user data, configuration settings, or results from a computation.\n",
    "\n",
    "This notebook covers:\n",
    "1.  **Reading Text Files:** How to open and read data from a `.txt` file.\n",
    "2.  **Writing Text Files:** How to create new files or overwrite existing ones.\n",
    "3.  **The Context Manager (`with` statement):** The modern, safe way to handle files.\n",
    "4.  **Working with JSON:** A common format for storing structured data."
   ]
  },
  {
   "cell_type": "markdown",
   "metadata": {},
   "source": [
    "### A Quick Setup\n",
    "\n",
    "First, let's create a dummy text file that we can use for reading in the examples below."
   ]
  },
  {
   "cell_type": "code",
   "execution_count": 1,
   "metadata": {},
   "outputs": [
    {
     "name": "stdout",
     "output_type": "stream",
     "text": [
      "Created example.txt\n"
     ]
    }
   ],
   "source": [
    "file_content = \"Hello, this is the first line.\\nThis is the second line.\\nAnd a third one for good measure.\\n\"\n",
    "with open(\"example.txt\", \"w\") as f:\n",
    "    f.write(file_content)\n",
    "\n",
    "print(\"Created example.txt\")"
   ]
  },
  {
   "cell_type": "markdown",
   "metadata": {},
   "source": [
    "---"
   ]
  },
  {
   "cell_type": "markdown",
   "metadata": {},
   "source": [
    "### 1. Reading Text Files\n",
    "\n",
    "To read a file, you first need to `open()` it. The `open()` function takes the file path and a **mode**. The mode for reading is `'r'`."
   ]
  },
  {
   "cell_type": "markdown",
   "metadata": {},
   "source": [
    "#### The `with` statement (Context Manager)\n",
    "\n",
    "The recommended way to work with files is using the `with` statement. It automatically handles closing the file for you, even if errors occur. This prevents resource leaks."
   ]
  },
  {
   "cell_type": "code",
   "execution_count": 2,
   "metadata": {},
   "outputs": [
    {
     "name": "stdout",
     "output_type": "stream",
     "text": [
      "--- Full Content ---\n",
      "Hello, this is the first line.\n",
      "This is the second line.\n",
      "And a third one for good measure.\n",
      "\n",
      "\n",
      "--- Content as List of Lines ---\n",
      "['Hello, this is the first line.\\n', 'This is the second line.\\n', 'And a third one for good measure.\\n']\n",
      "\n",
      "--- Looping over the file ---\n",
      "Hello, this is the first line.\n",
      "This is the second line.\n",
      "And a third one for good measure.\n"
     ]
    }
   ],
   "source": [
    "try:\n",
    "    with open(\"example.txt\", \"r\") as file:\n",
    "        # .read() reads the entire file content into one string\n",
    "        content = file.read()\n",
    "        print(\"--- Full Content ---\")\n",
    "        print(content)\n",
    "\n",
    "    with open(\"example.txt\", \"r\") as file:\n",
    "        # .readlines() reads the file into a list of strings (lines)\n",
    "        lines = file.readlines()\n",
    "        print(\"\\n--- Content as List of Lines ---\")\n",
    "        print(lines)\n",
    "\n",
    "    with open(\"example.txt\", \"r\") as file:\n",
    "        # You can also loop directly over the file object\n",
    "        print(\"\\n--- Looping over the file ---\")\n",
    "        for line in file:\n",
    "            print(line.strip()) # .strip() removes leading/trailing whitespace, including the newline character\n",
    "\n",
    "except FileNotFoundError:\n",
    "    print(\"Error: The file was not found!\")"
   ]
  },
  {
   "cell_type": "markdown",
   "metadata": {},
   "source": [
    "---"
   ]
  },
  {
   "cell_type": "markdown",
   "metadata": {},
   "source": [
    "### 2. Writing Text Files\n",
    "\n",
    "You can write to files using different modes:\n",
    "- **`'w'` (Write):** Opens a file for writing. **Creates a new file if it does not exist, or truncates (empties) the file if it exists.**\n",
    "- **`'a'` (Append):** Opens a file for appending. New data is written to the end of the file. Creates the file if it does not exist."
   ]
  },
  {
   "cell_type": "code",
   "execution_count": 3,
   "metadata": {},
   "outputs": [
    {
     "name": "stdout",
     "output_type": "stream",
     "text": [
      "Created new_file.txt\n",
      "Appended to new_file.txt\n",
      "\n",
      "--- Content of new_file.txt ---\n",
      "This is a brand new file.\n",
      "Line 2.\n",
      "This line was appended.\n"
     ]
    }
   ],
   "source": [
    "# Using 'w' to write a new file (or overwrite)\n",
    "with open(\"new_file.txt\", \"w\") as f:\n",
    "    f.write(\"This is a brand new file.\\n\")\n",
    "    f.write(\"Line 2.\")\n",
    "\n",
    "print(\"Created new_file.txt\")\n",
    "\n",
    "# Using 'a' to append to the file\n",
    "with open(\"new_file.txt\", \"a\") as f:\n",
    "    f.write(\"\\nThis line was appended.\")\n",
    "\n",
    "print(\"Appended to new_file.txt\")\n",
    "\n",
    "# Let's read it to verify\n",
    "with open(\"new_file.txt\", \"r\") as f:\n",
    "    print(\"\\n--- Content of new_file.txt ---\")\n",
    "    print(f.read())"
   ]
  },
  {
   "cell_type": "markdown",
   "metadata": {},
   "source": [
    "---"
   ]
  },
  {
   "cell_type": "markdown",
   "metadata": {},
   "source": [
    "### 4. Working with JSON Files\n",
    "\n",
    "JSON (JavaScript Object Notation) is a very common format for storing and exchanging data. Python's `json` module makes it easy to work with.\n",
    "\n",
    "- `json.dump()`: Writes a Python dictionary to a file in JSON format.\n",
    "- `json.load()`: Reads a JSON file and converts it into a Python dictionary."
   ]
  },
  {
   "cell_type": "code",
   "execution_count": 4,
   "metadata": {},
   "outputs": [
    {
     "name": "stdout",
     "output_type": "stream",
     "text": [
      "Wrote config.json\n",
      "\n",
      "--- Loaded Config ---\n",
      "{'username': 'py_learner', 'theme': 'dark', 'notifications_enabled': True, 'recent_projects': ['project_alpha', 'project_beta']}\n",
      "\n",
      "Username from loaded config: py_learner\n"
     ]
    }
   ],
   "source": [
    "import json\n",
    "\n",
    "# Data to be written\n",
    "user_config = {\n",
    "    \"username\": \"py_learner\",\n",
    "    \"theme\": \"dark\",\n",
    "    \"notifications_enabled\": True,\n",
    "    \"recent_projects\": [\n",
    "        \"project_alpha\",\n",
    "        \"project_beta\"\n",
    "    ]\n",
    "}\n",
    "\n",
    "# Write dictionary to a JSON file\n",
    "with open(\"config.json\", \"w\") as f:\n",
    "    json.dump(user_config, f, indent=4)\n",
    "print(\"Wrote config.json\")\n",
    "\n",
    "# Read the JSON file back into a dictionary\n",
    "with open(\"config.json\", \"r\") as f:\n",
    "    loaded_config = json.load(f)\n",
    "print(\"\\n--- Loaded Config ---\")\n",
    "print(loaded_config)\n",
    "\n",
    "# Now you can work with it like a normal dictionary\n",
    "print(f\"\\nUsername from loaded config: {loaded_config['username']}\")"
   ]
  },
  {
   "cell_type": "markdown",
   "metadata": {},
   "source": [
    "---"
   ]
  },
  {
   "cell_type": "markdown",
   "metadata": {},
   "source": [
    "### ✍️ Exercises"
   ]
  },
  {
   "cell_type": "markdown",
   "metadata": {},
   "source": [
    "**Exercise 1:** Create a file named `todo.txt`. Write three to-do items to it, each on a new line."
   ]
  },
  {
   "cell_type": "code",
   "execution_count": 5,
   "metadata": {},
   "outputs": [],
   "source": [
    "# Your code here"
   ]
  },
  {
   "cell_type": "markdown",
   "metadata": {},
   "source": [
    "**Exercise 2:** Read the `todo.txt` file you just created and print its contents to the screen."
   ]
  },
  {
   "cell_type": "code",
   "execution_count": 6,
   "metadata": {},
   "outputs": [],
   "source": [
    "# Your code here"
   ]
  },
  {
   "cell_type": "markdown",
   "metadata": {},
   "source": [
    "**Exercise 3:** Create a dictionary representing a `product` with keys like `id`, `name`, and `price`. Save this dictionary to a file named `product.json`."
   ]
  },
  {
   "cell_type": "code",
   "execution_count": 7,
   "metadata": {},
   "outputs": [],
   "source": [
    "import json\n",
    "# Your code here"
   ]
  },
  {
   "cell_type": "markdown",
   "metadata": {},
   "source": [
    "---"
   ]
  },
  {
   "cell_type": "markdown",
   "metadata": {},
   "source": [
    "### ❓ Quiz"
   ]
  },
  {
   "cell_type": "markdown",
   "metadata": {},
   "source": [
    "**Question 1:** You want to add a new line to an existing file without deleting its contents. Which mode should you use with `open()`?"
   ]
  },
  {
   "cell_type": "markdown",
   "metadata": {},
   "source": [
    "**Your Answer:** "
   ]
  },
  {
   "cell_type": "markdown",
   "metadata": {},
   "source": [
    "**Question 2:** Why is using the `with open(...) as f:` syntax preferred over `f = open(...)` and `f.close()`?"
   ]
  },
  {
   "cell_type": "markdown",
   "metadata": {},
   "source": [
    "**Your Answer:** "
   ]
  },
  {
   "cell_type": "markdown",
   "metadata": {},
   "source": [
    "---"
   ]
  },
  {
   "cell_type": "markdown",
   "metadata": {},
   "source": [
    "You can now save and load data, a crucial skill for building real applications.\n",
    "\n",
    "**Next up: Error Handling.**"
   ]
  }
 ],
 "metadata": {
  "kernelspec": {
   "display_name": ".venv",
   "language": "python",
   "name": "python3"
  },
  "language_info": {
   "codemirror_mode": {
    "name": "ipython",
    "version": 3
   },
   "file_extension": ".py",
   "mimetype": "text/x-python",
   "name": "python",
   "nbconvert_exporter": "python",
   "pygments_lexer": "ipython3",
   "version": "3.10.11"
  }
 },
 "nbformat": 4,
 "nbformat_minor": 2
}
