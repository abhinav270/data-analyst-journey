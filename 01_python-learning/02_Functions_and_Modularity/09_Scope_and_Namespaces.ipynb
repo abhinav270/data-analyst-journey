{
 "cells": [
  {
   "cell_type": "markdown",
   "metadata": {},
   "source": [
    "# 🟡 9. Scope & Namespaces\n",
    "\n",
    "**Goal:** Understand where variables can be accessed and how Python keeps track of them.\n",
    "\n",
    "This is a crucial concept for avoiding bugs and writing clean, predictable code. A **namespace** is a system that has a unique name for each and every object in Python. A **scope** is the portion of a program where a namespace can be accessed directly.\n",
    "\n",
    "This notebook covers:\n",
    "1.  **Local vs. Global Scope:** The two primary types of scope.\n",
    "2.  **The `global` Keyword:** How to modify a global variable from a local scope (and why you should be careful).\n",
    "3.  **The LEGB Rule:** The order in which Python searches for variables."
   ]
  },
  {
   "cell_type": "markdown",
   "metadata": {},
   "source": [
    "### 1. Local and Global Scope\n",
    "\n",
    "- **Global Scope:** A variable created in the main body of the Python code is a global variable and belongs to the global scope. It can be accessed from anywhere in your code, both inside and outside of functions.\n",
    "- **Local Scope:** A variable created inside a function belongs to the local scope of that function. It can only be used inside that function."
   ]
  },
  {
   "cell_type": "code",
   "execution_count": 1,
   "metadata": {},
   "outputs": [
    {
     "name": "stdout",
     "output_type": "stream",
     "text": [
      "I am a global variable\n",
      "I am a local variable\n",
      "-----\n",
      "I am a global variable\n",
      "Error: name 'y' is not defined\n"
     ]
    }
   ],
   "source": [
    "x = \"I am a global variable\"\n",
    "\n",
    "def my_function():\n",
    "    y = \"I am a local variable\"\n",
    "    print(x) # Can access the global variable 'x' from inside the function\n",
    "    print(y)\n",
    "\n",
    "my_function()\n",
    "\n",
    "print(\"-----\")\n",
    "print(x) # 'x' is accessible here\n",
    "\n",
    "# Trying to access the local variable 'y' from the global scope will cause an error\n",
    "try:\n",
    "    print(y)\n",
    "except NameError as e:\n",
    "    print(f\"Error: {e}\")"
   ]
  },
  {
   "cell_type": "markdown",
   "metadata": {},
   "source": [
    "---"
   ]
  },
  {
   "cell_type": "markdown",
   "metadata": {},
   "source": [
    "### 2. The `global` Keyword\n",
    "\n",
    "If you want to modify a global variable from within a function, you must use the `global` keyword.\n",
    "\n",
    "> ⚠️ **Best Practice:** Avoid modifying global variables from within functions whenever possible. It can make your code hard to understand and debug. A better approach is to have the function `return` a new value."
   ]
  },
  {
   "cell_type": "code",
   "execution_count": 2,
   "metadata": {},
   "outputs": [
    {
     "name": "stdout",
     "output_type": "stream",
     "text": [
      "Initial count: 0\n",
      "Count after incrementing: 2\n"
     ]
    }
   ],
   "source": [
    "count = 0 # A global variable\n",
    "\n",
    "def increment():\n",
    "    global count # Declare that we want to modify the global 'count'\n",
    "    count += 1\n",
    "\n",
    "print(f\"Initial count: {count}\")\n",
    "increment()\n",
    "increment()\n",
    "print(f\"Count after incrementing: {count}\")"
   ]
  },
  {
   "cell_type": "markdown",
   "metadata": {},
   "source": [
    "#### The better way (without `global`):"
   ]
  },
  {
   "cell_type": "code",
   "execution_count": 3,
   "metadata": {},
   "outputs": [
    {
     "name": "stdout",
     "output_type": "stream",
     "text": [
      "Initial new_count: 0\n",
      "new_count after incrementing: 2\n"
     ]
    }
   ],
   "source": [
    "def increment_and_return(current_count):\n",
    "    return current_count + 1\n",
    "\n",
    "new_count = 0\n",
    "print(f\"Initial new_count: {new_count}\")\n",
    "\n",
    "new_count = increment_and_return(new_count)\n",
    "new_count = increment_and_return(new_count)\n",
    "\n",
    "print(f\"new_count after incrementing: {new_count}\")"
   ]
  },
  {
   "cell_type": "markdown",
   "metadata": {},
   "source": [
    "---"
   ]
  },
  {
   "cell_type": "markdown",
   "metadata": {},
   "source": [
    "### 3. The LEGB Rule\n",
    "\n",
    "When you use a variable, Python searches for it in a specific order of namespaces. This is the LEGB rule:\n",
    "\n",
    "1.  **L - Local:** The innermost scope, which contains local variables defined inside the current function.\n",
    "2.  **E - Enclosing:** The scope of any enclosing functions (e.g., if a function is nested inside another function).\n",
    "3.  **G - Global:** The scope of the current module, which contains global variables.\n",
    "4.  **B - Built-in:** The outermost scope, which contains Python's built-in functions and names like `print`, `len`, `str`, etc.\n",
    "\n",
    "Python stops at the *first* place it finds the variable name."
   ]
  },
  {
   "cell_type": "code",
   "execution_count": 4,
   "metadata": {},
   "outputs": [
    {
     "name": "stdout",
     "output_type": "stream",
     "text": [
      "Accessing pi from the inner function: 3.14159\n"
     ]
    }
   ],
   "source": [
    "pi = 3.14 # Global (G)\n",
    "\n",
    "def outer_function():\n",
    "    pi = 3.14159 # Enclosing (E)\n",
    "    \n",
    "    def inner_function():\n",
    "        # pi = 3.1415926 # Local (L) - uncomment this to see the change\n",
    "        print(f\"Accessing pi from the inner function: {pi}\")\n",
    "        \n",
    "    inner_function()\n",
    "\n",
    "outer_function()"
   ]
  },
  {
   "cell_type": "markdown",
   "metadata": {},
   "source": [
    "---"
   ]
  },
  {
   "cell_type": "markdown",
   "metadata": {},
   "source": [
    "### ✍️ Exercises"
   ]
  },
  {
   "cell_type": "markdown",
   "metadata": {},
   "source": [
    "**Exercise 1:** You have a global variable `user = \"Guest\"`. Write a function `login(name)` that changes the global `user` variable to the given `name`. Call the function with your name and then print the `user` variable."
   ]
  },
  {
   "cell_type": "code",
   "execution_count": 5,
   "metadata": {},
   "outputs": [],
   "source": [
    "user = \"Guest\"\n",
    "\n",
    "# Your code here"
   ]
  },
  {
   "cell_type": "markdown",
   "metadata": {},
   "source": [
    "**Exercise 2:** What will the following code print? Analyze it using the LEGB rule before you run it."
   ]
  },
  {
   "cell_type": "code",
   "execution_count": 6,
   "metadata": {},
   "outputs": [
    {
     "name": "stdout",
     "output_type": "stream",
     "text": [
      "20\n"
     ]
    }
   ],
   "source": [
    "a = 10\n",
    "\n",
    "def func1():\n",
    "    a = 20\n",
    "    def func2():\n",
    "        print(a)\n",
    "    func2()\n",
    "\n",
    "func1()"
   ]
  },
  {
   "cell_type": "markdown",
   "metadata": {},
   "source": [
    "**Your Answer:** "
   ]
  },
  {
   "cell_type": "markdown",
   "metadata": {},
   "source": [
    "---"
   ]
  },
  {
   "cell_type": "markdown",
   "metadata": {},
   "source": [
    "### ❓ Quiz"
   ]
  },
  {
   "cell_type": "markdown",
   "metadata": {},
   "source": [
    "**Question 1:** What will be printed?"
   ]
  },
  {
   "cell_type": "code",
   "execution_count": 7,
   "metadata": {},
   "outputs": [
    {
     "name": "stdout",
     "output_type": "stream",
     "text": [
      "Global\n"
     ]
    }
   ],
   "source": [
    "message = \"Global\"\n",
    "\n",
    "def my_func():\n",
    "    message = \"Local\"\n",
    "\n",
    "my_func()\n",
    "print(message)"
   ]
  },
  {
   "cell_type": "markdown",
   "metadata": {},
   "source": [
    "**Your Answer:** "
   ]
  },
  {
   "cell_type": "markdown",
   "metadata": {},
   "source": [
    "**Question 2:** What will be printed now?"
   ]
  },
  {
   "cell_type": "code",
   "execution_count": 8,
   "metadata": {},
   "outputs": [
    {
     "name": "stdout",
     "output_type": "stream",
     "text": [
      "Local\n"
     ]
    }
   ],
   "source": [
    "message = \"Global\"\n",
    "\n",
    "def my_func():\n",
    "    global message\n",
    "    message = \"Local\"\n",
    "\n",
    "my_func()\n",
    "print(message)"
   ]
  },
  {
   "cell_type": "markdown",
   "metadata": {},
   "source": [
    "**Your Answer:** "
   ]
  },
  {
   "cell_type": "markdown",
   "metadata": {},
   "source": [
    "---"
   ]
  },
  {
   "cell_type": "markdown",
   "metadata": {},
   "source": [
    "Understanding scope is key to writing bug-free Python code.\n",
    "\n",
    "**Next up: Built-in Functions & Modules.**"
   ]
  }
 ],
 "metadata": {
  "kernelspec": {
   "display_name": ".venv",
   "language": "python",
   "name": "python3"
  },
  "language_info": {
   "codemirror_mode": {
    "name": "ipython",
    "version": 3
   },
   "file_extension": ".py",
   "mimetype": "text/x-python",
   "name": "python",
   "nbconvert_exporter": "python",
   "pygments_lexer": "ipython3",
   "version": "3.10.11"
  }
 },
 "nbformat": 4,
 "nbformat_minor": 2
}
