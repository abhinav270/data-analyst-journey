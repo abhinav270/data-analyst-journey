{
 "cells": [
  {
   "cell_type": "markdown",
   "metadata": {},
   "source": [
    "# 🟡 10. Built-in Functions & Modules\n",
    "\n",
    "**Goal:** Learn how to use Python's vast collection of pre-written code to save time and effort.\n",
    "\n",
    "Python comes with a rich **standard library**, a collection of modules and functions that are available to you without having to install anything extra. This is often called Python's \"batteries-included\" philosophy.\n",
    "\n",
    "This notebook covers:\n",
    "1.  **Common Built-in Functions:** Useful functions that are always available (`len()`, `sum()`, `max()`, `min()`, `sorted()`, `enumerate()`, `zip()`).\n",
    "2.  **Importing Modules:** How to bring in code from the standard library (`import math`, `from datetime import datetime`).\n",
    "3.  **Exploring Key Modules:** A brief look at `os`, `sys`, `json`, and `random`."
   ]
  },
  {
   "cell_type": "markdown",
   "metadata": {},
   "source": [
    "### 1. Common Built-in Functions\n",
    "\n",
    "These functions are so common that they are part of the built-in scope (the 'B' in LEGB). You can use them anytime."
   ]
  },
  {
   "cell_type": "code",
   "execution_count": 1,
   "metadata": {},
   "outputs": [
    {
     "name": "stdout",
     "output_type": "stream",
     "text": [
      "Length of the list: 5\n",
      "Sum of the list: 21\n",
      "Maximum value: 8\n",
      "Minimum value: 1\n",
      "A sorted version of the list: [1, 3, 4, 5, 8]\n",
      "Original list is unchanged: [4, 1, 8, 3, 5]\n"
     ]
    }
   ],
   "source": [
    "my_list = [4, 1, 8, 3, 5]\n",
    "\n",
    "print(f\"Length of the list: {len(my_list)}\")\n",
    "print(f\"Sum of the list: {sum(my_list)}\")\n",
    "print(f\"Maximum value: {max(my_list)}\")\n",
    "print(f\"Minimum value: {min(my_list)}\")\n",
    "print(f\"A sorted version of the list: {sorted(my_list)}\") # Returns a new sorted list\n",
    "print(f\"Original list is unchanged: {my_list}\")"
   ]
  },
  {
   "cell_type": "markdown",
   "metadata": {},
   "source": [
    "#### `enumerate()` and `zip()`\n",
    "\n",
    "- **`enumerate()`** is used to loop over a sequence and get both the index and the value at each iteration.\n",
    "- **`zip()`** is used to combine multiple sequences. It stops when the shortest sequence is exhausted."
   ]
  },
  {
   "cell_type": "code",
   "execution_count": 2,
   "metadata": {},
   "outputs": [
    {
     "name": "stdout",
     "output_type": "stream",
     "text": [
      "--- Enumerate ---\n",
      "Index 0: apple\n",
      "Index 1: banana\n",
      "Index 2: cherry\n",
      "\n",
      "--- Zip ---\n",
      "The price of apple is $0.99\n",
      "The price of banana is $0.5\n",
      "The price of cherry is $1.25\n"
     ]
    }
   ],
   "source": [
    "fruits = [\"apple\", \"banana\", \"cherry\"]\n",
    "\n",
    "print(\"--- Enumerate ---\")\n",
    "for index, fruit in enumerate(fruits):\n",
    "    print(f\"Index {index}: {fruit}\")\n",
    "\n",
    "print(\"\\n--- Zip ---\")\n",
    "prices = [0.99, 0.50, 1.25]\n",
    "for fruit, price in zip(fruits, prices):\n",
    "    print(f\"The price of {fruit} is ${price}\")"
   ]
  },
  {
   "cell_type": "markdown",
   "metadata": {},
   "source": [
    "---"
   ]
  },
  {
   "cell_type": "markdown",
   "metadata": {},
   "source": [
    "### 2. Importing Modules\n",
    "\n",
    "A **module** is simply a Python file with a `.py` extension that contains functions, classes, and variables. To use the code in a module, you need to `import` it."
   ]
  },
  {
   "cell_type": "code",
   "execution_count": 3,
   "metadata": {},
   "outputs": [
    {
     "name": "stdout",
     "output_type": "stream",
     "text": [
      "The value of Pi is approximately 3.141592653589793\n",
      "The square root of 16 is 4.0\n"
     ]
    }
   ],
   "source": [
    "# Import the entire module. You access its contents with module_name.function_name\n",
    "import math\n",
    "\n",
    "print(f\"The value of Pi is approximately {math.pi}\")\n",
    "print(f\"The square root of 16 is {math.sqrt(16)}\")"
   ]
  },
  {
   "cell_type": "code",
   "execution_count": 4,
   "metadata": {},
   "outputs": [
    {
     "name": "stdout",
     "output_type": "stream",
     "text": [
      "The current date and time is: 2025-08-15 22:57:09.274860\n"
     ]
    }
   ],
   "source": [
    "# Import a specific function from a module. You can then use it directly.\n",
    "from datetime import datetime\n",
    "\n",
    "now = datetime.now()\n",
    "print(f\"The current date and time is: {now}\")"
   ]
  },
  {
   "cell_type": "code",
   "execution_count": 5,
   "metadata": {},
   "outputs": [
    {
     "name": "stdout",
     "output_type": "stream",
     "text": [
      "Here is a random number: 4\n"
     ]
    }
   ],
   "source": [
    "# Import a module with an alias (a shorter name)\n",
    "import random as rd\n",
    "\n",
    "random_number = rd.randint(1, 10) # Get a random integer between 1 and 10\n",
    "print(f\"Here is a random number: {random_number}\")"
   ]
  },
  {
   "cell_type": "markdown",
   "metadata": {},
   "source": [
    "---"
   ]
  },
  {
   "cell_type": "markdown",
   "metadata": {},
   "source": [
    "### 3. Exploring Key Modules\n",
    "\n",
    "Here are a few examples of useful modules from the standard library."
   ]
  },
  {
   "cell_type": "code",
   "execution_count": 6,
   "metadata": {},
   "outputs": [
    {
     "name": "stdout",
     "output_type": "stream",
     "text": [
      "Current working directory: c:\\Users\\tyagi\\Documents\\Learning\\Data-Analyst-learning\\01_python-learning\\02_Functions_and_Modularity\n",
      "Python version: 3.10.11 (tags/v3.10.11:7d4cc5a, Apr  5 2023, 00:38:17) [MSC v.1929 64 bit (AMD64)]\n",
      "\n",
      "JSON representation:\n",
      "{\n",
      "    \"name\": \"John\",\n",
      "    \"age\": 30,\n",
      "    \"isStudent\": false\n",
      "}\n"
     ]
    }
   ],
   "source": [
    "import os # For interacting with the operating system\n",
    "import json # For working with JSON data\n",
    "import sys # For interacting with the Python interpreter\n",
    "\n",
    "print(f\"Current working directory: {os.getcwd()}\")\n",
    "print(f\"Python version: {sys.version}\")\n",
    "\n",
    "# Example of using the json module\n",
    "person_dict = {'name': 'John', 'age': 30, 'isStudent': False}\n",
    "person_json_string = json.dumps(person_dict, indent=4) # Convert dictionary to JSON string\n",
    "print(\"\\nJSON representation:\")\n",
    "print(person_json_string)"
   ]
  },
  {
   "cell_type": "markdown",
   "metadata": {},
   "source": [
    "---"
   ]
  },
  {
   "cell_type": "markdown",
   "metadata": {},
   "source": [
    "### ✍️ Exercises"
   ]
  },
  {
   "cell_type": "markdown",
   "metadata": {},
   "source": [
    "**Exercise 1:** Create a list of numbers from 1 to 5. Use the `sum()` and `len()` functions to calculate the average of the numbers in the list."
   ]
  },
  {
   "cell_type": "code",
   "execution_count": 7,
   "metadata": {},
   "outputs": [],
   "source": [
    "# Your code here"
   ]
  },
  {
   "cell_type": "markdown",
   "metadata": {},
   "source": [
    "**Exercise 2:** Import the `random` module and use it to select and print a random choice from a list of your favorite colors."
   ]
  },
  {
   "cell_type": "code",
   "execution_count": 8,
   "metadata": {},
   "outputs": [],
   "source": [
    "import random\n",
    "colors = [\"red\", \"blue\", \"green\", \"yellow\", \"purple\"]\n",
    "# Your code here\n",
    "# Hint: Look for a function in the random module that can choose from a list."
   ]
  },
  {
   "cell_type": "markdown",
   "metadata": {},
   "source": [
    "**Exercise 3:** Two lists are provided below. Use `zip()` to loop through both lists simultaneously and print a message like \"[Student] scored [Score].\""
   ]
  },
  {
   "cell_type": "code",
   "execution_count": 9,
   "metadata": {},
   "outputs": [],
   "source": [
    "students = [\"Alice\", \"Bob\", \"Charlie\"]\n",
    "scores = [88, 92, 75]\n",
    "# Your code here"
   ]
  },
  {
   "cell_type": "markdown",
   "metadata": {},
   "source": [
    "---"
   ]
  },
  {
   "cell_type": "markdown",
   "metadata": {},
   "source": [
    "### ❓ Quiz"
   ]
  },
  {
   "cell_type": "markdown",
   "metadata": {},
   "source": [
    "**Question 1:** What will `sorted([5, 1, 3])` return?"
   ]
  },
  {
   "cell_type": "markdown",
   "metadata": {},
   "source": [
    "**Your Answer:** "
   ]
  },
  {
   "cell_type": "markdown",
   "metadata": {},
   "source": [
    "**Question 2:** After running `import math`, how would you access the constant value for Euler's number, `e`?"
   ]
  },
  {
   "cell_type": "markdown",
   "metadata": {},
   "source": [
    "**Your Answer:** "
   ]
  },
  {
   "cell_type": "markdown",
   "metadata": {},
   "source": [
    "---"
   ]
  },
  {
   "cell_type": "markdown",
   "metadata": {},
   "source": [
    "You now know how to leverage the power of Python's standard library. This is a huge productivity boost!\n",
    "\n",
    "**Next up: File Handling.**"
   ]
  }
 ],
 "metadata": {
  "kernelspec": {
   "display_name": ".venv",
   "language": "python",
   "name": "python3"
  },
  "language_info": {
   "codemirror_mode": {
    "name": "ipython",
    "version": 3
   },
   "file_extension": ".py",
   "mimetype": "text/x-python",
   "name": "python",
   "nbconvert_exporter": "python",
   "pygments_lexer": "ipython3",
   "version": "3.10.11"
  }
 },
 "nbformat": 4,
 "nbformat_minor": 2
}
