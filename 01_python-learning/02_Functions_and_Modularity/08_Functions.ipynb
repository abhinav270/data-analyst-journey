{
 "cells": [
  {
   "cell_type": "markdown",
   "metadata": {},
   "source": [
    "# 🟡 8. Functions\n",
    "\n",
    "**Goal:** Learn to create reusable blocks of code to make your programs more organized, efficient, and readable.\n",
    "\n",
    "Functions are one of the most important concepts in programming. They allow you to bundle a sequence of instructions into a single, named unit that you can run whenever you need it.\n",
    "\n",
    "This notebook covers:\n",
    "1.  **Defining Functions:** The `def` keyword.\n",
    "2.  **Parameters & Arguments:** How to pass data into functions.\n",
    "3.  **`return` vs. `print`:** The difference between outputting a value and just displaying it.\n",
    "4.  **Default Arguments:** Making some parameters optional.\n",
    "5.  **Keyword Arguments:** Passing arguments by name for clarity.\n",
    "6.  **Generator Functions with `yield`:** A special type of function for creating iterators."
   ]
  },
  {
   "cell_type": "markdown",
   "metadata": {},
   "source": [
    "### 1. Defining a Simple Function\n",
    "\n",
    "You define a function using the `def` keyword, followed by the function's name, parentheses `()`, and a colon `:`. The code block inside the function must be indented."
   ]
  },
  {
   "cell_type": "code",
   "execution_count": 1,
   "metadata": {},
   "outputs": [
    {
     "name": "stdout",
     "output_type": "stream",
     "text": [
      "Hello! Welcome to the world of functions.\n",
      "Hello! Welcome to the world of functions.\n"
     ]
    }
   ],
   "source": [
    "# Define the function\n",
    "def greet():\n",
    "    print(\"Hello! Welcome to the world of functions.\")\n",
    "\n",
    "# Call the function to execute it\n",
    "greet()\n",
    "greet()"
   ]
  },
  {
   "cell_type": "markdown",
   "metadata": {},
   "source": [
    "---"
   ]
  },
  {
   "cell_type": "markdown",
   "metadata": {},
   "source": [
    "### 2. Parameters and Arguments\n",
    "\n",
    "You can pass data into a function through **parameters** (the variables listed inside the function's definition). When you call the function, the values you pass are called **arguments**."
   ]
  },
  {
   "cell_type": "code",
   "execution_count": 2,
   "metadata": {},
   "outputs": [
    {
     "name": "stdout",
     "output_type": "stream",
     "text": [
      "Hello, Alice!\n",
      "Hello, Bob!\n"
     ]
    }
   ],
   "source": [
    "# 'name' is a parameter\n",
    "def greet_person(name):\n",
    "    print(f\"Hello, {name}!\")\n",
    "\n",
    "# \"Alice\" and \"Bob\" are arguments\n",
    "greet_person(\"Alice\")\n",
    "greet_person(\"Bob\")"
   ]
  },
  {
   "cell_type": "code",
   "execution_count": 3,
   "metadata": {},
   "outputs": [
    {
     "name": "stdout",
     "output_type": "stream",
     "text": [
      "5 + 3 = 8\n",
      "100 + 200 = 300\n"
     ]
    }
   ],
   "source": [
    "# A function can have multiple parameters\n",
    "def add(a, b):\n",
    "    result = a + b\n",
    "    print(f\"{a} + {b} = {result}\")\n",
    "\n",
    "add(5, 3)\n",
    "add(100, 200)"
   ]
  },
  {
   "cell_type": "markdown",
   "metadata": {},
   "source": [
    "---"
   ]
  },
  {
   "cell_type": "markdown",
   "metadata": {},
   "source": [
    "### 3. `return` vs. `print`\n",
    "\n",
    "This is a critical distinction:\n",
    "- **`print()`** just displays a value to the screen. It's for human consumption. The function itself doesn't produce an output that can be used elsewhere in the code.\n",
    "- **`return`** sends a value *out* of the function. This allows you to store the function's result in a variable or use it in another expression."
   ]
  },
  {
   "cell_type": "code",
   "execution_count": 4,
   "metadata": {},
   "outputs": [
    {
     "name": "stdout",
     "output_type": "stream",
     "text": [
      "15\n",
      "The value of result_print is: None\n",
      "-----\n",
      "The value of result_return is: 15\n",
      "The result multiplied by 2 is: 30\n"
     ]
    }
   ],
   "source": [
    "# This function prints, but doesn't return anything\n",
    "def add_and_print(a, b):\n",
    "    print(a + b)\n",
    "\n",
    "result_print = add_and_print(10, 5)\n",
    "print(f\"The value of result_print is: {result_print}\") # It's None!\n",
    "\n",
    "print(\"-----\")\n",
    "\n",
    "# This function returns a value\n",
    "def add_and_return(a, b):\n",
    "    return a + b\n",
    "\n",
    "result_return = add_and_return(10, 5)\n",
    "print(f\"The value of result_return is: {result_return}\") # It's 15!\n",
    "\n",
    "# We can use the returned value directly\n",
    "print(f\"The result multiplied by 2 is: {result_return * 2}\")"
   ]
  },
  {
   "cell_type": "markdown",
   "metadata": {},
   "source": [
    "---"
   ]
  },
  {
   "cell_type": "markdown",
   "metadata": {},
   "source": [
    "### 4. Default Arguments\n",
    "\n",
    "You can provide a default value for a parameter, making it optional when the function is called. Parameters with default values must come *after* parameters without them."
   ]
  },
  {
   "cell_type": "code",
   "execution_count": 5,
   "metadata": {},
   "outputs": [
    {
     "name": "stdout",
     "output_type": "stream",
     "text": [
      "Hello, Charlie!\n",
      "Good morning, Charlie!\n"
     ]
    }
   ],
   "source": [
    "def greet_with_default(name, greeting=\"Hello\"):\n",
    "    print(f\"{greeting}, {name}!\")\n",
    "\n",
    "# Call without the optional argument\n",
    "greet_with_default(\"Charlie\")\n",
    "\n",
    "# Call and provide a value for the optional argument\n",
    "greet_with_default(\"Charlie\", \"Good morning\")"
   ]
  },
  {
   "cell_type": "markdown",
   "metadata": {},
   "source": [
    "---"
   ]
  },
  {
   "cell_type": "markdown",
   "metadata": {},
   "source": [
    "### 5. Keyword Arguments\n",
    "\n",
    "You can pass arguments by specifying the parameter name. This can make your code more readable, especially for functions with many parameters, and it allows you to pass them in any order."
   ]
  },
  {
   "cell_type": "code",
   "execution_count": 6,
   "metadata": {},
   "outputs": [
    {
     "name": "stdout",
     "output_type": "stream",
     "text": [
      "I have a hamster named Harry.\n",
      "I have a cat named Lucy.\n"
     ]
    }
   ],
   "source": [
    "def describe_pet(animal_type, pet_name):\n",
    "    print(f\"I have a {animal_type} named {pet_name}.\")\n",
    "\n",
    "# Positional arguments (order matters)\n",
    "describe_pet(\"hamster\", \"Harry\")\n",
    "\n",
    "# Keyword arguments (order doesn't matter)\n",
    "describe_pet(pet_name=\"Lucy\", animal_type=\"cat\")"
   ]
  },
  {
   "cell_type": "markdown",
   "metadata": {},
   "source": [
    "---"
   ]
  },
  {
   "cell_type": "markdown",
   "metadata": {},
   "source": [
    "### 6. Generator Functions with `yield`\n",
    "\n",
    "A function can also use the `yield` keyword instead of `return`. This makes the function a **generator function**.\n",
    "\n",
    "- **`return`** stops a function completely and sends back a single value.\n",
    "- **`yield`** pauses the function, sends back a value, and saves its state. It can be resumed later to produce more values.\n",
    "\n",
    "This is a more advanced topic, but it's good to know that `yield` exists. When you use `yield`, you create a **generator**, which is a special kind of iterator."
   ]
  },
  {
   "cell_type": "code",
   "execution_count": 7,
   "metadata": {},
   "outputs": [
    {
     "name": "stdout",
     "output_type": "stream",
     "text": [
      "Created a generator: <generator object simple_counter at 0x000001AF03C76FF0>\n",
      "Generator function started.\n",
      "Yielded value: 0\n",
      "Yielded value: 1\n",
      "Yielded value: 2\n",
      "Generator function finished.\n"
     ]
    }
   ],
   "source": [
    "def simple_counter(n):\n",
    "    print(\"Generator function started.\")\n",
    "    i = 0\n",
    "    while i < n:\n",
    "        yield i\n",
    "        i += 1\n",
    "    print(\"Generator function finished.\")\n",
    "\n",
    "# Calling the function returns a generator object, it doesn't run the code yet\n",
    "counter_gen = simple_counter(3)\n",
    "print(f\"Created a generator: {counter_gen}\")\n",
    "\n",
    "# The code only runs when we ask for a value (e.g., in a for loop)\n",
    "for value in counter_gen:\n",
    "    print(f\"Yielded value: {value}\")"
   ]
  },
  {
   "cell_type": "markdown",
   "metadata": {},
   "source": [
    "> 🚀 **For a deep dive into this topic, check out the `19_Iterators_and_Generators.ipynb` notebook!**"
   ]
  },
  {
   "cell_type": "markdown",
   "metadata": {},
   "source": [
    "---"
   ]
  },
  {
   "cell_type": "markdown",
   "metadata": {},
   "source": [
    "### ✍️ Exercises"
   ]
  },
  {
   "cell_type": "markdown",
   "metadata": {},
   "source": [
    "**Exercise 1:** Write a function called `calculate_area` that takes two parameters, `width` and `height`, and **returns** the area of a rectangle."
   ]
  },
  {
   "cell_type": "code",
   "execution_count": 8,
   "metadata": {},
   "outputs": [
    {
     "ename": "NameError",
     "evalue": "name 'calculate_area' is not defined",
     "output_type": "error",
     "traceback": [
      "\u001b[1;31m---------------------------------------------------------------------------\u001b[0m",
      "\u001b[1;31mNameError\u001b[0m                                 Traceback (most recent call last)",
      "Cell \u001b[1;32mIn[8], line 4\u001b[0m\n\u001b[0;32m      1\u001b[0m \u001b[38;5;66;03m# Your code here\u001b[39;00m\n\u001b[0;32m      2\u001b[0m \n\u001b[0;32m      3\u001b[0m \u001b[38;5;66;03m# Test your function\u001b[39;00m\n\u001b[1;32m----> 4\u001b[0m area \u001b[38;5;241m=\u001b[39m \u001b[43mcalculate_area\u001b[49m(\u001b[38;5;241m10\u001b[39m, \u001b[38;5;241m5\u001b[39m)\n\u001b[0;32m      5\u001b[0m \u001b[38;5;28mprint\u001b[39m(\u001b[38;5;124mf\u001b[39m\u001b[38;5;124m\"\u001b[39m\u001b[38;5;124mThe area is: \u001b[39m\u001b[38;5;132;01m{\u001b[39;00marea\u001b[38;5;132;01m}\u001b[39;00m\u001b[38;5;124m\"\u001b[39m) \u001b[38;5;66;03m# Should be 50\u001b[39;00m\n",
      "\u001b[1;31mNameError\u001b[0m: name 'calculate_area' is not defined"
     ]
    }
   ],
   "source": [
    "# Your code here\n",
    "\n",
    "# Test your function\n",
    "area = calculate_area(10, 5)\n",
    "print(f\"The area is: {area}\") # Should be 50"
   ]
  },
  {
   "cell_type": "markdown",
   "metadata": {},
   "source": [
    "**Exercise 2:** Write a function `is_even` that takes a number as a parameter and returns `True` if the number is even and `False` otherwise."
   ]
  },
  {
   "cell_type": "code",
   "execution_count": null,
   "metadata": {},
   "outputs": [],
   "source": [
    "# Your code here\n",
    "\n",
    "# Test your function\n",
    "print(f\"Is 4 even? {is_even(4)}\") # Should be True\n",
    "print(f\"Is 7 even? {is_even(7)}\") # Should be False"
   ]
  },
  {
   "cell_type": "markdown",
   "metadata": {},
   "source": [
    "**Exercise 3:** Write a function `show_info` that takes two parameters, `name` and `country`, with `country` having a default value of \"Unknown\". The function should print a message like \"[Name] is from [Country].\""
   ]
  },
  {
   "cell_type": "code",
   "execution_count": null,
   "metadata": {},
   "outputs": [],
   "source": [
    "# Your code here\n",
    "\n",
    "# Test your function\n",
    "show_info(\"David\", \"Canada\")\n",
    "show_info(\"Eve\")"
   ]
  },
  {
   "cell_type": "markdown",
   "metadata": {},
   "source": [
    "---"
   ]
  },
  {
   "cell_type": "markdown",
   "metadata": {},
   "source": [
    "### ❓ Quiz"
   ]
  },
  {
   "cell_type": "markdown",
   "metadata": {},
   "source": [
    "**Question 1:** What will be printed by this code?"
   ]
  },
  {
   "cell_type": "code",
   "execution_count": null,
   "metadata": {},
   "outputs": [],
   "source": [
    "def my_func(x):\n",
    "    return x * 2\n",
    "\n",
    "my_func(3)\n",
    "print(my_func(4))"
   ]
  },
  {
   "cell_type": "markdown",
   "metadata": {},
   "source": [
    "**Your Answer:** "
   ]
  },
  {
   "cell_type": "markdown",
   "metadata": {},
   "source": [
    "**Question 2:** Will this code run successfully? If not, why?"
   ]
  },
  {
   "cell_type": "code",
   "execution_count": null,
   "metadata": {},
   "outputs": [],
   "source": [
    "def power(base, exponent=2):\n",
    "    return base ** exponent\n",
    "\n",
    "power()"
   ]
  },
  {
   "cell_type": "markdown",
   "metadata": {},
   "source": [
    "**Your Answer:** "
   ]
  },
  {
   "cell_type": "markdown",
   "metadata": {},
   "source": [
    "---"
   ]
  },
  {
   "cell_type": "markdown",
   "metadata": {},
   "source": [
    "You've unlocked a superpower: creating your own tools with functions!\n",
    "\n",
    "**Next up: Scope & Namespaces.**"
   ]
  }
 ],
 "metadata": {
  "kernelspec": {
   "display_name": ".venv",
   "language": "python",
   "name": "python3"
  },
  "language_info": {
   "codemirror_mode": {
    "name": "ipython",
    "version": 3
   },
   "file_extension": ".py",
   "mimetype": "text/x-python",
   "name": "python",
   "nbconvert_exporter": "python",
   "pygments_lexer": "ipython3",
   "version": "3.10.11"
  }
 },
 "nbformat": 4,
 "nbformat_minor": 2
}
