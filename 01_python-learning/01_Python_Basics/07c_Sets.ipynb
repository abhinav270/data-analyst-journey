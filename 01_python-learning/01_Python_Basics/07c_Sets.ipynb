{
 "cells": [
  {
   "cell_type": "markdown",
   "metadata": {},
   "source": [
    "# 🟢 7c. Data Structures: Sets\n",
    "\n",
    "**Goal:** Learn to use sets for storing unique items and performing mathematical set operations.\n",
    "\n",
    "A **set** is an **unordered**, mutable collection of **unique** elements. Their main advantages are very fast membership testing (checking if an element is in a set) and the ability to perform mathematical set operations like union, intersection, and difference.\n",
    "\n",
    "This notebook covers:\n",
    "1.  **Creating Sets.**\n",
    "2.  **Adding and Removing Elements.**\n",
    "3.  **Set Operations.**\n",
    "4.  **When to Use a Set.**"
   ]
  },
  {
   "cell_type": "markdown",
   "metadata": {},
   "source": [
    "### 1. Creating Sets\n",
    "You can create a set from a list or by using curly braces `{}`. Note that duplicates are automatically removed."
   ]
  },
  {
   "cell_type": "code",
   "execution_count": 1,
   "metadata": {},
   "outputs": [
    {
     "name": "stdout",
     "output_type": "stream",
     "text": [
      "Set from list: {1, 2, 3, 4, 5}\n",
      "Set of fruits: {'banana', 'apple', 'cherry'}\n",
      "Type of empty_set: <class 'set'>\n",
      "Type of empty_dict: <class 'dict'>\n"
     ]
    }
   ],
   "source": [
    "# Create a set from a list with duplicates\n",
    "numbers_list = [1, 2, 2, 3, 4, 4, 4, 5]\n",
    "unique_numbers = set(numbers_list)\n",
    "print(f\"Set from list: {unique_numbers}\")\n",
    "\n",
    "# Create a set directly with curly braces\n",
    "fruits = {\"apple\", \"banana\", \"cherry\"}\n",
    "print(f\"Set of fruits: {fruits}\")\n",
    "\n",
    "# To create an empty set, you MUST use set(), not {}\n",
    "# because {} creates an empty dictionary!\n",
    "empty_set = set()\n",
    "empty_dict = {}\n",
    "print(f\"Type of empty_set: {type(empty_set)}\")\n",
    "print(f\"Type of empty_dict: {type(empty_dict)}\")"
   ]
  },
  {
   "cell_type": "markdown",
   "metadata": {},
   "source": [
    "---"
   ]
  },
  {
   "cell_type": "markdown",
   "metadata": {},
   "source": [
    "### 2. Adding and Removing Elements"
   ]
  },
  {
   "cell_type": "code",
   "execution_count": 2,
   "metadata": {},
   "outputs": [
    {
     "name": "stdout",
     "output_type": "stream",
     "text": [
      "Original set: {1, 2, 3}\n",
      "After add(4): {1, 2, 3, 4}\n",
      "After update([4, 5, 6]): {1, 2, 3, 4, 5, 6}\n",
      "After remove(6): {1, 2, 3, 4, 5}\n",
      "After discard(10): {1, 2, 3, 4, 5}\n",
      "Popped element: 1\n",
      "Set after pop: {2, 3, 4, 5}\n"
     ]
    }
   ],
   "source": [
    "s = {1, 2, 3}\n",
    "print(f\"Original set: {s}\")\n",
    "\n",
    "# .add() adds a single element\n",
    "s.add(4)\n",
    "print(f\"After add(4): {s}\")\n",
    "\n",
    "# .update() adds multiple elements from an iterable\n",
    "s.update([4, 5, 6]) # Note that 4 is already there, so it's ignored\n",
    "print(f\"After update([4, 5, 6]): {s}\")\n",
    "\n",
    "# .remove() removes an element. Raises a KeyError if the element is not found.\n",
    "s.remove(6)\n",
    "print(f\"After remove(6): {s}\")\n",
    "\n",
    "# .discard() also removes an element, but does NOT raise an error if it's not found.\n",
    "s.discard(10) # No error\n",
    "print(f\"After discard(10): {s}\")\n",
    "\n",
    "# .pop() removes and returns an arbitrary element from the set.\n",
    "popped_element = s.pop()\n",
    "print(f\"Popped element: {popped_element}\")\n",
    "print(f\"Set after pop: {s}\")"
   ]
  },
  {
   "cell_type": "markdown",
   "metadata": {},
   "source": [
    "---"
   ]
  },
  {
   "cell_type": "markdown",
   "metadata": {},
   "source": [
    "### 3. Set Operations\n",
    "This is where sets are most powerful."
   ]
  },
  {
   "cell_type": "code",
   "execution_count": 3,
   "metadata": {},
   "outputs": [
    {
     "name": "stdout",
     "output_type": "stream",
     "text": [
      "Set A: {1, 2, 3, 4}\n",
      "Set B: {3, 4, 5, 6}\n",
      "---\n",
      "Union: {1, 2, 3, 4, 5, 6}\n",
      "Intersection: {3, 4}\n",
      "Difference (A - B): {1, 2}\n",
      "Symmetric Difference: {1, 2, 5, 6}\n"
     ]
    }
   ],
   "source": [
    "set_a = {1, 2, 3, 4}\n",
    "set_b = {3, 4, 5, 6}\n",
    "\n",
    "print(f\"Set A: {set_a}\")\n",
    "print(f\"Set B: {set_b}\")\n",
    "print(\"---\")\n",
    "\n",
    "# Union: All elements from both sets ( | operator or .union() )\n",
    "print(f\"Union: {set_a | set_b}\")\n",
    "\n",
    "# Intersection: Elements that are in BOTH sets ( & operator or .intersection() )\n",
    "print(f\"Intersection: {set_a & set_b}\")\n",
    "\n",
    "# Difference: Elements in A but NOT in B ( - operator or .difference() )\n",
    "print(f\"Difference (A - B): {set_a - set_b}\")\n",
    "\n",
    "# Symmetric Difference: Elements in either A or B, but NOT in both ( ^ operator or .symmetric_difference() )\n",
    "print(f\"Symmetric Difference: {set_a ^ set_b}\")"
   ]
  },
  {
   "cell_type": "markdown",
   "metadata": {},
   "source": [
    "---"
   ]
  },
  {
   "cell_type": "markdown",
   "metadata": {},
   "source": [
    "### 4. When to Use a Set"
   ]
  },
  {
   "cell_type": "markdown",
   "metadata": {},
   "source": [
    "1.  **Removing duplicates from a list:** This is a very common and efficient use case."
   ]
  },
  {
   "cell_type": "code",
   "execution_count": 4,
   "metadata": {},
   "outputs": [
    {
     "name": "stdout",
     "output_type": "stream",
     "text": [
      "Original list: [1, 1, 2, 3, 3, 3, 4, 5, 5]\n",
      "List with duplicates removed: [1, 2, 3, 4, 5]\n"
     ]
    }
   ],
   "source": [
    "my_list = [1, 1, 2, 3, 3, 3, 4, 5, 5]\n",
    "unique_list = list(set(my_list))\n",
    "print(f\"Original list: {my_list}\")\n",
    "print(f\"List with duplicates removed: {unique_list}\")"
   ]
  },
  {
   "cell_type": "markdown",
   "metadata": {},
   "source": [
    "2.  **Membership Testing:** Checking if an element exists in a collection. This is much faster in a set than in a list, especially for large collections."
   ]
  },
  {
   "cell_type": "code",
   "execution_count": 5,
   "metadata": {},
   "outputs": [
    {
     "name": "stdout",
     "output_type": "stream",
     "text": [
      "Time to check in list: 0.0156807 seconds\n",
      "Time to check in set:  0.0002684 seconds\n"
     ]
    }
   ],
   "source": [
    "import time\n",
    "\n",
    "large_list = list(range(1000000))\n",
    "large_set = set(large_list)\n",
    "\n",
    "# Test for an element at the end of the list\n",
    "start_time = time.perf_counter()\n",
    "_ = 999999 in large_list\n",
    "end_time = time.perf_counter()\n",
    "print(f\"Time to check in list: {end_time - start_time:.7f} seconds\")\n",
    "\n",
    "# Test for the same element in the set\n",
    "start_time = time.perf_counter()\n",
    "_ = 999999 in large_set\n",
    "end_time = time.perf_counter()\n",
    "print(f\"Time to check in set:  {end_time - start_time:.7f} seconds\") # Much faster!"
   ]
  },
  {
   "cell_type": "markdown",
   "metadata": {},
   "source": [
    "---"
   ]
  },
  {
   "cell_type": "markdown",
   "metadata": {},
   "source": [
    "### ✍️ Exercises"
   ]
  },
  {
   "cell_type": "markdown",
   "metadata": {},
   "source": [
    "**Exercise 1:** You have two lists of students. One for the math club, and one for the science club. Find out which students are in both clubs."
   ]
  },
  {
   "cell_type": "code",
   "execution_count": 6,
   "metadata": {},
   "outputs": [],
   "source": [
    "math_club = [\"Alice\", \"Bob\", \"Charlie\", \"David\"]\n",
    "science_club = [\"Charlie\", \"Eve\", \"Frank\", \"Alice\"]\n",
    "# Your code here"
   ]
  },
  {
   "cell_type": "markdown",
   "metadata": {},
   "source": [
    "**Exercise 2:** Find out which students are in the math club but *not* in the science club."
   ]
  },
  {
   "cell_type": "code",
   "execution_count": 7,
   "metadata": {},
   "outputs": [],
   "source": [
    "# Your code here"
   ]
  }
 ],
 "metadata": {
  "kernelspec": {
   "display_name": ".venv",
   "language": "python",
   "name": "python3"
  },
  "language_info": {
   "codemirror_mode": {
    "name": "ipython",
    "version": 3
   },
   "file_extension": ".py",
   "mimetype": "text/x-python",
   "name": "python",
   "nbconvert_exporter": "python",
   "pygments_lexer": "ipython3",
   "version": "3.10.11"
  }
 },
 "nbformat": 4,
 "nbformat_minor": 2
}
