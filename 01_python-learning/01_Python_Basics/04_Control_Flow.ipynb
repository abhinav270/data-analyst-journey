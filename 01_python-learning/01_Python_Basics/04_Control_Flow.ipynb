{
 "cells": [
  {
   "cell_type": "markdown",
   "metadata": {},
   "source": [
    "# 🟢 4. Control Flow\n",
    "\n",
    "**Goal:** Make decisions in your code.\n",
    "\n",
    "Control flow allows your program to execute certain blocks of code only if specific conditions are met. This is how programs make decisions.\n",
    "\n",
    "This notebook covers:\n",
    "1.  **`if` statements:** Execute code if a condition is true.\n",
    "2.  **`else` statements:** Execute code if the `if` condition is false.\n",
    "3.  **`elif` statements:** Check for multiple conditions in sequence.\n",
    "4.  **Nested Conditions:** Putting `if` statements inside other `if` statements.\n",
    "5.  **Ternary Operator:** A concise way to write simple `if-else` statements."
   ]
  },
  {
   "cell_type": "markdown",
   "metadata": {},
   "source": [
    "### 1. The `if` Statement\n",
    "\n",
    "The `if` statement is the simplest form of decision-making. The code inside the `if` block only runs if the condition evaluates to `True`."
   ]
  },
  {
   "cell_type": "code",
   "execution_count": 1,
   "metadata": {},
   "outputs": [
    {
     "name": "stdout",
     "output_type": "stream",
     "text": [
      "It's a hot day!\n",
      "Don't forget to drink water.\n",
      "This line runs no matter what.\n"
     ]
    }
   ],
   "source": [
    "temperature = 35\n",
    "\n",
    "# The code inside this block will only run if temperature is greater than 30\n",
    "if temperature > 30:\n",
    "    print(\"It's a hot day!\")\n",
    "    print(\"Don't forget to drink water.\")\n",
    "\n",
    "print(\"This line runs no matter what.\")"
   ]
  },
  {
   "cell_type": "markdown",
   "metadata": {},
   "source": [
    "---"
   ]
  },
  {
   "cell_type": "markdown",
   "metadata": {},
   "source": [
    "### 2. The `else` Statement\n",
    "\n",
    "The `else` statement provides an alternative block of code to execute if the `if` condition is `False`."
   ]
  },
  {
   "cell_type": "code",
   "execution_count": 2,
   "metadata": {},
   "outputs": [
    {
     "name": "stdout",
     "output_type": "stream",
     "text": [
      "You are not eligible to vote yet.\n"
     ]
    }
   ],
   "source": [
    "age = 17\n",
    "\n",
    "if age >= 18:\n",
    "    print(\"You are eligible to vote.\")\n",
    "else:\n",
    "    print(\"You are not eligible to vote yet.\")"
   ]
  },
  {
   "cell_type": "markdown",
   "metadata": {},
   "source": [
    "---"
   ]
  },
  {
   "cell_type": "markdown",
   "metadata": {},
   "source": [
    "### 3. The `elif` Statement\n",
    "\n",
    "`elif` is short for \"else if\". It allows you to check multiple conditions in order. As soon as one `if` or `elif` condition is found to be `True`, its block is executed, and the rest of the chain is skipped."
   ]
  },
  {
   "cell_type": "code",
   "execution_count": 3,
   "metadata": {},
   "outputs": [
    {
     "name": "stdout",
     "output_type": "stream",
     "text": [
      "Your grade is: B\n"
     ]
    }
   ],
   "source": [
    "score = 85\n",
    "\n",
    "if score >= 90:\n",
    "    grade = \"A\"\n",
    "elif score >= 80:\n",
    "    grade = \"B\"\n",
    "elif score >= 70:\n",
    "    grade = \"C\"\n",
    "elif score >= 60:\n",
    "    grade = \"D\"\n",
    "else:\n",
    "    grade = \"F\"\n",
    "\n",
    "print(f\"Your grade is: {grade}\")"
   ]
  },
  {
   "cell_type": "markdown",
   "metadata": {},
   "source": [
    "---"
   ]
  },
  {
   "cell_type": "markdown",
   "metadata": {},
   "source": [
    "### 4. Nested Conditions\n",
    "\n",
    "You can place `if-elif-else` constructs inside one another to handle more complex scenarios."
   ]
  },
  {
   "cell_type": "code",
   "execution_count": 4,
   "metadata": {},
   "outputs": [
    {
     "name": "stdout",
     "output_type": "stream",
     "text": [
      "You are old enough to drive.\n",
      "You may legally drive a car.\n"
     ]
    }
   ],
   "source": [
    "age = 25\n",
    "has_license = True\n",
    "\n",
    "if age >= 18:\n",
    "    print(\"You are old enough to drive.\")\n",
    "    if has_license:\n",
    "        print(\"You may legally drive a car.\")\n",
    "    else:\n",
    "        print(\"You need to get a driver's license first.\")\n",
    "else:\n",
    "    print(\"You are too young to drive.\")"
   ]
  },
  {
   "cell_type": "markdown",
   "metadata": {},
   "source": [
    "---"
   ]
  },
  {
   "cell_type": "markdown",
   "metadata": {},
   "source": [
    "### 5. Ternary Operator\n",
    "\n",
    "This is a shorthand, one-line version of an `if-else` statement. It's useful for simple assignments.\n",
    "\n",
    "**Syntax:** `value_if_true if condition else value_if_false`"
   ]
  },
  {
   "cell_type": "code",
   "execution_count": 5,
   "metadata": {},
   "outputs": [
    {
     "name": "stdout",
     "output_type": "stream",
     "text": [
      "(Classic) The number is Even.\n",
      "(Ternary) The number is Even.\n"
     ]
    }
   ],
   "source": [
    "num = 10\n",
    "\n",
    "# Classic if-else\n",
    "if num % 2 == 0:\n",
    "    result = \"Even\"\n",
    "else:\n",
    "    result = \"Odd\"\n",
    "print(f\"(Classic) The number is {result}.\")\n",
    "\n",
    "# Ternary operator version\n",
    "result_ternary = \"Even\" if num % 2 == 0 else \"Odd\"\n",
    "print(f\"(Ternary) The number is {result_ternary}.\")"
   ]
  },
  {
   "cell_type": "markdown",
   "metadata": {},
   "source": [
    "---"
   ]
  },
  {
   "cell_type": "markdown",
   "metadata": {},
   "source": [
    "### ✍️ Exercises"
   ]
  },
  {
   "cell_type": "markdown",
   "metadata": {},
   "source": [
    "**Exercise 1:** Write a script that asks the user for a number and prints whether the number is positive, negative, or zero."
   ]
  },
  {
   "cell_type": "code",
   "execution_count": 6,
   "metadata": {},
   "outputs": [],
   "source": [
    "# Your code here\n",
    "# Hint: You'll need input(), int(), and an if-elif-else chain."
   ]
  },
  {
   "cell_type": "markdown",
   "metadata": {},
   "source": [
    "**Exercise 2:** Create a variable `is_weekend` (set it to `True` or `False`). Write a script that prints \"Time to relax!\" if it's the weekend, and \"Time to work.\" otherwise. Use a ternary operator."
   ]
  },
  {
   "cell_type": "code",
   "execution_count": 7,
   "metadata": {},
   "outputs": [],
   "source": [
    "is_weekend = False\n",
    "# Your code here"
   ]
  },
  {
   "cell_type": "markdown",
   "metadata": {},
   "source": [
    "**Exercise 3:** A theme park has the following pricing:\n",
    "- Children (age < 12): $15\n",
    "- Adults (age 12-64): $25\n",
    "- Seniors (age >= 65): $20\n",
    "\n",
    "Write a script that takes an `age` and prints the corresponding ticket price."
   ]
  },
  {
   "cell_type": "code",
   "execution_count": 8,
   "metadata": {},
   "outputs": [],
   "source": [
    "age = 30\n",
    "# Your code here"
   ]
  },
  {
   "cell_type": "markdown",
   "metadata": {},
   "source": [
    "---"
   ]
  },
  {
   "cell_type": "markdown",
   "metadata": {},
   "source": [
    "### ❓ Quiz"
   ]
  },
  {
   "cell_type": "markdown",
   "metadata": {},
   "source": [
    "**Question 1:** What will be printed by this code?"
   ]
  },
  {
   "cell_type": "code",
   "execution_count": 9,
   "metadata": {},
   "outputs": [
    {
     "name": "stdout",
     "output_type": "stream",
     "text": [
      "A\n"
     ]
    }
   ],
   "source": [
    "x = 10\n",
    "if x > 5:\n",
    "    print(\"A\")\n",
    "elif x > 7:\n",
    "    print(\"B\")\n",
    "else:\n",
    "    print(\"C\")"
   ]
  },
  {
   "cell_type": "markdown",
   "metadata": {},
   "source": [
    "**Your Answer:** "
   ]
  },
  {
   "cell_type": "markdown",
   "metadata": {},
   "source": [
    "**Question 2:** What is the value of `message`?"
   ]
  },
  {
   "cell_type": "code",
   "execution_count": 10,
   "metadata": {},
   "outputs": [
    {
     "name": "stdout",
     "output_type": "stream",
     "text": [
      "Enjoy the sun\n"
     ]
    }
   ],
   "source": [
    "is_raining = False\n",
    "message = \"Bring an umbrella\" if is_raining else \"Enjoy the sun\"\n",
    "print(message)"
   ]
  },
  {
   "cell_type": "markdown",
   "metadata": {},
   "source": [
    "**Your Answer:** "
   ]
  },
  {
   "cell_type": "markdown",
   "metadata": {},
   "source": [
    "---"
   ]
  },
  {
   "cell_type": "markdown",
   "metadata": {},
   "source": [
    "Fantastic! You can now control the flow of your programs to make them intelligent.\n",
    "\n",
    "**Next up: Loops.**"
   ]
  }
 ],
 "metadata": {
  "kernelspec": {
   "display_name": ".venv",
   "language": "python",
   "name": "python3"
  },
  "language_info": {
   "codemirror_mode": {
    "name": "ipython",
    "version": 3
   },
   "file_extension": ".py",
   "mimetype": "text/x-python",
   "name": "python",
   "nbconvert_exporter": "python",
   "pygments_lexer": "ipython3",
   "version": "3.10.11"
  }
 },
 "nbformat": 4,
 "nbformat_minor": 2
}
