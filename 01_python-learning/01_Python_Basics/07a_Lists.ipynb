{
 "cells": [
  {
   "cell_type": "markdown",
   "metadata": {},
   "source": [
    "# 🟢 7a. Data Structures: Lists\n",
    "\n",
    "**Goal:** Master the most common and versatile data structure in Python: the list.\n",
    "\n",
    "A **list** is an ordered and mutable (changeable) collection of items. Lists can contain items of different data types, including other lists.\n",
    "\n",
    "This notebook covers:\n",
    "1.  **Creating Lists.**\n",
    "2.  **Accessing Items (Indexing & Slicing).**\n",
    "3.  **Modifying Lists (Adding, Changing, and Removing Items).**\n",
    "4.  **Common List Methods (`.sort()`, `.reverse()`, `.copy()`).**\n",
    "5.  **List Comprehensions (In-depth).**\n",
    "6.  **Nested Lists (2D Lists).**"
   ]
  },
  {
   "cell_type": "markdown",
   "metadata": {},
   "source": [
    "### 1. Creating Lists"
   ]
  },
  {
   "cell_type": "code",
   "execution_count": 1,
   "metadata": {},
   "outputs": [
    {
     "name": "stdout",
     "output_type": "stream",
     "text": [
      "A list of numbers: [1, 2, 3, 4, 5]\n",
      "A list of fruits: ['apple', 'banana', 'cherry']\n",
      "A mixed list: ['Hello', 3.14, True, None, 40]\n",
      "An empty list: []\n"
     ]
    }
   ],
   "source": [
    "# A list of integers\n",
    "numbers = [1, 2, 3, 4, 5]\n",
    "print(f\"A list of numbers: {numbers}\")\n",
    "\n",
    "# A list of strings\n",
    "fruits = [\"apple\", \"banana\", \"cherry\"]\n",
    "print(f\"A list of fruits: {fruits}\")\n",
    "\n",
    "# A list with mixed data types\n",
    "mixed_list = [\"Hello\", 3.14, True, None, 40]\n",
    "print(f\"A mixed list: {mixed_list}\")\n",
    "\n",
    "# An empty list\n",
    "empty_list = []\n",
    "print(f\"An empty list: {empty_list}\")"
   ]
  },
  {
   "cell_type": "markdown",
   "metadata": {},
   "source": [
    "---"
   ]
  },
  {
   "cell_type": "markdown",
   "metadata": {},
   "source": [
    "### 2. Accessing Items (Indexing & Slicing)"
   ]
  },
  {
   "cell_type": "code",
   "execution_count": 2,
   "metadata": {},
   "outputs": [
    {
     "name": "stdout",
     "output_type": "stream",
     "text": [
      "First item: a\n",
      "Last item: f\n",
      "Slice from index 1 to 4: ['b', 'c', 'd']\n",
      "First three items: ['a', 'b', 'c']\n",
      "From index 3 to the end: ['d', 'e', 'f']\n"
     ]
    }
   ],
   "source": [
    "letters = ['a', 'b', 'c', 'd', 'e', 'f']\n",
    "\n",
    "# Get the first item (index 0)\n",
    "print(f\"First item: {letters[0]}\")\n",
    "\n",
    "# Get the last item (negative indexing)\n",
    "print(f\"Last item: {letters[-1]}\")\n",
    "\n",
    "# Slicing: Get a range of items [start:stop]\n",
    "# (includes the start index, but not the stop index)\n",
    "print(f\"Slice from index 1 to 4: {letters[1:4]}\")\n",
    "\n",
    "# Slice from the beginning\n",
    "print(f\"First three items: {letters[:3]}\")\n",
    "\n",
    "# Slice to the end\n",
    "print(f\"From index 3 to the end: {letters[3:]}\")"
   ]
  },
  {
   "cell_type": "markdown",
   "metadata": {},
   "source": [
    "---"
   ]
  },
  {
   "cell_type": "markdown",
   "metadata": {},
   "source": [
    "### 3. Modifying Lists"
   ]
  },
  {
   "cell_type": "markdown",
   "metadata": {},
   "source": [
    "#### Changing an Item"
   ]
  },
  {
   "cell_type": "code",
   "execution_count": 3,
   "metadata": {},
   "outputs": [
    {
     "name": "stdout",
     "output_type": "stream",
     "text": [
      "Original colors: ['red', 'green', 'blue']\n",
      "Modified colors: ['red', 'yellow', 'blue']\n"
     ]
    }
   ],
   "source": [
    "colors = [\"red\", \"green\", \"blue\"]\n",
    "print(f\"Original colors: {colors}\")\n",
    "colors[1] = \"yellow\"\n",
    "print(f\"Modified colors: {colors}\")"
   ]
  },
  {
   "cell_type": "markdown",
   "metadata": {},
   "source": [
    "#### Adding Items"
   ]
  },
  {
   "cell_type": "code",
   "execution_count": 4,
   "metadata": {},
   "outputs": [
    {
     "name": "stdout",
     "output_type": "stream",
     "text": [
      "After append(4): [1, 2, 3, 4]\n",
      "After insert(0, 0): [0, 1, 2, 3, 4]\n",
      "After extend([5, 6, 7]): [0, 1, 2, 3, 4, 5, 6, 7]\n"
     ]
    }
   ],
   "source": [
    "nums = [1, 2, 3]\n",
    "\n",
    "# .append() adds one item to the end\n",
    "nums.append(4)\n",
    "print(f\"After append(4): {nums}\")\n",
    "\n",
    "# .insert() adds an item at a specific index\n",
    "nums.insert(0, 0) # Insert 0 at index 0\n",
    "print(f\"After insert(0, 0): {nums}\")\n",
    "\n",
    "# .extend() adds all items from another list to the end\n",
    "nums.extend([5, 6, 7])\n",
    "print(f\"After extend([5, 6, 7]): {nums}\")"
   ]
  },
  {
   "cell_type": "markdown",
   "metadata": {},
   "source": [
    "#### Removing Items"
   ]
  },
  {
   "cell_type": "code",
   "execution_count": 5,
   "metadata": {},
   "outputs": [
    {
     "name": "stdout",
     "output_type": "stream",
     "text": [
      "Original items: ['a', 'b', 'c', 'd', 'b', 'e']\n",
      "After remove('b'): ['a', 'c', 'd', 'b', 'e']\n",
      "Popped item at index 2: d\n",
      "List after pop(2): ['a', 'c', 'b', 'e']\n",
      "After del items[0]: ['c', 'b', 'e']\n",
      "After clear(): []\n"
     ]
    }
   ],
   "source": [
    "items = ['a', 'b', 'c', 'd', 'b', 'e']\n",
    "print(f\"Original items: {items}\")\n",
    "\n",
    "# .remove() removes the first occurrence of a value\n",
    "items.remove('b')\n",
    "print(f\"After remove('b'): {items}\")\n",
    "\n",
    "# .pop() removes an item at a specific index and returns it. If no index is given, it removes the last item.\n",
    "popped_item = items.pop(2) # Removes 'd'\n",
    "print(f\"Popped item at index 2: {popped_item}\")\n",
    "print(f\"List after pop(2): {items}\")\n",
    "\n",
    "# The 'del' keyword can also remove items by index or slice\n",
    "del items[0]\n",
    "print(f\"After del items[0]: {items}\")\n",
    "\n",
    "# .clear() removes all items from the list\n",
    "items.clear()\n",
    "print(f\"After clear(): {items}\")"
   ]
  },
  {
   "cell_type": "markdown",
   "metadata": {},
   "source": [
    "---"
   ]
  },
  {
   "cell_type": "markdown",
   "metadata": {},
   "source": [
    "### 4. Common List Methods"
   ]
  },
  {
   "cell_type": "code",
   "execution_count": 6,
   "metadata": {},
   "outputs": [
    {
     "name": "stdout",
     "output_type": "stream",
     "text": [
      "Sorted list: [1, 1, 2, 3, 4, 5, 9]\n",
      "Sorted in reverse: [9, 5, 4, 3, 2, 1, 1]\n",
      "Reversed list: [1, 1, 2, 3, 4, 5, 9]\n",
      "Original list: [1, 2, 3]\n",
      "Copied list: [1, 2, 3, 4]\n",
      "The number 1 appears 2 times.\n"
     ]
    }
   ],
   "source": [
    "numbers = [3, 1, 4, 1, 5, 9, 2]\n",
    "\n",
    "# .sort() sorts the list in-place (it modifies the original list)\n",
    "numbers.sort()\n",
    "print(f\"Sorted list: {numbers}\")\n",
    "\n",
    "# To sort in descending order\n",
    "numbers.sort(reverse=True)\n",
    "print(f\"Sorted in reverse: {numbers}\")\n",
    "\n",
    "# .reverse() reverses the list in-place\n",
    "numbers.reverse()\n",
    "print(f\"Reversed list: {numbers}\")\n",
    "\n",
    "# .copy() returns a shallow copy of the list\n",
    "original = [1, 2, 3]\n",
    "copied = original.copy()\n",
    "copied.append(4)\n",
    "print(f\"Original list: {original}\")\n",
    "print(f\"Copied list: {copied}\")\n",
    "\n",
    "# .count() returns the number of occurrences of a value\n",
    "print(f\"The number 1 appears {numbers.count(1)} times.\")"
   ]
  },
  {
   "cell_type": "markdown",
   "metadata": {},
   "source": [
    "---"
   ]
  },
  {
   "cell_type": "markdown",
   "metadata": {},
   "source": [
    "### 5. List Comprehensions (In-depth)\n",
    "A very powerful and \"Pythonic\" way to create lists from other iterables.\n",
    "**Syntax:** `[expression for item in iterable if condition]`"
   ]
  },
  {
   "cell_type": "code",
   "execution_count": 7,
   "metadata": {},
   "outputs": [
    {
     "name": "stdout",
     "output_type": "stream",
     "text": [
      "Squares: [0, 1, 4, 9, 16, 25, 36, 49, 64, 81]\n",
      "Evens: [0, 2, 4, 6, 8, 10, 12, 14, 16, 18]\n",
      "Uppercase words: ['HELLO', 'WORLD', 'PYTHON']\n"
     ]
    }
   ],
   "source": [
    "# Create a list of squares from 0 to 9\n",
    "squares = [x**2 for x in range(10)]\n",
    "print(f\"Squares: {squares}\")\n",
    "\n",
    "# Create a list of even numbers from 0 to 19\n",
    "evens = [x for x in range(20) if x % 2 == 0]\n",
    "print(f\"Evens: {evens}\")\n",
    "\n",
    "# Convert a list of strings to uppercase\n",
    "words = [\"hello\", \"world\", \"python\"]\n",
    "upper_words = [word.upper() for word in words]\n",
    "print(f\"Uppercase words: {upper_words}\")"
   ]
  },
  {
   "cell_type": "markdown",
   "metadata": {},
   "source": [
    "---"
   ]
  },
  {
   "cell_type": "markdown",
   "metadata": {},
   "source": [
    "### 6. Nested Lists (2D Lists)\n",
    "A list can contain other lists. This is often used to represent grids or matrices."
   ]
  },
  {
   "cell_type": "code",
   "execution_count": 8,
   "metadata": {},
   "outputs": [
    {
     "name": "stdout",
     "output_type": "stream",
     "text": [
      "The element at row 1, column 2 is: 6\n",
      "[1, 2, 3]\n",
      "[4, 5, 6]\n",
      "[7, 8, 9]\n"
     ]
    }
   ],
   "source": [
    "matrix = [\n",
    "    [1, 2, 3],\n",
    "    [4, 5, 6],\n",
    "    [7, 8, 9]\n",
    "]\n",
    "\n",
    "# To access an element, you use two indices: matrix[row][column]\n",
    "print(f\"The element at row 1, column 2 is: {matrix[1][2]}\") # Should be 6\n",
    "\n",
    "# You can loop through a nested list\n",
    "for row in matrix:\n",
    "    print(row)"
   ]
  },
  {
   "cell_type": "markdown",
   "metadata": {},
   "source": [
    "---"
   ]
  },
  {
   "cell_type": "markdown",
   "metadata": {},
   "source": [
    "### ✍️ Exercises"
   ]
  },
  {
   "cell_type": "markdown",
   "metadata": {},
   "source": [
    "**Exercise 1:** Create a list of your 5 favorite foods. Then, use the `insert()` method to add another food at the second position in the list. Print the final list."
   ]
  },
  {
   "cell_type": "code",
   "execution_count": 9,
   "metadata": {},
   "outputs": [],
   "source": [
    "# Your code here"
   ]
  },
  {
   "cell_type": "markdown",
   "metadata": {},
   "source": [
    "**Exercise 2:** Given the list `numbers = [1, 2, 3, 4, 5, 6, 7, 8, 9, 10]`, use a list comprehension to create a new list that contains the square of only the odd numbers."
   ]
  },
  {
   "cell_type": "code",
   "execution_count": 10,
   "metadata": {},
   "outputs": [],
   "source": [
    "numbers = [1, 2, 3, 4, 5, 6, 7, 8, 9, 10]\n",
    "# Your code here"
   ]
  }
 ],
 "metadata": {
  "kernelspec": {
   "display_name": ".venv",
   "language": "python",
   "name": "python3"
  },
  "language_info": {
   "codemirror_mode": {
    "name": "ipython",
    "version": 3
   },
   "file_extension": ".py",
   "mimetype": "text/x-python",
   "name": "python",
   "nbconvert_exporter": "python",
   "pygments_lexer": "ipython3",
   "version": "3.10.11"
  }
 },
 "nbformat": 4,
 "nbformat_minor": 2
}
