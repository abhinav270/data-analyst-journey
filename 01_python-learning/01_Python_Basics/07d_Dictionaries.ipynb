{
 "cells": [
  {
   "cell_type": "markdown",
   "metadata": {},
   "source": [
    "# 🟢 7d. Data Structures: Dictionaries\n",
    "\n",
    "**Goal:** Master the use of dictionaries for storing and retrieving data using key-value pairs.\n",
    "\n",
    "A **dictionary** is a mutable, ordered (in Python 3.7+) collection that stores data in **key-value pairs**. They are incredibly flexible and are one of the most important data structures in Python.\n",
    "\n",
    "This notebook covers:\n",
    "1.  **Creating Dictionaries.**\n",
    "2.  **Accessing, Adding, and Modifying Items.**\n",
    "3.  **Removing Items.**\n",
    "4.  **Looping Through Dictionaries (`.keys()`, `.values()`, `.items()`).**\n",
    "5.  **Dictionary Comprehensions.**\n",
    "6.  **Nested Dictionaries.**"
   ]
  },
  {
   "cell_type": "markdown",
   "metadata": {},
   "source": [
    "### 1. Creating Dictionaries"
   ]
  },
  {
   "cell_type": "code",
   "execution_count": 9,
   "metadata": {},
   "outputs": [
    {
     "name": "stdout",
     "output_type": "stream",
     "text": [
      "Person dictionary: {'name': 'Alice', 'age': 30, 'city': 'New York', 'is_student': False}\n",
      "An empty dictionary: {}\n",
      "Car dictionary: {'make': 'Ford', 'model': 'Mustang', 'year': 1969}\n"
     ]
    }
   ],
   "source": [
    "# A dictionary of a person's information\n",
    "person = {\n",
    "    \"name\": \"Alice\",\n",
    "    \"age\": 30,\n",
    "    \"city\": \"New York\",\n",
    "    \"is_student\": False\n",
    "}\n",
    "print(f\"Person dictionary: {person}\")\n",
    "\n",
    "# An empty dictionary\n",
    "empty_dict = {}\n",
    "print(f\"An empty dictionary: {empty_dict}\")\n",
    "\n",
    "# You can also use the dict() constructor\n",
    "car = dict(make=\"Ford\", model=\"Mustang\", year=1969)\n",
    "print(f\"Car dictionary: {car}\")"
   ]
  },
  {
   "cell_type": "markdown",
   "metadata": {},
   "source": [
    "---"
   ]
  },
  {
   "cell_type": "markdown",
   "metadata": {},
   "source": [
    "### 2. Accessing, Adding, and Modifying Items"
   ]
  },
  {
   "cell_type": "code",
   "execution_count": 10,
   "metadata": {},
   "outputs": [
    {
     "name": "stdout",
     "output_type": "stream",
     "text": [
      "Name: Alice\n",
      "Job: None\n",
      "Job (with default): Unemployed\n",
      "\n",
      "After adding job: {'name': 'Alice', 'age': 30, 'job': 'Software Engineer'}\n",
      "After modifying age: {'name': 'Alice', 'age': 31, 'job': 'Software Engineer'}\n"
     ]
    }
   ],
   "source": [
    "person = {\"name\": \"Alice\", \"age\": 30}\n",
    "\n",
    "# Accessing items using the key in square brackets\n",
    "print(f\"Name: {person['name']}\")\n",
    "\n",
    "# Using the .get() method is safer - it returns None if the key doesn't exist\n",
    "print(f\"Job: {person.get('job')}\")\n",
    "print(f\"Job (with default): {person.get('job', 'Unemployed')}\")\n",
    "\n",
    "# Adding a new key-value pair\n",
    "person['job'] = 'Software Engineer'\n",
    "print(f\"\\nAfter adding job: {person}\")\n",
    "\n",
    "# Modifying an existing item\n",
    "person['age'] = 31\n",
    "print(f\"After modifying age: {person}\")"
   ]
  },
  {
   "cell_type": "markdown",
   "metadata": {},
   "source": [
    "---"
   ]
  },
  {
   "cell_type": "markdown",
   "metadata": {},
   "source": [
    "### 3. Removing Items"
   ]
  },
  {
   "cell_type": "code",
   "execution_count": 11,
   "metadata": {},
   "outputs": [
    {
     "name": "stdout",
     "output_type": "stream",
     "text": [
      "Original car dict: {'make': 'Ford', 'model': 'Mustang', 'year': 1969, 'color': 'red'}\n",
      "Popped color: red\n",
      "Dict after pop: {'make': 'Ford', 'model': 'Mustang', 'year': 1969}\n",
      "Popped item: ('year', 1969)\n",
      "Dict after popitem: {'make': 'Ford', 'model': 'Mustang'}\n",
      "Dict after del: {'model': 'Mustang'}\n"
     ]
    }
   ],
   "source": [
    "car = {\"make\": \"Ford\", \"model\": \"Mustang\", \"year\": 1969, \"color\": \"red\"}\n",
    "print(f\"Original car dict: {car}\")\n",
    "\n",
    "# .pop() removes an item with the specified key and returns its value\n",
    "color = car.pop('color')\n",
    "print(f\"Popped color: {color}\")\n",
    "print(f\"Dict after pop: {car}\")\n",
    "\n",
    "# .popitem() removes the last inserted item (in Python 3.7+)\n",
    "last_item = car.popitem()\n",
    "print(f\"Popped item: {last_item}\")\n",
    "print(f\"Dict after popitem: {car}\")\n",
    "\n",
    "# The 'del' keyword removes the item with the specified key name\n",
    "del car['make']\n",
    "print(f\"Dict after del: {car}\")"
   ]
  },
  {
   "cell_type": "markdown",
   "metadata": {},
   "source": [
    "---"
   ]
  },
  {
   "cell_type": "markdown",
   "metadata": {},
   "source": [
    "### 4. Looping Through Dictionaries\n",
    "There are several ways to iterate over a dictionary."
   ]
  },
  {
   "cell_type": "code",
   "execution_count": 12,
   "metadata": {},
   "outputs": [
    {
     "name": "stdout",
     "output_type": "stream",
     "text": [
      "--- Keys ---\n",
      "name\n",
      "age\n",
      "job\n",
      "\n",
      "--- Values ---\n",
      "Alice\n",
      "31\n",
      "Engineer\n",
      "\n",
      "--- Key-Value Pairs ---\n",
      "name: Alice\n",
      "age: 31\n",
      "job: Engineer\n"
     ]
    }
   ],
   "source": [
    "person = {\"name\": \"Alice\", \"age\": 31, \"job\": \"Engineer\"}\n",
    "\n",
    "# Loop through keys (this is the default behavior)\n",
    "print(\"--- Keys ---\")\n",
    "for key in person:\n",
    "    print(key)\n",
    "\n",
    "# Loop through values using .values()\n",
    "print(\"\\n--- Values ---\")\n",
    "for value in person.values():\n",
    "    print(value)\n",
    "\n",
    "# Loop through key-value pairs using .items()\n",
    "print(\"\\n--- Key-Value Pairs ---\")\n",
    "for key, value in person.items():\n",
    "    print(f\"{key}: {value}\")"
   ]
  },
  {
   "cell_type": "markdown",
   "metadata": {},
   "source": [
    "---"
   ]
  },
  {
   "cell_type": "markdown",
   "metadata": {},
   "source": [
    "### 5. Dictionary Comprehensions\n",
    "A concise way to create dictionaries from iterables.\n",
    "**Syntax:** `{key_expression: value_expression for item in iterable}`"
   ]
  },
  {
   "cell_type": "code",
   "execution_count": 13,
   "metadata": {},
   "outputs": [
    {
     "name": "stdout",
     "output_type": "stream",
     "text": [
      "Squares dict: {0: 0, 1: 1, 2: 4, 3: 9, 4: 16}\n",
      "Word lengths: {'apple': 5, 'banana': 6, 'cherry': 6}\n"
     ]
    }
   ],
   "source": [
    "# Create a dictionary of numbers and their squares\n",
    "squares = {x: x**2 for x in range(5)}\n",
    "print(f\"Squares dict: {squares}\")\n",
    "\n",
    "# Create a dictionary from a list of words and their lengths\n",
    "words = [\"apple\", \"banana\", \"cherry\"]\n",
    "word_lengths = {word: len(word) for word in words}\n",
    "print(f\"Word lengths: {word_lengths}\")"
   ]
  },
  {
   "cell_type": "markdown",
   "metadata": {},
   "source": [
    "---"
   ]
  },
  {
   "cell_type": "markdown",
   "metadata": {},
   "source": [
    "### 6. Nested Dictionaries\n",
    "A dictionary can contain other dictionaries. This is very useful for storing complex, structured data."
   ]
  },
  {
   "cell_type": "code",
   "execution_count": 14,
   "metadata": {},
   "outputs": [
    {
     "name": "stdout",
     "output_type": "stream",
     "text": [
      "User 2's email: bob@example.com\n"
     ]
    }
   ],
   "source": [
    "users = {\n",
    "    'user1': {\n",
    "        'name': 'Alice',\n",
    "        'email': 'alice@example.com'\n",
    "    },\n",
    "    'user2': {\n",
    "        'name': 'Bob',\n",
    "        'email': 'bob@example.com'\n",
    "    }\n",
    "}\n",
    "\n",
    "# Accessing nested data\n",
    "print(f\"User 2's email: {users['user2']['email']}\")"
   ]
  },
  {
   "cell_type": "markdown",
   "metadata": {},
   "source": [
    "---"
   ]
  },
  {
   "cell_type": "markdown",
   "metadata": {},
   "source": [
    "### ✍️ Exercises"
   ]
  },
  {
   "cell_type": "markdown",
   "metadata": {},
   "source": [
    "**Exercise 1:** Create a dictionary to store the prices of three items in a grocery store. Then, use the `.keys()` method to print all the item names."
   ]
  },
  {
   "cell_type": "code",
   "execution_count": 15,
   "metadata": {},
   "outputs": [],
   "source": [
    "# Your code here"
   ]
  },
  {
   "cell_type": "markdown",
   "metadata": {},
   "source": [
    "**Exercise 2:** Use a dictionary comprehension to create a dictionary from the `words` list below, where the keys are the words and the values are the words in uppercase."
   ]
  },
  {
   "cell_type": "code",
   "execution_count": 16,
   "metadata": {},
   "outputs": [],
   "source": [
    "words = ['python', 'is', 'fun']\n",
    "# Your code here"
   ]
  }
 ],
 "metadata": {
  "kernelspec": {
   "display_name": ".venv",
   "language": "python",
   "name": "python3"
  },
  "language_info": {
   "codemirror_mode": {
    "name": "ipython",
    "version": 3
   },
   "file_extension": ".py",
   "mimetype": "text/x-python",
   "name": "python",
   "nbconvert_exporter": "python",
   "pygments_lexer": "ipython3",
   "version": "3.10.11"
  }
 },
 "nbformat": 4,
 "nbformat_minor": 2
}
