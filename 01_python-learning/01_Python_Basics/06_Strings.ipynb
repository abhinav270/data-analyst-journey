{
 "cells": [
  {
   "cell_type": "markdown",
   "metadata": {},
   "source": [
    "# 🟢 6. Strings\n",
    "\n",
    "**Goal:** Master the techniques for working with text data.\n",
    "\n",
    "Strings are one of the most common data types you'll work with. They are sequences of characters, and Python provides a rich set of tools to manipulate them.\n",
    "\n",
    "This notebook covers:\n",
    "1.  **String Creation:** Different ways to create strings.\n",
    "2.  **Indexing & Slicing:** Accessing parts of a string.\n",
    "3.  **String Methods:** Powerful built-in functions for string manipulation.\n",
    "4.  **f-strings:** The modern and best way to format strings."
   ]
  },
  {
   "cell_type": "markdown",
   "metadata": {},
   "source": [
    "### 1. String Creation\n",
    "\n",
    "You can create strings using single (`'`), double (`\"`), or triple (`'''` or `\"\"\"`) quotes. Triple quotes are useful for multi-line strings."
   ]
  },
  {
   "cell_type": "code",
   "execution_count": 1,
   "metadata": {},
   "outputs": [
    {
     "name": "stdout",
     "output_type": "stream",
     "text": [
      "This is a string with single quotes.\n",
      "This is a string with double quotes.\n",
      "This is a multi-line string.\n",
      "It can span across several lines.\n",
      "Very useful for long text or documentation.\n"
     ]
    }
   ],
   "source": [
    "s1 = 'This is a string with single quotes.'\n",
    "s2 = \"This is a string with double quotes.\"\n",
    "s3 = \"\"\"This is a multi-line string.\n",
    "It can span across several lines.\n",
    "Very useful for long text or documentation.\"\"\"\n",
    "\n",
    "print(s1)\n",
    "print(s2)\n",
    "print(s3)"
   ]
  },
  {
   "cell_type": "markdown",
   "metadata": {},
   "source": [
    "---"
   ]
  },
  {
   "cell_type": "markdown",
   "metadata": {},
   "source": [
    "### 2. Indexing & Slicing\n",
    "\n",
    "Strings are sequences, which means you can access their characters by their position (index). Python uses 0-based indexing.\n",
    "\n",
    "- **Indexing:** Get a single character.\n",
    "- **Slicing:** Get a substring. The syntax is `[start:stop:step]`."
   ]
  },
  {
   "cell_type": "code",
   "execution_count": 2,
   "metadata": {},
   "outputs": [
    {
     "name": "stdout",
     "output_type": "stream",
     "text": [
      "First character: P\n",
      "Seventh character: i\n",
      "Last character: !\n",
      "Slice [0:6]: Python\n",
      "Slice [7:9]: is\n",
      "Slice from start [:6]: Python\n",
      "Slice to end [10:]: fun!\n",
      "Slice with a step [::2]: Pto sfn\n",
      "Reverse the string [::-1]: !nuf si nohtyP\n"
     ]
    }
   ],
   "source": [
    "text = \"Python is fun!\"\n",
    "\n",
    "# Indexing\n",
    "print(f\"First character: {text[0]}\")   # P\n",
    "print(f\"Seventh character: {text[7]}\") # i\n",
    "print(f\"Last character: {text[-1]}\")   # ! (Negative indexing counts from the end)\n",
    "\n",
    "# Slicing\n",
    "print(f\"Slice [0:6]: {text[0:6]}\")     # 'Python' (from index 0 up to, but not including, 6)\n",
    "print(f\"Slice [7:9]: {text[7:9]}\")     # 'is'\n",
    "print(f\"Slice from start [:6]: {text[:6]}\")   # 'Python'\n",
    "print(f\"Slice to end [10:]: {text[10:]}\")  # 'fun!'\n",
    "print(f\"Slice with a step [::2]: {text[::2]}\") # 'Pto sfn' (every second character)\n",
    "print(f\"Reverse the string [::-1]: {text[::-1]}\") # '!nuf si nohtyP'"
   ]
  },
  {
   "cell_type": "markdown",
   "metadata": {},
   "source": [
    "---"
   ]
  },
  {
   "cell_type": "markdown",
   "metadata": {},
   "source": [
    "### 3. String Methods\n",
    "\n",
    "Strings come with many built-in methods that perform common operations. Remember, strings are **immutable**, which means these methods don't change the original string; they return a new one."
   ]
  },
  {
   "cell_type": "code",
   "execution_count": 3,
   "metadata": {},
   "outputs": [
    {
     "name": "stdout",
     "output_type": "stream",
     "text": [
      "Upper case: '  HELLO WORLD, WELCOME TO PYTHON.  '\n",
      "Lower case: '  hello world, welcome to python.  '\n",
      "Title case: '  Hello World, Welcome To Python.  '\n",
      "Stripped: 'hello world, welcome to python.'\n",
      "Left-stripped: 'hello world, welcome to python.  '\n",
      "Right-stripped: '  hello world, welcome to python.'\n",
      "Replace 'world' with 'python': '  hello python, welcome to python.  '\n",
      "Does it start with '  hello'? True\n",
      "Find the index of 'welcome': 15\n",
      "Split into words: ['hello', 'world,', 'welcome', 'to', 'python.']\n",
      "Joined with '---': 'hello---world,---welcome---to---python.'\n"
     ]
    }
   ],
   "source": [
    "message = \"  hello world, welcome to python.  \"\n",
    "\n",
    "# Case manipulation\n",
    "print(f\"Upper case: '{message.upper()}'\")\n",
    "print(f\"Lower case: '{message.lower()}'\")\n",
    "print(f\"Title case: '{message.title()}'\")\n",
    "\n",
    "# Removing whitespace\n",
    "print(f\"Stripped: '{message.strip()}'\") # Removes from both ends\n",
    "print(f\"Left-stripped: '{message.lstrip()}'\")\n",
    "print(f\"Right-stripped: '{message.rstrip()}'\")\n",
    "\n",
    "# Find and Replace\n",
    "print(f\"Replace 'world' with 'python': '{message.replace('world', 'python')}'\")\n",
    "print(f\"Does it start with '  hello'? {message.startswith('  hello')}\")\n",
    "print(f\"Find the index of 'welcome': {message.find('welcome')}\")\n",
    "\n",
    "# Splitting and Joining\n",
    "words = message.strip().split(' ') # Split the string into a list of words\n",
    "print(f\"Split into words: {words}\")\n",
    "joined_string = '---'.join(words) # Join the list back into a string\n",
    "print(f\"Joined with '---': '{joined_string}'\")"
   ]
  },
  {
   "cell_type": "markdown",
   "metadata": {},
   "source": [
    "---"
   ]
  },
  {
   "cell_type": "markdown",
   "metadata": {},
   "source": [
    "### 4. f-strings (Formatted String Literals)\n",
    "\n",
    "Introduced in Python 3.6, f-strings are the easiest and most powerful way to embed expressions inside string literals for formatting."
   ]
  },
  {
   "cell_type": "code",
   "execution_count": 4,
   "metadata": {},
   "outputs": [
    {
     "name": "stdout",
     "output_type": "stream",
     "text": [
      "Old way: My name is Jane and I am 28 years old.\n",
      "New way: My name is Jane and I am 28 years old.\n",
      "In 5 years, I will be 33 years old.\n",
      "Pi rounded to 2 decimal places is 3.14\n"
     ]
    }
   ],
   "source": [
    "name = \"Jane\"\n",
    "age = 28\n",
    "pi = 3.14159265\n",
    "\n",
    "# The old way ( .format() )\n",
    "old_way = \"My name is {} and I am {} years old.\".format(name, age)\n",
    "print(f\"Old way: {old_way}\")\n",
    "\n",
    "# The new way (f-string)\n",
    "new_way = f\"My name is {name} and I am {age} years old.\"\n",
    "print(f\"New way: {new_way}\")\n",
    "\n",
    "# You can put expressions directly inside!\n",
    "print(f\"In 5 years, I will be {age + 5} years old.\")\n",
    "\n",
    "# You can also format numbers\n",
    "print(f\"Pi rounded to 2 decimal places is {pi:.2f}\")"
   ]
  },
  {
   "cell_type": "markdown",
   "metadata": {},
   "source": [
    "---"
   ]
  },
  {
   "cell_type": "markdown",
   "metadata": {},
   "source": [
    "### ✍️ Exercises"
   ]
  },
  {
   "cell_type": "markdown",
   "metadata": {},
   "source": [
    "**Exercise 1:** Create a variable `my_string` with the value \"Programming is fun\". Use slicing to print only the word \"fun\"."
   ]
  },
  {
   "cell_type": "code",
   "execution_count": 5,
   "metadata": {},
   "outputs": [],
   "source": [
    "# Your code here"
   ]
  },
  {
   "cell_type": "markdown",
   "metadata": {},
   "source": [
    "**Exercise 2:** Take the string `data = \"  _USER_DATA_  \"`. Clean it up by removing the whitespace and underscores, and convert it to lowercase."
   ]
  },
  {
   "cell_type": "code",
   "execution_count": 6,
   "metadata": {},
   "outputs": [],
   "source": [
    "data = \"  _USER_DATA_  \"\n",
    "# Your code here"
   ]
  },
  {
   "cell_type": "markdown",
   "metadata": {},
   "source": [
    "**Exercise 3:** Ask the user for their first name and last name. Use an f-string to print a welcome message like \"Welcome, [First Name] [Last Name]!\""
   ]
  },
  {
   "cell_type": "code",
   "execution_count": 7,
   "metadata": {},
   "outputs": [],
   "source": [
    "# Your code here"
   ]
  },
  {
   "cell_type": "markdown",
   "metadata": {},
   "source": [
    "---"
   ]
  },
  {
   "cell_type": "markdown",
   "metadata": {},
   "source": [
    "### ❓ Quiz"
   ]
  },
  {
   "cell_type": "markdown",
   "metadata": {},
   "source": [
    "**Question 1:** What is the output of this code?"
   ]
  },
  {
   "cell_type": "code",
   "execution_count": 8,
   "metadata": {},
   "outputs": [
    {
     "name": "stdout",
     "output_type": "stream",
     "text": [
      "bcd\n"
     ]
    }
   ],
   "source": [
    "s = \"abcde\"\n",
    "print(s[1:4])"
   ]
  },
  {
   "cell_type": "markdown",
   "metadata": {},
   "source": [
    "**Your Answer:** "
   ]
  },
  {
   "cell_type": "markdown",
   "metadata": {},
   "source": [
    "**Question 2:** What will be printed?"
   ]
  },
  {
   "cell_type": "code",
   "execution_count": 9,
   "metadata": {},
   "outputs": [
    {
     "name": "stdout",
     "output_type": "stream",
     "text": [
      "banana\n"
     ]
    }
   ],
   "source": [
    "s = \"apple,banana,cherry\"\n",
    "parts = s.split(',')\n",
    "print(parts[1])"
   ]
  },
  {
   "cell_type": "markdown",
   "metadata": {},
   "source": [
    "**Your Answer:** "
   ]
  },
  {
   "cell_type": "markdown",
   "metadata": {},
   "source": [
    "---"
   ]
  },
  {
   "cell_type": "markdown",
   "metadata": {},
   "source": [
    "You are now a string manipulation pro! This is a critical skill for any programmer.\n",
    "\n",
    "**Next up: Data Structures (List, Tuple, Set, Dict).**"
   ]
  }
 ],
 "metadata": {
  "kernelspec": {
   "display_name": ".venv",
   "language": "python",
   "name": "python3"
  },
  "language_info": {
   "codemirror_mode": {
    "name": "ipython",
    "version": 3
   },
   "file_extension": ".py",
   "mimetype": "text/x-python",
   "name": "python",
   "nbconvert_exporter": "python",
   "pygments_lexer": "ipython3",
   "version": "3.10.11"
  }
 },
 "nbformat": 4,
 "nbformat_minor": 2
}
