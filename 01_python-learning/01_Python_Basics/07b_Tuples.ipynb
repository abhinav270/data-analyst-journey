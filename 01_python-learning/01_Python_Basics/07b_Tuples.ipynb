{
 "cells": [
  {
   "cell_type": "markdown",
   "metadata": {},
   "source": [
    "# 🟢 7b. Data Structures: Tuples\n",
    "\n",
    "**Goal:** Understand how to use tuples for fixed collections of data.\n",
    "\n",
    "A **tuple** is an ordered and **immutable** (unchangeable) collection of items. Because they can't be changed, they are simpler and often faster than lists. They are used to store data that should not be modified after creation.\n",
    "\n",
    "This notebook covers:\n",
    "1.  **Creating Tuples.**\n",
    "2.  **Accessing Items.**\n",
    "3.  **Immutability: The Key Difference.**\n",
    "4.  **Tuple Methods (`.count()`, `.index()`).**\n",
    "5.  **Tuple Unpacking.**\n",
    "6.  **When to Use a Tuple.**"
   ]
  },
  {
   "cell_type": "markdown",
   "metadata": {},
   "source": [
    "### 1. Creating Tuples\n",
    "Tuples are created using parentheses `()`."
   ]
  },
  {
   "cell_type": "code",
   "execution_count": 1,
   "metadata": {},
   "outputs": [
    {
     "name": "stdout",
     "output_type": "stream",
     "text": [
      "Coordinates tuple: (10.0, 20.0)\n",
      "RGB color tuple: (255, 0, 128)\n",
      "This is a tuple: <class 'tuple'>\n",
      "This is just an integer: <class 'int'>\n"
     ]
    }
   ],
   "source": [
    "coordinates = (10.0, 20.0)\n",
    "print(f\"Coordinates tuple: {coordinates}\")\n",
    "\n",
    "rgb_color = (255, 0, 128)\n",
    "print(f\"RGB color tuple: {rgb_color}\")\n",
    "\n",
    "# A tuple with one item needs a trailing comma!\n",
    "single_item_tuple = (1,)\n",
    "not_a_tuple = (1)\n",
    "print(f\"This is a tuple: {type(single_item_tuple)}\")\n",
    "print(f\"This is just an integer: {type(not_a_tuple)}\")"
   ]
  },
  {
   "cell_type": "markdown",
   "metadata": {},
   "source": [
    "---"
   ]
  },
  {
   "cell_type": "markdown",
   "metadata": {},
   "source": [
    "### 2. Accessing Items\n",
    "Accessing items in a tuple works exactly the same as with lists, using indexing and slicing."
   ]
  },
  {
   "cell_type": "code",
   "execution_count": 2,
   "metadata": {},
   "outputs": [
    {
     "name": "stdout",
     "output_type": "stream",
     "text": [
      "First item: a\n",
      "Last item: e\n",
      "Slice [1:3]: ('b', 'c')\n"
     ]
    }
   ],
   "source": [
    "my_tuple = ('a', 'b', 'c', 'd', 'e')\n",
    "\n",
    "print(f\"First item: {my_tuple[0]}\")\n",
    "print(f\"Last item: {my_tuple[-1]}\")\n",
    "print(f\"Slice [1:3]: {my_tuple[1:3]}\")"
   ]
  },
  {
   "cell_type": "markdown",
   "metadata": {},
   "source": [
    "---"
   ]
  },
  {
   "cell_type": "markdown",
   "metadata": {},
   "source": [
    "### 3. Immutability: The Key Difference\n",
    "You cannot change, add, or remove items from a tuple after it has been created."
   ]
  },
  {
   "cell_type": "code",
   "execution_count": 3,
   "metadata": {},
   "outputs": [
    {
     "name": "stdout",
     "output_type": "stream",
     "text": [
      "Error: 'tuple' object does not support item assignment\n"
     ]
    }
   ],
   "source": [
    "rgb_color = (255, 0, 128)\n",
    "\n",
    "try:\n",
    "    # This will raise a TypeError\n",
    "    rgb_color[0] = 200\n",
    "except TypeError as e:\n",
    "    print(f\"Error: {e}\")"
   ]
  },
  {
   "cell_type": "markdown",
   "metadata": {},
   "source": [
    "---"
   ]
  },
  {
   "cell_type": "markdown",
   "metadata": {},
   "source": [
    "### 4. Tuple Methods\n",
    "Because tuples are immutable, they have very few methods.\n",
    "- `.count(value)`: Returns the number of times a value appears.\n",
    "- `.index(value)`: Returns the index of the first occurrence of a value."
   ]
  },
  {
   "cell_type": "code",
   "execution_count": 4,
   "metadata": {},
   "outputs": [
    {
     "name": "stdout",
     "output_type": "stream",
     "text": [
      "The number 2 appears 3 times.\n",
      "The number 3 is at index 2.\n"
     ]
    }
   ],
   "source": [
    "my_tuple = (1, 2, 3, 2, 4, 2)\n",
    "\n",
    "print(f\"The number 2 appears {my_tuple.count(2)} times.\")\n",
    "print(f\"The number 3 is at index {my_tuple.index(3)}.\")"
   ]
  },
  {
   "cell_type": "markdown",
   "metadata": {},
   "source": [
    "---"
   ]
  },
  {
   "cell_type": "markdown",
   "metadata": {},
   "source": [
    "### 5. Tuple Unpacking\n",
    "This is a very powerful and common feature. You can assign the items of a tuple to a sequence of variables."
   ]
  },
  {
   "cell_type": "code",
   "execution_count": 5,
   "metadata": {},
   "outputs": [
    {
     "name": "stdout",
     "output_type": "stream",
     "text": [
      "x-coordinate: 10.0\n",
      "y-coordinate: 20.0\n",
      "\n",
      "Before swap: a=5, b=10\n",
      "After swap: a=10, b=5\n"
     ]
    }
   ],
   "source": [
    "point = (10.0, 20.0)\n",
    "\n",
    "# Unpack the tuple into variables\n",
    "x, y = point\n",
    "\n",
    "print(f\"x-coordinate: {x}\")\n",
    "print(f\"y-coordinate: {y}\")\n",
    "\n",
    "# This is often used to swap variables elegantly\n",
    "a = 5\n",
    "b = 10\n",
    "print(f\"\\nBefore swap: a={a}, b={b}\")\n",
    "a, b = b, a # Create a tuple (10, 5) and unpack it into a, b\n",
    "print(f\"After swap: a={a}, b={b}\")"
   ]
  },
  {
   "cell_type": "markdown",
   "metadata": {},
   "source": [
    "---"
   ]
  },
  {
   "cell_type": "markdown",
   "metadata": {},
   "source": [
    "### 6. When to Use a Tuple\n",
    "\n",
    "1.  **For data that shouldn't change:** e.g., coordinates, RGB colors, configuration settings.\n",
    "2.  **Returning multiple values from a function:** Functions can only return one object. By returning a tuple, you can effectively return multiple values, which can then be unpacked.\n",
    "3.  **As dictionary keys:** Since tuples are immutable, they can be used as keys in a dictionary, whereas lists cannot."
   ]
  },
  {
   "cell_type": "code",
   "execution_count": 6,
   "metadata": {},
   "outputs": [
    {
     "name": "stdout",
     "output_type": "stream",
     "text": [
      "Returned data: ('Alice', 152, 1200)\n",
      "User 'Alice' has 152 posts and 1200 followers.\n"
     ]
    }
   ],
   "source": [
    "# Example: Returning multiple values\n",
    "def get_user_stats(user_id):\n",
    "    # In a real app, this would fetch from a database\n",
    "    name = \"Alice\"\n",
    "    post_count = 152\n",
    "    follower_count = 1200\n",
    "    return (name, post_count, follower_count)\n",
    "\n",
    "user_data = get_user_stats(1)\n",
    "print(f\"Returned data: {user_data}\")\n",
    "\n",
    "# Unpack the result\n",
    "user_name, posts, followers = user_data\n",
    "print(f\"User '{user_name}' has {posts} posts and {followers} followers.\")"
   ]
  },
  {
   "cell_type": "markdown",
   "metadata": {},
   "source": [
    "---"
   ]
  },
  {
   "cell_type": "markdown",
   "metadata": {},
   "source": [
    "### ✍️ Exercises"
   ]
  },
  {
   "cell_type": "markdown",
   "metadata": {},
   "source": [
    "**Exercise 1:** Create a tuple that represents a person's information: `(name, age, city)`. Then, unpack this tuple into three separate variables and print them."
   ]
  },
  {
   "cell_type": "code",
   "execution_count": 7,
   "metadata": {},
   "outputs": [],
   "source": [
    "# Your code here"
   ]
  },
  {
   "cell_type": "markdown",
   "metadata": {},
   "source": [
    "**Exercise 2:** Write a function `get_min_max(numbers)` that takes a list of numbers and returns a tuple containing the minimum and maximum numbers in the list. Use the built-in `min()` and `max()` functions."
   ]
  },
  {
   "cell_type": "code",
   "execution_count": 8,
   "metadata": {},
   "outputs": [
    {
     "ename": "NameError",
     "evalue": "name 'get_min_max' is not defined",
     "output_type": "error",
     "traceback": [
      "\u001b[1;31m---------------------------------------------------------------------------\u001b[0m",
      "\u001b[1;31mNameError\u001b[0m                                 Traceback (most recent call last)",
      "Cell \u001b[1;32mIn[8], line 3\u001b[0m\n\u001b[0;32m      1\u001b[0m \u001b[38;5;66;03m# Your code here\u001b[39;00m\n\u001b[0;32m      2\u001b[0m my_numbers \u001b[38;5;241m=\u001b[39m [\u001b[38;5;241m5\u001b[39m, \u001b[38;5;241m1\u001b[39m, \u001b[38;5;241m9\u001b[39m, \u001b[38;5;241m3\u001b[39m, \u001b[38;5;241m7\u001b[39m]\n\u001b[1;32m----> 3\u001b[0m min_val, max_val \u001b[38;5;241m=\u001b[39m \u001b[43mget_min_max\u001b[49m(my_numbers)\n\u001b[0;32m      4\u001b[0m \u001b[38;5;28mprint\u001b[39m(\u001b[38;5;124mf\u001b[39m\u001b[38;5;124m\"\u001b[39m\u001b[38;5;124mMinimum: \u001b[39m\u001b[38;5;132;01m{\u001b[39;00mmin_val\u001b[38;5;132;01m}\u001b[39;00m\u001b[38;5;124m, Maximum: \u001b[39m\u001b[38;5;132;01m{\u001b[39;00mmax_val\u001b[38;5;132;01m}\u001b[39;00m\u001b[38;5;124m\"\u001b[39m)\n",
      "\u001b[1;31mNameError\u001b[0m: name 'get_min_max' is not defined"
     ]
    }
   ],
   "source": [
    "# Your code here\n",
    "my_numbers = [5, 1, 9, 3, 7]\n",
    "min_val, max_val = get_min_max(my_numbers)\n",
    "print(f\"Minimum: {min_val}, Maximum: {max_val}\")"
   ]
  }
 ],
 "metadata": {
  "kernelspec": {
   "display_name": ".venv",
   "language": "python",
   "name": "python3"
  },
  "language_info": {
   "codemirror_mode": {
    "name": "ipython",
    "version": 3
   },
   "file_extension": ".py",
   "mimetype": "text/x-python",
   "name": "python",
   "nbconvert_exporter": "python",
   "pygments_lexer": "ipython3",
   "version": "3.10.11"
  }
 },
 "nbformat": 4,
 "nbformat_minor": 2
}
