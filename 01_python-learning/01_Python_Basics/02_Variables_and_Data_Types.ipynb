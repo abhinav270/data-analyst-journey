{
 "cells": [
  {
   "cell_type": "markdown",
   "metadata": {},
   "source": [
    "# 🟢 2. Variables & Data Types\n",
    "\n",
    "**Goal:** Understand how to store and manage different kinds of data.\n",
    "\n",
    "This notebook covers the fundamental building blocks of data in Python:\n",
    "1.  **Variables:** How to name and store data.\n",
    "2.  **Data Types:** The different kinds of data Python understands (`int`, `float`, `str`, `bool`).\n",
    "3.  **Type Checking:** How to find out the type of a variable.\n",
    "4.  **Type Conversion:** How to change a variable from one type to another."
   ]
  },
  {
   "cell_type": "markdown",
   "metadata": {},
   "source": [
    "### 1. Variables\n",
    "\n",
    "A variable is like a labeled box where you can store information. You give it a name, and you can put data inside it. In Python, you create a variable by assigning a value to a name using the equals sign (`=`).\n",
    "\n",
    "**Rules for Naming Variables:**\n",
    "- Must start with a letter or an underscore (`_`).\n",
    "- Can contain letters, numbers, and underscores.\n",
    "- Are case-sensitive (`age`, `Age`, and `AGE` are three different variables).\n",
    "- Cannot be a Python keyword (like `if`, `for`, `class`). A full list can be found by running `import keyword; print(keyword.kwlist)`."
   ]
  },
  {
   "cell_type": "code",
   "execution_count": 1,
   "metadata": {},
   "outputs": [
    {
     "name": "stdout",
     "output_type": "stream",
     "text": [
      "Alice\n",
      "30\n"
     ]
    }
   ],
   "source": [
    "# Assigning a string to a variable\n",
    "name = \"Alice\"\n",
    "\n",
    "# Assigning an integer to a variable\n",
    "age = 30\n",
    "\n",
    "# You can print variables to see their values\n",
    "print(name)\n",
    "print(age)"
   ]
  },
  {
   "cell_type": "markdown",
   "metadata": {},
   "source": [
    "---"
   ]
  },
  {
   "cell_type": "markdown",
   "metadata": {},
   "source": [
    "### 2. Basic Data Types\n",
    "\n",
    "Python has several built-in data types. Here are the most common ones:"
   ]
  },
  {
   "cell_type": "markdown",
   "metadata": {},
   "source": [
    "#### `str` (String)\n",
    "Used for text. You create strings using single (`'`) or double (`\"`) quotes."
   ]
  },
  {
   "cell_type": "code",
   "execution_count": 2,
   "metadata": {},
   "outputs": [
    {
     "name": "stdout",
     "output_type": "stream",
     "text": [
      "Hello, Python learners!\n",
      "Python is a dynamically-typed language.\n"
     ]
    }
   ],
   "source": [
    "greeting = \"Hello, Python learners!\"\n",
    "fact = 'Python is a dynamically-typed language.'\n",
    "print(greeting)\n",
    "print(fact)"
   ]
  },
  {
   "cell_type": "markdown",
   "metadata": {},
   "source": [
    "#### `int` (Integer)\n",
    "Used for whole numbers (positive, negative, or zero)."
   ]
  },
  {
   "cell_type": "code",
   "execution_count": 3,
   "metadata": {},
   "outputs": [
    {
     "name": "stdout",
     "output_type": "stream",
     "text": [
      "2023\n",
      "-5\n"
     ]
    }
   ],
   "source": [
    "year = 2023\n",
    "temperature = -5\n",
    "print(year)\n",
    "print(temperature)"
   ]
  },
  {
   "cell_type": "markdown",
   "metadata": {},
   "source": [
    "#### `float` (Floating-Point Number)\n",
    "Used for numbers with a decimal point."
   ]
  },
  {
   "cell_type": "code",
   "execution_count": 4,
   "metadata": {},
   "outputs": [
    {
     "name": "stdout",
     "output_type": "stream",
     "text": [
      "3.14\n",
      "19.99\n"
     ]
    }
   ],
   "source": [
    "pi_approx = 3.14\n",
    "price = 19.99\n",
    "print(pi_approx)\n",
    "print(price)"
   ]
  },
  {
   "cell_type": "markdown",
   "metadata": {},
   "source": [
    "#### `bool` (Boolean)\n",
    "Used for `True` or `False` values. Booleans are crucial for decision-making in code."
   ]
  },
  {
   "cell_type": "code",
   "execution_count": 5,
   "metadata": {},
   "outputs": [
    {
     "name": "stdout",
     "output_type": "stream",
     "text": [
      "True\n"
     ]
    }
   ],
   "source": [
    "is_learning = True\n",
    "is_finished = False\n",
    "print(is_learning)"
   ]
  },
  {
   "cell_type": "markdown",
   "metadata": {},
   "source": [
    "#### `NoneType` (`None`)\n",
    "Represents the absence of a value. It's often used as a placeholder."
   ]
  },
  {
   "cell_type": "code",
   "execution_count": 6,
   "metadata": {},
   "outputs": [
    {
     "name": "stdout",
     "output_type": "stream",
     "text": [
      "None\n"
     ]
    }
   ],
   "source": [
    "winner = None\n",
    "print(winner)"
   ]
  },
  {
   "cell_type": "markdown",
   "metadata": {},
   "source": [
    "---"
   ]
  },
  {
   "cell_type": "markdown",
   "metadata": {},
   "source": [
    "### 3. Type Checking with `type()`\n",
    "\n",
    "If you're ever unsure what type of data a variable holds, you can use the built-in `type()` function."
   ]
  },
  {
   "cell_type": "code",
   "execution_count": 7,
   "metadata": {},
   "outputs": [
    {
     "name": "stdout",
     "output_type": "stream",
     "text": [
      "<class 'str'>\n",
      "<class 'int'>\n",
      "<class 'float'>\n"
     ]
    }
   ],
   "source": [
    "some_data = \"This is a string.\"\n",
    "print(type(some_data))\n",
    "\n",
    "some_data = 100\n",
    "print(type(some_data))\n",
    "\n",
    "some_data = 99.9\n",
    "print(type(some_data))"
   ]
  },
  {
   "cell_type": "markdown",
   "metadata": {},
   "source": [
    "> **Dynamic Typing:** Notice how we assigned a string and then a number to the *same variable name* (`some_data`). This is called dynamic typing. Python automatically figures out the data type at runtime. Languages like Java or C++ are statically-typed, where you must declare the variable's type beforehand."
   ]
  },
  {
   "cell_type": "markdown",
   "metadata": {},
   "source": [
    "---"
   ]
  },
  {
   "cell_type": "markdown",
   "metadata": {},
   "source": [
    "### 4. Type Conversion (Casting)\n",
    "\n",
    "Sometimes you need to convert data from one type to another. This is called **type casting**.\n",
    "\n",
    "- `str()`: Converts to a string.\n",
    "- `int()`: Converts to an integer.\n",
    "- `float()`: Converts to a float.\n",
    "\n",
    "This is very common when working with user input, since `input()` always gives you a string."
   ]
  },
  {
   "cell_type": "code",
   "execution_count": 8,
   "metadata": {},
   "outputs": [
    {
     "name": "stdout",
     "output_type": "stream",
     "text": [
      "Type of age_string is: <class 'str'>\n",
      "Type of age_number is: <class 'int'>\n",
      "In ten years, you will be: 38\n"
     ]
    }
   ],
   "source": [
    "# The input() function gives us a string\n",
    "age_string = input(\"Enter your age: \")\n",
    "\n",
    "# We can check its type\n",
    "print(\"Type of age_string is:\", type(age_string))\n",
    "\n",
    "# To do math, we must convert it to a number (integer)\n",
    "age_number = int(age_string)\n",
    "print(\"Type of age_number is:\", type(age_number))\n",
    "\n",
    "# Now we can perform calculations\n",
    "age_in_ten_years = age_number + 10\n",
    "print(\"In ten years, you will be:\", age_in_ten_years)"
   ]
  },
  {
   "cell_type": "code",
   "execution_count": 9,
   "metadata": {},
   "outputs": [
    {
     "name": "stdout",
     "output_type": "stream",
     "text": [
      "You have 5 items in your cart.\n"
     ]
    }
   ],
   "source": [
    "# Converting a number to a string to combine it with other text\n",
    "item_count = 5\n",
    "message = \"You have \" + str(item_count) + \" items in your cart.\"\n",
    "print(message)"
   ]
  },
  {
   "cell_type": "markdown",
   "metadata": {},
   "source": [
    "> **Warning:** Be careful! If you try to convert a string that doesn't look like a number, you'll get an error. For example, `int(\"hello\")` will cause a `ValueError`."
   ]
  },
  {
   "cell_type": "markdown",
   "metadata": {},
   "source": [
    "---"
   ]
  },
  {
   "cell_type": "markdown",
   "metadata": {},
   "source": [
    "### ✍️ Exercises"
   ]
  },
  {
   "cell_type": "markdown",
   "metadata": {},
   "source": [
    "**Exercise 1:** Create a variable `favorite_food` and assign your favorite food to it. Then print it."
   ]
  },
  {
   "cell_type": "code",
   "execution_count": 10,
   "metadata": {},
   "outputs": [],
   "source": [
    "# Your code here"
   ]
  },
  {
   "cell_type": "markdown",
   "metadata": {},
   "source": [
    "**Exercise 2:** Create two variables, `num1` with the value `5` and `num2` with the value `2.5`. Print the type of each variable."
   ]
  },
  {
   "cell_type": "code",
   "execution_count": 11,
   "metadata": {},
   "outputs": [],
   "source": [
    "# Your code here"
   ]
  },
  {
   "cell_type": "markdown",
   "metadata": {},
   "source": [
    "**Exercise 3:** Write a script that asks the user for their birth year, converts it to an integer, calculates their approximate age, and prints a message like \"You are approximately [age] years old.\""
   ]
  },
  {
   "cell_type": "code",
   "execution_count": 12,
   "metadata": {},
   "outputs": [],
   "source": [
    "from datetime import datetime\n",
    "current_year = datetime.now().year\n",
    "\n",
    "# Your code here\n",
    "# Hint: You'll need input(), int(), and print()"
   ]
  },
  {
   "cell_type": "markdown",
   "metadata": {},
   "source": [
    "---"
   ]
  },
  {
   "cell_type": "markdown",
   "metadata": {},
   "source": [
    "### ❓ Quiz"
   ]
  },
  {
   "cell_type": "markdown",
   "metadata": {},
   "source": [
    "**Question 1:** Which of the following is an invalid variable name in Python?"
   ]
  },
  {
   "cell_type": "code",
   "execution_count": 13,
   "metadata": {},
   "outputs": [
    {
     "ename": "SyntaxError",
     "evalue": "invalid decimal literal (3661758545.py, line 3)",
     "output_type": "error",
     "traceback": [
      "\u001b[1;36m  Cell \u001b[1;32mIn[13], line 3\u001b[1;36m\u001b[0m\n\u001b[1;33m    1st_variable = 3\u001b[0m\n\u001b[1;37m    ^\u001b[0m\n\u001b[1;31mSyntaxError\u001b[0m\u001b[1;31m:\u001b[0m invalid decimal literal\n"
     ]
    }
   ],
   "source": [
    "my_variable = 1\n",
    "_my_variable = 2\n",
    "1st_variable = 3\n",
    "myVariable = 4"
   ]
  },
  {
   "cell_type": "markdown",
   "metadata": {},
   "source": [
    "**Your Answer:** "
   ]
  },
  {
   "cell_type": "markdown",
   "metadata": {},
   "source": [
    "**Question 2:** What is the data type of the variable `result`?"
   ]
  },
  {
   "cell_type": "code",
   "execution_count": null,
   "metadata": {},
   "outputs": [],
   "source": [
    "x = 10\n",
    "y = 5.0\n",
    "result = x / y\n",
    "print(type(result))"
   ]
  },
  {
   "cell_type": "markdown",
   "metadata": {},
   "source": [
    "**Your Answer:** "
   ]
  },
  {
   "cell_type": "markdown",
   "metadata": {},
   "source": [
    "---"
   ]
  },
  {
   "cell_type": "markdown",
   "metadata": {},
   "source": [
    "Excellent work! You now know how to work with the most fundamental pieces of any Python program.\n",
    "\n",
    "**Next up: Operators.**"
   ]
  }
 ],
 "metadata": {
  "kernelspec": {
   "display_name": ".venv",
   "language": "python",
   "name": "python3"
  },
  "language_info": {
   "codemirror_mode": {
    "name": "ipython",
    "version": 3
   },
   "file_extension": ".py",
   "mimetype": "text/x-python",
   "name": "python",
   "nbconvert_exporter": "python",
   "pygments_lexer": "ipython3",
   "version": "3.10.11"
  }
 },
 "nbformat": 4,
 "nbformat_minor": 2
}
