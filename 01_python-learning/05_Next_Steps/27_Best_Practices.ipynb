{
 "cells": [
  {
   "cell_type": "markdown",
   "metadata": {},
   "source": [
    "# 🔮 27. Best Practices\n",
    "\n",
    "**Goal:** Learn the conventions and tools that professional Python developers use to write clean, readable, and maintainable code.\n",
    "\n",
    "Writing code that works is only the first step. Writing code that others (and your future self) can easily understand and contribute to is a crucial skill.\n",
    "\n",
    "This notebook covers three key areas of Python best practices:\n",
    "1.  **PEP 8:** The official style guide for Python code.\n",
    "2.  **Docstrings:** The standard way to document your code.\n",
    "3.  **Type Hints:** Annotating your code with types to improve clarity and catch bugs."
   ]
  },
  {
   "cell_type": "markdown",
   "metadata": {},
   "source": [
    "### 1. PEP 8: The Style Guide for Python Code\n",
    "\n",
    "[PEP 8](https://peps.python.org/pep-0008/) is the official document that outlines the style conventions for writing Python. Following PEP 8 makes your code more consistent and readable to the wider Python community. You don't need to memorize it all; code editors and tools like `flake8` or `black` can help automate it.\n",
    "\n",
    "**Key Highlights of PEP 8:**"
   ]
  },
  {
   "cell_type": "markdown",
   "metadata": {},
   "source": [
    "#### Naming Conventions\n",
    "- **`lowercase_with_underscores`** for functions and variables (e.g., `my_function`, `user_name`).\n",
    "- **`PascalCase`** (or `CapWords`) for classes (e.g., `MyClass`).\n",
    "- **`UPPERCASE_WITH_UNDERSCORES`** for constants (e.g., `MAX_CONNECTIONS`)."
   ]
  },
  {
   "cell_type": "markdown",
   "metadata": {},
   "source": [
    "#### Code Layout\n",
    "- Use **4 spaces** per indentation level (most editors do this automatically).\n",
    "- Limit all lines to a maximum of **79 characters** (though many projects now use 88 or 99).\n",
    "- Use blank lines to separate functions and classes, and larger blocks of code inside functions."
   ]
  },
  {
   "cell_type": "markdown",
   "metadata": {},
   "source": [
    "#### Imports\n",
    "- Imports should usually be on separate lines.\n",
    "- Imports are always put at the top of the file, just after any module comments and docstrings, and before module globals and constants.\n",
    "- Imports should be grouped in the following order:\n",
    "  1. Standard library imports (e.g., `import os`).\n",
    "  2. Related third-party imports (e.g., `import requests`).\n",
    "  3. Local application/library specific imports (e.g., `from my_project import my_module`)."
   ]
  },
  {
   "cell_type": "markdown",
   "metadata": {},
   "source": [
    "---"
   ]
  },
  {
   "cell_type": "markdown",
   "metadata": {},
   "source": [
    "### 2. Docstrings\n",
    "\n",
    "A docstring is a string literal that occurs as the first statement in a module, function, class, or method definition. It is specified in [PEP 257](https://peps.python.org/pep-0257/) and becomes the `__doc__` special attribute of that object.\n",
    "\n",
    "**Why are they important?** They provide a built-in way to document your code. Tools like `help()` and modern IDEs can read docstrings to provide information to developers."
   ]
  },
  {
   "cell_type": "code",
   "execution_count": 1,
   "metadata": {},
   "outputs": [
    {
     "name": "stdout",
     "output_type": "stream",
     "text": [
      "Help on function calculate_area in module __main__:\n",
      "\n",
      "calculate_area(width, height)\n",
      "    Calculate the area of a rectangle.\n",
      "    \n",
      "    Args:\n",
      "        width (int or float): The width of the rectangle.\n",
      "        height (int or float): The height of the rectangle.\n",
      "    \n",
      "    Returns:\n",
      "        int or float: The calculated area of the rectangle.\n",
      "\n",
      "\n",
      "---\n",
      "\n",
      "Calculate the area of a rectangle.\n",
      "\n",
      "    Args:\n",
      "        width (int or float): The width of the rectangle.\n",
      "        height (int or float): The height of the rectangle.\n",
      "\n",
      "    Returns:\n",
      "        int or float: The calculated area of the rectangle.\n",
      "    \n"
     ]
    }
   ],
   "source": [
    "def calculate_area(width, height):\n",
    "    \"\"\"Calculate the area of a rectangle.\n",
    "\n",
    "    Args:\n",
    "        width (int or float): The width of the rectangle.\n",
    "        height (int or float): The height of the rectangle.\n",
    "\n",
    "    Returns:\n",
    "        int or float: The calculated area of the rectangle.\n",
    "    \"\"\"\n",
    "    return width * height\n",
    "\n",
    "# You can access the docstring using the help() function or the __doc__ attribute\n",
    "help(calculate_area)\n",
    "\n",
    "print(\"\\n---\\n\")\n",
    "print(calculate_area.__doc__)"
   ]
  },
  {
   "cell_type": "markdown",
   "metadata": {},
   "source": [
    "---"
   ]
  },
  {
   "cell_type": "markdown",
   "metadata": {},
   "source": [
    "### 3. Type Hints\n",
    "\n",
    "Introduced in [PEP 484](https://peps.python.org/pep-0484/), type hints allow you to add type annotations to your Python code. Python itself does **not** enforce these types at runtime (it remains dynamically typed). However, they provide significant benefits:\n",
    "\n",
    "- **Readability:** It becomes much clearer what kind of data a function expects and returns.\n",
    "- **Static Analysis:** Tools like `mypy` can check your code *before* you run it to find common type-related bugs.\n",
    "- **IDE Support:** Code editors use type hints to provide better autocompletion and error checking."
   ]
  },
  {
   "cell_type": "code",
   "execution_count": 2,
   "metadata": {},
   "outputs": [
    {
     "name": "stdout",
     "output_type": "stream",
     "text": [
      "Hello, Bob\n",
      "{'id': 123, 'name': 'Alice', 'email': 'alice@example.com'}\n"
     ]
    }
   ],
   "source": [
    "# The syntax is: variable: type\n",
    "# For functions: def func(arg: arg_type) -> return_type:\n",
    "\n",
    "def greet(name: str) -> str:\n",
    "    \"\"\"Greets a person by name.\"\"\"\n",
    "    return f\"Hello, {name}\"\n",
    "\n",
    "def get_user_info(user_id: int) -> dict:\n",
    "    # In a real app, this would fetch from a database\n",
    "    return {\"id\": user_id, \"name\": \"Alice\", \"email\": \"alice@example.com\"}\n",
    "\n",
    "# You can also annotate variables\n",
    "user_id: int = 123\n",
    "user_name: str = \"Bob\"\n",
    "\n",
    "print(greet(user_name))\n",
    "print(get_user_info(user_id))"
   ]
  },
  {
   "cell_type": "markdown",
   "metadata": {},
   "source": [
    "#### More Complex Types\n",
    "\n",
    "For more complex types (like a list of strings), you need to import from the `typing` module."
   ]
  },
  {
   "cell_type": "code",
   "execution_count": 3,
   "metadata": {},
   "outputs": [
    {
     "name": "stdout",
     "output_type": "stream",
     "text": [
      "CHARLIE\n",
      "DAVID\n",
      "{'name': 'Alice'}\n",
      "None\n"
     ]
    }
   ],
   "source": [
    "from typing import List, Dict, Optional\n",
    "\n",
    "def process_names(names: List[str]) -> None: # 'None' indicates the function doesn't return anything\n",
    "    for name in names:\n",
    "        print(name.upper())\n",
    "        \n",
    "def find_user(user_id: int) -> Optional[Dict[str, str]]: # The return value can be a dict or None\n",
    "    if user_id == 1:\n",
    "        return {\"name\": \"Alice\"}\n",
    "    else:\n",
    "        return None\n",
    "\n",
    "process_names([\"charlie\", \"david\"])\n",
    "print(find_user(1))\n",
    "print(find_user(2))"
   ]
  },
  {
   "cell_type": "markdown",
   "metadata": {},
   "source": [
    "---"
   ]
  },
  {
   "cell_type": "markdown",
   "metadata": {},
   "source": [
    "Adopting these best practices will elevate your code from merely functional to professional, clean, and maintainable."
   ]
  }
 ],
 "metadata": {
  "kernelspec": {
   "display_name": ".venv",
   "language": "python",
   "name": "python3"
  },
  "language_info": {
   "codemirror_mode": {
    "name": "ipython",
    "version": 3
   },
   "file_extension": ".py",
   "mimetype": "text/x-python",
   "name": "python",
   "nbconvert_exporter": "python",
   "pygments_lexer": "ipython3",
   "version": "3.10.11"
  }
 },
 "nbformat": 4,
 "nbformat_minor": 2
}
