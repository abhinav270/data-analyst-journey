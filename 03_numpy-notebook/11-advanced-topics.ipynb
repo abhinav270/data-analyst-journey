{
 "cells": [
  {
   "cell_type": "markdown",
   "metadata": {},
   "source": [
    "# Level 11: Advanced Topics"
   ]
  },
  {
   "cell_type": "markdown",
   "metadata": {},
   "source": [
    "This notebook covers a selection of more specialized but powerful NumPy features, including creating your own universal functions, handling missing data with masked arrays, polynomial fitting, and saving/loading array data."
   ]
  },
  {
   "cell_type": "code",
   "execution_count": 1,
   "metadata": {},
   "outputs": [],
   "source": [
    "import numpy as np"
   ]
  },
  {
   "cell_type": "markdown",
   "metadata": {},
   "source": [
    "## 11.1 Custom Universal Functions (ufuncs)"
   ]
  },
  {
   "cell_type": "markdown",
   "metadata": {},
   "source": [
    "While NumPy has a huge library of ufuncs, you might need to apply a custom Python function to an array element-wise. You can 'vectorize' a Python function to behave like a ufunc."
   ]
  },
  {
   "cell_type": "markdown",
   "metadata": {},
   "source": [
    "### `@np.vectorize`\n",
    "The `@np.vectorize` decorator is a convenient way to create a ufunc. **Note:** This is primarily for convenience, not for performance. The underlying calculation still uses a Python loop."
   ]
  },
  {
   "cell_type": "code",
   "execution_count": 2,
   "metadata": {},
   "outputs": [
    {
     "data": {
      "text/plain": [
       "array([ 0, 10,  2, 30,  4, 50,  6, 70,  8, 90])"
      ]
     },
     "execution_count": 2,
     "metadata": {},
     "output_type": "execute_result"
    }
   ],
   "source": [
    "@np.vectorize\n",
    "def my_custom_func(x):\n",
    "    \"\"\"Return x if x is even, otherwise return x*10\"\"\"\n",
    "    if x % 2 == 0:\n",
    "        return x\n",
    "    else:\n",
    "        return x * 10\n",
    "\n",
    "arr = np.arange(10)\n",
    "my_custom_func(arr)"
   ]
  },
  {
   "cell_type": "markdown",
   "metadata": {},
   "source": [
    "## 11.2 Masked Arrays"
   ]
  },
  {
   "cell_type": "markdown",
   "metadata": {},
   "source": [
    "The `np.ma` module provides a way to handle missing or invalid data in arrays. A masked array is a combination of a standard `ndarray` and a boolean mask, where `True` indicates that the corresponding value is invalid."
   ]
  },
  {
   "cell_type": "code",
   "execution_count": 3,
   "metadata": {},
   "outputs": [
    {
     "name": "stdout",
     "output_type": "stream",
     "text": [
      "Masked array: [1 2 3 -- 5]\n"
     ]
    }
   ],
   "source": [
    "x = np.array([1, 2, 3, -1, 5])\n",
    "\n",
    "# Create a masked array where values less than 0 are masked\n",
    "masked_arr = np.ma.masked_where(x < 0, x)\n",
    "print(f\"Masked array: {masked_arr}\")"
   ]
  },
  {
   "cell_type": "markdown",
   "metadata": {},
   "source": [
    "Computations on masked arrays ignore the masked values."
   ]
  },
  {
   "cell_type": "code",
   "execution_count": 4,
   "metadata": {},
   "outputs": [
    {
     "name": "stdout",
     "output_type": "stream",
     "text": [
      "Mean of original array: 2.0\n",
      "Mean of masked array: 2.75\n"
     ]
    }
   ],
   "source": [
    "print(f\"Mean of original array: {x.mean()}\")\n",
    "print(f\"Mean of masked array: {masked_arr.mean()}\")"
   ]
  },
  {
   "cell_type": "markdown",
   "metadata": {},
   "source": [
    "## 11.3 Polynomial Fitting"
   ]
  },
  {
   "cell_type": "markdown",
   "metadata": {},
   "source": [
    "NumPy has functions for fitting a polynomial curve to a set of data points."
   ]
  },
  {
   "cell_type": "code",
   "execution_count": 5,
   "metadata": {},
   "outputs": [
    {
     "name": "stdout",
     "output_type": "stream",
     "text": [
      "Coefficients (a, b, c): [ 2.06833139 -5.47674868  3.52148481]\n"
     ]
    }
   ],
   "source": [
    "# Create some sample data with a quadratic relationship\n",
    "x = np.linspace(0, 10, 20)\n",
    "y = 2 * x**2 - 5 * x + 3 + np.random.normal(0, 5, 20)\n",
    "\n",
    "# Fit a polynomial of degree 2 (quadratic)\n",
    "coeffs = np.polyfit(x, y, 2)\n",
    "print(f\"Coefficients (a, b, c): {coeffs}\")"
   ]
  },
  {
   "cell_type": "markdown",
   "metadata": {},
   "source": [
    "You can then use `np.poly1d` to create a callable polynomial function from the coefficients."
   ]
  },
  {
   "cell_type": "code",
   "execution_count": 6,
   "metadata": {},
   "outputs": [
    {
     "data": {
      "image/png": "[encoded data removed]",
      "text/plain": [
       "<Figure size 640x480 with 1 Axes>"
      ]
     },
     "metadata": {},
     "output_type": "display_data"
    }
   ],
   "source": [
    "p = np.poly1d(coeffs)\n",
    "\n",
    "# We can now use p to evaluate the polynomial at any x\n",
    "y_fit = p(x)\n",
    "\n",
    "# Optional: Plotting with Matplotlib to see the fit\n",
    "import matplotlib.pyplot as plt\n",
    "plt.scatter(x, y, label='Data')\n",
    "plt.plot(x, y_fit, color='red', label='Fit')\n",
    "plt.legend()\n",
    "plt.show()"
   ]
  },
  {
   "cell_type": "markdown",
   "metadata": {},
   "source": [
    "## 11.4 Histograms"
   ]
  },
  {
   "cell_type": "code",
   "execution_count": 7,
   "metadata": {},
   "outputs": [],
   "source": [
    "data = np.random.randn(1000) # Sample data from normal distribution"
   ]
  },
  {
   "cell_type": "markdown",
   "metadata": {},
   "source": [
    "### `np.histogram()`\n",
    "Computes the histogram of a set of data. It returns the counts in each bin and the bin edges."
   ]
  },
  {
   "cell_type": "code",
   "execution_count": 8,
   "metadata": {},
   "outputs": [
    {
     "name": "stdout",
     "output_type": "stream",
     "text": [
      "Counts: [ 15  63 149 231 237 186  77  29  12   1]\n",
      "Bin Edges: [-2.65122393 -2.02072139 -1.39021884 -0.75971629 -0.12921374  0.5012888\n",
      "  1.13179135  1.7622939   2.39279644  3.02329899  3.65380154]\n"
     ]
    }
   ],
   "source": [
    "counts, bin_edges = np.histogram(data, bins=10)\n",
    "print(\"Counts:\", counts)\n",
    "print(\"Bin Edges:\", bin_edges)"
   ]
  },
  {
   "cell_type": "markdown",
   "metadata": {},
   "source": [
    "### `np.bincount()`\n",
    "A more efficient function for counting the occurrences of each value in an array of non-negative integers."
   ]
  },
  {
   "cell_type": "code",
   "execution_count": 9,
   "metadata": {},
   "outputs": [
    {
     "name": "stdout",
     "output_type": "stream",
     "text": [
      "Data: [3 2 4 2 2 0 3 0 0 4 3 2 0 1 4 0 0 0 2 4]\n",
      "Counts of each integer: [7 1 5 3 4]\n"
     ]
    }
   ],
   "source": [
    "int_data = np.random.randint(0, 5, size=20)\n",
    "print(\"Data:\", int_data)\n",
    "print(\"Counts of each integer:\", np.bincount(int_data))"
   ]
  },
  {
   "cell_type": "markdown",
   "metadata": {},
   "source": [
    "## 11.5 Saving & Loading Data"
   ]
  },
  {
   "cell_type": "markdown",
   "metadata": {},
   "source": [
    "### Binary Format (`.npy`)\n",
    "The standard, efficient way to save a single NumPy array to disk."
   ]
  },
  {
   "cell_type": "code",
   "execution_count": 10,
   "metadata": {},
   "outputs": [
    {
     "name": "stdout",
     "output_type": "stream",
     "text": [
      "Loaded array: [0 1 2 3 4 5 6 7 8 9]\n"
     ]
    }
   ],
   "source": [
    "arr = np.arange(10)\n",
    "np.save('my_array.npy', arr)\n",
    "\n",
    "loaded_arr = np.load('my_array.npy')\n",
    "print(f\"Loaded array: {loaded_arr}\")"
   ]
  },
  {
   "cell_type": "markdown",
   "metadata": {},
   "source": [
    "### Text Format (`.txt`, `.csv`)\n",
    "For saving data in a human-readable format."
   ]
  },
  {
   "cell_type": "code",
   "execution_count": 11,
   "metadata": {},
   "outputs": [
    {
     "name": "stdout",
     "output_type": "stream",
     "text": [
      "Loaded text array:\n",
      " [[ 0.  1.  2.  3.]\n",
      " [ 4.  5.  6.  7.]\n",
      " [ 8.  9. 10. 11.]]\n"
     ]
    }
   ],
   "source": [
    "arr2d = np.arange(12).reshape(3, 4)\n",
    "np.savetxt('my_array.csv', arr2d, delimiter=',')\n",
    "\n",
    "loaded_txt = np.loadtxt('my_array.csv', delimiter=',')\n",
    "print(\"Loaded text array:\\n\", loaded_txt)"
   ]
  },
  {
   "cell_type": "markdown",
   "metadata": {},
   "source": [
    "### Compressed Format (`.npz`)\n",
    "For saving multiple arrays into a single compressed file."
   ]
  },
  {
   "cell_type": "code",
   "execution_count": 12,
   "metadata": {},
   "outputs": [
    {
     "name": "stdout",
     "output_type": "stream",
     "text": [
      "Loaded array 'a': [0 1 2 3 4 5 6 7 8 9]\n",
      "Loaded array 'b': [10 11 12 13 14 15 16 17 18 19]\n"
     ]
    }
   ],
   "source": [
    "a = np.arange(10)\n",
    "b = np.arange(10, 20)\n",
    "\n",
    "np.savez('my_archive.npz', array_a=a, array_b=b)\n",
    "\n",
    "archive = np.load('my_archive.npz')\n",
    "print(\"Loaded array 'a':\", archive['array_a'])\n",
    "print(\"Loaded array 'b':\", archive['array_b'])"
   ]
  }
 ],
 "metadata": {
  "kernelspec": {
   "display_name": ".venv",
   "language": "python",
   "name": "python3"
  },
  "language_info": {
   "codemirror_mode": {
    "name": "ipython",
    "version": 3
   },
   "file_extension": ".py",
   "mimetype": "text/x-python",
   "name": "python",
   "nbconvert_exporter": "python",
   "pygments_lexer": "ipython3",
   "version": "3.10.11"
  }
 },
 "nbformat": 4,
 "nbformat_minor": 4
}
