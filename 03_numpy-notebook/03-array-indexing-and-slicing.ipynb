{
 "cells": [
  {
   "cell_type": "markdown",
   "metadata": {},
   "source": [
    "# Level 3: Array Indexing & Slicing"
   ]
  },
  {
   "cell_type": "markdown",
   "metadata": {},
   "source": [
    "Accessing and modifying subsets of data is a fundamental part of data analysis. NumPy offers rich and powerful indexing and slicing capabilities that are efficient and easy to use. A key concept to master here is the difference between a **view** and a **copy**."
   ]
  },
  {
   "cell_type": "code",
   "execution_count": 1,
   "metadata": {},
   "outputs": [],
   "source": [
    "import numpy as np"
   ]
  },
  {
   "cell_type": "markdown",
   "metadata": {},
   "source": [
    "## 3.1 Indexing"
   ]
  },
  {
   "cell_type": "markdown",
   "metadata": {},
   "source": [
    "### 1D Arrays"
   ]
  },
  {
   "cell_type": "code",
   "execution_count": 2,
   "metadata": {},
   "outputs": [
    {
     "name": "stdout",
     "output_type": "stream",
     "text": [
      "Array: [10 11 12 13 14 15 16 17 18 19]\n",
      "First element: 10\n",
      "Last element: 19\n"
     ]
    }
   ],
   "source": [
    "arr1d = np.arange(10, 20)\n",
    "print(f\"Array: {arr1d}\")\n",
    "print(f\"First element: {arr1d[0]}\")\n",
    "print(f\"Last element: {arr1d[-1]}\")"
   ]
  },
  {
   "cell_type": "markdown",
   "metadata": {},
   "source": [
    "### 2D Arrays (Matrices)"
   ]
  },
  {
   "cell_type": "code",
   "execution_count": 3,
   "metadata": {},
   "outputs": [
    {
     "name": "stdout",
     "output_type": "stream",
     "text": [
      "Array:\n",
      " [[1 2 3]\n",
      " [4 5 6]\n",
      " [7 8 9]]\n"
     ]
    }
   ],
   "source": [
    "arr2d = np.array([[1, 2, 3], [4, 5, 6], [7, 8, 9]])\n",
    "print(\"Array:\\n\", arr2d)"
   ]
  },
  {
   "cell_type": "code",
   "execution_count": 4,
   "metadata": {},
   "outputs": [
    {
     "name": "stdout",
     "output_type": "stream",
     "text": [
      "Element at row 0, col 1: 2\n"
     ]
    }
   ],
   "source": [
    "# To access an element, use `arr[row, column]`\n",
    "print(f\"Element at row 0, col 1: {arr2d[0, 1]}\")"
   ]
  },
  {
   "cell_type": "code",
   "execution_count": 5,
   "metadata": {},
   "outputs": [
    {
     "name": "stdout",
     "output_type": "stream",
     "text": [
      "Element at row 2, col 2: 9\n"
     ]
    }
   ],
   "source": [
    "# You can also use `arr[row][column]`, but the single-bracket method is more efficient.\n",
    "print(f\"Element at row 2, col 2: {arr2d[2][2]}\")"
   ]
  },
  {
   "cell_type": "markdown",
   "metadata": {},
   "source": [
    "### 3D and Higher-Dimensional Arrays"
   ]
  },
  {
   "cell_type": "code",
   "execution_count": 6,
   "metadata": {},
   "outputs": [
    {
     "name": "stdout",
     "output_type": "stream",
     "text": [
      "Array:\n",
      " [[[ 0  1  2  3]\n",
      "  [ 4  5  6  7]\n",
      "  [ 8  9 10 11]]\n",
      "\n",
      " [[12 13 14 15]\n",
      "  [16 17 18 19]\n",
      "  [20 21 22 23]]]\n"
     ]
    }
   ],
   "source": [
    "arr3d = np.arange(24).reshape(2, 3, 4) # 2 matrices, 3 rows, 4 columns\n",
    "print(\"Array:\\n\", arr3d)"
   ]
  },
  {
   "cell_type": "code",
   "execution_count": 7,
   "metadata": {},
   "outputs": [
    {
     "name": "stdout",
     "output_type": "stream",
     "text": [
      "Element at (0, 1, 2): 6\n"
     ]
    }
   ],
   "source": [
    "# Access element in the 1st matrix, 2nd row, 3rd column\n",
    "print(f\"Element at (0, 1, 2): {arr3d[0, 1, 2]}\")"
   ]
  },
  {
   "cell_type": "markdown",
   "metadata": {},
   "source": [
    "## 3.2 Slicing"
   ]
  },
  {
   "cell_type": "markdown",
   "metadata": {},
   "source": [
    "Slicing allows you to select a range of elements. The syntax is `start:stop:step`."
   ]
  },
  {
   "cell_type": "code",
   "execution_count": 8,
   "metadata": {},
   "outputs": [
    {
     "name": "stdout",
     "output_type": "stream",
     "text": [
      "Array: [10 11 12 13 14 15 16 17 18 19]\n",
      "Elements from index 1 to 4: [11 12 13 14]\n",
      "Every other element: [10 12 14 16 18]\n",
      "Reversed array: [19 18 17 16 15 14 13 12 11 10]\n"
     ]
    }
   ],
   "source": [
    "print(f\"Array: {arr1d}\")\n",
    "print(f\"Elements from index 1 to 4: {arr1d[1:5]}\")\n",
    "print(f\"Every other element: {arr1d[::2]}\")\n",
    "print(f\"Reversed array: {arr1d[::-1]}\")"
   ]
  },
  {
   "cell_type": "markdown",
   "metadata": {},
   "source": [
    "### Multi-dimensional Slicing"
   ]
  },
  {
   "cell_type": "code",
   "execution_count": 9,
   "metadata": {},
   "outputs": [
    {
     "name": "stdout",
     "output_type": "stream",
     "text": [
      "Original Array:\n",
      " [[1 2 3]\n",
      " [4 5 6]\n",
      " [7 8 9]]\n"
     ]
    }
   ],
   "source": [
    "print(\"Original Array:\\n\", arr2d)"
   ]
  },
  {
   "cell_type": "code",
   "execution_count": 10,
   "metadata": {},
   "outputs": [
    {
     "name": "stdout",
     "output_type": "stream",
     "text": [
      "Sub-array:\n",
      " [[2 3]\n",
      " [5 6]]\n"
     ]
    }
   ],
   "source": [
    "# Slice the first two rows and columns 1-2\n",
    "sub_array = arr2d[0:2, 1:3]\n",
    "print(\"Sub-array:\\n\", sub_array)"
   ]
  },
  {
   "cell_type": "code",
   "execution_count": 11,
   "metadata": {},
   "outputs": [
    {
     "name": "stdout",
     "output_type": "stream",
     "text": [
      "Row 1: [4 5 6]\n"
     ]
    }
   ],
   "source": [
    "# Select a single row\n",
    "print(\"Row 1:\", arr2d[1, :])"
   ]
  },
  {
   "cell_type": "code",
   "execution_count": 12,
   "metadata": {},
   "outputs": [
    {
     "name": "stdout",
     "output_type": "stream",
     "text": [
      "Column 2: [3 6 9]\n"
     ]
    }
   ],
   "source": [
    "# Select a single column\n",
    "print(\"Column 2:\", arr2d[:, 2])"
   ]
  },
  {
   "cell_type": "markdown",
   "metadata": {},
   "source": [
    "## 3.3 Views vs. Copies"
   ]
  },
  {
   "cell_type": "markdown",
   "metadata": {},
   "source": [
    "This is one of the most important and potentially confusing aspects of NumPy.\n",
    "\n",
    "- A **view** is a new array object that looks at the *same data* as the original array. Modifying a view will modify the original array.\n",
    "- A **copy** is a new array object with its *own data*. Modifying a copy will **not** affect the original.\n",
    "\n",
    "**Slicing an array creates a view.** This is done for performance reasons, to avoid copying large amounts of data."
   ]
  },
  {
   "cell_type": "code",
   "execution_count": 13,
   "metadata": {},
   "outputs": [
    {
     "name": "stdout",
     "output_type": "stream",
     "text": [
      "Original array: [0 1 2 3 4 5 6 7 8 9]\n",
      "Slice: [5 6 7]\n"
     ]
    }
   ],
   "source": [
    "arr = np.arange(10)\n",
    "print(f\"Original array: {arr}\")\n",
    "\n",
    "# Create a slice (which is a view)\n",
    "arr_slice = arr[5:8]\n",
    "print(f\"Slice: {arr_slice}\")"
   ]
  },
  {
   "cell_type": "code",
   "execution_count": 14,
   "metadata": {},
   "outputs": [
    {
     "name": "stdout",
     "output_type": "stream",
     "text": [
      "Modified slice: [99  6  7]\n"
     ]
    }
   ],
   "source": [
    "# Modify the slice\n",
    "arr_slice[0] = 99\n",
    "print(f\"Modified slice: {arr_slice}\")"
   ]
  },
  {
   "cell_type": "code",
   "execution_count": 15,
   "metadata": {},
   "outputs": [
    {
     "name": "stdout",
     "output_type": "stream",
     "text": [
      "Original array after modification: [ 0  1  2  3  4 99  6  7  8  9]\n"
     ]
    }
   ],
   "source": [
    "# The original array is also modified!\n",
    "print(f\"Original array after modification: {arr}\")"
   ]
  },
  {
   "cell_type": "markdown",
   "metadata": {},
   "source": [
    "### Creating a Copy\n",
    "If you want an independent copy of a slice, you must use the `.copy()` method."
   ]
  },
  {
   "cell_type": "code",
   "execution_count": 16,
   "metadata": {},
   "outputs": [
    {
     "name": "stdout",
     "output_type": "stream",
     "text": [
      "Original array: [0 1 2 3 4 5 6 7 8 9]\n",
      "Copy: [5 6 7]\n"
     ]
    }
   ],
   "source": [
    "arr = np.arange(10)\n",
    "print(f\"Original array: {arr}\")\n",
    "\n",
    "# Create a copy of a slice\n",
    "arr_copy = arr[5:8].copy()\n",
    "print(f\"Copy: {arr_copy}\")"
   ]
  },
  {
   "cell_type": "code",
   "execution_count": 17,
   "metadata": {},
   "outputs": [
    {
     "name": "stdout",
     "output_type": "stream",
     "text": [
      "Modified copy: [99  6  7]\n"
     ]
    }
   ],
   "source": [
    "# Modify the copy\n",
    "arr_copy[0] = 99\n",
    "print(f\"Modified copy: {arr_copy}\")"
   ]
  },
  {
   "cell_type": "code",
   "execution_count": 18,
   "metadata": {},
   "outputs": [
    {
     "name": "stdout",
     "output_type": "stream",
     "text": [
      "Original array after copy modification: [0 1 2 3 4 5 6 7 8 9]\n"
     ]
    }
   ],
   "source": [
    "# The original array is NOT affected\n",
    "print(f\"Original array after copy modification: {arr}\")"
   ]
  }
 ],
 "metadata": {
  "kernelspec": {
   "display_name": ".venv",
   "language": "python",
   "name": "python3"
  },
  "language_info": {
   "codemirror_mode": {
    "name": "ipython",
    "version": 3
   },
   "file_extension": ".py",
   "mimetype": "text/x-python",
   "name": "python",
   "nbconvert_exporter": "python",
   "pygments_lexer": "ipython3",
   "version": "3.10.11"
  }
 },
 "nbformat": 4,
 "nbformat_minor": 4
}
