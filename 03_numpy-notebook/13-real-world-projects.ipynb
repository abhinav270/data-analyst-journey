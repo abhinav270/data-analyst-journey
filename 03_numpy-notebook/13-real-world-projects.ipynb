{
 "cells": [
  {
   "cell_type": "markdown",
   "metadata": {},
   "source": [
    "# Level 13: Real-World Projects (Practice)"
   ]
  },
  {
   "cell_type": "markdown",
   "metadata": {},
   "source": [
    "You have reached the final level of the NumPy roadmap! You now have a strong foundation in numerical computing with Python. The best way to truly master these skills is to apply them to real problems. This notebook provides a list of project ideas that will challenge you to use what you've learned."
   ]
  },
  {
   "cell_type": "markdown",
   "metadata": {},
   "source": [
    "## Project Ideas"
   ]
  },
  {
   "cell_type": "markdown",
   "metadata": {},
   "source": [
    "### 1. Image Processing\n",
    "- **Goal:** Perform basic image manipulations using NumPy arrays.\n",
    "- **Steps:**\n",
    "  1. Load an image using `matplotlib.pyplot.imread`. This will give you a 3D NumPy array (height, width, RGB channels).\n",
    "  2. Convert the image to grayscale by averaging the RGB channels.\n",
    "  3. Flip the image horizontally or vertically using slicing (`arr[::-1]`).\n",
    "  4. Adjust the brightness by adding or subtracting a constant value from the array.\n",
    "  5. Display the original and modified images using `matplotlib.pyplot.imshow`.\n",
    "- **Skills Used:** Array creation, slicing, broadcasting, arithmetic operations."
   ]
  },
  {
   "cell_type": "markdown",
   "metadata": {},
   "source": [
    "### 2. Monte Carlo Simulation: Estimating π\n",
    "- **Goal:** Estimate the value of Pi using a simple Monte Carlo method.\n",
    "- **Steps:**\n",
    "  1. Generate a large number (e.g., 1 million) of random (x, y) points within a 1x1 square. Use `rng.uniform(0, 1, size=(n, 2))`. \n",
    "  2. Calculate the distance of each point from the origin (0,0): `d = np.sqrt(x**2 + y**2)`.\n",
    "  3. Count how many of these points fall inside a circle of radius 1 centered at the origin (i.e., where `d <= 1`).\n",
    "  4. The ratio of (points inside circle) / (total points) approximates the ratio of the areas (π*r^2 / (2r)^2) = π/4.\n",
    "  5. Calculate your estimate of π: `4 * (points_inside / total_points)`.\n",
    "- **Skills Used:** Random number generation, vectorized operations, boolean indexing, `sum()`."
   ]
  },
  {
   "cell_type": "markdown",
   "metadata": {},
   "source": [
    "### 3. Signal Processing: Noise Reduction\n",
    "- **Goal:** Generate a clean sine wave, add noise to it, and then smooth it out.\n",
    "- **Steps:**\n",
    "  1. Create a time array `t` using `np.linspace()`.\n",
    "  2. Generate a clean sine wave: `y = np.sin(t)`.\n",
    "  3. Generate random noise using `rng.normal()` and add it to the sine wave.\n",
    "  4. Implement a moving average filter. This involves creating a function that, for each point, averages it with its neighbors. A 1D convolution (`np.convolve`) is a great way to do this.\n",
    "  5. Plot the original, noisy, and filtered signals to see the result.\n",
    "- **Skills Used:** `linspace`, ufuncs (`sin`), random generation, slicing, `convolve`."
   ]
  },
  {
   "cell_type": "markdown",
   "metadata": {},
   "source": [
    "### 4. Linear Regression from Scratch\n",
    "- **Goal:** Solve for the coefficients of a simple linear regression model using the normal equation.\n",
    "- **Normal Equation:** `theta = (X^T * X)^-1 * X^T * y`\n",
    "- **Steps:**\n",
    "  1. Generate some sample data `x` and `y`.\n",
    "  2. Create the design matrix `X` by adding a column of ones to `x` (for the intercept term). Use `np.c_` or `np.concatenate`.\n",
    "  3. Use NumPy's linear algebra functions (`.T`, `@`, `np.linalg.inv`) to compute `theta`.\n",
    "  4. Compare your result to the one you get from `np.polyfit` or Scikit-learn's `LinearRegression`.\n",
    "- **Skills Used:** Array manipulation, `np.linalg` module, matrix multiplication."
   ]
  },
  {
   "cell_type": "markdown",
   "metadata": {},
   "source": [
    "## ✅ Learning Path Summary"
   ]
  },
  {
   "cell_type": "markdown",
   "metadata": {},
   "source": [
    "You are now equipped with the fundamental skills for numerical computing in Python. You can:\n",
    "\n",
    "1. ✅ **Install NumPy & create arrays:** `np.array`, `arange`, `zeros`, `ones`.\n",
    "2. ✅ **Learn indexing, slicing, reshaping:** Access and modify array data efficiently.\n",
    "3. ✅ **Master vectorization and broadcasting:** Write fast, loop-free code.\n",
    "4. ✅ **Use ufuncs and math operations:** Apply mathematical functions to entire arrays.\n",
    "5. ✅ **Work with random numbers:** Use the modern `default_rng` for simulations and sampling.\n",
    "6. ✅ **Aggregate with axis and conditions:** Summarize data and perform conditional logic.\n",
    "7. ✅ **Optimize memory and speed:** Understand views, copies, and memory layout.\n",
    "8. ✅ **Build small projects:** Apply your knowledge to solve practical problems.\n",
    "9. ✅ **Integrate with Pandas/Matplotlib:** Bridge the gap to the wider data science ecosystem.\n",
    "10. ✅ **Master linear algebra and advanced features:** Use `np.linalg` and other advanced tools.\n",
    "\n",
    "**Keep practicing, and happy computing!**"
   ]
  }
 ],
 "metadata": {
  "kernelspec": {
   "display_name": "Python 3",
   "language": "python",
   "name": "python3"
  },
  "language_info": {
   "codemirror_mode": {
    "name": "ipython",
    "version": 3
   },
   "file_extension": ".py",
   "mimetype": "text/x-python",
   "name": "python",
   "nbconvert_exporter": "python",
   "pygments_lexer": "ipython3",
   "version": "3.10.0"
  }
 },
 "nbformat": 4,
 "nbformat_minor": 4
}
