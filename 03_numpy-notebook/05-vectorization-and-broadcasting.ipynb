{
 "cells": [
  {
   "cell_type": "markdown",
   "metadata": {},
   "source": [
    "# Level 5: Vectorization & Broadcasting"
   ]
  },
  {
   "cell_type": "markdown",
   "metadata": {},
   "source": [
    "Vectorization and broadcasting are the two most important concepts for writing fast and efficient NumPy code. They allow you to perform complex operations on arrays without writing slow Python loops."
   ]
  },
  {
   "cell_type": "code",
   "execution_count": 13,
   "metadata": {},
   "outputs": [],
   "source": [
    "import numpy as np"
   ]
  },
  {
   "cell_type": "markdown",
   "metadata": {},
   "source": [
    "## 5.1 Vectorized Operations"
   ]
  },
  {
   "cell_type": "markdown",
   "metadata": {},
   "source": [
    "Vectorization is the process of applying an operation to all elements of an array at once. These operations are performed in highly optimized C code, making them much faster than iterating in Python."
   ]
  },
  {
   "cell_type": "code",
   "execution_count": 14,
   "metadata": {},
   "outputs": [
    {
     "name": "stdout",
     "output_type": "stream",
     "text": [
      "Original array: [0 1 2 3 4]\n"
     ]
    }
   ],
   "source": [
    "arr = np.arange(5)\n",
    "print(f\"Original array: {arr}\")"
   ]
  },
  {
   "cell_type": "code",
   "execution_count": 15,
   "metadata": {},
   "outputs": [
    {
     "name": "stdout",
     "output_type": "stream",
     "text": [
      "arr + 5 = [5 6 7 8 9]\n",
      "arr * 2 = [0 2 4 6 8]\n",
      "arr ** 2 = [ 0  1  4  9 16]\n"
     ]
    }
   ],
   "source": [
    "# All standard arithmetic operations are vectorized\n",
    "print(f\"arr + 5 = {arr + 5}\")\n",
    "print(f\"arr * 2 = {arr * 2}\")\n",
    "print(f\"arr ** 2 = {arr ** 2}\")"
   ]
  },
  {
   "cell_type": "markdown",
   "metadata": {},
   "source": [
    "### Universal Functions (ufuncs)\n",
    "NumPy provides a large library of ufuncs, which are functions that operate on ndarrays in an element-by-element fashion. They are the core of NumPy's vectorized nature."
   ]
  },
  {
   "cell_type": "code",
   "execution_count": 16,
   "metadata": {},
   "outputs": [
    {
     "name": "stdout",
     "output_type": "stream",
     "text": [
      "Square root: [0.         1.         1.41421356 1.73205081 2.        ]\n",
      "Exponential: [ 1.          2.71828183  7.3890561  20.08553692 54.59815003]\n",
      "Sine: [ 0.          0.84147098  0.90929743  0.14112001 -0.7568025 ]\n"
     ]
    }
   ],
   "source": [
    "print(f\"Square root: {np.sqrt(arr)}\")\n",
    "print(f\"Exponential: {np.exp(arr)}\")\n",
    "print(f\"Sine: {np.sin(arr)}\")"
   ]
  },
  {
   "cell_type": "markdown",
   "metadata": {},
   "source": [
    "## 5.2 Broadcasting"
   ]
  },
  {
   "cell_type": "markdown",
   "metadata": {},
   "source": [
    "Broadcasting is a powerful mechanism that allows NumPy to work with arrays of different shapes when performing arithmetic operations. It describes how NumPy treats arrays with different shapes during arithmetic operations.\n",
    "\n",
    "### The Rules of Broadcasting\n",
    "When operating on two arrays, NumPy compares their shapes element-wise. It starts with the trailing (i.e., rightmost) dimensions and works its way left. Two dimensions are compatible when\n",
    "1. they are equal, or\n",
    "2. one of them is 1.\n",
    "\n",
    "If these conditions are not met, a `ValueError` is thrown. If the two arrays have a different number of dimensions, the shape of the one with fewer dimensions is padded with ones on its leading (left) side."
   ]
  },
  {
   "cell_type": "markdown",
   "metadata": {},
   "source": [
    "### Example 1: Simple Broadcasting"
   ]
  },
  {
   "cell_type": "code",
   "execution_count": 17,
   "metadata": {},
   "outputs": [
    {
     "name": "stdout",
     "output_type": "stream",
     "text": [
      "[[100 101 102]\n",
      " [103 104 105]]\n"
     ]
    }
   ],
   "source": [
    "a = np.arange(6).reshape(2, 3) # Shape (2, 3)\n",
    "b = 100 # A scalar (can be thought of as shape (1,))\n",
    "\n",
    "# The scalar is 'broadcast' across the array\n",
    "print(a + b)"
   ]
  },
  {
   "cell_type": "markdown",
   "metadata": {},
   "source": [
    "### Example 2: Broadcasting a 1D array to a 2D array"
   ]
  },
  {
   "cell_type": "code",
   "execution_count": 18,
   "metadata": {},
   "outputs": [
    {
     "name": "stdout",
     "output_type": "stream",
     "text": [
      "Matrix (3, 4):\n",
      " [[ 0  1  2  3]\n",
      " [ 4  5  6  7]\n",
      " [ 8  9 10 11]]\n",
      "\n",
      "Vector (4,):\n",
      " [10 20 30 40]\n",
      "\n",
      "Result:\n",
      " [[10 21 32 43]\n",
      " [14 25 36 47]\n",
      " [18 29 40 51]]\n"
     ]
    }
   ],
   "source": [
    "matrix = np.arange(12).reshape(3, 4) # Shape (3, 4)\n",
    "vector = np.array([10, 20, 30, 40])  # Shape (4,)\n",
    "\n",
    "print(\"Matrix (3, 4):\\n\", matrix)\n",
    "print(\"\\nVector (4,):\\n\", vector)\n",
    "\n",
    "# How it works:\n",
    "# matrix shape: (3, 4)\n",
    "# vector shape: (   4) -> Padded to (1, 4)\n",
    "# Result shape: (3, 4)\n",
    "# The vector is stretched to match the matrix's shape.\n",
    "\n",
    "print(\"\\nResult:\\n\", matrix + vector)"
   ]
  },
  {
   "cell_type": "markdown",
   "metadata": {},
   "source": [
    "### Example 3: When Broadcasting Fails"
   ]
  },
  {
   "cell_type": "code",
   "execution_count": 19,
   "metadata": {},
   "outputs": [
    {
     "name": "stdout",
     "output_type": "stream",
     "text": [
      "Error: operands could not be broadcast together with shapes (3,4) (3,) \n",
      "\n",
      "This fails because the trailing dimensions (4 and 3) are not equal, and neither is 1.\n"
     ]
    }
   ],
   "source": [
    "vector_bad = np.array([10, 20, 30]) # Shape (3,)\n",
    "\n",
    "try:\n",
    "    matrix + vector_bad\n",
    "except ValueError as e:\n",
    "    print(f\"Error: {e}\")\n",
    "    print(\"\\nThis fails because the trailing dimensions (4 and 3) are not equal, and neither is 1.\")"
   ]
  },
  {
   "cell_type": "markdown",
   "metadata": {},
   "source": [
    "### Fixing a Broadcasting Error\n",
    "To fix the above, you can reshape the vector to have a compatible shape."
   ]
  },
  {
   "cell_type": "code",
   "execution_count": 20,
   "metadata": {},
   "outputs": [
    {
     "name": "stdout",
     "output_type": "stream",
     "text": [
      "Matrix (3, 4):\n",
      " [[ 0  1  2  3]\n",
      " [ 4  5  6  7]\n",
      " [ 8  9 10 11]]\n",
      "\n",
      "Fixed Vector (3, 1):\n",
      " [[10]\n",
      " [20]\n",
      " [30]]\n",
      "\n",
      "Result:\n",
      " [[10 11 12 13]\n",
      " [24 25 26 27]\n",
      " [38 39 40 41]]\n"
     ]
    }
   ],
   "source": [
    "vector_fixed = vector_bad.reshape(3, 1) # Shape (3, 1)\n",
    "\n",
    "# How it works now:\n",
    "# matrix shape:      (3, 4)\n",
    "# vector_fixed shape: (3, 1)\n",
    "# Result shape:      (3, 4)\n",
    "# The vector is stretched across both dimensions.\n",
    "\n",
    "print(\"Matrix (3, 4):\\n\", matrix)\n",
    "print(\"\\nFixed Vector (3, 1):\\n\", vector_fixed)\n",
    "print(\"\\nResult:\\n\", matrix + vector_fixed)"
   ]
  },
  {
   "cell_type": "markdown",
   "metadata": {},
   "source": [
    "## 5.3 Comparison & Logical Operations"
   ]
  },
  {
   "cell_type": "markdown",
   "metadata": {},
   "source": [
    "These are also vectorized and return boolean arrays. These boolean arrays are crucial for conditional selection (covered in the next level)."
   ]
  },
  {
   "cell_type": "code",
   "execution_count": 21,
   "metadata": {},
   "outputs": [
    {
     "name": "stdout",
     "output_type": "stream",
     "text": [
      "Array: [0 1 2 3 4 5 6 7 8 9]\n"
     ]
    }
   ],
   "source": [
    "arr = np.arange(10)\n",
    "print(f\"Array: {arr}\")"
   ]
  },
  {
   "cell_type": "code",
   "execution_count": 22,
   "metadata": {},
   "outputs": [
    {
     "name": "stdout",
     "output_type": "stream",
     "text": [
      "arr > 5: [False False False False False False  True  True  True  True]\n",
      "arr == 3: [False False False  True False False False False False False]\n"
     ]
    }
   ],
   "source": [
    "# Comparison operations\n",
    "print(f\"arr > 5: {arr > 5}\")\n",
    "print(f\"arr == 3: {arr == 3}\")"
   ]
  },
  {
   "cell_type": "markdown",
   "metadata": {},
   "source": [
    "### Combining Logical Conditions\n",
    "Use `&` for AND and `|` for OR. Do not use the Python keywords `and` and `or`."
   ]
  },
  {
   "cell_type": "code",
   "execution_count": 23,
   "metadata": {},
   "outputs": [
    {
     "data": {
      "text/plain": [
       "array([False, False, False, False,  True,  True,  True,  True, False,\n",
       "       False])"
      ]
     },
     "execution_count": 23,
     "metadata": {},
     "output_type": "execute_result"
    }
   ],
   "source": [
    "(arr > 3) & (arr < 8)"
   ]
  },
  {
   "cell_type": "markdown",
   "metadata": {},
   "source": [
    "NumPy also has logical ufuncs, which can be more explicit."
   ]
  },
  {
   "cell_type": "code",
   "execution_count": 24,
   "metadata": {},
   "outputs": [
    {
     "data": {
      "text/plain": [
       "array([False, False, False, False,  True,  True,  True,  True, False,\n",
       "       False])"
      ]
     },
     "execution_count": 24,
     "metadata": {},
     "output_type": "execute_result"
    }
   ],
   "source": [
    "np.logical_and(arr > 3, arr < 8)"
   ]
  }
 ],
 "metadata": {
  "kernelspec": {
   "display_name": ".venv",
   "language": "python",
   "name": "python3"
  },
  "language_info": {
   "codemirror_mode": {
    "name": "ipython",
    "version": 3
   },
   "file_extension": ".py",
   "mimetype": "text/x-python",
   "name": "python",
   "nbconvert_exporter": "python",
   "pygments_lexer": "ipython3",
   "version": "3.10.11"
  }
 },
 "nbformat": 4,
 "nbformat_minor": 4
}
