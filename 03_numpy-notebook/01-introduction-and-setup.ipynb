{
 "cells": [
  {
   "cell_type": "markdown",
   "metadata": {},
   "source": [
    "# Level 1: Introduction & Setup"
   ]
  },
  {
   "cell_type": "markdown",
   "metadata": {},
   "source": [
    "Welcome to the NumPy learning series! This first notebook covers the basics of what NumPy is, how to install it, and why it's a fundamental library for data science in Python."
   ]
  },
  {
   "cell_type": "markdown",
   "metadata": {},
   "source": [
    "## 1.1 What is NumPy?"
   ]
  },
  {
   "cell_type": "markdown",
   "metadata": {},
   "source": [
    "NumPy (Numerical Python) is the core library for numerical and scientific computing in Python. It provides:\n",
    "\n",
    "- A powerful N-dimensional array object called `ndarray`.\n",
    "- Sophisticated (broadcasting) functions.\n",
    "- Tools for integrating C/C++ and Fortran code.\n",
    "- Useful linear algebra, Fourier transform, and random number capabilities.\n",
    "\n",
    "The key feature of NumPy is its `ndarray`, which is a fast and memory-efficient data structure for storing and manipulating numerical data. It allows for **vectorized operations**, which means you can perform operations on entire arrays without writing slow Python `for` loops."
   ]
  },
  {
   "cell_type": "markdown",
   "metadata": {},
   "source": [
    "## 1.2 Installation & Import"
   ]
  },
  {
   "cell_type": "markdown",
   "metadata": {},
   "source": [
    "To use NumPy, you first need to install it using `pip`."
   ]
  },
  {
   "cell_type": "code",
   "execution_count": 1,
   "metadata": {},
   "outputs": [
    {
     "name": "stdout",
     "output_type": "stream",
     "text": [
      "Requirement already satisfied: numpy in c:\\users\\tyagi\\documents\\learning\\data-analyst-learning\\.venv\\lib\\site-packages (2.2.6)\n"
     ]
    },
    {
     "name": "stderr",
     "output_type": "stream",
     "text": [
      "\n",
      "[notice] A new release of pip is available: 23.0.1 -> 25.2\n",
      "[notice] To update, run: python.exe -m pip install --upgrade pip\n"
     ]
    }
   ],
   "source": [
    "!pip install numpy"
   ]
  },
  {
   "cell_type": "markdown",
   "metadata": {},
   "source": [
    "The standard convention for importing NumPy is to use the alias `np`."
   ]
  },
  {
   "cell_type": "code",
   "execution_count": 2,
   "metadata": {},
   "outputs": [],
   "source": [
    "import numpy as np"
   ]
  },
  {
   "cell_type": "markdown",
   "metadata": {},
   "source": [
    "You can check your installed version of NumPy."
   ]
  },
  {
   "cell_type": "code",
   "execution_count": 3,
   "metadata": {},
   "outputs": [
    {
     "name": "stdout",
     "output_type": "stream",
     "text": [
      "2.2.6\n"
     ]
    }
   ],
   "source": [
    "print(np.__version__)"
   ]
  },
  {
   "cell_type": "markdown",
   "metadata": {},
   "source": [
    "## 1.3 Why Use NumPy?"
   ]
  },
  {
   "cell_type": "markdown",
   "metadata": {},
   "source": [
    "You might wonder why we need a special library for arrays when Python has its own lists. Here's why NumPy is superior for numerical tasks:"
   ]
  },
  {
   "cell_type": "markdown",
   "metadata": {},
   "source": [
    "### 1. Speed\n",
    "NumPy arrays are implemented in C and are stored in a contiguous block of memory. This makes them much faster than Python lists, which are arrays of pointers to objects, spread out in memory."
   ]
  },
  {
   "cell_type": "code",
   "execution_count": 4,
   "metadata": {},
   "outputs": [
    {
     "name": "stdout",
     "output_type": "stream",
     "text": [
      "18.6 ms ± 259 μs per loop (mean ± std. dev. of 7 runs, 10 loops each)\n",
      "841 μs ± 54.6 μs per loop (mean ± std. dev. of 7 runs, 1,000 loops each)\n"
     ]
    }
   ],
   "source": [
    "# Let's compare the speed of summing a list vs a NumPy array\n",
    "my_list = list(range(1_000_000))\n",
    "my_array = np.arange(1_000_000)\n",
    "\n",
    "%timeit sum(my_list)\n",
    "%timeit np.sum(my_array)"
   ]
  },
  {
   "cell_type": "markdown",
   "metadata": {},
   "source": [
    "### 2. Less Memory\n",
    "NumPy arrays are more compact than Python lists."
   ]
  },
  {
   "cell_type": "code",
   "execution_count": 5,
   "metadata": {},
   "outputs": [
    {
     "name": "stdout",
     "output_type": "stream",
     "text": [
      "Size of Python list: 8000056 bytes\n",
      "Size of NumPy array: 8000000 bytes\n"
     ]
    }
   ],
   "source": [
    "import sys\n",
    "print(f\"Size of Python list: {sys.getsizeof(my_list)} bytes\")\n",
    "print(f\"Size of NumPy array: {my_array.nbytes} bytes\")"
   ]
  },
  {
   "cell_type": "markdown",
   "metadata": {},
   "source": [
    "### 3. Convenience & Functionality\n",
    "NumPy provides a huge library of high-level mathematical functions that can operate on entire arrays. Trying to do the same with lists would require explicit, slow loops."
   ]
  },
  {
   "cell_type": "code",
   "execution_count": 6,
   "metadata": {},
   "outputs": [
    {
     "data": {
      "text/plain": [
       "array([      0,       2,       4, ..., 1999994, 1999996, 1999998],\n",
       "      shape=(1000000,))"
      ]
     },
     "execution_count": 6,
     "metadata": {},
     "output_type": "execute_result"
    }
   ],
   "source": [
    "# With lists, you can't do this:\n",
    "# my_list * 2 # This would just duplicate the list\n",
    "\n",
    "# With NumPy, this performs an element-wise multiplication:\n",
    "my_array * 2"
   ]
  },
  {
   "cell_type": "markdown",
   "metadata": {},
   "source": [
    "### 4. Foundation of the Ecosystem\n",
    "Libraries like Pandas, Scikit-learn, and Matplotlib are all built on top of NumPy. Understanding NumPy is crucial for being effective with these other tools."
   ]
  }
 ],
 "metadata": {
  "kernelspec": {
   "display_name": ".venv",
   "language": "python",
   "name": "python3"
  },
  "language_info": {
   "codemirror_mode": {
    "name": "ipython",
    "version": 3
   },
   "file_extension": ".py",
   "mimetype": "text/x-python",
   "name": "python",
   "nbconvert_exporter": "python",
   "pygments_lexer": "ipython3",
   "version": "3.10.11"
  }
 },
 "nbformat": 4,
 "nbformat_minor": 4
}
