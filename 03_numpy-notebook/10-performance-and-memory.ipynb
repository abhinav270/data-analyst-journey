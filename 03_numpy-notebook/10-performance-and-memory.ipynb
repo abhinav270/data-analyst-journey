{
 "cells": [
  {
   "cell_type": "markdown",
   "metadata": {},
   "source": [
    "# Level 10: Performance & Memory Optimization"
   ]
  },
  {
   "cell_type": "markdown",
   "metadata": {},
   "source": [
    "Writing correct NumPy code is the first step. Writing *efficient* NumPy code is the next. This notebook covers key concepts for optimizing your code's speed and memory usage, which is crucial when working with large datasets."
   ]
  },
  {
   "cell_type": "code",
   "execution_count": 1,
   "metadata": {},
   "outputs": [],
   "source": [
    "import numpy as np"
   ]
  },
  {
   "cell_type": "markdown",
   "metadata": {},
   "source": [
    "## 10.1 Vectorization vs. Loops"
   ]
  },
  {
   "cell_type": "markdown",
   "metadata": {},
   "source": [
    "The single most important rule for performance in NumPy is to **avoid iterating over arrays with Python `for` loops**. Always look for a vectorized solution using ufuncs and broadcasting."
   ]
  },
  {
   "cell_type": "code",
   "execution_count": 2,
   "metadata": {},
   "outputs": [
    {
     "name": "stdout",
     "output_type": "stream",
     "text": [
      "Timing Python loop vs. vectorized sum:\n",
      "65.2 ms ± 3.21 ms per loop (mean ± std. dev. of 7 runs, 10 loops each)\n",
      "685 μs ± 43.8 μs per loop (mean ± std. dev. of 7 runs, 1,000 loops each)\n"
     ]
    }
   ],
   "source": [
    "arr = np.arange(1_000_000)\n",
    "\n",
    "# Bad: Python loop\n",
    "def loop_sum():\n",
    "    total = 0\n",
    "    for x in arr:\n",
    "        total += x\n",
    "    return total\n",
    "\n",
    "# Good: Vectorized ufunc\n",
    "def vectorized_sum():\n",
    "    return np.sum(arr)\n",
    "\n",
    "print(\"Timing Python loop vs. vectorized sum:\")\n",
    "%timeit loop_sum()\n",
    "%timeit vectorized_sum()"
   ]
  },
  {
   "cell_type": "markdown",
   "metadata": {},
   "source": [
    "The vectorized version is orders of magnitude faster because the looping happens in pre-compiled C code, not interpreted Python."
   ]
  },
  {
   "cell_type": "markdown",
   "metadata": {},
   "source": [
    "## 10.2 Memory Layout"
   ]
  },
  {
   "cell_type": "markdown",
   "metadata": {},
   "source": [
    "How arrays are stored in memory can impact performance. The two main memory layouts are:\n",
    "\n",
    "- **Row-major order (C-style):** The default in NumPy. Elements of a row are contiguous in memory.\n",
    "- **Column-major order (Fortran-style):** Elements of a column are contiguous in memory."
   ]
  },
  {
   "cell_type": "code",
   "execution_count": 3,
   "metadata": {},
   "outputs": [
    {
     "name": "stdout",
     "output_type": "stream",
     "text": [
      "C-style (row-major) array:\n",
      " [[ 0  1  2  3]\n",
      " [ 4  5  6  7]\n",
      " [ 8  9 10 11]]\n",
      "Fortran-style (col-major) array:\n",
      " [[ 0  3  6  9]\n",
      " [ 1  4  7 10]\n",
      " [ 2  5  8 11]]\n"
     ]
    }
   ],
   "source": [
    "c_array = np.arange(12).reshape(3, 4, order='C')\n",
    "f_array = np.arange(12).reshape(3, 4, order='F')\n",
    "\n",
    "print(\"C-style (row-major) array:\\n\", c_array)\n",
    "print(\"Fortran-style (col-major) array:\\n\", f_array)"
   ]
  },
  {
   "cell_type": "markdown",
   "metadata": {},
   "source": [
    "You can check the memory layout using the `.flags` attribute."
   ]
  },
  {
   "cell_type": "code",
   "execution_count": 4,
   "metadata": {},
   "outputs": [
    {
     "name": "stdout",
     "output_type": "stream",
     "text": [
      "C-style contiguous: True\n",
      "F-style contiguous: True\n"
     ]
    }
   ],
   "source": [
    "print(f\"C-style contiguous: {c_array.flags['C_CONTIGUOUS']}\")\n",
    "print(f\"F-style contiguous: {f_array.flags['F_CONTIGUOUS']}\")"
   ]
  },
  {
   "cell_type": "markdown",
   "metadata": {},
   "source": [
    "**Why does this matter?** Accessing elements in the order they are stored in memory is faster due to caching. Summing along rows is slightly faster for C-ordered arrays, while summing along columns is faster for F-ordered arrays."
   ]
  },
  {
   "cell_type": "code",
   "execution_count": 5,
   "metadata": {},
   "outputs": [
    {
     "name": "stdout",
     "output_type": "stream",
     "text": [
      "Summing C-array by rows (fast):\n",
      "114 ms ± 9.24 ms per loop (mean ± std. dev. of 7 runs, 1 loop each)\n",
      "\n",
      "Summing C-array by cols (slower):\n",
      "55.7 ms ± 5.93 ms per loop (mean ± std. dev. of 7 runs, 10 loops each)\n",
      "\n",
      "Summing F-array by rows (slower):\n",
      "56.4 ms ± 3.24 ms per loop (mean ± std. dev. of 7 runs, 1 loop each)\n",
      "\n",
      "Summing F-array by cols (fast):\n",
      "96.7 ms ± 4.18 ms per loop (mean ± std. dev. of 7 runs, 10 loops each)\n"
     ]
    }
   ],
   "source": [
    "large_c_array = np.zeros((10000, 10000), order='C')\n",
    "large_f_array = np.zeros((10000, 10000), order='F')\n",
    "\n",
    "print(\"Summing C-array by rows (fast):\")\n",
    "%timeit large_c_array.sum(axis=1)\n",
    "print(\"\\nSumming C-array by cols (slower):\")\n",
    "%timeit large_c_array.sum(axis=0)\n",
    "\n",
    "print(\"\\nSumming F-array by rows (slower):\")\n",
    "%timeit large_f_array.sum(axis=1)\n",
    "print(\"\\nSumming F-array by cols (fast):\")\n",
    "%timeit large_f_array.sum(axis=0)"
   ]
  },
  {
   "cell_type": "markdown",
   "metadata": {},
   "source": [
    "## 10.3 In-Place Operations"
   ]
  },
  {
   "cell_type": "markdown",
   "metadata": {},
   "source": [
    "When you write `arr = arr + 1`, NumPy creates a brand new array to store the result and then assigns it back to `arr`. This can be inefficient for large arrays.\n",
    "\n",
    "In-place operations modify the array's data directly without creating a new one."
   ]
  },
  {
   "cell_type": "code",
   "execution_count": 6,
   "metadata": {},
   "outputs": [],
   "source": [
    "arr = np.arange(10)\n",
    "\n",
    "# Not in-place (creates a new array)\n",
    "y = arr + 1\n",
    "\n",
    "# In-place\n",
    "arr += 1"
   ]
  },
  {
   "cell_type": "markdown",
   "metadata": {},
   "source": [
    "### The `out` Parameter\n",
    "Many ufuncs have an `out` parameter that lets you specify an existing array where the output should be stored. This is another way to perform in-place-like operations."
   ]
  },
  {
   "cell_type": "code",
   "execution_count": 7,
   "metadata": {},
   "outputs": [
    {
     "name": "stdout",
     "output_type": "stream",
     "text": [
      "[ 5  7  9 11 13]\n"
     ]
    }
   ],
   "source": [
    "a = np.arange(5)\n",
    "b = np.arange(5, 10)\n",
    "result = np.zeros(5, dtype=int)\n",
    "\n",
    "# Store the result of a + b in the 'result' array\n",
    "np.add(a, b, out=result)\n",
    "print(result)"
   ]
  },
  {
   "cell_type": "markdown",
   "metadata": {},
   "source": [
    "## 10.4 Views vs. Copies (Revisited)"
   ]
  },
  {
   "cell_type": "markdown",
   "metadata": {},
   "source": [
    "Understanding when NumPy returns a view versus a copy is critical for both performance and correctness.\n",
    "\n",
    "- **View (No Copy):** Slicing, `reshape`, `ravel` (if possible). Fast, but can have side effects.\n",
    "- **Copy:** Boolean indexing, fancy indexing, most arithmetic operations, explicit `.copy()`.\n",
    "\n",
    "Unnecessary copying of large arrays can be a major performance bottleneck."
   ]
  },
  {
   "cell_type": "code",
   "execution_count": 8,
   "metadata": {},
   "outputs": [
    {
     "name": "stdout",
     "output_type": "stream",
     "text": [
      "Does slice share memory with arr? True\n",
      "Does fancy index share memory with arr? False\n"
     ]
    }
   ],
   "source": [
    "arr = np.arange(10)\n",
    "\n",
    "slice_view = arr[2:5]\n",
    "fancy_copy = arr[[2, 3, 4]]\n",
    "\n",
    "# Use np.shares_memory() to check\n",
    "print(f\"Does slice share memory with arr? {np.shares_memory(arr, slice_view)}\")\n",
    "print(f\"Does fancy index share memory with arr? {np.shares_memory(arr, fancy_copy)}\")"
   ]
  },
  {
   "cell_type": "markdown",
   "metadata": {},
   "source": [
    "**Rule of Thumb:** If you don't want to modify the original array, use `.copy()`. If you're working with large data and performance is critical, be mindful of which operations create copies."
   ]
  }
 ],
 "metadata": {
  "kernelspec": {
   "display_name": ".venv",
   "language": "python",
   "name": "python3"
  },
  "language_info": {
   "codemirror_mode": {
    "name": "ipython",
    "version": 3
   },
   "file_extension": ".py",
   "mimetype": "text/x-python",
   "name": "python",
   "nbconvert_exporter": "python",
   "pygments_lexer": "ipython3",
   "version": "3.10.11"
  }
 },
 "nbformat": 4,
 "nbformat_minor": 4
}
