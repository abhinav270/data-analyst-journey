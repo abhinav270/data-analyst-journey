{
 "cells": [
  {
   "cell_type": "markdown",
   "metadata": {},
   "source": [
    "# Level 8: Random Number Generation"
   ]
  },
  {
   "cell_type": "markdown",
   "metadata": {},
   "source": [
    "Generating random numbers is essential for a wide range of applications, including simulations (like Monte Carlo methods), creating sample data, and initializing parameters in machine learning models. NumPy provides a powerful and flexible module for this: `np.random`."
   ]
  },
  {
   "cell_type": "code",
   "execution_count": 1,
   "metadata": {},
   "outputs": [],
   "source": [
    "import numpy as np"
   ]
  },
  {
   "cell_type": "markdown",
   "metadata": {},
   "source": [
    "## 8.1 The `np.random` Module (Legacy)"
   ]
  },
  {
   "cell_type": "markdown",
   "metadata": {},
   "source": [
    "For a long time, the standard way to generate random numbers was using functions directly from `np.random`. While still common in older code, the new generator system (covered next) is now recommended."
   ]
  },
  {
   "cell_type": "code",
   "execution_count": 2,
   "metadata": {},
   "outputs": [
    {
     "name": "stdout",
     "output_type": "stream",
     "text": [
      "rand(3, 3):\n",
      " [[0.83511441 0.68101813 0.09162303]\n",
      " [0.95012877 0.71826067 0.28988857]\n",
      " [0.43737603 0.4482914  0.22703401]]\n"
     ]
    }
   ],
   "source": [
    "# Random floats from a uniform distribution over [0, 1)\n",
    "print(\"rand(3, 3):\\n\", np.random.rand(3, 3))"
   ]
  },
  {
   "cell_type": "code",
   "execution_count": 3,
   "metadata": {},
   "outputs": [
    {
     "name": "stdout",
     "output_type": "stream",
     "text": [
      "\n",
      "randn(3, 3):\n",
      " [[-0.48527142 -0.18440729 -1.16294339]\n",
      " [-0.22617593 -0.21253698  1.93114058]\n",
      " [-0.29010973 -0.62703935 -1.09701104]]\n"
     ]
    }
   ],
   "source": [
    "# Random floats from a standard normal distribution (mean=0, variance=1)\n",
    "print(\"\\nrandn(3, 3):\\n\", np.random.randn(3, 3))"
   ]
  },
  {
   "cell_type": "code",
   "execution_count": 4,
   "metadata": {},
   "outputs": [
    {
     "name": "stdout",
     "output_type": "stream",
     "text": [
      "\n",
      "randint(0, 10, size=5): [0 3 8 7 1]\n"
     ]
    }
   ],
   "source": [
    "# Random integers from a given range [low, high)\n",
    "print(\"\\nrandint(0, 10, size=5):\", np.random.randint(0, 10, size=5))"
   ]
  },
  {
   "cell_type": "markdown",
   "metadata": {},
   "source": [
    "## 8.2 Seeding for Reproducibility"
   ]
  },
  {
   "cell_type": "markdown",
   "metadata": {},
   "source": [
    "When you need your 'random' numbers to be the same every time you run your code (e.g., for testing or to ensure a machine learning experiment is reproducible), you must set a **seed**. The seed initializes the random number generator to a deterministic state."
   ]
  },
  {
   "cell_type": "code",
   "execution_count": 5,
   "metadata": {},
   "outputs": [
    {
     "name": "stdout",
     "output_type": "stream",
     "text": [
      "Run 1: [0.70048535 0.73812769 0.65120468]\n",
      "Run 2: [0.48318711 0.52855215 0.11883837]\n"
     ]
    }
   ],
   "source": [
    "# Without a seed, the numbers are different each time\n",
    "print(\"Run 1:\", np.random.rand(3))\n",
    "print(\"Run 2:\", np.random.rand(3))"
   ]
  },
  {
   "cell_type": "code",
   "execution_count": 6,
   "metadata": {},
   "outputs": [
    {
     "name": "stdout",
     "output_type": "stream",
     "text": [
      "\n",
      "Run 1 with seed: [0.37454012 0.95071431 0.73199394]\n",
      "Run 2 with seed: [0.37454012 0.95071431 0.73199394]\n"
     ]
    }
   ],
   "source": [
    "# With a seed, the sequence is the same\n",
    "np.random.seed(42)\n",
    "print(\"\\nRun 1 with seed:\", np.random.rand(3))\n",
    "\n",
    "np.random.seed(42)\n",
    "print(\"Run 2 with seed:\", np.random.rand(3))"
   ]
  },
  {
   "cell_type": "markdown",
   "metadata": {},
   "source": [
    "**Problem with `np.random.seed()`:** It sets the seed for a single, global random number generator. This can cause issues if different parts of your code (or libraries you use) also set the global seed."
   ]
  },
  {
   "cell_type": "markdown",
   "metadata": {},
   "source": [
    "## 8.3 The New Random Generator (Recommended)"
   ]
  },
  {
   "cell_type": "markdown",
   "metadata": {},
   "source": [
    "Starting with NumPy 1.17, a new, more robust system for random number generation was introduced. The recommended practice is to create a dedicated `Generator` instance and call its methods. This avoids the problems of a global state."
   ]
  },
  {
   "cell_type": "markdown",
   "metadata": {},
   "source": [
    "### Creating a Generator\n",
    "You create a generator instance using `np.random.default_rng()`. You can pass a seed to it for reproducibility."
   ]
  },
  {
   "cell_type": "code",
   "execution_count": 7,
   "metadata": {},
   "outputs": [
    {
     "name": "stdout",
     "output_type": "stream",
     "text": [
      "Generator(PCG64)\n"
     ]
    }
   ],
   "source": [
    "rng = np.random.default_rng(seed=42)\n",
    "print(rng)"
   ]
  },
  {
   "cell_type": "markdown",
   "metadata": {},
   "source": [
    "### Using the Generator\n",
    "The generator object has methods for creating random numbers. These methods often have more intuitive names than the legacy versions."
   ]
  },
  {
   "cell_type": "code",
   "execution_count": 8,
   "metadata": {},
   "outputs": [
    {
     "name": "stdout",
     "output_type": "stream",
     "text": [
      "Integers: [0 7 6 4 4]\n"
     ]
    }
   ],
   "source": [
    "# Random integers\n",
    "print(\"Integers:\", rng.integers(low=0, high=10, size=5))"
   ]
  },
  {
   "cell_type": "code",
   "execution_count": 9,
   "metadata": {},
   "outputs": [
    {
     "name": "stdout",
     "output_type": "stream",
     "text": [
      "\n",
      "Uniform floats:\n",
      " [[0.69736803 0.09417735]\n",
      " [0.97562235 0.7611397 ]]\n"
     ]
    }
   ],
   "source": [
    "# Random floats from a uniform distribution\n",
    "print(\"\\nUniform floats:\\n\", rng.uniform(low=0, high=1, size=(2, 2)))"
   ]
  },
  {
   "cell_type": "code",
   "execution_count": 10,
   "metadata": {},
   "outputs": [
    {
     "name": "stdout",
     "output_type": "stream",
     "text": [
      "\n",
      "Normal floats:\n",
      " [[-0.31624259 -0.01680116]\n",
      " [-0.85304393  0.87939797]]\n"
     ]
    }
   ],
   "source": [
    "# Random floats from a normal distribution\n",
    "print(\"\\nNormal floats:\\n\", rng.normal(loc=0, scale=1, size=(2, 2))) # loc=mean, scale=std dev"
   ]
  },
  {
   "cell_type": "code",
   "execution_count": 11,
   "metadata": {},
   "outputs": [
    {
     "name": "stdout",
     "output_type": "stream",
     "text": [
      "\n",
      "Choices: ['D' 'A' 'D' 'D' 'C']\n"
     ]
    }
   ],
   "source": [
    "# Randomly choose from an array\n",
    "choices = np.array(['A', 'B', 'C', 'D'])\n",
    "print(\"\\nChoices:\", rng.choice(choices, size=5))"
   ]
  },
  {
   "cell_type": "code",
   "execution_count": 12,
   "metadata": {},
   "outputs": [
    {
     "name": "stdout",
     "output_type": "stream",
     "text": [
      "\n",
      "Shuffled array: [1 0 5 4 8 9 7 2 3 6]\n"
     ]
    }
   ],
   "source": [
    "# Shuffle an array in-place\n",
    "arr_to_shuffle = np.arange(10)\n",
    "rng.shuffle(arr_to_shuffle)\n",
    "print(\"\\nShuffled array:\", arr_to_shuffle)"
   ]
  },
  {
   "cell_type": "markdown",
   "metadata": {},
   "source": [
    "By creating and passing around `rng` objects, your code becomes more modular, predictable, and free from the side effects of a global random state."
   ]
  }
 ],
 "metadata": {
  "kernelspec": {
   "display_name": ".venv",
   "language": "python",
   "name": "python3"
  },
  "language_info": {
   "codemirror_mode": {
    "name": "ipython",
    "version": 3
   },
   "file_extension": ".py",
   "mimetype": "text/x-python",
   "name": "python",
   "nbconvert_exporter": "python",
   "pygments_lexer": "ipython3",
   "version": "3.10.11"
  }
 },
 "nbformat": 4,
 "nbformat_minor": 4
}
