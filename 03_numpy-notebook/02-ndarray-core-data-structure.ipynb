{
 "cells": [
  {
   "cell_type": "markdown",
   "metadata": {},
   "source": [
    "# Level 2: The ndarray – Core Data Structure"
   ]
  },
  {
   "cell_type": "markdown",
   "metadata": {},
   "source": [
    "The heart of NumPy is the `ndarray` (N-dimensional array). It's a grid of values, all of the same type, and is indexed by a tuple of non-negative integers. This notebook covers how to create arrays, inspect their properties, and manage their data types."
   ]
  },
  {
   "cell_type": "code",
   "execution_count": 1,
   "metadata": {},
   "outputs": [],
   "source": [
    "import numpy as np"
   ]
  },
  {
   "cell_type": "markdown",
   "metadata": {},
   "source": [
    "## 2.1 Creating Arrays"
   ]
  },
  {
   "cell_type": "markdown",
   "metadata": {},
   "source": [
    "### From Python Lists"
   ]
  },
  {
   "cell_type": "code",
   "execution_count": 2,
   "metadata": {},
   "outputs": [
    {
     "name": "stdout",
     "output_type": "stream",
     "text": [
      "[1 2 3 4 5]\n"
     ]
    }
   ],
   "source": [
    "# 1D array\n",
    "arr1d = np.array([1, 2, 3, 4, 5])\n",
    "print(arr1d)"
   ]
  },
  {
   "cell_type": "code",
   "execution_count": 3,
   "metadata": {},
   "outputs": [
    {
     "name": "stdout",
     "output_type": "stream",
     "text": [
      "[[1 2 3]\n",
      " [4 5 6]]\n"
     ]
    }
   ],
   "source": [
    "# 2D array (matrix)\n",
    "arr2d = np.array([[1, 2, 3], [4, 5, 6]])\n",
    "print(arr2d)"
   ]
  },
  {
   "cell_type": "markdown",
   "metadata": {},
   "source": [
    "### From Ranges (`np.arange`)"
   ]
  },
  {
   "cell_type": "code",
   "execution_count": 4,
   "metadata": {},
   "outputs": [
    {
     "name": "stdout",
     "output_type": "stream",
     "text": [
      "[0 2 4 6 8]\n"
     ]
    }
   ],
   "source": [
    "# Similar to Python's range()\n",
    "arr_range = np.arange(0, 10, 2) # (start, stop, step)\n",
    "print(arr_range)"
   ]
  },
  {
   "cell_type": "markdown",
   "metadata": {},
   "source": [
    "### Special Arrays"
   ]
  },
  {
   "cell_type": "code",
   "execution_count": 5,
   "metadata": {},
   "outputs": [
    {
     "name": "stdout",
     "output_type": "stream",
     "text": [
      "Zeros:\n",
      " [[0. 0. 0.]\n",
      " [0. 0. 0.]]\n"
     ]
    }
   ],
   "source": [
    "# Array of zeros\n",
    "zeros_arr = np.zeros((2, 3)) # shape is a tuple\n",
    "print(\"Zeros:\\n\", zeros_arr)"
   ]
  },
  {
   "cell_type": "code",
   "execution_count": 6,
   "metadata": {},
   "outputs": [
    {
     "name": "stdout",
     "output_type": "stream",
     "text": [
      "Ones:\n",
      " [[1. 1.]\n",
      " [1. 1.]\n",
      " [1. 1.]]\n"
     ]
    }
   ],
   "source": [
    "# Array of ones\n",
    "ones_arr = np.ones((3, 2))\n",
    "print(\"Ones:\\n\", ones_arr)"
   ]
  },
  {
   "cell_type": "code",
   "execution_count": 7,
   "metadata": {},
   "outputs": [
    {
     "name": "stdout",
     "output_type": "stream",
     "text": [
      "Full:\n",
      " [[7 7 7 7]\n",
      " [7 7 7 7]]\n"
     ]
    }
   ],
   "source": [
    "# Array filled with a constant value\n",
    "full_arr = np.full((2, 4), 7) # (shape, fill_value)\n",
    "print(\"Full:\\n\", full_arr)"
   ]
  },
  {
   "cell_type": "code",
   "execution_count": 8,
   "metadata": {},
   "outputs": [
    {
     "name": "stdout",
     "output_type": "stream",
     "text": [
      "Identity Matrix:\n",
      " [[1. 0. 0.]\n",
      " [0. 1. 0.]\n",
      " [0. 0. 1.]]\n"
     ]
    }
   ],
   "source": [
    "# Identity matrix\n",
    "identity_matrix = np.eye(3) # size of one dimension\n",
    "print(\"Identity Matrix:\\n\", identity_matrix)"
   ]
  },
  {
   "cell_type": "markdown",
   "metadata": {},
   "source": [
    "## 2.2 Array Attributes"
   ]
  },
  {
   "cell_type": "markdown",
   "metadata": {},
   "source": [
    "These attributes provide information about the array itself."
   ]
  },
  {
   "cell_type": "code",
   "execution_count": 9,
   "metadata": {},
   "outputs": [
    {
     "name": "stdout",
     "output_type": "stream",
     "text": [
      "Array:\n",
      " [[1 2 3]\n",
      " [4 5 6]]\n"
     ]
    }
   ],
   "source": [
    "arr = np.array([[1, 2, 3], [4, 5, 6]])\n",
    "print(\"Array:\\n\", arr)"
   ]
  },
  {
   "cell_type": "code",
   "execution_count": 10,
   "metadata": {},
   "outputs": [
    {
     "name": "stdout",
     "output_type": "stream",
     "text": [
      "Shape: (2, 3)\n",
      "Number of dimensions (ndim): 2\n",
      "Total elements (size): 6\n",
      "Data type (dtype): int64\n",
      "Bytes per element (itemsize): 8\n",
      "Total bytes (nbytes): 48\n"
     ]
    }
   ],
   "source": [
    "print(f\"Shape: {arr.shape}\")\n",
    "print(f\"Number of dimensions (ndim): {arr.ndim}\")\n",
    "print(f\"Total elements (size): {arr.size}\")\n",
    "print(f\"Data type (dtype): {arr.dtype}\")\n",
    "print(f\"Bytes per element (itemsize): {arr.itemsize}\")\n",
    "print(f\"Total bytes (nbytes): {arr.nbytes}\") # equal to size * itemsize"
   ]
  },
  {
   "cell_type": "markdown",
   "metadata": {},
   "source": [
    "## 2.3 Data Types (`dtype`)"
   ]
  },
  {
   "cell_type": "markdown",
   "metadata": {},
   "source": [
    "NumPy arrays must have all elements of the same data type. NumPy has a larger variety of numerical types than standard Python."
   ]
  },
  {
   "cell_type": "markdown",
   "metadata": {},
   "source": [
    "### Common Data Types\n",
    "- `int8`, `int16`, `int32`, `int64`\n",
    "- `uint8`, `uint16`, `uint32`, `uint64` (unsigned integers)\n",
    "- `float16`, `float32`, `float64`\n",
    "- `complex64`, `complex128`\n",
    "- `bool`"
   ]
  },
  {
   "cell_type": "markdown",
   "metadata": {},
   "source": [
    "### Explicit Casting on Creation"
   ]
  },
  {
   "cell_type": "code",
   "execution_count": 11,
   "metadata": {},
   "outputs": [
    {
     "name": "stdout",
     "output_type": "stream",
     "text": [
      "[1. 2. 3.]\n",
      "Dtype: float32\n"
     ]
    }
   ],
   "source": [
    "arr_float = np.array([1, 2, 3], dtype=np.float32)\n",
    "print(arr_float)\n",
    "print(f\"Dtype: {arr_float.dtype}\")"
   ]
  },
  {
   "cell_type": "markdown",
   "metadata": {},
   "source": [
    "### Type Conversion with `.astype()`"
   ]
  },
  {
   "cell_type": "code",
   "execution_count": 12,
   "metadata": {},
   "outputs": [
    {
     "name": "stdout",
     "output_type": "stream",
     "text": [
      "Original array (float): [1.1 2.7 3.5]\n",
      "Converted array (int): [1 2 3]\n"
     ]
    }
   ],
   "source": [
    "arr_int = np.array([1.1, 2.7, 3.5])\n",
    "print(f\"Original array (float): {arr_int}\")\n",
    "\n",
    "# Convert to integer type (truncates decimals)\n",
    "arr_converted = arr_int.astype(np.int32)\n",
    "print(f\"Converted array (int): {arr_converted}\")"
   ]
  },
  {
   "cell_type": "code",
   "execution_count": 13,
   "metadata": {},
   "outputs": [
    {
     "name": "stdout",
     "output_type": "stream",
     "text": [
      "Boolean array: [False  True  True False  True]\n"
     ]
    }
   ],
   "source": [
    "# You can also convert between other types, like to a boolean\n",
    "arr_bool = np.array([0, 1, -1, 0, 5]).astype(bool)\n",
    "print(f\"Boolean array: {arr_bool}\") # Zero becomes False, non-zero becomes True"
   ]
  }
 ],
 "metadata": {
  "kernelspec": {
   "display_name": ".venv",
   "language": "python",
   "name": "python3"
  },
  "language_info": {
   "codemirror_mode": {
    "name": "ipython",
    "version": 3
   },
   "file_extension": ".py",
   "mimetype": "text/x-python",
   "name": "python",
   "nbconvert_exporter": "python",
   "pygments_lexer": "ipython3",
   "version": "3.10.11"
  }
 },
 "nbformat": 4,
 "nbformat_minor": 4
}
