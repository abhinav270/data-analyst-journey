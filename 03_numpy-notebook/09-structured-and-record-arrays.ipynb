{
 "cells": [
  {
   "cell_type": "markdown",
   "metadata": {},
   "source": [
    "# Level 9: Structured & Record Arrays (Advanced)"
   ]
  },
  {
   "cell_type": "markdown",
   "metadata": {},
   "source": [
    "While standard `ndarray`s require all elements to be of the same data type, NumPy also provides **structured arrays** (also known as record arrays). These are arrays where each element can be a C-style struct, with different named fields and data types. This allows you to store heterogeneous data, much like a table in a database or a row in a spreadsheet."
   ]
  },
  {
   "cell_type": "markdown",
   "metadata": {},
   "source": [
    "> ⚠️ **When to use them?** Structured arrays can be useful for interfacing with C code or for storing mixed-type data in a compact way. However, for most data analysis tasks, **Pandas DataFrames are far more powerful, flexible, and user-friendly.** This topic is included for completeness, but in practice, you'll almost always reach for Pandas for this kind of data."
   ]
  },
  {
   "cell_type": "code",
   "execution_count": 1,
   "metadata": {},
   "outputs": [],
   "source": [
    "import numpy as np"
   ]
  },
  {
   "cell_type": "markdown",
   "metadata": {},
   "source": [
    "## 9.1 Structured Arrays"
   ]
  },
  {
   "cell_type": "markdown",
   "metadata": {},
   "source": [
    "You create a structured array by defining a special `dtype`. The `dtype` is a list of tuples, where each tuple specifies a field: `('field_name', 'data_type')`."
   ]
  },
  {
   "cell_type": "markdown",
   "metadata": {},
   "source": [
    "### Data Type Codes\n",
    "- `'i4'` or `'<i4'`: 4-byte integer (32-bit)\n",
    "- `'f8'` or `'<f8'`: 8-byte float (64-bit)\n",
    "- `'U10'`: 10-character Unicode string\n",
    "- `'S10'`: 10-byte ASCII string"
   ]
  },
  {
   "cell_type": "code",
   "execution_count": 2,
   "metadata": {},
   "outputs": [
    {
     "name": "stdout",
     "output_type": "stream",
     "text": [
      "[('Alice', 25, 88.5) ('Bob', 30, 92. ) ('Charlie', 28, 78.5)]\n"
     ]
    }
   ],
   "source": [
    "# Define the dtype for our structured array\n",
    "my_dtype = [('name', 'U10'), ('age', 'i4'), ('score', 'f8')]\n",
    "\n",
    "# Create the array\n",
    "data = [\n",
    "    ('Alice', 25, 88.5),\n",
    "    ('Bob', 30, 92.0),\n",
    "    ('Charlie', 28, 78.5)\n",
    "]\n",
    "structured_arr = np.array(data, dtype=my_dtype)\n",
    "\n",
    "print(structured_arr)"
   ]
  },
  {
   "cell_type": "markdown",
   "metadata": {},
   "source": [
    "### Accessing Data"
   ]
  },
  {
   "cell_type": "code",
   "execution_count": 3,
   "metadata": {},
   "outputs": [
    {
     "name": "stdout",
     "output_type": "stream",
     "text": [
      "First element: ('Alice', 25, 88.5)\n"
     ]
    }
   ],
   "source": [
    "# Access a specific element (row)\n",
    "print(\"First element:\", structured_arr[0])"
   ]
  },
  {
   "cell_type": "code",
   "execution_count": 4,
   "metadata": {},
   "outputs": [
    {
     "name": "stdout",
     "output_type": "stream",
     "text": [
      "\n",
      "All names: ['Alice' 'Bob' 'Charlie']\n"
     ]
    }
   ],
   "source": [
    "# Access a specific field (column) by its name\n",
    "print(\"\\nAll names:\", structured_arr['name'])"
   ]
  },
  {
   "cell_type": "code",
   "execution_count": 5,
   "metadata": {},
   "outputs": [
    {
     "name": "stdout",
     "output_type": "stream",
     "text": [
      "\n",
      "Age of the second person: 30\n"
     ]
    }
   ],
   "source": [
    "# Access a specific field of a specific element\n",
    "print(\"\\nAge of the second person:\", structured_arr[1]['age'])"
   ]
  },
  {
   "cell_type": "markdown",
   "metadata": {},
   "source": [
    "## 9.2 Record Arrays"
   ]
  },
  {
   "cell_type": "markdown",
   "metadata": {},
   "source": [
    "Record arrays are very similar to structured arrays, but they have a key difference: you can access fields as attributes (like `arr.name`) instead of just as dictionary keys (`arr['name']`)."
   ]
  },
  {
   "cell_type": "code",
   "execution_count": 6,
   "metadata": {},
   "outputs": [
    {
     "name": "stdout",
     "output_type": "stream",
     "text": [
      "[('Alice', 25, 88.5) ('Bob', 30, 92. ) ('Charlie', 28, 78.5)]\n"
     ]
    }
   ],
   "source": [
    "# Create a record array from the same data\n",
    "record_arr = np.rec.array(data, dtype=my_dtype)\n",
    "print(record_arr)"
   ]
  },
  {
   "cell_type": "code",
   "execution_count": 7,
   "metadata": {},
   "outputs": [
    {
     "name": "stdout",
     "output_type": "stream",
     "text": [
      "\n",
      "All names: ['Alice' 'Bob' 'Charlie']\n"
     ]
    }
   ],
   "source": [
    "# Access the 'name' field using attribute access\n",
    "print(\"\\nAll names:\", record_arr.name)"
   ]
  },
  {
   "cell_type": "code",
   "execution_count": 8,
   "metadata": {},
   "outputs": [
    {
     "name": "stdout",
     "output_type": "stream",
     "text": [
      "\n",
      "Score of the third person: 78.5\n"
     ]
    }
   ],
   "source": [
    "# Access a specific element's field\n",
    "print(\"\\nScore of the third person:\", record_arr[2].score)"
   ]
  },
  {
   "cell_type": "markdown",
   "metadata": {},
   "source": [
    "### Why Pandas is Usually Better\n",
    "Let's briefly see how you would handle this in Pandas to understand its advantages."
   ]
  },
  {
   "cell_type": "code",
   "execution_count": 9,
   "metadata": {},
   "outputs": [
    {
     "data": {
      "text/html": [
       "<div>\n",
       "<style scoped>\n",
       "    .dataframe tbody tr th:only-of-type {\n",
       "        vertical-align: middle;\n",
       "    }\n",
       "\n",
       "    .dataframe tbody tr th {\n",
       "        vertical-align: top;\n",
       "    }\n",
       "\n",
       "    .dataframe thead th {\n",
       "        text-align: right;\n",
       "    }\n",
       "</style>\n",
       "<table border=\"1\" class=\"dataframe\">\n",
       "  <thead>\n",
       "    <tr style=\"text-align: right;\">\n",
       "      <th></th>\n",
       "      <th>name</th>\n",
       "      <th>age</th>\n",
       "      <th>score</th>\n",
       "    </tr>\n",
       "  </thead>\n",
       "  <tbody>\n",
       "    <tr>\n",
       "      <th>0</th>\n",
       "      <td>Alice</td>\n",
       "      <td>25</td>\n",
       "      <td>88.5</td>\n",
       "    </tr>\n",
       "    <tr>\n",
       "      <th>1</th>\n",
       "      <td>Bob</td>\n",
       "      <td>30</td>\n",
       "      <td>92.0</td>\n",
       "    </tr>\n",
       "    <tr>\n",
       "      <th>2</th>\n",
       "      <td>Charlie</td>\n",
       "      <td>28</td>\n",
       "      <td>78.5</td>\n",
       "    </tr>\n",
       "  </tbody>\n",
       "</table>\n",
       "</div>"
      ],
      "text/plain": [
       "      name  age  score\n",
       "0    Alice   25   88.5\n",
       "1      Bob   30   92.0\n",
       "2  Charlie   28   78.5"
      ]
     },
     "execution_count": 9,
     "metadata": {},
     "output_type": "execute_result"
    }
   ],
   "source": [
    "import pandas as pd\n",
    "\n",
    "df = pd.DataFrame(data, columns=['name', 'age', 'score'])\n",
    "df"
   ]
  },
  {
   "cell_type": "markdown",
   "metadata": {},
   "source": [
    "With Pandas, you get:\n",
    "- A much richer API for data manipulation (`.groupby()`, `.merge()`, etc.).\n",
    "- Better handling of missing data.\n",
    "- More flexible indexing.\n",
    "- Integration with the entire data science ecosystem.\n",
    "\n",
    "While structured arrays are a neat feature of NumPy, for tabular data, it's best to use them as a stepping stone to a Pandas DataFrame."
   ]
  }
 ],
 "metadata": {
  "kernelspec": {
   "display_name": ".venv",
   "language": "python",
   "name": "python3"
  },
  "language_info": {
   "codemirror_mode": {
    "name": "ipython",
    "version": 3
   },
   "file_extension": ".py",
   "mimetype": "text/x-python",
   "name": "python",
   "nbconvert_exporter": "python",
   "pygments_lexer": "ipython3",
   "version": "3.10.11"
  }
 },
 "nbformat": 4,
 "nbformat_minor": 4
}
